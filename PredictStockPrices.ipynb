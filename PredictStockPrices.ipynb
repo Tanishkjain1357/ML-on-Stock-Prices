{
 "cells": [
  {
   "cell_type": "markdown",
   "metadata": {},
   "source": [
    "***Importing all packages/libraries and datasets***"
   ]
  },
  {
   "cell_type": "code",
   "execution_count": 57,
   "metadata": {},
   "outputs": [],
   "source": [
    "import pandas as pd\n",
    "import numpy as np\n",
    "import matplotlib.pyplot as plt\n",
    "import seaborn as sns\n",
    "from collections import Counter\n",
    "from concurrent.futures import ThreadPoolExecutor\n",
    "import random\n",
    "from sklearn.preprocessing import OneHotEncoder\n",
    "fd_14 = pd.read_csv(\"./Stocks/2014_Financial_Data.csv\")\n",
    "fd_15 = pd.read_csv(\"./Stocks/2015_Financial_Data.csv\")\n",
    "fd_16 = pd.read_csv(\"./Stocks/2016_Financial_Data.csv\")\n",
    "fd_17 = pd.read_csv(\"./Stocks/2017_Financial_Data.csv\")\n",
    "fd_18 = pd.read_csv(\"./Stocks/2018_Financial_Data.csv\")"
   ]
  },
  {
   "cell_type": "code",
   "execution_count": 58,
   "metadata": {},
   "outputs": [
    {
     "name": "stdout",
     "output_type": "stream",
     "text": [
      "<class 'pandas.core.frame.DataFrame'>\n",
      "RangeIndex: 3808 entries, 0 to 3807\n",
      "Columns: 225 entries, Unnamed: 0 to Class\n",
      "dtypes: float64(222), int64(1), object(2)\n",
      "memory usage: 6.5+ MB\n"
     ]
    },
    {
     "data": {
      "text/html": [
       "<div>\n",
       "<style scoped>\n",
       "    .dataframe tbody tr th:only-of-type {\n",
       "        vertical-align: middle;\n",
       "    }\n",
       "\n",
       "    .dataframe tbody tr th {\n",
       "        vertical-align: top;\n",
       "    }\n",
       "\n",
       "    .dataframe thead th {\n",
       "        text-align: right;\n",
       "    }\n",
       "</style>\n",
       "<table border=\"1\" class=\"dataframe\">\n",
       "  <thead>\n",
       "    <tr style=\"text-align: right;\">\n",
       "      <th></th>\n",
       "      <th>Revenue</th>\n",
       "      <th>Revenue Growth</th>\n",
       "      <th>Cost of Revenue</th>\n",
       "      <th>Gross Profit</th>\n",
       "      <th>R&amp;D Expenses</th>\n",
       "      <th>SG&amp;A Expense</th>\n",
       "      <th>Operating Expenses</th>\n",
       "      <th>Operating Income</th>\n",
       "      <th>Interest Expense</th>\n",
       "      <th>Earnings before Tax</th>\n",
       "      <th>...</th>\n",
       "      <th>3Y Dividend per Share Growth (per Share)</th>\n",
       "      <th>Receivables growth</th>\n",
       "      <th>Inventory Growth</th>\n",
       "      <th>Asset Growth</th>\n",
       "      <th>Book Value per Share Growth</th>\n",
       "      <th>Debt Growth</th>\n",
       "      <th>R&amp;D Expense Growth</th>\n",
       "      <th>SG&amp;A Expenses Growth</th>\n",
       "      <th>2015 PRICE VAR [%]</th>\n",
       "      <th>Class</th>\n",
       "    </tr>\n",
       "  </thead>\n",
       "  <tbody>\n",
       "    <tr>\n",
       "      <th>count</th>\n",
       "      <td>3.764000e+03</td>\n",
       "      <td>3572.000000</td>\n",
       "      <td>3.734000e+03</td>\n",
       "      <td>3.756000e+03</td>\n",
       "      <td>3.672000e+03</td>\n",
       "      <td>3.749000e+03</td>\n",
       "      <td>3.745000e+03</td>\n",
       "      <td>3.753000e+03</td>\n",
       "      <td>3.745000e+03</td>\n",
       "      <td>3.728000e+03</td>\n",
       "      <td>...</td>\n",
       "      <td>3208.000000</td>\n",
       "      <td>3518.000000</td>\n",
       "      <td>3518.000000</td>\n",
       "      <td>3518.000000</td>\n",
       "      <td>3439.000000</td>\n",
       "      <td>3506.000000</td>\n",
       "      <td>3561.000000</td>\n",
       "      <td>3565.000000</td>\n",
       "      <td>3.808000e+03</td>\n",
       "      <td>3808.000000</td>\n",
       "    </tr>\n",
       "    <tr>\n",
       "      <th>mean</th>\n",
       "      <td>5.879050e+09</td>\n",
       "      <td>12.954244</td>\n",
       "      <td>3.700973e+09</td>\n",
       "      <td>2.188214e+09</td>\n",
       "      <td>9.401830e+07</td>\n",
       "      <td>9.307406e+08</td>\n",
       "      <td>1.438144e+09</td>\n",
       "      <td>6.748248e+08</td>\n",
       "      <td>1.002018e+08</td>\n",
       "      <td>5.725866e+08</td>\n",
       "      <td>...</td>\n",
       "      <td>0.036206</td>\n",
       "      <td>4.445793</td>\n",
       "      <td>0.164692</td>\n",
       "      <td>2.279999</td>\n",
       "      <td>0.813931</td>\n",
       "      <td>1.361780</td>\n",
       "      <td>0.596529</td>\n",
       "      <td>0.382284</td>\n",
       "      <td>9.751560e+02</td>\n",
       "      <td>0.429097</td>\n",
       "    </tr>\n",
       "    <tr>\n",
       "      <th>std</th>\n",
       "      <td>3.901741e+10</td>\n",
       "      <td>705.605473</td>\n",
       "      <td>3.040688e+10</td>\n",
       "      <td>1.159028e+10</td>\n",
       "      <td>6.408912e+08</td>\n",
       "      <td>4.820928e+09</td>\n",
       "      <td>7.305171e+09</td>\n",
       "      <td>3.786291e+09</td>\n",
       "      <td>6.991091e+08</td>\n",
       "      <td>2.793740e+09</td>\n",
       "      <td>...</td>\n",
       "      <td>0.259765</td>\n",
       "      <td>161.135098</td>\n",
       "      <td>2.195115</td>\n",
       "      <td>92.428920</td>\n",
       "      <td>25.630214</td>\n",
       "      <td>18.734301</td>\n",
       "      <td>25.894049</td>\n",
       "      <td>4.696975</td>\n",
       "      <td>4.098461e+04</td>\n",
       "      <td>0.495012</td>\n",
       "    </tr>\n",
       "    <tr>\n",
       "      <th>min</th>\n",
       "      <td>-6.276160e+08</td>\n",
       "      <td>-1.773200</td>\n",
       "      <td>-5.455740e+08</td>\n",
       "      <td>-1.105000e+09</td>\n",
       "      <td>-1.500000e+05</td>\n",
       "      <td>0.000000e+00</td>\n",
       "      <td>-1.088448e+09</td>\n",
       "      <td>-6.786000e+09</td>\n",
       "      <td>-2.250000e+08</td>\n",
       "      <td>-8.878000e+09</td>\n",
       "      <td>...</td>\n",
       "      <td>-1.000000</td>\n",
       "      <td>-1.000000</td>\n",
       "      <td>-1.000000</td>\n",
       "      <td>-0.979600</td>\n",
       "      <td>-230.000000</td>\n",
       "      <td>-1.051000</td>\n",
       "      <td>-1.043700</td>\n",
       "      <td>-1.000000</td>\n",
       "      <td>-1.003972e+02</td>\n",
       "      <td>0.000000</td>\n",
       "    </tr>\n",
       "    <tr>\n",
       "      <th>25%</th>\n",
       "      <td>5.788880e+07</td>\n",
       "      <td>-0.002350</td>\n",
       "      <td>3.135714e+06</td>\n",
       "      <td>3.092900e+07</td>\n",
       "      <td>0.000000e+00</td>\n",
       "      <td>1.548900e+07</td>\n",
       "      <td>3.106600e+07</td>\n",
       "      <td>-1.308000e+06</td>\n",
       "      <td>0.000000e+00</td>\n",
       "      <td>-3.732902e+06</td>\n",
       "      <td>...</td>\n",
       "      <td>0.000000</td>\n",
       "      <td>-0.045800</td>\n",
       "      <td>0.000000</td>\n",
       "      <td>-0.015400</td>\n",
       "      <td>-0.084550</td>\n",
       "      <td>-0.048200</td>\n",
       "      <td>0.000000</td>\n",
       "      <td>-0.003900</td>\n",
       "      <td>-2.857143e+01</td>\n",
       "      <td>0.000000</td>\n",
       "    </tr>\n",
       "    <tr>\n",
       "      <th>50%</th>\n",
       "      <td>4.349010e+08</td>\n",
       "      <td>0.061850</td>\n",
       "      <td>1.414420e+08</td>\n",
       "      <td>1.908760e+08</td>\n",
       "      <td>0.000000e+00</td>\n",
       "      <td>7.381800e+07</td>\n",
       "      <td>1.386610e+08</td>\n",
       "      <td>4.104400e+07</td>\n",
       "      <td>2.563000e+06</td>\n",
       "      <td>2.842700e+07</td>\n",
       "      <td>...</td>\n",
       "      <td>0.000000</td>\n",
       "      <td>0.014250</td>\n",
       "      <td>0.000000</td>\n",
       "      <td>0.062200</td>\n",
       "      <td>0.037100</td>\n",
       "      <td>0.000000</td>\n",
       "      <td>0.000000</td>\n",
       "      <td>0.068800</td>\n",
       "      <td>-5.281842e+00</td>\n",
       "      <td>0.000000</td>\n",
       "    </tr>\n",
       "    <tr>\n",
       "      <th>75%</th>\n",
       "      <td>2.393625e+09</td>\n",
       "      <td>0.188875</td>\n",
       "      <td>1.199844e+09</td>\n",
       "      <td>8.922534e+08</td>\n",
       "      <td>9.911000e+06</td>\n",
       "      <td>3.510000e+08</td>\n",
       "      <td>5.885100e+08</td>\n",
       "      <td>2.712980e+08</td>\n",
       "      <td>4.300000e+07</td>\n",
       "      <td>2.193835e+08</td>\n",
       "      <td>...</td>\n",
       "      <td>0.044000</td>\n",
       "      <td>0.205475</td>\n",
       "      <td>0.063850</td>\n",
       "      <td>0.217100</td>\n",
       "      <td>0.141900</td>\n",
       "      <td>0.210300</td>\n",
       "      <td>0.004700</td>\n",
       "      <td>0.220500</td>\n",
       "      <td>1.331484e+01</td>\n",
       "      <td>1.000000</td>\n",
       "    </tr>\n",
       "    <tr>\n",
       "      <th>max</th>\n",
       "      <td>1.824698e+12</td>\n",
       "      <td>42138.663900</td>\n",
       "      <td>1.537249e+12</td>\n",
       "      <td>4.621600e+11</td>\n",
       "      <td>1.153700e+10</td>\n",
       "      <td>1.856830e+11</td>\n",
       "      <td>3.056050e+11</td>\n",
       "      <td>1.565540e+11</td>\n",
       "      <td>3.152300e+10</td>\n",
       "      <td>8.720500e+10</td>\n",
       "      <td>...</td>\n",
       "      <td>3.605800</td>\n",
       "      <td>9328.200000</td>\n",
       "      <td>76.625000</td>\n",
       "      <td>5468.426400</td>\n",
       "      <td>1360.125000</td>\n",
       "      <td>729.576600</td>\n",
       "      <td>1542.611000</td>\n",
       "      <td>225.690000</td>\n",
       "      <td>2.418601e+06</td>\n",
       "      <td>1.000000</td>\n",
       "    </tr>\n",
       "  </tbody>\n",
       "</table>\n",
       "<p>8 rows × 223 columns</p>\n",
       "</div>"
      ],
      "text/plain": [
       "            Revenue  Revenue Growth  Cost of Revenue  Gross Profit  \\\n",
       "count  3.764000e+03     3572.000000     3.734000e+03  3.756000e+03   \n",
       "mean   5.879050e+09       12.954244     3.700973e+09  2.188214e+09   \n",
       "std    3.901741e+10      705.605473     3.040688e+10  1.159028e+10   \n",
       "min   -6.276160e+08       -1.773200    -5.455740e+08 -1.105000e+09   \n",
       "25%    5.788880e+07       -0.002350     3.135714e+06  3.092900e+07   \n",
       "50%    4.349010e+08        0.061850     1.414420e+08  1.908760e+08   \n",
       "75%    2.393625e+09        0.188875     1.199844e+09  8.922534e+08   \n",
       "max    1.824698e+12    42138.663900     1.537249e+12  4.621600e+11   \n",
       "\n",
       "       R&D Expenses  SG&A Expense  Operating Expenses  Operating Income  \\\n",
       "count  3.672000e+03  3.749000e+03        3.745000e+03      3.753000e+03   \n",
       "mean   9.401830e+07  9.307406e+08        1.438144e+09      6.748248e+08   \n",
       "std    6.408912e+08  4.820928e+09        7.305171e+09      3.786291e+09   \n",
       "min   -1.500000e+05  0.000000e+00       -1.088448e+09     -6.786000e+09   \n",
       "25%    0.000000e+00  1.548900e+07        3.106600e+07     -1.308000e+06   \n",
       "50%    0.000000e+00  7.381800e+07        1.386610e+08      4.104400e+07   \n",
       "75%    9.911000e+06  3.510000e+08        5.885100e+08      2.712980e+08   \n",
       "max    1.153700e+10  1.856830e+11        3.056050e+11      1.565540e+11   \n",
       "\n",
       "       Interest Expense  Earnings before Tax  ...  \\\n",
       "count      3.745000e+03         3.728000e+03  ...   \n",
       "mean       1.002018e+08         5.725866e+08  ...   \n",
       "std        6.991091e+08         2.793740e+09  ...   \n",
       "min       -2.250000e+08        -8.878000e+09  ...   \n",
       "25%        0.000000e+00        -3.732902e+06  ...   \n",
       "50%        2.563000e+06         2.842700e+07  ...   \n",
       "75%        4.300000e+07         2.193835e+08  ...   \n",
       "max        3.152300e+10         8.720500e+10  ...   \n",
       "\n",
       "       3Y Dividend per Share Growth (per Share)  Receivables growth  \\\n",
       "count                               3208.000000         3518.000000   \n",
       "mean                                   0.036206            4.445793   \n",
       "std                                    0.259765          161.135098   \n",
       "min                                   -1.000000           -1.000000   \n",
       "25%                                    0.000000           -0.045800   \n",
       "50%                                    0.000000            0.014250   \n",
       "75%                                    0.044000            0.205475   \n",
       "max                                    3.605800         9328.200000   \n",
       "\n",
       "       Inventory Growth  Asset Growth  Book Value per Share Growth  \\\n",
       "count       3518.000000   3518.000000                  3439.000000   \n",
       "mean           0.164692      2.279999                     0.813931   \n",
       "std            2.195115     92.428920                    25.630214   \n",
       "min           -1.000000     -0.979600                  -230.000000   \n",
       "25%            0.000000     -0.015400                    -0.084550   \n",
       "50%            0.000000      0.062200                     0.037100   \n",
       "75%            0.063850      0.217100                     0.141900   \n",
       "max           76.625000   5468.426400                  1360.125000   \n",
       "\n",
       "       Debt Growth  R&D Expense Growth  SG&A Expenses Growth  \\\n",
       "count  3506.000000         3561.000000           3565.000000   \n",
       "mean      1.361780            0.596529              0.382284   \n",
       "std      18.734301           25.894049              4.696975   \n",
       "min      -1.051000           -1.043700             -1.000000   \n",
       "25%      -0.048200            0.000000             -0.003900   \n",
       "50%       0.000000            0.000000              0.068800   \n",
       "75%       0.210300            0.004700              0.220500   \n",
       "max     729.576600         1542.611000            225.690000   \n",
       "\n",
       "       2015 PRICE VAR [%]        Class  \n",
       "count        3.808000e+03  3808.000000  \n",
       "mean         9.751560e+02     0.429097  \n",
       "std          4.098461e+04     0.495012  \n",
       "min         -1.003972e+02     0.000000  \n",
       "25%         -2.857143e+01     0.000000  \n",
       "50%         -5.281842e+00     0.000000  \n",
       "75%          1.331484e+01     1.000000  \n",
       "max          2.418601e+06     1.000000  \n",
       "\n",
       "[8 rows x 223 columns]"
      ]
     },
     "execution_count": 58,
     "metadata": {},
     "output_type": "execute_result"
    }
   ],
   "source": [
    "# print(fd_14.head())\n",
    "# print(fd_15.head())\n",
    "# print(fd_16.head())\n",
    "# print(fd_17.head())\n",
    "# print(fd_18.head())\n",
    "fd_14.append(fd_15, ignore_index=True)\n",
    "fd_14.append(fd_16, ignore_index=True)\n",
    "fd_14.append(fd_17, ignore_index=True)\n",
    "fd_14.append(fd_18, ignore_index=True)\n",
    "fd_14.info()\n",
    "fd_14.describe()\n",
    "# print(fd_14[[\"Unnamed: 0\", \"Asset Growth\", \"2015 PRICE VAR [%]\", \"Class\"]])"
   ]
  },
  {
   "cell_type": "code",
   "execution_count": 59,
   "metadata": {},
   "outputs": [
    {
     "data": {
      "text/plain": [
       "['Unnamed: 0', 'Sector']"
      ]
     },
     "execution_count": 59,
     "metadata": {},
     "output_type": "execute_result"
    }
   ],
   "source": [
    "object_cols = list(filter(lambda x: isinstance(fd_14[x][0], str), fd_14.columns))\n",
    "object_cols"
   ]
  },
  {
   "cell_type": "code",
   "execution_count": 60,
   "metadata": {},
   "outputs": [
    {
     "name": "stdout",
     "output_type": "stream",
     "text": [
      "['Consumer Defensive' 'Basic Materials' 'Healthcare' 'Consumer Cyclical'\n",
      " 'Industrials' 'Real Estate' 'Communication Services' 'Energy'\n",
      " 'Financial Services' 'Utilities' 'Technology']\n",
      "0    2174\n",
      "1    1634\n",
      "Name: Class, dtype: int64\n"
     ]
    },
    {
     "name": "stderr",
     "output_type": "stream",
     "text": [
      "c:\\Users\\Tanishk\\AppData\\Local\\Programs\\Python\\Python39\\lib\\site-packages\\seaborn\\_decorators.py:36: FutureWarning: Pass the following variables as keyword args: x, y. From version 0.12, the only valid positional argument will be `data`, and passing other arguments without an explicit keyword will result in an error or misinterpretation.\n",
      "  warnings.warn(\n"
     ]
    },
    {
     "data": {
      "image/png": "[encoded data removed]",
      "text/plain": [
       "<Figure size 432x288 with 1 Axes>"
      ]
     },
     "metadata": {
      "needs_background": "light"
     },
     "output_type": "display_data"
    }
   ],
   "source": [
    "print(fd_14['Sector'].unique())\n",
    "\n",
    "df_class = fd_14['Class'].value_counts()\n",
    "print(df_class)\n",
    "sns.barplot(np.arange(len(df_class)), df_class)\n",
    "plt.show()"
   ]
  },
  {
   "cell_type": "markdown",
   "metadata": {},
   "source": [
    "***Attempting to clean data***"
   ]
  },
  {
   "cell_type": "code",
   "execution_count": 61,
   "metadata": {},
   "outputs": [
    {
     "name": "stdout",
     "output_type": "stream",
     "text": [
      "  Unnamed: 0       Revenue  Revenue Growth  Cost of Revenue  Gross Profit  \\\n",
      "0         PG  7.440100e+10         -0.0713     3.903000e+10  3.537100e+10   \n",
      "1       VIPS  3.734148e+09          1.1737     2.805625e+09  9.285226e+08   \n",
      "2         KR  9.837500e+10          0.0182     7.813800e+10  2.023700e+10   \n",
      "3        RAD  2.552641e+10          0.0053     1.820268e+10  7.323734e+09   \n",
      "4        GIS  1.790960e+10          0.0076     1.153980e+10  6.369800e+09   \n",
      "\n",
      "   R&D Expenses  SG&A Expense  Operating Expenses  Operating Income  \\\n",
      "0  0.000000e+00  2.146100e+10        2.146100e+10      1.391000e+10   \n",
      "1  1.083303e+08  3.441414e+08        7.939267e+08      1.345959e+08   \n",
      "2  0.000000e+00  1.519600e+10        1.751200e+10      2.725000e+09   \n",
      "3  0.000000e+00  6.561162e+09        6.586482e+09      7.372520e+08   \n",
      "4  0.000000e+00  3.474300e+09        3.412400e+09      2.957400e+09   \n",
      "\n",
      "   Interest Expense  ...  Receivables growth  Inventory Growth  Asset Growth  \\\n",
      "0      7.090000e+08  ...             -0.0187           -0.0217        0.0359   \n",
      "1      1.214869e+07  ...                 NaN               NaN           NaN   \n",
      "2      4.430000e+08  ...              0.0618            0.0981        0.1886   \n",
      "3      4.245910e+08  ...              0.0211           -0.0510       -0.0189   \n",
      "4      3.024000e+08  ...              0.0257            0.0090        0.0215   \n",
      "\n",
      "   Book Value per Share Growth  Debt Growth  R&D Expense Growth  \\\n",
      "0                       0.0316       0.1228              0.0000   \n",
      "1                          NaN          NaN              1.6484   \n",
      "2                       0.3268       0.2738              0.0000   \n",
      "3                       0.1963      -0.0458              0.0000   \n",
      "4                       0.0274       0.1025              0.0000   \n",
      "\n",
      "   SG&A Expenses Growth              Sector  2015 PRICE VAR [%]  Class  \n",
      "0               -0.1746  Consumer Defensive           -9.323276      0  \n",
      "1                1.7313  Consumer Defensive          -25.512193      0  \n",
      "2                0.0234  Consumer Defensive           33.118297      1  \n",
      "3               -0.0060  Consumer Defensive            2.752291      1  \n",
      "4               -0.0220  Consumer Defensive           12.897715      1  \n",
      "\n",
      "[5 rows x 222 columns]\n",
      "(3808, 222)\n"
     ]
    }
   ],
   "source": [
    "# Dropped those columns with more than 50% of their elements as NULL\n",
    "fd_14 = fd_14.dropna(thresh=len(fd_14)/2, axis=1)\n",
    "print(fd_14.head())\n",
    "print(fd_14.shape)"
   ]
  },
  {
   "cell_type": "code",
   "execution_count": 62,
   "metadata": {},
   "outputs": [
    {
     "data": {
      "text/plain": [
       "Unnamed: 0                0\n",
       "Revenue                  44\n",
       "Revenue Growth          236\n",
       "Cost of Revenue          74\n",
       "Gross Profit             52\n",
       "                       ... \n",
       "R&D Expense Growth      247\n",
       "SG&A Expenses Growth    243\n",
       "Sector                    0\n",
       "2015 PRICE VAR [%]        0\n",
       "Class                     0\n",
       "Length: 222, dtype: int64"
      ]
     },
     "execution_count": 62,
     "metadata": {},
     "output_type": "execute_result"
    }
   ],
   "source": [
    "\n",
    "fd_14.isnull().sum()"
   ]
  },
  {
   "cell_type": "code",
   "execution_count": 63,
   "metadata": {},
   "outputs": [
    {
     "name": "stdout",
     "output_type": "stream",
     "text": [
      "Index(['Unnamed: 0', 'Revenue', 'Revenue Growth', 'Cost of Revenue',\n",
      "       'Gross Profit', 'R&D Expenses', 'SG&A Expense', 'Operating Expenses',\n",
      "       'Operating Income', 'Interest Expense',\n",
      "       ...\n",
      "       'Receivables growth', 'Inventory Growth', 'Asset Growth',\n",
      "       'Book Value per Share Growth', 'Debt Growth', 'R&D Expense Growth',\n",
      "       'SG&A Expenses Growth', 'Sector', '2015 PRICE VAR [%]', 'Class'],\n",
      "      dtype='object', length=222)\n"
     ]
    }
   ],
   "source": [
    "print(fd_14.columns)"
   ]
  },
  {
   "cell_type": "code",
   "execution_count": 64,
   "metadata": {},
   "outputs": [],
   "source": [
    "# Test to see how many rows will be left if all NULL valued rows were removed\n",
    "fd_14 = fd_14.dropna()\n",
    "fd_14.drop(['Unnamed: 0', 'Sector'], axis=1, inplace=True)\n",
    "fd_14.to_csv('out.csv')"
   ]
  },
  {
   "cell_type": "code",
   "execution_count": 65,
   "metadata": {},
   "outputs": [],
   "source": [
    "def is_cont(col):\n",
    "    if type(col) != np.int64:\n",
    "        if type(col) == np.float64:\n",
    "            return True\n",
    "        if len(col) > 0 and type(col.iloc[0]) == np.float64:\n",
    "            return True\n",
    "    counts = col.value_counts()\n",
    "    if (len(counts[counts < .1 * len(counts)])) > 0:\n",
    "        return True\n",
    "    return False"
   ]
  },
  {
   "cell_type": "code",
   "execution_count": 66,
   "metadata": {},
   "outputs": [],
   "source": [
    "def min_max_finder(data):\n",
    "    max_col = dict()\n",
    "    min_col = dict()\n",
    "    for x in data.columns:\n",
    "        max_col[x] = max(data[x])\n",
    "        min_col[x] = min(data[x])\n",
    "    return max_col, min_col"
   ]
  },
  {
   "cell_type": "code",
   "execution_count": 67,
   "metadata": {},
   "outputs": [],
   "source": [
    "def normalize(df, max_cols, min_cols, conts):\n",
    "    def normal_func(x, col):\n",
    "        if max_cols[col] - min_cols[col] == 0:\n",
    "            return 0\n",
    "        return 2 * (x - min_cols[col]) / (max_cols[col] - min_cols[col]) - 1\n",
    "    for col in df.columns:\n",
    "        if conts[col]:\n",
    "            df[col] = df[col].apply(\n",
    "                lambda x: normal_func(x, col))"
   ]
  },
  {
   "cell_type": "code",
   "execution_count": 68,
   "metadata": {},
   "outputs": [],
   "source": [
    "def convert_to_one_hot(col):\n",
    "    encoder = OneHotEncoder(handle_unknown='ignore')\n",
    "    col = col.reshape(-1, 1)\n",
    "    encoder.fit(col)\n",
    "    new_col = encoder.transform(col).toarray()\n",
    "    return new_col"
   ]
  },
  {
   "cell_type": "code",
   "execution_count": 69,
   "metadata": {},
   "outputs": [],
   "source": [
    "def extract_dataframe(filename, delim=None, names=None):\n",
    "    df = pd.read_csv(filename, delimiter=delim, names=names)\n",
    "    class_name = [x for x in df.columns if 'class' in x.lower()][0]\n",
    "    df.rename(columns={class_name: 'class'}, inplace=True)\n",
    "    num_vals = dict()\n",
    "    for x in df:\n",
    "        num_vals[x] = np.array(sorted(df[x].unique()))\n",
    "\n",
    "    return df, num_vals\n",
    "\n"
   ]
  },
  {
   "cell_type": "code",
   "execution_count": 70,
   "metadata": {},
   "outputs": [],
   "source": [
    "def make_X_y_split(df):\n",
    "    X = df.loc[:, df.columns != 'class']\n",
    "    y = df['class']\n",
    "    X = np.array(X)\n",
    "    y = np.array([y])\n",
    "    y = convert_to_one_hot(y)\n",
    "    return X, y"
   ]
  },
  {
   "cell_type": "code",
   "execution_count": 71,
   "metadata": {},
   "outputs": [],
   "source": [
    "def create_thetas(layers: list):\n",
    "    thetas = dict()\n",
    "    for i, v in enumerate(layers[:-1]):\n",
    "        val = np.random.uniform(-1, 1, size=(layers[i+1], v+1))\n",
    "        thetas[i] = val\n",
    "    return thetas\n"
   ]
  },
  {
   "cell_type": "code",
   "execution_count": 72,
   "metadata": {},
   "outputs": [],
   "source": [
    "def add_bias(X):\n",
    "    o = np.ones((np.shape(X)[0], 1), dtype=int)\n",
    "    return np.column_stack((o, X))\n",
    "\n",
    "def sigmoid(z):\n",
    "    return 1 / (1 + np.exp(-z))\n",
    "\n",
    "def z(weights: np.array, inputs: np.array):\n",
    "    return np.matmul(weights, inputs)"
   ]
  },
  {
   "cell_type": "code",
   "execution_count": 73,
   "metadata": {},
   "outputs": [],
   "source": [
    "def run_forward_prop(X, theta):\n",
    "    a = []\n",
    "    a.append(np.asarray(add_bias(X)))\n",
    "    for l in range(len(theta) - 1):\n",
    "        # print(a[l])\n",
    "        zl = np.matmul(a[l], theta[l].transpose())\n",
    "        zl = sigmoid(zl)\n",
    "        a.append(add_bias(zl))\n",
    "    zl = np.matmul(a[len(theta)-1], theta[len(theta)-1].transpose())\n",
    "    a.append(sigmoid(zl))\n",
    "    return a"
   ]
  },
  {
   "cell_type": "code",
   "execution_count": 74,
   "metadata": {},
   "outputs": [],
   "source": [
    "def J(outputs, y, reg=0, lamb=0.0):\n",
    "    tempRes1 = []\n",
    "    tempRes2 = []\n",
    "    with np.errstate(divide=\"ignore\"):\n",
    "        tempRes1 = np.log(outputs)\n",
    "        tempRes2 = np.log(1-outputs)\n",
    "    tempRes1[np.isneginf(tempRes1)] = 0\n",
    "    tempRes2[np.isneginf(tempRes2)] = 0\n",
    "    jx = np.multiply(-1 * y, tempRes1)\n",
    "    jy = np.multiply(1 - y, tempRes2)\n",
    "    j = jx - jy\n",
    "    j = np.sum(j) / len(y)\n",
    "    return np.mean(j) + (reg if lamb != 0 else 0)"
   ]
  },
  {
   "cell_type": "code",
   "execution_count": 75,
   "metadata": {},
   "outputs": [],
   "source": [
    "def run_back_prop(a, y, thetas, lamb):\n",
    "    delta = dict()\n",
    "    delta[len(thetas)] = np.subtract(a[-1], y)\n",
    "    for k in range(len(thetas)-1, -1, -1):\n",
    "        delta[k] = np.matmul(delta[k+1], thetas[k])\n",
    "        delta[k] = np.multiply(delta[k], a[k])\n",
    "        delta[k] = np.multiply(delta[k], 1 - a[k])\n",
    "        delta[k] = np.delete(delta[k], (0), axis=1)\n",
    "    D = dict()\n",
    "    for k in range(len(thetas) - 1, -1, -1):\n",
    "        if k not in D:\n",
    "            D[k] = 0\n",
    "        D[k] += np.matmul(delta[k+1].transpose(), a[k])\n",
    "    for k in range(len(thetas)-1, -1, -1):\n",
    "        if lamb != 0.0:\n",
    "            Pk = lamb * thetas[k]\n",
    "            Pk[:, 0] = np.array([0] * len(Pk[:, 0]))\n",
    "            D[k] = (D[k] + Pk)\n",
    "        D[k] /= len(y)\n",
    "    return D"
   ]
  },
  {
   "cell_type": "code",
   "execution_count": 76,
   "metadata": {},
   "outputs": [],
   "source": [
    "def calc_regularization(thetas, y, lamb=0):\n",
    "    S = 0\n",
    "    if lamb != 0:\n",
    "        for a in thetas.values():\n",
    "            for b in a:\n",
    "                S += sum(b[1:]**2)\n",
    "        S = lamb * S / 2 / len(y)\n",
    "    return S"
   ]
  },
  {
   "cell_type": "code",
   "execution_count": 77,
   "metadata": {},
   "outputs": [],
   "source": [
    "def gradient_descent(X, y, thetas, stop_crit, alpha, lamb):\n",
    "    a = run_forward_prop(X, thetas)\n",
    "    cur_cost = 100000\n",
    "    reg = calc_regularization(thetas, y, lamb)\n",
    "    new_c = J(a[-1], y, reg, lamb)\n",
    "    num_iter = 0\n",
    "    while (cur_cost - new_c > stop_crit and num_iter < 200000):\n",
    "        cur_cost = new_c\n",
    "        gradients = run_back_prop(a, y, thetas, lamb)\n",
    "        for k in range(len(thetas)-1, -1, -1):\n",
    "            thetas[k] -= alpha * gradients[k]\n",
    "        num_iter += 1\n",
    "        a = run_forward_prop(X, thetas)\n",
    "        new_c = J(a[-1], y, reg, lamb)\n",
    "        if num_iter % 10000 == 0:\n",
    "            print(f\"After {num_iter} iterations: {cur_cost - new_c}\")\n",
    "    print(\"Final Diff Cost:\", cur_cost - new_c)\n",
    "    print(\"Final Cost\", new_c)\n",
    "    print(\"Number of Iterations:\", num_iter)\n",
    "    return thetas"
   ]
  },
  {
   "cell_type": "code",
   "execution_count": 78,
   "metadata": {},
   "outputs": [],
   "source": [
    "def train_test_split(all_indices: dict, foldNum: int):\n",
    "    train = []\n",
    "    test = []\n",
    "    for c in all_indices:\n",
    "        test.extend(all_indices[c][foldNum])\n",
    "        t = np.concatenate(\n",
    "            all_indices[c][0:foldNum]+all_indices[c][foldNum+1:]).ravel()\n",
    "        train.extend(t)\n",
    "    return train, test"
   ]
  },
  {
   "cell_type": "code",
   "execution_count": 79,
   "metadata": {},
   "outputs": [],
   "source": [
    "def make_subsets(df, classes, num_splits: int):\n",
    "    all = dict()\n",
    "    for c in classes:\n",
    "        all[c] = df.index[df['class'] == c].tolist()\n",
    "        random.shuffle(all[c])\n",
    "        all[c] = np.array_split(all[c], num_splits)\n",
    "    return all\n",
    "\n",
    "def convert_to_class(output):\n",
    "    output = np.array(\n",
    "        list((map(lambda x: np.where(x - max(x) >= 0, 1, 0), output))))\n",
    "    return output"
   ]
  },
  {
   "cell_type": "code",
   "execution_count": 80,
   "metadata": {},
   "outputs": [],
   "source": [
    "def calc_accuracy(actual, predicted):\n",
    "    # key = 'actual,predicted', value = frequency\n",
    "    outputs = Counter({'0,0': 0, '0,1': 0, '1:0': 0, '1,1': 0})\n",
    "    total = 0\n",
    "    for i in range(len(actual)):\n",
    "        trueIndex = int(np.where(actual[i] == 1)[0])\n",
    "        predIndex = int(np.where(predicted[i] == 1)[0])\n",
    "        if trueIndex == predIndex:\n",
    "            total += 1\n",
    "        outputs += Counter([f\"{trueIndex},{predIndex}\"])\n",
    "    return outputs, total/len(actual)\n",
    "\n",
    "def F1_score(precision, recall):\n",
    "    return 2 * precision * recall / (precision + recall)\n",
    "\n",
    "def precision(all, num_vals):\n",
    "    fin_len = len(num_vals) - 1 if len(num_vals) == 2 else len(num_vals)\n",
    "    num_vals = num_vals[:-1] if len(num_vals) == 2 else num_vals\n",
    "    num_vals = num_vals - min(num_vals) if min(num_vals) > 0 else num_vals\n",
    "    precisions = 0\n",
    "    for i in num_vals:\n",
    "        TP = all[f\"{i},{i}\"]\n",
    "        FP = sum([val for x, val in all.items()\n",
    "                  if f\",{i}\" in x and f\"{i},{i}\" not in x])\n",
    "        precisions += TP/(TP + FP) if TP+FP != 0 else 0\n",
    "    return precisions / fin_len\n",
    "\n",
    "def recall(all, num_vals):\n",
    "    fin_len = len(num_vals) - 1 if len(num_vals) == 2 else len(num_vals)\n",
    "    num_vals = num_vals[:-1] if len(num_vals) == 2 else num_vals\n",
    "    num_vals = num_vals - min(num_vals) if min(num_vals) > 0 else num_vals\n",
    "    recalls = 0\n",
    "    for i in num_vals:\n",
    "        TP = all[f\"{i},{i}\"]\n",
    "        FN = sum([val for x, val in all.items()\n",
    "                  if f\"{i},\" in x and f\"{i},{i}\" not in x])\n",
    "        recalls += TP/(TP + FN) if TP + FN != 0 else 0\n",
    "    return recalls / fin_len"
   ]
  },
  {
   "cell_type": "code",
   "execution_count": 81,
   "metadata": {},
   "outputs": [],
   "source": [
    "def plots(x_axis, y_axis, y_lab, x_lab):\n",
    "    plt.figure(figsize=(10, 6))\n",
    "    plt.scatter(x_axis, y_axis, label=y_lab)\n",
    "    plt.errorbar(x_axis, y_axis)\n",
    "    plt.xlabel(x_lab)\n",
    "    plt.ylabel(y_lab)\n",
    "    plt.title(f\"{y_lab} vs {x_lab}\")\n",
    "    plt.legend()\n",
    "    plt.autoscale()\n",
    "    plt.show()"
   ]
  },
  {
   "cell_type": "code",
   "execution_count": 82,
   "metadata": {},
   "outputs": [],
   "source": [
    "def run_cross_valid(df, num_vals, alpha, net, conts, lamb=0, k=10, find_cost=0):\n",
    "    num = np.ceil(len(df['class']) / k)\n",
    "    all_indices = make_subsets(df, num_vals['class'], k)\n",
    "    print(f\"Number of instances in test set: {num}\")\n",
    "    test_accuracies = []\n",
    "    all_fScore = []\n",
    "    layers = [len(df.columns) - 1]\n",
    "    layers.extend(net)\n",
    "    layers.append(len(num_vals['class']))\n",
    "    thetas = create_thetas(layers)\n",
    "    # print(all_indices)\n",
    "    # return\n",
    "    for i in range(k):\n",
    "        print(\n",
    "            f\"-----Iteration {i+1}  Net {net} Lambda {lamb} -----------------\")\n",
    "        train, test = train_test_split(all_indices, i)\n",
    "        # print(\"TRAIN\", train)\n",
    "        # print(\"TEST\", test)\n",
    "        train = df.iloc[train]\n",
    "        test = df.iloc[test]\n",
    "        if (len(test) == 0):\n",
    "            break\n",
    "        # test.reset_index(drop=True, inplace=True)\n",
    "\n",
    "        max_cols, min_cols = min_max_finder(train)\n",
    "        normalize(train, max_cols, min_cols, conts)\n",
    "        normalize(test, max_cols, min_cols, conts)\n",
    "        trainX, trainY = make_X_y_split(train)\n",
    "        testX, testY = make_X_y_split(test)\n",
    "\n",
    "        thetas = gradient_descent(trainX, trainY, thetas, SC, alpha, lamb)\n",
    "        results = run_forward_prop(testX, thetas)[-1]\n",
    "        results = convert_to_class(results)\n",
    "        if find_cost == 0:\n",
    "            op, ac = calc_accuracy(testY, results)\n",
    "\n",
    "            print(\"Conf Matrix:\", op)\n",
    "            print(\"Accuracy:\", ac)\n",
    "\n",
    "            # f1 = F1_score(precision(op, num_vals['class']), recall(\n",
    "            #     op, num_vals['class']))\n",
    "            # print(\"F1-Score:\", f1)\n",
    "            # all_fScore.append(f1)\n",
    "            test_accuracies.append(ac)\n",
    "        else:\n",
    "            reg = calc_regularization(thetas, testY, lamb)\n",
    "            t_cost = J(results, testY, reg, lamb=lamb)\n",
    "            # print(\"TCOST TCOST---------------------------------\", t_cost)\n",
    "            test_accuracies.append(t_cost)\n",
    "        # print('-------------------------', test_accuracies)\n",
    "\n",
    "    return test_accuracies, all_fScore"
   ]
  },
  {
   "cell_type": "code",
   "execution_count": 83,
   "metadata": {},
   "outputs": [],
   "source": [
    "df, num_vals = extract_dataframe(\n",
    "        'out.csv')\n",
    "conts = dict()\n",
    "for x in df:\n",
    "    conts[x] = is_cont(df[x])"
   ]
  },
  {
   "cell_type": "code",
   "execution_count": 84,
   "metadata": {},
   "outputs": [
    {
     "name": "stdout",
     "output_type": "stream",
     "text": [
      "Number of instances in test set: 61.0\n",
      "-----Iteration 1  Net [4] Lambda 0.1 -----------------\n"
     ]
    },
    {
     "name": "stderr",
     "output_type": "stream",
     "text": [
      "C:\\Users\\Tanishk\\AppData\\Local\\Temp/ipykernel_20172/869318862.py:8: SettingWithCopyWarning: \n",
      "A value is trying to be set on a copy of a slice from a DataFrame.\n",
      "Try using .loc[row_indexer,col_indexer] = value instead\n",
      "\n",
      "See the caveats in the documentation: https://pandas.pydata.org/pandas-docs/stable/user_guide/indexing.html#returning-a-view-versus-a-copy\n",
      "  df[col] = df[col].apply(\n"
     ]
    },
    {
     "name": "stdout",
     "output_type": "stream",
     "text": [
      "Final Diff Cost: 9.450387469667199e-05\n",
      "Final Cost 1.4055197202114533\n",
      "Number of Iterations: 56\n",
      "Conf Matrix: Counter({'0,0': 34, '1,0': 27, '1,1': 1})\n",
      "Accuracy: 0.5645161290322581\n",
      "-----Iteration 2  Net [4] Lambda 0.1 -----------------\n"
     ]
    },
    {
     "name": "stderr",
     "output_type": "stream",
     "text": [
      "C:\\Users\\Tanishk\\AppData\\Local\\Temp/ipykernel_20172/869318862.py:8: SettingWithCopyWarning: \n",
      "A value is trying to be set on a copy of a slice from a DataFrame.\n",
      "Try using .loc[row_indexer,col_indexer] = value instead\n",
      "\n",
      "See the caveats in the documentation: https://pandas.pydata.org/pandas-docs/stable/user_guide/indexing.html#returning-a-view-versus-a-copy\n",
      "  df[col] = df[col].apply(\n",
      "C:\\Users\\Tanishk\\AppData\\Local\\Temp/ipykernel_20172/869318862.py:8: SettingWithCopyWarning: \n",
      "A value is trying to be set on a copy of a slice from a DataFrame.\n",
      "Try using .loc[row_indexer,col_indexer] = value instead\n",
      "\n",
      "See the caveats in the documentation: https://pandas.pydata.org/pandas-docs/stable/user_guide/indexing.html#returning-a-view-versus-a-copy\n",
      "  df[col] = df[col].apply(\n"
     ]
    },
    {
     "name": "stdout",
     "output_type": "stream",
     "text": [
      "Final Diff Cost: 6.1500381662416e-05\n",
      "Final Cost 1.4044080334553282\n",
      "Number of Iterations: 1\n",
      "Conf Matrix: Counter({'0,0': 34, '1,0': 27})\n",
      "Accuracy: 0.5573770491803278\n",
      "-----Iteration 3  Net [4] Lambda 0.1 -----------------\n",
      "Final Diff Cost: 6.912160542849044e-05\n",
      "Final Cost 1.4051340758363688\n",
      "Number of Iterations: 1\n",
      "Conf Matrix: Counter({'0,0': 34, '1,0': 27})\n",
      "Accuracy: 0.5573770491803278\n",
      "-----Iteration 4  Net [4] Lambda 0.1 -----------------\n"
     ]
    },
    {
     "name": "stderr",
     "output_type": "stream",
     "text": [
      "C:\\Users\\Tanishk\\AppData\\Local\\Temp/ipykernel_20172/869318862.py:8: SettingWithCopyWarning: \n",
      "A value is trying to be set on a copy of a slice from a DataFrame.\n",
      "Try using .loc[row_indexer,col_indexer] = value instead\n",
      "\n",
      "See the caveats in the documentation: https://pandas.pydata.org/pandas-docs/stable/user_guide/indexing.html#returning-a-view-versus-a-copy\n",
      "  df[col] = df[col].apply(\n"
     ]
    },
    {
     "name": "stdout",
     "output_type": "stream",
     "text": [
      "Final Diff Cost: 8.280290656426104e-05\n",
      "Final Cost 1.4061382050248812\n",
      "Number of Iterations: 1\n",
      "Conf Matrix: Counter({'0,0': 34, '1,0': 27})\n",
      "Accuracy: 0.5573770491803278\n",
      "-----Iteration 5  Net [4] Lambda 0.1 -----------------\n"
     ]
    },
    {
     "name": "stderr",
     "output_type": "stream",
     "text": [
      "C:\\Users\\Tanishk\\AppData\\Local\\Temp/ipykernel_20172/869318862.py:8: SettingWithCopyWarning: \n",
      "A value is trying to be set on a copy of a slice from a DataFrame.\n",
      "Try using .loc[row_indexer,col_indexer] = value instead\n",
      "\n",
      "See the caveats in the documentation: https://pandas.pydata.org/pandas-docs/stable/user_guide/indexing.html#returning-a-view-versus-a-copy\n",
      "  df[col] = df[col].apply(\n"
     ]
    },
    {
     "name": "stdout",
     "output_type": "stream",
     "text": [
      "Final Diff Cost: 6.03402831693689e-05\n",
      "Final Cost 1.4040722511222041\n",
      "Number of Iterations: 1\n",
      "Conf Matrix: Counter({'0,0': 34, '1,0': 27})\n",
      "Accuracy: 0.5573770491803278\n",
      "-----Iteration 6  Net [4] Lambda 0.1 -----------------\n"
     ]
    },
    {
     "name": "stderr",
     "output_type": "stream",
     "text": [
      "C:\\Users\\Tanishk\\AppData\\Local\\Temp/ipykernel_20172/869318862.py:8: SettingWithCopyWarning: \n",
      "A value is trying to be set on a copy of a slice from a DataFrame.\n",
      "Try using .loc[row_indexer,col_indexer] = value instead\n",
      "\n",
      "See the caveats in the documentation: https://pandas.pydata.org/pandas-docs/stable/user_guide/indexing.html#returning-a-view-versus-a-copy\n",
      "  df[col] = df[col].apply(\n"
     ]
    },
    {
     "name": "stdout",
     "output_type": "stream",
     "text": [
      "Final Diff Cost: 4.145957049805915e-05\n",
      "Final Cost 1.403950740989528\n",
      "Number of Iterations: 1\n",
      "Conf Matrix: Counter({'0,0': 34, '1,0': 27})\n",
      "Accuracy: 0.5573770491803278\n",
      "-----Iteration 7  Net [4] Lambda 0.1 -----------------\n"
     ]
    },
    {
     "name": "stderr",
     "output_type": "stream",
     "text": [
      "C:\\Users\\Tanishk\\AppData\\Local\\Temp/ipykernel_20172/869318862.py:8: SettingWithCopyWarning: \n",
      "A value is trying to be set on a copy of a slice from a DataFrame.\n",
      "Try using .loc[row_indexer,col_indexer] = value instead\n",
      "\n",
      "See the caveats in the documentation: https://pandas.pydata.org/pandas-docs/stable/user_guide/indexing.html#returning-a-view-versus-a-copy\n",
      "  df[col] = df[col].apply(\n"
     ]
    },
    {
     "name": "stdout",
     "output_type": "stream",
     "text": [
      "Final Diff Cost: 4.6173997813481193e-05\n",
      "Final Cost 1.404580653621289\n",
      "Number of Iterations: 1\n",
      "Conf Matrix: Counter({'0,0': 34, '1,0': 27})\n",
      "Accuracy: 0.5573770491803278\n",
      "-----Iteration 8  Net [4] Lambda 0.1 -----------------\n"
     ]
    },
    {
     "name": "stderr",
     "output_type": "stream",
     "text": [
      "C:\\Users\\Tanishk\\AppData\\Local\\Temp/ipykernel_20172/869318862.py:8: SettingWithCopyWarning: \n",
      "A value is trying to be set on a copy of a slice from a DataFrame.\n",
      "Try using .loc[row_indexer,col_indexer] = value instead\n",
      "\n",
      "See the caveats in the documentation: https://pandas.pydata.org/pandas-docs/stable/user_guide/indexing.html#returning-a-view-versus-a-copy\n",
      "  df[col] = df[col].apply(\n"
     ]
    },
    {
     "name": "stdout",
     "output_type": "stream",
     "text": [
      "Final Diff Cost: 5.10491107685862e-05\n",
      "Final Cost 1.4042168276794513\n",
      "Number of Iterations: 1\n",
      "Conf Matrix: Counter({'0,0': 32, '1,0': 27, '0,1': 1})\n",
      "Accuracy: 0.5333333333333333\n",
      "-----Iteration 9  Net [4] Lambda 0.1 -----------------\n"
     ]
    },
    {
     "name": "stderr",
     "output_type": "stream",
     "text": [
      "C:\\Users\\Tanishk\\AppData\\Local\\Temp/ipykernel_20172/869318862.py:8: SettingWithCopyWarning: \n",
      "A value is trying to be set on a copy of a slice from a DataFrame.\n",
      "Try using .loc[row_indexer,col_indexer] = value instead\n",
      "\n",
      "See the caveats in the documentation: https://pandas.pydata.org/pandas-docs/stable/user_guide/indexing.html#returning-a-view-versus-a-copy\n",
      "  df[col] = df[col].apply(\n"
     ]
    },
    {
     "name": "stdout",
     "output_type": "stream",
     "text": [
      "Final Diff Cost: 6.196175381023572e-05\n",
      "Final Cost 1.4045988396974882\n",
      "Number of Iterations: 1\n",
      "Conf Matrix: Counter({'0,0': 33, '1,0': 27})\n",
      "Accuracy: 0.55\n",
      "-----Iteration 10  Net [4] Lambda 0.1 -----------------\n"
     ]
    },
    {
     "name": "stderr",
     "output_type": "stream",
     "text": [
      "C:\\Users\\Tanishk\\AppData\\Local\\Temp/ipykernel_20172/869318862.py:8: SettingWithCopyWarning: \n",
      "A value is trying to be set on a copy of a slice from a DataFrame.\n",
      "Try using .loc[row_indexer,col_indexer] = value instead\n",
      "\n",
      "See the caveats in the documentation: https://pandas.pydata.org/pandas-docs/stable/user_guide/indexing.html#returning-a-view-versus-a-copy\n",
      "  df[col] = df[col].apply(\n"
     ]
    },
    {
     "name": "stdout",
     "output_type": "stream",
     "text": [
      "Final Diff Cost: 2.597948496974034e-05\n",
      "Final Cost 1.4038086818516426\n",
      "Number of Iterations: 1\n",
      "Conf Matrix: Counter({'0,0': 33, '1,0': 27})\n",
      "Accuracy: 0.55\n",
      "Number of instances in test set: 61.0\n",
      "-----Iteration 1  Net [8] Lambda 0.1 -----------------\n"
     ]
    },
    {
     "name": "stderr",
     "output_type": "stream",
     "text": [
      "c:\\Users\\Tanishk\\AppData\\Local\\Programs\\Python\\Python39\\lib\\site-packages\\numpy\\core\\fromnumeric.py:3440: RuntimeWarning: Mean of empty slice.\n",
      "  return _methods._mean(a, axis=axis, dtype=dtype,\n",
      "c:\\Users\\Tanishk\\AppData\\Local\\Programs\\Python\\Python39\\lib\\site-packages\\numpy\\core\\_methods.py:189: RuntimeWarning: invalid value encountered in double_scalars\n",
      "  ret = ret.dtype.type(ret / rcount)\n",
      "C:\\Users\\Tanishk\\AppData\\Local\\Temp/ipykernel_20172/869318862.py:8: SettingWithCopyWarning: \n",
      "A value is trying to be set on a copy of a slice from a DataFrame.\n",
      "Try using .loc[row_indexer,col_indexer] = value instead\n",
      "\n",
      "See the caveats in the documentation: https://pandas.pydata.org/pandas-docs/stable/user_guide/indexing.html#returning-a-view-versus-a-copy\n",
      "  df[col] = df[col].apply(\n"
     ]
    },
    {
     "name": "stdout",
     "output_type": "stream",
     "text": [
      "Final Diff Cost: 9.933747608248389e-05\n",
      "Final Cost 1.429307402228907\n",
      "Number of Iterations: 54\n",
      "Conf Matrix: Counter({'0,0': 34, '1,0': 28})\n",
      "Accuracy: 0.5483870967741935\n",
      "-----Iteration 2  Net [8] Lambda 0.1 -----------------\n"
     ]
    },
    {
     "name": "stderr",
     "output_type": "stream",
     "text": [
      "C:\\Users\\Tanishk\\AppData\\Local\\Temp/ipykernel_20172/869318862.py:8: SettingWithCopyWarning: \n",
      "A value is trying to be set on a copy of a slice from a DataFrame.\n",
      "Try using .loc[row_indexer,col_indexer] = value instead\n",
      "\n",
      "See the caveats in the documentation: https://pandas.pydata.org/pandas-docs/stable/user_guide/indexing.html#returning-a-view-versus-a-copy\n",
      "  df[col] = df[col].apply(\n"
     ]
    },
    {
     "name": "stdout",
     "output_type": "stream",
     "text": [
      "Final Diff Cost: 9.976867266980882e-05\n",
      "Final Cost 1.4312239959421678\n",
      "Number of Iterations: 49\n",
      "Conf Matrix: Counter({'0,0': 34, '1,0': 26, '1,1': 1})\n",
      "Accuracy: 0.5737704918032787\n",
      "-----Iteration 3  Net [8] Lambda 0.1 -----------------\n"
     ]
    },
    {
     "name": "stderr",
     "output_type": "stream",
     "text": [
      "C:\\Users\\Tanishk\\AppData\\Local\\Temp/ipykernel_20172/869318862.py:8: SettingWithCopyWarning: \n",
      "A value is trying to be set on a copy of a slice from a DataFrame.\n",
      "Try using .loc[row_indexer,col_indexer] = value instead\n",
      "\n",
      "See the caveats in the documentation: https://pandas.pydata.org/pandas-docs/stable/user_guide/indexing.html#returning-a-view-versus-a-copy\n",
      "  df[col] = df[col].apply(\n"
     ]
    },
    {
     "name": "stdout",
     "output_type": "stream",
     "text": [
      "Final Diff Cost: 8.642047198881286e-05\n",
      "Final Cost 1.4232330228165653\n",
      "Number of Iterations: 12\n",
      "Conf Matrix: Counter({'0,0': 34, '1,0': 27})\n",
      "Accuracy: 0.5573770491803278\n",
      "-----Iteration 4  Net [8] Lambda 0.1 -----------------\n"
     ]
    },
    {
     "name": "stderr",
     "output_type": "stream",
     "text": [
      "C:\\Users\\Tanishk\\AppData\\Local\\Temp/ipykernel_20172/869318862.py:8: SettingWithCopyWarning: \n",
      "A value is trying to be set on a copy of a slice from a DataFrame.\n",
      "Try using .loc[row_indexer,col_indexer] = value instead\n",
      "\n",
      "See the caveats in the documentation: https://pandas.pydata.org/pandas-docs/stable/user_guide/indexing.html#returning-a-view-versus-a-copy\n",
      "  df[col] = df[col].apply(\n"
     ]
    },
    {
     "name": "stdout",
     "output_type": "stream",
     "text": [
      "Final Diff Cost: 9.877186044837671e-05\n",
      "Final Cost 1.4274573597194562\n",
      "Number of Iterations: 1\n",
      "Conf Matrix: Counter({'0,0': 34, '1,0': 27})\n",
      "Accuracy: 0.5573770491803278\n",
      "-----Iteration 5  Net [8] Lambda 0.1 -----------------\n"
     ]
    },
    {
     "name": "stderr",
     "output_type": "stream",
     "text": [
      "C:\\Users\\Tanishk\\AppData\\Local\\Temp/ipykernel_20172/869318862.py:8: SettingWithCopyWarning: \n",
      "A value is trying to be set on a copy of a slice from a DataFrame.\n",
      "Try using .loc[row_indexer,col_indexer] = value instead\n",
      "\n",
      "See the caveats in the documentation: https://pandas.pydata.org/pandas-docs/stable/user_guide/indexing.html#returning-a-view-versus-a-copy\n",
      "  df[col] = df[col].apply(\n"
     ]
    },
    {
     "name": "stdout",
     "output_type": "stream",
     "text": [
      "Final Diff Cost: 9.869502016468523e-05\n",
      "Final Cost 1.4305797801703972\n",
      "Number of Iterations: 4\n",
      "Conf Matrix: Counter({'0,0': 33, '1,0': 27, '0,1': 1})\n",
      "Accuracy: 0.5409836065573771\n",
      "-----Iteration 6  Net [8] Lambda 0.1 -----------------\n"
     ]
    },
    {
     "name": "stderr",
     "output_type": "stream",
     "text": [
      "C:\\Users\\Tanishk\\AppData\\Local\\Temp/ipykernel_20172/869318862.py:8: SettingWithCopyWarning: \n",
      "A value is trying to be set on a copy of a slice from a DataFrame.\n",
      "Try using .loc[row_indexer,col_indexer] = value instead\n",
      "\n",
      "See the caveats in the documentation: https://pandas.pydata.org/pandas-docs/stable/user_guide/indexing.html#returning-a-view-versus-a-copy\n",
      "  df[col] = df[col].apply(\n"
     ]
    },
    {
     "name": "stdout",
     "output_type": "stream",
     "text": [
      "Final Diff Cost: 9.835451547735019e-05\n",
      "Final Cost 1.425309144566425\n",
      "Number of Iterations: 9\n",
      "Conf Matrix: Counter({'0,0': 34, '1,0': 27})\n",
      "Accuracy: 0.5573770491803278\n",
      "-----Iteration 7  Net [8] Lambda 0.1 -----------------\n",
      "Final Diff Cost: 8.231976361727789e-05\n",
      "Final Cost 1.4253516562999577\n",
      "Number of Iterations: 1\n"
     ]
    },
    {
     "name": "stderr",
     "output_type": "stream",
     "text": [
      "C:\\Users\\Tanishk\\AppData\\Local\\Temp/ipykernel_20172/869318862.py:8: SettingWithCopyWarning: \n",
      "A value is trying to be set on a copy of a slice from a DataFrame.\n",
      "Try using .loc[row_indexer,col_indexer] = value instead\n",
      "\n",
      "See the caveats in the documentation: https://pandas.pydata.org/pandas-docs/stable/user_guide/indexing.html#returning-a-view-versus-a-copy\n",
      "  df[col] = df[col].apply(\n"
     ]
    },
    {
     "name": "stdout",
     "output_type": "stream",
     "text": [
      "Conf Matrix: Counter({'0,0': 34, '1,0': 27})\n",
      "Accuracy: 0.5573770491803278\n",
      "-----Iteration 8  Net [8] Lambda 0.1 -----------------\n",
      "Final Diff Cost: 9.544616019363517e-05\n",
      "Final Cost 1.4230640113705049\n",
      "Number of Iterations: 4\n",
      "Conf Matrix: Counter({'0,0': 33, '1,0': 27})\n",
      "Accuracy: 0.55\n",
      "-----Iteration 9  Net [8] Lambda 0.1 -----------------\n"
     ]
    },
    {
     "name": "stderr",
     "output_type": "stream",
     "text": [
      "C:\\Users\\Tanishk\\AppData\\Local\\Temp/ipykernel_20172/869318862.py:8: SettingWithCopyWarning: \n",
      "A value is trying to be set on a copy of a slice from a DataFrame.\n",
      "Try using .loc[row_indexer,col_indexer] = value instead\n",
      "\n",
      "See the caveats in the documentation: https://pandas.pydata.org/pandas-docs/stable/user_guide/indexing.html#returning-a-view-versus-a-copy\n",
      "  df[col] = df[col].apply(\n",
      "C:\\Users\\Tanishk\\AppData\\Local\\Temp/ipykernel_20172/869318862.py:8: SettingWithCopyWarning: \n",
      "A value is trying to be set on a copy of a slice from a DataFrame.\n",
      "Try using .loc[row_indexer,col_indexer] = value instead\n",
      "\n",
      "See the caveats in the documentation: https://pandas.pydata.org/pandas-docs/stable/user_guide/indexing.html#returning-a-view-versus-a-copy\n",
      "  df[col] = df[col].apply(\n"
     ]
    },
    {
     "name": "stdout",
     "output_type": "stream",
     "text": [
      "Final Diff Cost: -0.0014301200560344896\n",
      "Final Cost 1.0655439712302353\n",
      "Number of Iterations: 701\n",
      "Conf Matrix: Counter({'0,0': 29, '1,1': 19, '1,0': 8, '0,1': 4})\n",
      "Accuracy: 0.8\n",
      "-----Iteration 10  Net [8] Lambda 0.1 -----------------\n"
     ]
    },
    {
     "name": "stderr",
     "output_type": "stream",
     "text": [
      "C:\\Users\\Tanishk\\AppData\\Local\\Temp/ipykernel_20172/869318862.py:8: SettingWithCopyWarning: \n",
      "A value is trying to be set on a copy of a slice from a DataFrame.\n",
      "Try using .loc[row_indexer,col_indexer] = value instead\n",
      "\n",
      "See the caveats in the documentation: https://pandas.pydata.org/pandas-docs/stable/user_guide/indexing.html#returning-a-view-versus-a-copy\n",
      "  df[col] = df[col].apply(\n",
      "c:\\Users\\Tanishk\\AppData\\Local\\Programs\\Python\\Python39\\lib\\site-packages\\numpy\\core\\fromnumeric.py:3440: RuntimeWarning: Mean of empty slice.\n",
      "  return _methods._mean(a, axis=axis, dtype=dtype,\n",
      "c:\\Users\\Tanishk\\AppData\\Local\\Programs\\Python\\Python39\\lib\\site-packages\\numpy\\core\\_methods.py:189: RuntimeWarning: invalid value encountered in double_scalars\n",
      "  ret = ret.dtype.type(ret / rcount)\n",
      "C:\\Users\\Tanishk\\AppData\\Local\\Temp/ipykernel_20172/869318862.py:8: SettingWithCopyWarning: \n",
      "A value is trying to be set on a copy of a slice from a DataFrame.\n",
      "Try using .loc[row_indexer,col_indexer] = value instead\n",
      "\n",
      "See the caveats in the documentation: https://pandas.pydata.org/pandas-docs/stable/user_guide/indexing.html#returning-a-view-versus-a-copy\n",
      "  df[col] = df[col].apply(\n"
     ]
    },
    {
     "name": "stdout",
     "output_type": "stream",
     "text": [
      "Final Diff Cost: -0.018366811972137187\n",
      "Final Cost 1.3424672297507323\n",
      "Number of Iterations: 4\n",
      "Conf Matrix: Counter({'0,0': 31, '1,0': 15, '1,1': 12, '0,1': 2})\n",
      "Accuracy: 0.7166666666666667\n",
      "Number of instances in test set: 61.0\n",
      "-----Iteration 1  Net [16] Lambda 0.1 -----------------\n",
      "Final Diff Cost: 9.833064134467939e-05\n",
      "Final Cost 1.2468271243078621\n",
      "Number of Iterations: 1559\n",
      "Conf Matrix: Counter({'0,0': 25, '1,0': 15, '1,1': 13, '0,1': 9})\n",
      "Accuracy: 0.6129032258064516\n",
      "-----Iteration 2  Net [16] Lambda 0.1 -----------------\n"
     ]
    },
    {
     "name": "stderr",
     "output_type": "stream",
     "text": [
      "C:\\Users\\Tanishk\\AppData\\Local\\Temp/ipykernel_20172/869318862.py:8: SettingWithCopyWarning: \n",
      "A value is trying to be set on a copy of a slice from a DataFrame.\n",
      "Try using .loc[row_indexer,col_indexer] = value instead\n",
      "\n",
      "See the caveats in the documentation: https://pandas.pydata.org/pandas-docs/stable/user_guide/indexing.html#returning-a-view-versus-a-copy\n",
      "  df[col] = df[col].apply(\n"
     ]
    },
    {
     "name": "stdout",
     "output_type": "stream",
     "text": [
      "Final Diff Cost: -0.0003244910669111256\n",
      "Final Cost 1.2661545311065707\n",
      "Number of Iterations: 6\n",
      "Conf Matrix: Counter({'0,0': 30, '1,1': 17, '1,0': 10, '0,1': 4})\n",
      "Accuracy: 0.7704918032786885\n",
      "-----Iteration 3  Net [16] Lambda 0.1 -----------------\n"
     ]
    },
    {
     "name": "stderr",
     "output_type": "stream",
     "text": [
      "C:\\Users\\Tanishk\\AppData\\Local\\Temp/ipykernel_20172/869318862.py:8: SettingWithCopyWarning: \n",
      "A value is trying to be set on a copy of a slice from a DataFrame.\n",
      "Try using .loc[row_indexer,col_indexer] = value instead\n",
      "\n",
      "See the caveats in the documentation: https://pandas.pydata.org/pandas-docs/stable/user_guide/indexing.html#returning-a-view-versus-a-copy\n",
      "  df[col] = df[col].apply(\n"
     ]
    },
    {
     "name": "stdout",
     "output_type": "stream",
     "text": [
      "Final Diff Cost: -0.0017152294804587687\n",
      "Final Cost 1.2583229848439914\n",
      "Number of Iterations: 1\n",
      "Conf Matrix: Counter({'0,0': 24, '1,1': 17, '0,1': 10, '1,0': 10})\n",
      "Accuracy: 0.6721311475409836\n",
      "-----Iteration 4  Net [16] Lambda 0.1 -----------------\n"
     ]
    },
    {
     "name": "stderr",
     "output_type": "stream",
     "text": [
      "C:\\Users\\Tanishk\\AppData\\Local\\Temp/ipykernel_20172/869318862.py:8: SettingWithCopyWarning: \n",
      "A value is trying to be set on a copy of a slice from a DataFrame.\n",
      "Try using .loc[row_indexer,col_indexer] = value instead\n",
      "\n",
      "See the caveats in the documentation: https://pandas.pydata.org/pandas-docs/stable/user_guide/indexing.html#returning-a-view-versus-a-copy\n",
      "  df[col] = df[col].apply(\n"
     ]
    },
    {
     "name": "stdout",
     "output_type": "stream",
     "text": [
      "Final Diff Cost: -0.019000239039572042\n",
      "Final Cost 1.2890493310760052\n",
      "Number of Iterations: 1\n",
      "Conf Matrix: Counter({'0,0': 29, '1,0': 19, '1,1': 8, '0,1': 5})\n",
      "Accuracy: 0.6065573770491803\n",
      "-----Iteration 5  Net [16] Lambda 0.1 -----------------\n"
     ]
    },
    {
     "name": "stderr",
     "output_type": "stream",
     "text": [
      "C:\\Users\\Tanishk\\AppData\\Local\\Temp/ipykernel_20172/869318862.py:8: SettingWithCopyWarning: \n",
      "A value is trying to be set on a copy of a slice from a DataFrame.\n",
      "Try using .loc[row_indexer,col_indexer] = value instead\n",
      "\n",
      "See the caveats in the documentation: https://pandas.pydata.org/pandas-docs/stable/user_guide/indexing.html#returning-a-view-versus-a-copy\n",
      "  df[col] = df[col].apply(\n"
     ]
    },
    {
     "name": "stdout",
     "output_type": "stream",
     "text": [
      "Final Diff Cost: -0.028869033571103264\n",
      "Final Cost 1.3664251373701992\n",
      "Number of Iterations: 1\n",
      "Conf Matrix: Counter({'0,1': 21, '1,1': 21, '0,0': 13, '1,0': 6})\n",
      "Accuracy: 0.5573770491803278\n",
      "-----Iteration 6  Net [16] Lambda 0.1 -----------------\n"
     ]
    },
    {
     "name": "stderr",
     "output_type": "stream",
     "text": [
      "C:\\Users\\Tanishk\\AppData\\Local\\Temp/ipykernel_20172/869318862.py:8: SettingWithCopyWarning: \n",
      "A value is trying to be set on a copy of a slice from a DataFrame.\n",
      "Try using .loc[row_indexer,col_indexer] = value instead\n",
      "\n",
      "See the caveats in the documentation: https://pandas.pydata.org/pandas-docs/stable/user_guide/indexing.html#returning-a-view-versus-a-copy\n",
      "  df[col] = df[col].apply(\n"
     ]
    },
    {
     "name": "stdout",
     "output_type": "stream",
     "text": [
      "Final Diff Cost: -0.00030950674433039005\n",
      "Final Cost 1.2717671758326794\n",
      "Number of Iterations: 5\n",
      "Conf Matrix: Counter({'0,0': 32, '1,0': 14, '1,1': 13, '0,1': 2})\n",
      "Accuracy: 0.7377049180327869\n",
      "-----Iteration 7  Net [16] Lambda 0.1 -----------------\n"
     ]
    },
    {
     "name": "stderr",
     "output_type": "stream",
     "text": [
      "C:\\Users\\Tanishk\\AppData\\Local\\Temp/ipykernel_20172/869318862.py:8: SettingWithCopyWarning: \n",
      "A value is trying to be set on a copy of a slice from a DataFrame.\n",
      "Try using .loc[row_indexer,col_indexer] = value instead\n",
      "\n",
      "See the caveats in the documentation: https://pandas.pydata.org/pandas-docs/stable/user_guide/indexing.html#returning-a-view-versus-a-copy\n",
      "  df[col] = df[col].apply(\n"
     ]
    },
    {
     "name": "stdout",
     "output_type": "stream",
     "text": [
      "Final Diff Cost: -0.0024027135319384385\n",
      "Final Cost 1.2589887477625852\n",
      "Number of Iterations: 1\n",
      "Conf Matrix: Counter({'0,0': 32, '1,0': 20, '1,1': 7, '0,1': 2})\n",
      "Accuracy: 0.639344262295082\n",
      "-----Iteration 8  Net [16] Lambda 0.1 -----------------\n"
     ]
    },
    {
     "name": "stderr",
     "output_type": "stream",
     "text": [
      "C:\\Users\\Tanishk\\AppData\\Local\\Temp/ipykernel_20172/869318862.py:8: SettingWithCopyWarning: \n",
      "A value is trying to be set on a copy of a slice from a DataFrame.\n",
      "Try using .loc[row_indexer,col_indexer] = value instead\n",
      "\n",
      "See the caveats in the documentation: https://pandas.pydata.org/pandas-docs/stable/user_guide/indexing.html#returning-a-view-versus-a-copy\n",
      "  df[col] = df[col].apply(\n"
     ]
    },
    {
     "name": "stdout",
     "output_type": "stream",
     "text": [
      "Final Diff Cost: 7.64278616582903e-05\n",
      "Final Cost 1.2558217151502944\n",
      "Number of Iterations: 20\n",
      "Conf Matrix: Counter({'0,0': 29, '1,0': 14, '1,1': 13, '0,1': 4})\n",
      "Accuracy: 0.7\n",
      "-----Iteration 9  Net [16] Lambda 0.1 -----------------\n"
     ]
    },
    {
     "name": "stderr",
     "output_type": "stream",
     "text": [
      "C:\\Users\\Tanishk\\AppData\\Local\\Temp/ipykernel_20172/869318862.py:8: SettingWithCopyWarning: \n",
      "A value is trying to be set on a copy of a slice from a DataFrame.\n",
      "Try using .loc[row_indexer,col_indexer] = value instead\n",
      "\n",
      "See the caveats in the documentation: https://pandas.pydata.org/pandas-docs/stable/user_guide/indexing.html#returning-a-view-versus-a-copy\n",
      "  df[col] = df[col].apply(\n"
     ]
    },
    {
     "name": "stdout",
     "output_type": "stream",
     "text": [
      "Final Diff Cost: 4.418900109603996e-06\n",
      "Final Cost 1.2737593575264285\n",
      "Number of Iterations: 5\n",
      "Conf Matrix: Counter({'0,0': 28, '1,1': 15, '1,0': 12, '0,1': 5})\n",
      "Accuracy: 0.7166666666666667\n",
      "-----Iteration 10  Net [16] Lambda 0.1 -----------------\n"
     ]
    },
    {
     "name": "stderr",
     "output_type": "stream",
     "text": [
      "C:\\Users\\Tanishk\\AppData\\Local\\Temp/ipykernel_20172/869318862.py:8: SettingWithCopyWarning: \n",
      "A value is trying to be set on a copy of a slice from a DataFrame.\n",
      "Try using .loc[row_indexer,col_indexer] = value instead\n",
      "\n",
      "See the caveats in the documentation: https://pandas.pydata.org/pandas-docs/stable/user_guide/indexing.html#returning-a-view-versus-a-copy\n",
      "  df[col] = df[col].apply(\n"
     ]
    },
    {
     "name": "stdout",
     "output_type": "stream",
     "text": [
      "Final Diff Cost: -0.0012777960592340598\n",
      "Final Cost 1.2667914371046736\n",
      "Number of Iterations: 2\n",
      "Conf Matrix: Counter({'0,0': 29, '1,0': 15, '1,1': 12, '0,1': 4})\n",
      "Accuracy: 0.6833333333333333\n",
      "Number of instances in test set: 61.0\n",
      "-----Iteration 1  Net [25] Lambda 0.1 -----------------\n"
     ]
    },
    {
     "name": "stderr",
     "output_type": "stream",
     "text": [
      "c:\\Users\\Tanishk\\AppData\\Local\\Programs\\Python\\Python39\\lib\\site-packages\\numpy\\core\\fromnumeric.py:3440: RuntimeWarning: Mean of empty slice.\n",
      "  return _methods._mean(a, axis=axis, dtype=dtype,\n",
      "c:\\Users\\Tanishk\\AppData\\Local\\Programs\\Python\\Python39\\lib\\site-packages\\numpy\\core\\_methods.py:189: RuntimeWarning: invalid value encountered in double_scalars\n",
      "  ret = ret.dtype.type(ret / rcount)\n",
      "C:\\Users\\Tanishk\\AppData\\Local\\Temp/ipykernel_20172/869318862.py:8: SettingWithCopyWarning: \n",
      "A value is trying to be set on a copy of a slice from a DataFrame.\n",
      "Try using .loc[row_indexer,col_indexer] = value instead\n",
      "\n",
      "See the caveats in the documentation: https://pandas.pydata.org/pandas-docs/stable/user_guide/indexing.html#returning-a-view-versus-a-copy\n",
      "  df[col] = df[col].apply(\n"
     ]
    },
    {
     "name": "stdout",
     "output_type": "stream",
     "text": [
      "Final Diff Cost: 6.331672902293306e-05\n",
      "Final Cost 1.0560033217684377\n",
      "Number of Iterations: 618\n",
      "Conf Matrix: Counter({'0,0': 28, '1,1': 18, '1,0': 10, '0,1': 6})\n",
      "Accuracy: 0.7419354838709677\n",
      "-----Iteration 2  Net [25] Lambda 0.1 -----------------\n"
     ]
    },
    {
     "name": "stderr",
     "output_type": "stream",
     "text": [
      "C:\\Users\\Tanishk\\AppData\\Local\\Temp/ipykernel_20172/869318862.py:8: SettingWithCopyWarning: \n",
      "A value is trying to be set on a copy of a slice from a DataFrame.\n",
      "Try using .loc[row_indexer,col_indexer] = value instead\n",
      "\n",
      "See the caveats in the documentation: https://pandas.pydata.org/pandas-docs/stable/user_guide/indexing.html#returning-a-view-versus-a-copy\n",
      "  df[col] = df[col].apply(\n"
     ]
    },
    {
     "name": "stdout",
     "output_type": "stream",
     "text": [
      "Final Diff Cost: -0.16424488855041464\n",
      "Final Cost 1.9421951899583947\n",
      "Number of Iterations: 2\n",
      "Conf Matrix: Counter({'0,0': 33, '1,0': 26, '0,1': 1, '1,1': 1})\n",
      "Accuracy: 0.5573770491803278\n",
      "-----Iteration 3  Net [25] Lambda 0.1 -----------------\n"
     ]
    },
    {
     "name": "stderr",
     "output_type": "stream",
     "text": [
      "C:\\Users\\Tanishk\\AppData\\Local\\Temp/ipykernel_20172/869318862.py:8: SettingWithCopyWarning: \n",
      "A value is trying to be set on a copy of a slice from a DataFrame.\n",
      "Try using .loc[row_indexer,col_indexer] = value instead\n",
      "\n",
      "See the caveats in the documentation: https://pandas.pydata.org/pandas-docs/stable/user_guide/indexing.html#returning-a-view-versus-a-copy\n",
      "  df[col] = df[col].apply(\n"
     ]
    },
    {
     "name": "stdout",
     "output_type": "stream",
     "text": [
      "Final Diff Cost: -0.0566697288505591\n",
      "Final Cost 1.789674838990885\n",
      "Number of Iterations: 2\n",
      "Conf Matrix: Counter({'0,0': 33, '1,0': 27, '0,1': 1})\n",
      "Accuracy: 0.5409836065573771\n",
      "-----Iteration 4  Net [25] Lambda 0.1 -----------------\n"
     ]
    },
    {
     "name": "stderr",
     "output_type": "stream",
     "text": [
      "C:\\Users\\Tanishk\\AppData\\Local\\Temp/ipykernel_20172/869318862.py:8: SettingWithCopyWarning: \n",
      "A value is trying to be set on a copy of a slice from a DataFrame.\n",
      "Try using .loc[row_indexer,col_indexer] = value instead\n",
      "\n",
      "See the caveats in the documentation: https://pandas.pydata.org/pandas-docs/stable/user_guide/indexing.html#returning-a-view-versus-a-copy\n",
      "  df[col] = df[col].apply(\n"
     ]
    },
    {
     "name": "stdout",
     "output_type": "stream",
     "text": [
      "Final Diff Cost: -0.0004759603323691852\n",
      "Final Cost 1.37881851842953\n",
      "Number of Iterations: 11\n",
      "Conf Matrix: Counter({'0,0': 28, '1,1': 20, '1,0': 7, '0,1': 6})\n",
      "Accuracy: 0.7868852459016393\n",
      "-----Iteration 5  Net [25] Lambda 0.1 -----------------\n"
     ]
    },
    {
     "name": "stderr",
     "output_type": "stream",
     "text": [
      "C:\\Users\\Tanishk\\AppData\\Local\\Temp/ipykernel_20172/869318862.py:8: SettingWithCopyWarning: \n",
      "A value is trying to be set on a copy of a slice from a DataFrame.\n",
      "Try using .loc[row_indexer,col_indexer] = value instead\n",
      "\n",
      "See the caveats in the documentation: https://pandas.pydata.org/pandas-docs/stable/user_guide/indexing.html#returning-a-view-versus-a-copy\n",
      "  df[col] = df[col].apply(\n"
     ]
    },
    {
     "name": "stdout",
     "output_type": "stream",
     "text": [
      "Final Diff Cost: -0.07141062193442616\n",
      "Final Cost 1.522491660386828\n",
      "Number of Iterations: 1\n",
      "Conf Matrix: Counter({'0,0': 33, '1,0': 23, '1,1': 4, '0,1': 1})\n",
      "Accuracy: 0.6065573770491803\n",
      "-----Iteration 6  Net [25] Lambda 0.1 -----------------\n"
     ]
    },
    {
     "name": "stderr",
     "output_type": "stream",
     "text": [
      "C:\\Users\\Tanishk\\AppData\\Local\\Temp/ipykernel_20172/869318862.py:8: SettingWithCopyWarning: \n",
      "A value is trying to be set on a copy of a slice from a DataFrame.\n",
      "Try using .loc[row_indexer,col_indexer] = value instead\n",
      "\n",
      "See the caveats in the documentation: https://pandas.pydata.org/pandas-docs/stable/user_guide/indexing.html#returning-a-view-versus-a-copy\n",
      "  df[col] = df[col].apply(\n"
     ]
    },
    {
     "name": "stdout",
     "output_type": "stream",
     "text": [
      "Final Diff Cost: -0.022750034642886163\n",
      "Final Cost 1.583583711647308\n",
      "Number of Iterations: 2\n",
      "Conf Matrix: Counter({'0,0': 32, '1,0': 26, '0,1': 2, '1,1': 1})\n",
      "Accuracy: 0.5409836065573771\n",
      "-----Iteration 7  Net [25] Lambda 0.1 -----------------\n"
     ]
    },
    {
     "name": "stderr",
     "output_type": "stream",
     "text": [
      "C:\\Users\\Tanishk\\AppData\\Local\\Temp/ipykernel_20172/869318862.py:8: SettingWithCopyWarning: \n",
      "A value is trying to be set on a copy of a slice from a DataFrame.\n",
      "Try using .loc[row_indexer,col_indexer] = value instead\n",
      "\n",
      "See the caveats in the documentation: https://pandas.pydata.org/pandas-docs/stable/user_guide/indexing.html#returning-a-view-versus-a-copy\n",
      "  df[col] = df[col].apply(\n"
     ]
    },
    {
     "name": "stdout",
     "output_type": "stream",
     "text": [
      "Final Diff Cost: -0.007868098945114088\n",
      "Final Cost 1.4084739610361958\n",
      "Number of Iterations: 6\n",
      "Conf Matrix: Counter({'0,0': 30, '1,0': 18, '1,1': 9, '0,1': 4})\n",
      "Accuracy: 0.639344262295082\n",
      "-----Iteration 8  Net [25] Lambda 0.1 -----------------\n"
     ]
    },
    {
     "name": "stderr",
     "output_type": "stream",
     "text": [
      "C:\\Users\\Tanishk\\AppData\\Local\\Temp/ipykernel_20172/869318862.py:8: SettingWithCopyWarning: \n",
      "A value is trying to be set on a copy of a slice from a DataFrame.\n",
      "Try using .loc[row_indexer,col_indexer] = value instead\n",
      "\n",
      "See the caveats in the documentation: https://pandas.pydata.org/pandas-docs/stable/user_guide/indexing.html#returning-a-view-versus-a-copy\n",
      "  df[col] = df[col].apply(\n"
     ]
    },
    {
     "name": "stdout",
     "output_type": "stream",
     "text": [
      "Final Diff Cost: -0.002113992360531558\n",
      "Final Cost 1.360363680541422\n",
      "Number of Iterations: 4\n",
      "Conf Matrix: Counter({'0,0': 23, '1,1': 18, '0,1': 10, '1,0': 9})\n",
      "Accuracy: 0.6833333333333333\n",
      "-----Iteration 9  Net [25] Lambda 0.1 -----------------\n"
     ]
    },
    {
     "name": "stderr",
     "output_type": "stream",
     "text": [
      "C:\\Users\\Tanishk\\AppData\\Local\\Temp/ipykernel_20172/869318862.py:8: SettingWithCopyWarning: \n",
      "A value is trying to be set on a copy of a slice from a DataFrame.\n",
      "Try using .loc[row_indexer,col_indexer] = value instead\n",
      "\n",
      "See the caveats in the documentation: https://pandas.pydata.org/pandas-docs/stable/user_guide/indexing.html#returning-a-view-versus-a-copy\n",
      "  df[col] = df[col].apply(\n"
     ]
    },
    {
     "name": "stdout",
     "output_type": "stream",
     "text": [
      "Final Diff Cost: -0.00792602607014481\n",
      "Final Cost 1.3618700185624144\n",
      "Number of Iterations: 1\n",
      "Conf Matrix: Counter({'1,1': 20, '0,0': 17, '0,1': 16, '1,0': 7})\n",
      "Accuracy: 0.6166666666666667\n",
      "-----Iteration 10  Net [25] Lambda 0.1 -----------------\n"
     ]
    },
    {
     "name": "stderr",
     "output_type": "stream",
     "text": [
      "C:\\Users\\Tanishk\\AppData\\Local\\Temp/ipykernel_20172/869318862.py:8: SettingWithCopyWarning: \n",
      "A value is trying to be set on a copy of a slice from a DataFrame.\n",
      "Try using .loc[row_indexer,col_indexer] = value instead\n",
      "\n",
      "See the caveats in the documentation: https://pandas.pydata.org/pandas-docs/stable/user_guide/indexing.html#returning-a-view-versus-a-copy\n",
      "  df[col] = df[col].apply(\n"
     ]
    },
    {
     "name": "stdout",
     "output_type": "stream",
     "text": [
      "Final Diff Cost: -0.01502956518123244\n",
      "Final Cost 1.3719144852580047\n",
      "Number of Iterations: 1\n",
      "Conf Matrix: Counter({'0,0': 31, '1,0': 20, '1,1': 7, '0,1': 2})\n",
      "Accuracy: 0.6333333333333333\n",
      "Number of instances in test set: 61.0\n",
      "-----Iteration 1  Net [32] Lambda 0.1 -----------------\n"
     ]
    },
    {
     "name": "stderr",
     "output_type": "stream",
     "text": [
      "c:\\Users\\Tanishk\\AppData\\Local\\Programs\\Python\\Python39\\lib\\site-packages\\numpy\\core\\fromnumeric.py:3440: RuntimeWarning: Mean of empty slice.\n",
      "  return _methods._mean(a, axis=axis, dtype=dtype,\n",
      "c:\\Users\\Tanishk\\AppData\\Local\\Programs\\Python\\Python39\\lib\\site-packages\\numpy\\core\\_methods.py:189: RuntimeWarning: invalid value encountered in double_scalars\n",
      "  ret = ret.dtype.type(ret / rcount)\n",
      "C:\\Users\\Tanishk\\AppData\\Local\\Temp/ipykernel_20172/869318862.py:8: SettingWithCopyWarning: \n",
      "A value is trying to be set on a copy of a slice from a DataFrame.\n",
      "Try using .loc[row_indexer,col_indexer] = value instead\n",
      "\n",
      "See the caveats in the documentation: https://pandas.pydata.org/pandas-docs/stable/user_guide/indexing.html#returning-a-view-versus-a-copy\n",
      "  df[col] = df[col].apply(\n"
     ]
    },
    {
     "name": "stdout",
     "output_type": "stream",
     "text": [
      "Final Diff Cost: 6.17390022610298e-05\n",
      "Final Cost 1.3558811074161667\n",
      "Number of Iterations: 1688\n",
      "Conf Matrix: Counter({'0,0': 24, '1,0': 15, '1,1': 13, '0,1': 10})\n",
      "Accuracy: 0.5967741935483871\n",
      "-----Iteration 2  Net [32] Lambda 0.1 -----------------\n"
     ]
    },
    {
     "name": "stderr",
     "output_type": "stream",
     "text": [
      "C:\\Users\\Tanishk\\AppData\\Local\\Temp/ipykernel_20172/869318862.py:8: SettingWithCopyWarning: \n",
      "A value is trying to be set on a copy of a slice from a DataFrame.\n",
      "Try using .loc[row_indexer,col_indexer] = value instead\n",
      "\n",
      "See the caveats in the documentation: https://pandas.pydata.org/pandas-docs/stable/user_guide/indexing.html#returning-a-view-versus-a-copy\n",
      "  df[col] = df[col].apply(\n"
     ]
    },
    {
     "name": "stdout",
     "output_type": "stream",
     "text": [
      "Final Diff Cost: -0.0003126321787909614\n",
      "Final Cost 1.388568756118187\n",
      "Number of Iterations: 1\n",
      "Conf Matrix: Counter({'0,0': 20, '1,1': 20, '0,1': 14, '1,0': 7})\n",
      "Accuracy: 0.6557377049180327\n",
      "-----Iteration 3  Net [32] Lambda 0.1 -----------------\n"
     ]
    },
    {
     "name": "stderr",
     "output_type": "stream",
     "text": [
      "C:\\Users\\Tanishk\\AppData\\Local\\Temp/ipykernel_20172/869318862.py:8: SettingWithCopyWarning: \n",
      "A value is trying to be set on a copy of a slice from a DataFrame.\n",
      "Try using .loc[row_indexer,col_indexer] = value instead\n",
      "\n",
      "See the caveats in the documentation: https://pandas.pydata.org/pandas-docs/stable/user_guide/indexing.html#returning-a-view-versus-a-copy\n",
      "  df[col] = df[col].apply(\n"
     ]
    },
    {
     "name": "stdout",
     "output_type": "stream",
     "text": [
      "Final Diff Cost: -4.816201924762176e-05\n",
      "Final Cost 1.4109434533165386\n",
      "Number of Iterations: 1\n",
      "Conf Matrix: Counter({'0,0': 27, '1,1': 21, '0,1': 7, '1,0': 6})\n",
      "Accuracy: 0.7868852459016393\n",
      "-----Iteration 4  Net [32] Lambda 0.1 -----------------\n"
     ]
    },
    {
     "name": "stderr",
     "output_type": "stream",
     "text": [
      "C:\\Users\\Tanishk\\AppData\\Local\\Temp/ipykernel_20172/869318862.py:8: SettingWithCopyWarning: \n",
      "A value is trying to be set on a copy of a slice from a DataFrame.\n",
      "Try using .loc[row_indexer,col_indexer] = value instead\n",
      "\n",
      "See the caveats in the documentation: https://pandas.pydata.org/pandas-docs/stable/user_guide/indexing.html#returning-a-view-versus-a-copy\n",
      "  df[col] = df[col].apply(\n"
     ]
    },
    {
     "name": "stdout",
     "output_type": "stream",
     "text": [
      "Final Diff Cost: -0.10791657797456988\n",
      "Final Cost 1.6421761935091053\n",
      "Number of Iterations: 1\n",
      "Conf Matrix: Counter({'0,0': 33, '1,0': 24, '1,1': 3, '0,1': 1})\n",
      "Accuracy: 0.5901639344262295\n",
      "-----Iteration 5  Net [32] Lambda 0.1 -----------------\n"
     ]
    },
    {
     "name": "stderr",
     "output_type": "stream",
     "text": [
      "C:\\Users\\Tanishk\\AppData\\Local\\Temp/ipykernel_20172/869318862.py:8: SettingWithCopyWarning: \n",
      "A value is trying to be set on a copy of a slice from a DataFrame.\n",
      "Try using .loc[row_indexer,col_indexer] = value instead\n",
      "\n",
      "See the caveats in the documentation: https://pandas.pydata.org/pandas-docs/stable/user_guide/indexing.html#returning-a-view-versus-a-copy\n",
      "  df[col] = df[col].apply(\n"
     ]
    },
    {
     "name": "stdout",
     "output_type": "stream",
     "text": [
      "Final Diff Cost: -0.00018137676444007766\n",
      "Final Cost 1.3774419487834997\n",
      "Number of Iterations: 9\n",
      "Conf Matrix: Counter({'0,0': 25, '1,1': 20, '0,1': 9, '1,0': 7})\n",
      "Accuracy: 0.7377049180327869\n",
      "-----Iteration 6  Net [32] Lambda 0.1 -----------------\n"
     ]
    },
    {
     "name": "stderr",
     "output_type": "stream",
     "text": [
      "C:\\Users\\Tanishk\\AppData\\Local\\Temp/ipykernel_20172/869318862.py:8: SettingWithCopyWarning: \n",
      "A value is trying to be set on a copy of a slice from a DataFrame.\n",
      "Try using .loc[row_indexer,col_indexer] = value instead\n",
      "\n",
      "See the caveats in the documentation: https://pandas.pydata.org/pandas-docs/stable/user_guide/indexing.html#returning-a-view-versus-a-copy\n",
      "  df[col] = df[col].apply(\n"
     ]
    },
    {
     "name": "stdout",
     "output_type": "stream",
     "text": [
      "Final Diff Cost: -0.014181321899470412\n",
      "Final Cost 1.3909075616952193\n",
      "Number of Iterations: 1\n",
      "Conf Matrix: Counter({'0,0': 29, '1,0': 20, '1,1': 7, '0,1': 5})\n",
      "Accuracy: 0.5901639344262295\n",
      "-----Iteration 7  Net [32] Lambda 0.1 -----------------\n"
     ]
    },
    {
     "name": "stderr",
     "output_type": "stream",
     "text": [
      "C:\\Users\\Tanishk\\AppData\\Local\\Temp/ipykernel_20172/869318862.py:8: SettingWithCopyWarning: \n",
      "A value is trying to be set on a copy of a slice from a DataFrame.\n",
      "Try using .loc[row_indexer,col_indexer] = value instead\n",
      "\n",
      "See the caveats in the documentation: https://pandas.pydata.org/pandas-docs/stable/user_guide/indexing.html#returning-a-view-versus-a-copy\n",
      "  df[col] = df[col].apply(\n"
     ]
    },
    {
     "name": "stdout",
     "output_type": "stream",
     "text": [
      "Final Diff Cost: -0.00042190825613586114\n",
      "Final Cost 1.3609918817782842\n",
      "Number of Iterations: 1\n",
      "Conf Matrix: Counter({'0,0': 28, '1,0': 18, '1,1': 9, '0,1': 6})\n",
      "Accuracy: 0.6065573770491803\n",
      "-----Iteration 8  Net [32] Lambda 0.1 -----------------\n"
     ]
    },
    {
     "name": "stderr",
     "output_type": "stream",
     "text": [
      "C:\\Users\\Tanishk\\AppData\\Local\\Temp/ipykernel_20172/869318862.py:8: SettingWithCopyWarning: \n",
      "A value is trying to be set on a copy of a slice from a DataFrame.\n",
      "Try using .loc[row_indexer,col_indexer] = value instead\n",
      "\n",
      "See the caveats in the documentation: https://pandas.pydata.org/pandas-docs/stable/user_guide/indexing.html#returning-a-view-versus-a-copy\n",
      "  df[col] = df[col].apply(\n"
     ]
    },
    {
     "name": "stdout",
     "output_type": "stream",
     "text": [
      "Final Diff Cost: -0.01106088386291959\n",
      "Final Cost 1.3934712273658754\n",
      "Number of Iterations: 1\n",
      "Conf Matrix: Counter({'0,0': 33, '1,0': 21, '1,1': 6})\n",
      "Accuracy: 0.65\n",
      "-----Iteration 9  Net [32] Lambda 0.1 -----------------\n"
     ]
    },
    {
     "name": "stderr",
     "output_type": "stream",
     "text": [
      "C:\\Users\\Tanishk\\AppData\\Local\\Temp/ipykernel_20172/869318862.py:8: SettingWithCopyWarning: \n",
      "A value is trying to be set on a copy of a slice from a DataFrame.\n",
      "Try using .loc[row_indexer,col_indexer] = value instead\n",
      "\n",
      "See the caveats in the documentation: https://pandas.pydata.org/pandas-docs/stable/user_guide/indexing.html#returning-a-view-versus-a-copy\n",
      "  df[col] = df[col].apply(\n"
     ]
    },
    {
     "name": "stdout",
     "output_type": "stream",
     "text": [
      "Final Diff Cost: -0.0002559239965425064\n",
      "Final Cost 1.3777922762508157\n",
      "Number of Iterations: 8\n",
      "Conf Matrix: Counter({'0,0': 31, '1,1': 14, '1,0': 13, '0,1': 2})\n",
      "Accuracy: 0.75\n",
      "-----Iteration 10  Net [32] Lambda 0.1 -----------------\n"
     ]
    },
    {
     "name": "stderr",
     "output_type": "stream",
     "text": [
      "C:\\Users\\Tanishk\\AppData\\Local\\Temp/ipykernel_20172/869318862.py:8: SettingWithCopyWarning: \n",
      "A value is trying to be set on a copy of a slice from a DataFrame.\n",
      "Try using .loc[row_indexer,col_indexer] = value instead\n",
      "\n",
      "See the caveats in the documentation: https://pandas.pydata.org/pandas-docs/stable/user_guide/indexing.html#returning-a-view-versus-a-copy\n",
      "  df[col] = df[col].apply(\n"
     ]
    },
    {
     "name": "stdout",
     "output_type": "stream",
     "text": [
      "Final Diff Cost: -0.008976927978912919\n",
      "Final Cost 1.4504772506027097\n",
      "Number of Iterations: 2\n",
      "Conf Matrix: Counter({'0,0': 31, '1,0': 20, '1,1': 7, '0,1': 2})\n",
      "Accuracy: 0.6333333333333333\n",
      "Number of instances in test set: 61.0\n",
      "-----Iteration 1  Net [64] Lambda 0.1 -----------------\n"
     ]
    },
    {
     "name": "stderr",
     "output_type": "stream",
     "text": [
      "c:\\Users\\Tanishk\\AppData\\Local\\Programs\\Python\\Python39\\lib\\site-packages\\numpy\\core\\fromnumeric.py:3440: RuntimeWarning: Mean of empty slice.\n",
      "  return _methods._mean(a, axis=axis, dtype=dtype,\n",
      "c:\\Users\\Tanishk\\AppData\\Local\\Programs\\Python\\Python39\\lib\\site-packages\\numpy\\core\\_methods.py:189: RuntimeWarning: invalid value encountered in double_scalars\n",
      "  ret = ret.dtype.type(ret / rcount)\n",
      "C:\\Users\\Tanishk\\AppData\\Local\\Temp/ipykernel_20172/869318862.py:8: SettingWithCopyWarning: \n",
      "A value is trying to be set on a copy of a slice from a DataFrame.\n",
      "Try using .loc[row_indexer,col_indexer] = value instead\n",
      "\n",
      "See the caveats in the documentation: https://pandas.pydata.org/pandas-docs/stable/user_guide/indexing.html#returning-a-view-versus-a-copy\n",
      "  df[col] = df[col].apply(\n"
     ]
    },
    {
     "name": "stdout",
     "output_type": "stream",
     "text": [
      "Final Diff Cost: 4.786583474869488e-05\n",
      "Final Cost 1.584536965631972\n",
      "Number of Iterations: 993\n",
      "Conf Matrix: Counter({'0,0': 29, '1,0': 19, '1,1': 9, '0,1': 5})\n",
      "Accuracy: 0.6129032258064516\n",
      "-----Iteration 2  Net [64] Lambda 0.1 -----------------\n"
     ]
    },
    {
     "name": "stderr",
     "output_type": "stream",
     "text": [
      "C:\\Users\\Tanishk\\AppData\\Local\\Temp/ipykernel_20172/869318862.py:8: SettingWithCopyWarning: \n",
      "A value is trying to be set on a copy of a slice from a DataFrame.\n",
      "Try using .loc[row_indexer,col_indexer] = value instead\n",
      "\n",
      "See the caveats in the documentation: https://pandas.pydata.org/pandas-docs/stable/user_guide/indexing.html#returning-a-view-versus-a-copy\n",
      "  df[col] = df[col].apply(\n"
     ]
    },
    {
     "name": "stdout",
     "output_type": "stream",
     "text": [
      "Final Diff Cost: -0.07372224707481867\n",
      "Final Cost 1.7666364051396815\n",
      "Number of Iterations: 1\n",
      "Conf Matrix: Counter({'0,0': 34, '1,0': 21, '1,1': 6})\n",
      "Accuracy: 0.6557377049180327\n",
      "-----Iteration 3  Net [64] Lambda 0.1 -----------------\n"
     ]
    },
    {
     "name": "stderr",
     "output_type": "stream",
     "text": [
      "C:\\Users\\Tanishk\\AppData\\Local\\Temp/ipykernel_20172/869318862.py:8: SettingWithCopyWarning: \n",
      "A value is trying to be set on a copy of a slice from a DataFrame.\n",
      "Try using .loc[row_indexer,col_indexer] = value instead\n",
      "\n",
      "See the caveats in the documentation: https://pandas.pydata.org/pandas-docs/stable/user_guide/indexing.html#returning-a-view-versus-a-copy\n",
      "  df[col] = df[col].apply(\n",
      "C:\\Users\\Tanishk\\AppData\\Local\\Temp/ipykernel_20172/869318862.py:8: SettingWithCopyWarning: \n",
      "A value is trying to be set on a copy of a slice from a DataFrame.\n",
      "Try using .loc[row_indexer,col_indexer] = value instead\n",
      "\n",
      "See the caveats in the documentation: https://pandas.pydata.org/pandas-docs/stable/user_guide/indexing.html#returning-a-view-versus-a-copy\n",
      "  df[col] = df[col].apply(\n"
     ]
    },
    {
     "name": "stdout",
     "output_type": "stream",
     "text": [
      "Final Diff Cost: -0.06168785419078038\n",
      "Final Cost 1.7536843977326253\n",
      "Number of Iterations: 1\n",
      "Conf Matrix: Counter({'0,1': 27, '1,1': 26, '0,0': 7, '1,0': 1})\n",
      "Accuracy: 0.5409836065573771\n",
      "-----Iteration 4  Net [64] Lambda 0.1 -----------------\n",
      "Final Diff Cost: -0.034973736392381216\n",
      "Final Cost 1.770998918406573\n",
      "Number of Iterations: 1\n",
      "Conf Matrix: Counter({'0,0': 32, '1,0': 25, '0,1': 2, '1,1': 2})\n",
      "Accuracy: 0.5573770491803278\n",
      "-----Iteration 5  Net [64] Lambda 0.1 -----------------\n"
     ]
    },
    {
     "name": "stderr",
     "output_type": "stream",
     "text": [
      "C:\\Users\\Tanishk\\AppData\\Local\\Temp/ipykernel_20172/869318862.py:8: SettingWithCopyWarning: \n",
      "A value is trying to be set on a copy of a slice from a DataFrame.\n",
      "Try using .loc[row_indexer,col_indexer] = value instead\n",
      "\n",
      "See the caveats in the documentation: https://pandas.pydata.org/pandas-docs/stable/user_guide/indexing.html#returning-a-view-versus-a-copy\n",
      "  df[col] = df[col].apply(\n"
     ]
    },
    {
     "name": "stdout",
     "output_type": "stream",
     "text": [
      "Final Diff Cost: -0.04666147626606976\n",
      "Final Cost 1.9864917004143956\n",
      "Number of Iterations: 2\n",
      "Conf Matrix: Counter({'0,0': 34, '1,0': 22, '1,1': 5})\n",
      "Accuracy: 0.639344262295082\n",
      "-----Iteration 6  Net [64] Lambda 0.1 -----------------\n"
     ]
    },
    {
     "name": "stderr",
     "output_type": "stream",
     "text": [
      "C:\\Users\\Tanishk\\AppData\\Local\\Temp/ipykernel_20172/869318862.py:8: SettingWithCopyWarning: \n",
      "A value is trying to be set on a copy of a slice from a DataFrame.\n",
      "Try using .loc[row_indexer,col_indexer] = value instead\n",
      "\n",
      "See the caveats in the documentation: https://pandas.pydata.org/pandas-docs/stable/user_guide/indexing.html#returning-a-view-versus-a-copy\n",
      "  df[col] = df[col].apply(\n"
     ]
    },
    {
     "name": "stdout",
     "output_type": "stream",
     "text": [
      "Final Diff Cost: -0.022889521713548522\n",
      "Final Cost 1.8199894008489796\n",
      "Number of Iterations: 2\n",
      "Conf Matrix: Counter({'0,0': 33, '1,0': 24, '1,1': 3, '0,1': 1})\n",
      "Accuracy: 0.5901639344262295\n",
      "-----Iteration 7  Net [64] Lambda 0.1 -----------------\n"
     ]
    },
    {
     "name": "stderr",
     "output_type": "stream",
     "text": [
      "C:\\Users\\Tanishk\\AppData\\Local\\Temp/ipykernel_20172/869318862.py:8: SettingWithCopyWarning: \n",
      "A value is trying to be set on a copy of a slice from a DataFrame.\n",
      "Try using .loc[row_indexer,col_indexer] = value instead\n",
      "\n",
      "See the caveats in the documentation: https://pandas.pydata.org/pandas-docs/stable/user_guide/indexing.html#returning-a-view-versus-a-copy\n",
      "  df[col] = df[col].apply(\n"
     ]
    },
    {
     "name": "stdout",
     "output_type": "stream",
     "text": [
      "Final Diff Cost: -0.0012304347583274033\n",
      "Final Cost 1.5552374966963898\n",
      "Number of Iterations: 4\n",
      "Conf Matrix: Counter({'0,0': 34, '1,0': 20, '1,1': 7})\n",
      "Accuracy: 0.6721311475409836\n",
      "-----Iteration 8  Net [64] Lambda 0.1 -----------------\n"
     ]
    },
    {
     "name": "stderr",
     "output_type": "stream",
     "text": [
      "C:\\Users\\Tanishk\\AppData\\Local\\Temp/ipykernel_20172/869318862.py:8: SettingWithCopyWarning: \n",
      "A value is trying to be set on a copy of a slice from a DataFrame.\n",
      "Try using .loc[row_indexer,col_indexer] = value instead\n",
      "\n",
      "See the caveats in the documentation: https://pandas.pydata.org/pandas-docs/stable/user_guide/indexing.html#returning-a-view-versus-a-copy\n",
      "  df[col] = df[col].apply(\n"
     ]
    },
    {
     "name": "stdout",
     "output_type": "stream",
     "text": [
      "Final Diff Cost: -0.002355898933739997\n",
      "Final Cost 1.7780535267173079\n",
      "Number of Iterations: 2\n",
      "Conf Matrix: Counter({'0,0': 32, '1,0': 23, '1,1': 4, '0,1': 1})\n",
      "Accuracy: 0.6\n",
      "-----Iteration 9  Net [64] Lambda 0.1 -----------------\n"
     ]
    },
    {
     "name": "stderr",
     "output_type": "stream",
     "text": [
      "C:\\Users\\Tanishk\\AppData\\Local\\Temp/ipykernel_20172/869318862.py:8: SettingWithCopyWarning: \n",
      "A value is trying to be set on a copy of a slice from a DataFrame.\n",
      "Try using .loc[row_indexer,col_indexer] = value instead\n",
      "\n",
      "See the caveats in the documentation: https://pandas.pydata.org/pandas-docs/stable/user_guide/indexing.html#returning-a-view-versus-a-copy\n",
      "  df[col] = df[col].apply(\n"
     ]
    },
    {
     "name": "stdout",
     "output_type": "stream",
     "text": [
      "Final Diff Cost: -0.006119540419425862\n",
      "Final Cost 1.7155132431980449\n",
      "Number of Iterations: 2\n",
      "Conf Matrix: Counter({'0,0': 32, '1,0': 21, '1,1': 6, '0,1': 1})\n",
      "Accuracy: 0.6333333333333333\n",
      "-----Iteration 10  Net [64] Lambda 0.1 -----------------\n"
     ]
    },
    {
     "name": "stderr",
     "output_type": "stream",
     "text": [
      "C:\\Users\\Tanishk\\AppData\\Local\\Temp/ipykernel_20172/869318862.py:8: SettingWithCopyWarning: \n",
      "A value is trying to be set on a copy of a slice from a DataFrame.\n",
      "Try using .loc[row_indexer,col_indexer] = value instead\n",
      "\n",
      "See the caveats in the documentation: https://pandas.pydata.org/pandas-docs/stable/user_guide/indexing.html#returning-a-view-versus-a-copy\n",
      "  df[col] = df[col].apply(\n"
     ]
    },
    {
     "name": "stdout",
     "output_type": "stream",
     "text": [
      "Final Diff Cost: -0.010958960499077186\n",
      "Final Cost 1.6930475967339875\n",
      "Number of Iterations: 2\n",
      "Conf Matrix: Counter({'0,0': 32, '1,0': 19, '1,1': 8, '0,1': 1})\n",
      "Accuracy: 0.6666666666666666\n",
      "Number of instances in test set: 61.0\n",
      "-----Iteration 1  Net [4, 4, 4] Lambda 0.1 -----------------\n"
     ]
    },
    {
     "name": "stderr",
     "output_type": "stream",
     "text": [
      "c:\\Users\\Tanishk\\AppData\\Local\\Programs\\Python\\Python39\\lib\\site-packages\\numpy\\core\\fromnumeric.py:3440: RuntimeWarning: Mean of empty slice.\n",
      "  return _methods._mean(a, axis=axis, dtype=dtype,\n",
      "c:\\Users\\Tanishk\\AppData\\Local\\Programs\\Python\\Python39\\lib\\site-packages\\numpy\\core\\_methods.py:189: RuntimeWarning: invalid value encountered in double_scalars\n",
      "  ret = ret.dtype.type(ret / rcount)\n",
      "C:\\Users\\Tanishk\\AppData\\Local\\Temp/ipykernel_20172/869318862.py:8: SettingWithCopyWarning: \n",
      "A value is trying to be set on a copy of a slice from a DataFrame.\n",
      "Try using .loc[row_indexer,col_indexer] = value instead\n",
      "\n",
      "See the caveats in the documentation: https://pandas.pydata.org/pandas-docs/stable/user_guide/indexing.html#returning-a-view-versus-a-copy\n",
      "  df[col] = df[col].apply(\n"
     ]
    },
    {
     "name": "stdout",
     "output_type": "stream",
     "text": [
      "Final Diff Cost: 9.822205102216763e-05\n",
      "Final Cost 1.4033347247427523\n",
      "Number of Iterations: 30\n",
      "Conf Matrix: Counter({'0,0': 34, '1,0': 28})\n",
      "Accuracy: 0.5483870967741935\n",
      "-----Iteration 2  Net [4, 4, 4] Lambda 0.1 -----------------\n"
     ]
    },
    {
     "name": "stderr",
     "output_type": "stream",
     "text": [
      "C:\\Users\\Tanishk\\AppData\\Local\\Temp/ipykernel_20172/869318862.py:8: SettingWithCopyWarning: \n",
      "A value is trying to be set on a copy of a slice from a DataFrame.\n",
      "Try using .loc[row_indexer,col_indexer] = value instead\n",
      "\n",
      "See the caveats in the documentation: https://pandas.pydata.org/pandas-docs/stable/user_guide/indexing.html#returning-a-view-versus-a-copy\n",
      "  df[col] = df[col].apply(\n"
     ]
    },
    {
     "name": "stdout",
     "output_type": "stream",
     "text": [
      "Final Diff Cost: 8.766657605785433e-05\n",
      "Final Cost 1.4033386465355968\n",
      "Number of Iterations: 1\n",
      "Conf Matrix: Counter({'0,0': 34, '1,0': 27})\n",
      "Accuracy: 0.5573770491803278\n",
      "-----Iteration 3  Net [4, 4, 4] Lambda 0.1 -----------------\n"
     ]
    },
    {
     "name": "stderr",
     "output_type": "stream",
     "text": [
      "C:\\Users\\Tanishk\\AppData\\Local\\Temp/ipykernel_20172/869318862.py:8: SettingWithCopyWarning: \n",
      "A value is trying to be set on a copy of a slice from a DataFrame.\n",
      "Try using .loc[row_indexer,col_indexer] = value instead\n",
      "\n",
      "See the caveats in the documentation: https://pandas.pydata.org/pandas-docs/stable/user_guide/indexing.html#returning-a-view-versus-a-copy\n",
      "  df[col] = df[col].apply(\n"
     ]
    },
    {
     "name": "stdout",
     "output_type": "stream",
     "text": [
      "Final Diff Cost: 7.284640072957593e-05\n",
      "Final Cost 1.403595290484001\n",
      "Number of Iterations: 1\n",
      "Conf Matrix: Counter({'0,0': 34, '1,0': 27})\n",
      "Accuracy: 0.5573770491803278\n",
      "-----Iteration 4  Net [4, 4, 4] Lambda 0.1 -----------------\n"
     ]
    },
    {
     "name": "stderr",
     "output_type": "stream",
     "text": [
      "C:\\Users\\Tanishk\\AppData\\Local\\Temp/ipykernel_20172/869318862.py:8: SettingWithCopyWarning: \n",
      "A value is trying to be set on a copy of a slice from a DataFrame.\n",
      "Try using .loc[row_indexer,col_indexer] = value instead\n",
      "\n",
      "See the caveats in the documentation: https://pandas.pydata.org/pandas-docs/stable/user_guide/indexing.html#returning-a-view-versus-a-copy\n",
      "  df[col] = df[col].apply(\n"
     ]
    },
    {
     "name": "stdout",
     "output_type": "stream",
     "text": [
      "Final Diff Cost: 6.33134007050895e-05\n",
      "Final Cost 1.4034864999564576\n",
      "Number of Iterations: 1\n",
      "Conf Matrix: Counter({'0,0': 34, '1,0': 27})\n",
      "Accuracy: 0.5573770491803278\n",
      "-----Iteration 5  Net [4, 4, 4] Lambda 0.1 -----------------\n"
     ]
    },
    {
     "name": "stderr",
     "output_type": "stream",
     "text": [
      "C:\\Users\\Tanishk\\AppData\\Local\\Temp/ipykernel_20172/869318862.py:8: SettingWithCopyWarning: \n",
      "A value is trying to be set on a copy of a slice from a DataFrame.\n",
      "Try using .loc[row_indexer,col_indexer] = value instead\n",
      "\n",
      "See the caveats in the documentation: https://pandas.pydata.org/pandas-docs/stable/user_guide/indexing.html#returning-a-view-versus-a-copy\n",
      "  df[col] = df[col].apply(\n"
     ]
    },
    {
     "name": "stdout",
     "output_type": "stream",
     "text": [
      "Final Diff Cost: 6.220882397389715e-05\n",
      "Final Cost 1.4034281774490278\n",
      "Number of Iterations: 1\n",
      "Conf Matrix: Counter({'0,0': 34, '1,0': 27})\n",
      "Accuracy: 0.5573770491803278\n",
      "-----Iteration 6  Net [4, 4, 4] Lambda 0.1 -----------------\n"
     ]
    },
    {
     "name": "stderr",
     "output_type": "stream",
     "text": [
      "C:\\Users\\Tanishk\\AppData\\Local\\Temp/ipykernel_20172/869318862.py:8: SettingWithCopyWarning: \n",
      "A value is trying to be set on a copy of a slice from a DataFrame.\n",
      "Try using .loc[row_indexer,col_indexer] = value instead\n",
      "\n",
      "See the caveats in the documentation: https://pandas.pydata.org/pandas-docs/stable/user_guide/indexing.html#returning-a-view-versus-a-copy\n",
      "  df[col] = df[col].apply(\n"
     ]
    },
    {
     "name": "stdout",
     "output_type": "stream",
     "text": [
      "Final Diff Cost: 5.3367138816096116e-05\n",
      "Final Cost 1.403414839599735\n",
      "Number of Iterations: 1\n",
      "Conf Matrix: Counter({'0,0': 34, '1,0': 27})\n",
      "Accuracy: 0.5573770491803278\n",
      "-----Iteration 7  Net [4, 4, 4] Lambda 0.1 -----------------\n"
     ]
    },
    {
     "name": "stderr",
     "output_type": "stream",
     "text": [
      "C:\\Users\\Tanishk\\AppData\\Local\\Temp/ipykernel_20172/869318862.py:8: SettingWithCopyWarning: \n",
      "A value is trying to be set on a copy of a slice from a DataFrame.\n",
      "Try using .loc[row_indexer,col_indexer] = value instead\n",
      "\n",
      "See the caveats in the documentation: https://pandas.pydata.org/pandas-docs/stable/user_guide/indexing.html#returning-a-view-versus-a-copy\n",
      "  df[col] = df[col].apply(\n"
     ]
    },
    {
     "name": "stdout",
     "output_type": "stream",
     "text": [
      "Final Diff Cost: 4.5491211053239056e-05\n",
      "Final Cost 1.4033209278166479\n",
      "Number of Iterations: 1\n",
      "Conf Matrix: Counter({'0,0': 34, '1,0': 27})\n",
      "Accuracy: 0.5573770491803278\n",
      "-----Iteration 8  Net [4, 4, 4] Lambda 0.1 -----------------\n"
     ]
    },
    {
     "name": "stderr",
     "output_type": "stream",
     "text": [
      "C:\\Users\\Tanishk\\AppData\\Local\\Temp/ipykernel_20172/869318862.py:8: SettingWithCopyWarning: \n",
      "A value is trying to be set on a copy of a slice from a DataFrame.\n",
      "Try using .loc[row_indexer,col_indexer] = value instead\n",
      "\n",
      "See the caveats in the documentation: https://pandas.pydata.org/pandas-docs/stable/user_guide/indexing.html#returning-a-view-versus-a-copy\n",
      "  df[col] = df[col].apply(\n"
     ]
    },
    {
     "name": "stdout",
     "output_type": "stream",
     "text": [
      "Final Diff Cost: 3.458630169173027e-05\n",
      "Final Cost 1.4030904749147368\n",
      "Number of Iterations: 1\n",
      "Conf Matrix: Counter({'0,0': 33, '1,0': 27})\n",
      "Accuracy: 0.55\n",
      "-----Iteration 9  Net [4, 4, 4] Lambda 0.1 -----------------\n"
     ]
    },
    {
     "name": "stderr",
     "output_type": "stream",
     "text": [
      "C:\\Users\\Tanishk\\AppData\\Local\\Temp/ipykernel_20172/869318862.py:8: SettingWithCopyWarning: \n",
      "A value is trying to be set on a copy of a slice from a DataFrame.\n",
      "Try using .loc[row_indexer,col_indexer] = value instead\n",
      "\n",
      "See the caveats in the documentation: https://pandas.pydata.org/pandas-docs/stable/user_guide/indexing.html#returning-a-view-versus-a-copy\n",
      "  df[col] = df[col].apply(\n"
     ]
    },
    {
     "name": "stdout",
     "output_type": "stream",
     "text": [
      "Final Diff Cost: 3.0411562977228357e-05\n",
      "Final Cost 1.4027311148736732\n",
      "Number of Iterations: 1\n",
      "Conf Matrix: Counter({'0,0': 33, '1,0': 27})\n",
      "Accuracy: 0.55\n",
      "-----Iteration 10  Net [4, 4, 4] Lambda 0.1 -----------------\n"
     ]
    },
    {
     "name": "stderr",
     "output_type": "stream",
     "text": [
      "C:\\Users\\Tanishk\\AppData\\Local\\Temp/ipykernel_20172/869318862.py:8: SettingWithCopyWarning: \n",
      "A value is trying to be set on a copy of a slice from a DataFrame.\n",
      "Try using .loc[row_indexer,col_indexer] = value instead\n",
      "\n",
      "See the caveats in the documentation: https://pandas.pydata.org/pandas-docs/stable/user_guide/indexing.html#returning-a-view-versus-a-copy\n",
      "  df[col] = df[col].apply(\n"
     ]
    },
    {
     "name": "stdout",
     "output_type": "stream",
     "text": [
      "Final Diff Cost: 2.4742683853107295e-05\n",
      "Final Cost 1.4029834370402936\n",
      "Number of Iterations: 1\n",
      "Conf Matrix: Counter({'0,0': 33, '1,0': 27})\n",
      "Accuracy: 0.55\n",
      "Number of instances in test set: 61.0\n",
      "-----Iteration 1  Net [8, 8, 8] Lambda 0.1 -----------------\n"
     ]
    },
    {
     "name": "stderr",
     "output_type": "stream",
     "text": [
      "c:\\Users\\Tanishk\\AppData\\Local\\Programs\\Python\\Python39\\lib\\site-packages\\numpy\\core\\fromnumeric.py:3440: RuntimeWarning: Mean of empty slice.\n",
      "  return _methods._mean(a, axis=axis, dtype=dtype,\n",
      "c:\\Users\\Tanishk\\AppData\\Local\\Programs\\Python\\Python39\\lib\\site-packages\\numpy\\core\\_methods.py:189: RuntimeWarning: invalid value encountered in double_scalars\n",
      "  ret = ret.dtype.type(ret / rcount)\n",
      "C:\\Users\\Tanishk\\AppData\\Local\\Temp/ipykernel_20172/869318862.py:8: SettingWithCopyWarning: \n",
      "A value is trying to be set on a copy of a slice from a DataFrame.\n",
      "Try using .loc[row_indexer,col_indexer] = value instead\n",
      "\n",
      "See the caveats in the documentation: https://pandas.pydata.org/pandas-docs/stable/user_guide/indexing.html#returning-a-view-versus-a-copy\n",
      "  df[col] = df[col].apply(\n"
     ]
    },
    {
     "name": "stdout",
     "output_type": "stream",
     "text": [
      "Final Diff Cost: 9.713741556560684e-05\n",
      "Final Cost 1.4346248150967393\n",
      "Number of Iterations: 29\n",
      "Conf Matrix: Counter({'0,0': 34, '1,0': 28})\n",
      "Accuracy: 0.5483870967741935\n",
      "-----Iteration 2  Net [8, 8, 8] Lambda 0.1 -----------------\n"
     ]
    },
    {
     "name": "stderr",
     "output_type": "stream",
     "text": [
      "C:\\Users\\Tanishk\\AppData\\Local\\Temp/ipykernel_20172/869318862.py:8: SettingWithCopyWarning: \n",
      "A value is trying to be set on a copy of a slice from a DataFrame.\n",
      "Try using .loc[row_indexer,col_indexer] = value instead\n",
      "\n",
      "See the caveats in the documentation: https://pandas.pydata.org/pandas-docs/stable/user_guide/indexing.html#returning-a-view-versus-a-copy\n",
      "  df[col] = df[col].apply(\n"
     ]
    },
    {
     "name": "stdout",
     "output_type": "stream",
     "text": [
      "Final Diff Cost: 8.641670635811671e-05\n",
      "Final Cost 1.4347995886889355\n",
      "Number of Iterations: 1\n",
      "Conf Matrix: Counter({'0,0': 34, '1,0': 27})\n",
      "Accuracy: 0.5573770491803278\n",
      "-----Iteration 3  Net [8, 8, 8] Lambda 0.1 -----------------\n"
     ]
    },
    {
     "name": "stderr",
     "output_type": "stream",
     "text": [
      "C:\\Users\\Tanishk\\AppData\\Local\\Temp/ipykernel_20172/869318862.py:8: SettingWithCopyWarning: \n",
      "A value is trying to be set on a copy of a slice from a DataFrame.\n",
      "Try using .loc[row_indexer,col_indexer] = value instead\n",
      "\n",
      "See the caveats in the documentation: https://pandas.pydata.org/pandas-docs/stable/user_guide/indexing.html#returning-a-view-versus-a-copy\n",
      "  df[col] = df[col].apply(\n"
     ]
    },
    {
     "name": "stdout",
     "output_type": "stream",
     "text": [
      "Final Diff Cost: 8.531219865637318e-05\n",
      "Final Cost 1.4352719726168204\n",
      "Number of Iterations: 1\n",
      "Conf Matrix: Counter({'0,0': 34, '1,0': 27})\n",
      "Accuracy: 0.5573770491803278\n",
      "-----Iteration 4  Net [8, 8, 8] Lambda 0.1 -----------------\n"
     ]
    },
    {
     "name": "stderr",
     "output_type": "stream",
     "text": [
      "C:\\Users\\Tanishk\\AppData\\Local\\Temp/ipykernel_20172/869318862.py:8: SettingWithCopyWarning: \n",
      "A value is trying to be set on a copy of a slice from a DataFrame.\n",
      "Try using .loc[row_indexer,col_indexer] = value instead\n",
      "\n",
      "See the caveats in the documentation: https://pandas.pydata.org/pandas-docs/stable/user_guide/indexing.html#returning-a-view-versus-a-copy\n",
      "  df[col] = df[col].apply(\n"
     ]
    },
    {
     "name": "stdout",
     "output_type": "stream",
     "text": [
      "Final Diff Cost: 6.651995930195831e-05\n",
      "Final Cost 1.4359192522257802\n",
      "Number of Iterations: 1\n",
      "Conf Matrix: Counter({'0,0': 34, '1,0': 27})\n",
      "Accuracy: 0.5573770491803278\n",
      "-----Iteration 5  Net [8, 8, 8] Lambda 0.1 -----------------\n"
     ]
    },
    {
     "name": "stderr",
     "output_type": "stream",
     "text": [
      "C:\\Users\\Tanishk\\AppData\\Local\\Temp/ipykernel_20172/869318862.py:8: SettingWithCopyWarning: \n",
      "A value is trying to be set on a copy of a slice from a DataFrame.\n",
      "Try using .loc[row_indexer,col_indexer] = value instead\n",
      "\n",
      "See the caveats in the documentation: https://pandas.pydata.org/pandas-docs/stable/user_guide/indexing.html#returning-a-view-versus-a-copy\n",
      "  df[col] = df[col].apply(\n"
     ]
    },
    {
     "name": "stdout",
     "output_type": "stream",
     "text": [
      "Final Diff Cost: 3.8101852662730806e-05\n",
      "Final Cost 1.434948525859085\n",
      "Number of Iterations: 1\n",
      "Conf Matrix: Counter({'0,0': 34, '1,0': 27})\n",
      "Accuracy: 0.5573770491803278\n",
      "-----Iteration 6  Net [8, 8, 8] Lambda 0.1 -----------------\n"
     ]
    },
    {
     "name": "stderr",
     "output_type": "stream",
     "text": [
      "C:\\Users\\Tanishk\\AppData\\Local\\Temp/ipykernel_20172/869318862.py:8: SettingWithCopyWarning: \n",
      "A value is trying to be set on a copy of a slice from a DataFrame.\n",
      "Try using .loc[row_indexer,col_indexer] = value instead\n",
      "\n",
      "See the caveats in the documentation: https://pandas.pydata.org/pandas-docs/stable/user_guide/indexing.html#returning-a-view-versus-a-copy\n",
      "  df[col] = df[col].apply(\n"
     ]
    },
    {
     "name": "stdout",
     "output_type": "stream",
     "text": [
      "Final Diff Cost: 3.6292924126435366e-05\n",
      "Final Cost 1.4353173168551325\n",
      "Number of Iterations: 1\n",
      "Conf Matrix: Counter({'0,0': 34, '1,0': 27})\n",
      "Accuracy: 0.5573770491803278\n",
      "-----Iteration 7  Net [8, 8, 8] Lambda 0.1 -----------------\n"
     ]
    },
    {
     "name": "stderr",
     "output_type": "stream",
     "text": [
      "C:\\Users\\Tanishk\\AppData\\Local\\Temp/ipykernel_20172/869318862.py:8: SettingWithCopyWarning: \n",
      "A value is trying to be set on a copy of a slice from a DataFrame.\n",
      "Try using .loc[row_indexer,col_indexer] = value instead\n",
      "\n",
      "See the caveats in the documentation: https://pandas.pydata.org/pandas-docs/stable/user_guide/indexing.html#returning-a-view-versus-a-copy\n",
      "  df[col] = df[col].apply(\n"
     ]
    },
    {
     "name": "stdout",
     "output_type": "stream",
     "text": [
      "Final Diff Cost: 1.9157756437904183e-05\n",
      "Final Cost 1.4353222688737743\n",
      "Number of Iterations: 1\n",
      "Conf Matrix: Counter({'0,0': 34, '1,0': 27})\n",
      "Accuracy: 0.5573770491803278\n",
      "-----Iteration 8  Net [8, 8, 8] Lambda 0.1 -----------------\n"
     ]
    },
    {
     "name": "stderr",
     "output_type": "stream",
     "text": [
      "C:\\Users\\Tanishk\\AppData\\Local\\Temp/ipykernel_20172/869318862.py:8: SettingWithCopyWarning: \n",
      "A value is trying to be set on a copy of a slice from a DataFrame.\n",
      "Try using .loc[row_indexer,col_indexer] = value instead\n",
      "\n",
      "See the caveats in the documentation: https://pandas.pydata.org/pandas-docs/stable/user_guide/indexing.html#returning-a-view-versus-a-copy\n",
      "  df[col] = df[col].apply(\n"
     ]
    },
    {
     "name": "stdout",
     "output_type": "stream",
     "text": [
      "Final Diff Cost: 2.5216825745966176e-05\n",
      "Final Cost 1.4346464704282016\n",
      "Number of Iterations: 1\n",
      "Conf Matrix: Counter({'0,0': 33, '1,0': 27})\n",
      "Accuracy: 0.55\n",
      "-----Iteration 9  Net [8, 8, 8] Lambda 0.1 -----------------\n"
     ]
    },
    {
     "name": "stderr",
     "output_type": "stream",
     "text": [
      "C:\\Users\\Tanishk\\AppData\\Local\\Temp/ipykernel_20172/869318862.py:8: SettingWithCopyWarning: \n",
      "A value is trying to be set on a copy of a slice from a DataFrame.\n",
      "Try using .loc[row_indexer,col_indexer] = value instead\n",
      "\n",
      "See the caveats in the documentation: https://pandas.pydata.org/pandas-docs/stable/user_guide/indexing.html#returning-a-view-versus-a-copy\n",
      "  df[col] = df[col].apply(\n"
     ]
    },
    {
     "name": "stdout",
     "output_type": "stream",
     "text": [
      "Final Diff Cost: 1.8986146839816698e-05\n",
      "Final Cost 1.434622846835611\n",
      "Number of Iterations: 1\n",
      "Conf Matrix: Counter({'0,0': 33, '1,0': 27})\n",
      "Accuracy: 0.55\n",
      "-----Iteration 10  Net [8, 8, 8] Lambda 0.1 -----------------\n"
     ]
    },
    {
     "name": "stderr",
     "output_type": "stream",
     "text": [
      "C:\\Users\\Tanishk\\AppData\\Local\\Temp/ipykernel_20172/869318862.py:8: SettingWithCopyWarning: \n",
      "A value is trying to be set on a copy of a slice from a DataFrame.\n",
      "Try using .loc[row_indexer,col_indexer] = value instead\n",
      "\n",
      "See the caveats in the documentation: https://pandas.pydata.org/pandas-docs/stable/user_guide/indexing.html#returning-a-view-versus-a-copy\n",
      "  df[col] = df[col].apply(\n"
     ]
    },
    {
     "name": "stdout",
     "output_type": "stream",
     "text": [
      "Final Diff Cost: 1.1488595679232105e-05\n",
      "Final Cost 1.4345328685475032\n",
      "Number of Iterations: 1\n",
      "Conf Matrix: Counter({'0,0': 33, '1,0': 27})\n",
      "Accuracy: 0.55\n",
      "Number of instances in test set: 61.0\n",
      "-----Iteration 1  Net [16, 16, 16] Lambda 0.1 -----------------\n"
     ]
    },
    {
     "name": "stderr",
     "output_type": "stream",
     "text": [
      "c:\\Users\\Tanishk\\AppData\\Local\\Programs\\Python\\Python39\\lib\\site-packages\\numpy\\core\\fromnumeric.py:3440: RuntimeWarning: Mean of empty slice.\n",
      "  return _methods._mean(a, axis=axis, dtype=dtype,\n",
      "c:\\Users\\Tanishk\\AppData\\Local\\Programs\\Python\\Python39\\lib\\site-packages\\numpy\\core\\_methods.py:189: RuntimeWarning: invalid value encountered in double_scalars\n",
      "  ret = ret.dtype.type(ret / rcount)\n",
      "C:\\Users\\Tanishk\\AppData\\Local\\Temp/ipykernel_20172/869318862.py:8: SettingWithCopyWarning: \n",
      "A value is trying to be set on a copy of a slice from a DataFrame.\n",
      "Try using .loc[row_indexer,col_indexer] = value instead\n",
      "\n",
      "See the caveats in the documentation: https://pandas.pydata.org/pandas-docs/stable/user_guide/indexing.html#returning-a-view-versus-a-copy\n",
      "  df[col] = df[col].apply(\n"
     ]
    },
    {
     "name": "stdout",
     "output_type": "stream",
     "text": [
      "Final Diff Cost: 9.03346348837264e-05\n",
      "Final Cost 1.498505002909415\n",
      "Number of Iterations: 35\n",
      "Conf Matrix: Counter({'0,0': 34, '1,0': 28})\n",
      "Accuracy: 0.5483870967741935\n",
      "-----Iteration 2  Net [16, 16, 16] Lambda 0.1 -----------------\n"
     ]
    },
    {
     "name": "stderr",
     "output_type": "stream",
     "text": [
      "C:\\Users\\Tanishk\\AppData\\Local\\Temp/ipykernel_20172/869318862.py:8: SettingWithCopyWarning: \n",
      "A value is trying to be set on a copy of a slice from a DataFrame.\n",
      "Try using .loc[row_indexer,col_indexer] = value instead\n",
      "\n",
      "See the caveats in the documentation: https://pandas.pydata.org/pandas-docs/stable/user_guide/indexing.html#returning-a-view-versus-a-copy\n",
      "  df[col] = df[col].apply(\n"
     ]
    },
    {
     "name": "stdout",
     "output_type": "stream",
     "text": [
      "Final Diff Cost: 7.0095308910334e-05\n",
      "Final Cost 1.4982642347337631\n",
      "Number of Iterations: 1\n",
      "Conf Matrix: Counter({'0,0': 34, '1,0': 27})\n",
      "Accuracy: 0.5573770491803278\n",
      "-----Iteration 3  Net [16, 16, 16] Lambda 0.1 -----------------\n"
     ]
    },
    {
     "name": "stderr",
     "output_type": "stream",
     "text": [
      "C:\\Users\\Tanishk\\AppData\\Local\\Temp/ipykernel_20172/869318862.py:8: SettingWithCopyWarning: \n",
      "A value is trying to be set on a copy of a slice from a DataFrame.\n",
      "Try using .loc[row_indexer,col_indexer] = value instead\n",
      "\n",
      "See the caveats in the documentation: https://pandas.pydata.org/pandas-docs/stable/user_guide/indexing.html#returning-a-view-versus-a-copy\n",
      "  df[col] = df[col].apply(\n"
     ]
    },
    {
     "name": "stdout",
     "output_type": "stream",
     "text": [
      "Final Diff Cost: 5.106506093044416e-05\n",
      "Final Cost 1.4983723565257656\n",
      "Number of Iterations: 1\n",
      "Conf Matrix: Counter({'0,0': 34, '1,0': 27})\n",
      "Accuracy: 0.5573770491803278\n",
      "-----Iteration 4  Net [16, 16, 16] Lambda 0.1 -----------------\n"
     ]
    },
    {
     "name": "stderr",
     "output_type": "stream",
     "text": [
      "C:\\Users\\Tanishk\\AppData\\Local\\Temp/ipykernel_20172/869318862.py:8: SettingWithCopyWarning: \n",
      "A value is trying to be set on a copy of a slice from a DataFrame.\n",
      "Try using .loc[row_indexer,col_indexer] = value instead\n",
      "\n",
      "See the caveats in the documentation: https://pandas.pydata.org/pandas-docs/stable/user_guide/indexing.html#returning-a-view-versus-a-copy\n",
      "  df[col] = df[col].apply(\n"
     ]
    },
    {
     "name": "stdout",
     "output_type": "stream",
     "text": [
      "Final Diff Cost: 3.86878392184542e-05\n",
      "Final Cost 1.498143036033799\n",
      "Number of Iterations: 1\n",
      "Conf Matrix: Counter({'0,0': 34, '1,0': 27})\n",
      "Accuracy: 0.5573770491803278\n",
      "-----Iteration 5  Net [16, 16, 16] Lambda 0.1 -----------------\n"
     ]
    },
    {
     "name": "stderr",
     "output_type": "stream",
     "text": [
      "C:\\Users\\Tanishk\\AppData\\Local\\Temp/ipykernel_20172/869318862.py:8: SettingWithCopyWarning: \n",
      "A value is trying to be set on a copy of a slice from a DataFrame.\n",
      "Try using .loc[row_indexer,col_indexer] = value instead\n",
      "\n",
      "See the caveats in the documentation: https://pandas.pydata.org/pandas-docs/stable/user_guide/indexing.html#returning-a-view-versus-a-copy\n",
      "  df[col] = df[col].apply(\n"
     ]
    },
    {
     "name": "stdout",
     "output_type": "stream",
     "text": [
      "Final Diff Cost: 3.518439729277567e-05\n",
      "Final Cost 1.49797578808705\n",
      "Number of Iterations: 1\n",
      "Conf Matrix: Counter({'0,0': 34, '1,0': 27})\n",
      "Accuracy: 0.5573770491803278\n",
      "-----Iteration 6  Net [16, 16, 16] Lambda 0.1 -----------------\n"
     ]
    },
    {
     "name": "stderr",
     "output_type": "stream",
     "text": [
      "C:\\Users\\Tanishk\\AppData\\Local\\Temp/ipykernel_20172/869318862.py:8: SettingWithCopyWarning: \n",
      "A value is trying to be set on a copy of a slice from a DataFrame.\n",
      "Try using .loc[row_indexer,col_indexer] = value instead\n",
      "\n",
      "See the caveats in the documentation: https://pandas.pydata.org/pandas-docs/stable/user_guide/indexing.html#returning-a-view-versus-a-copy\n",
      "  df[col] = df[col].apply(\n"
     ]
    },
    {
     "name": "stdout",
     "output_type": "stream",
     "text": [
      "Final Diff Cost: 2.1501351786801237e-05\n",
      "Final Cost 1.4980944306424404\n",
      "Number of Iterations: 1\n",
      "Conf Matrix: Counter({'0,0': 34, '1,0': 27})\n",
      "Accuracy: 0.5573770491803278\n",
      "-----Iteration 7  Net [16, 16, 16] Lambda 0.1 -----------------\n"
     ]
    },
    {
     "name": "stderr",
     "output_type": "stream",
     "text": [
      "C:\\Users\\Tanishk\\AppData\\Local\\Temp/ipykernel_20172/869318862.py:8: SettingWithCopyWarning: \n",
      "A value is trying to be set on a copy of a slice from a DataFrame.\n",
      "Try using .loc[row_indexer,col_indexer] = value instead\n",
      "\n",
      "See the caveats in the documentation: https://pandas.pydata.org/pandas-docs/stable/user_guide/indexing.html#returning-a-view-versus-a-copy\n",
      "  df[col] = df[col].apply(\n"
     ]
    },
    {
     "name": "stdout",
     "output_type": "stream",
     "text": [
      "Final Diff Cost: 1.5185980459131443e-05\n",
      "Final Cost 1.4979317776571761\n",
      "Number of Iterations: 1\n",
      "Conf Matrix: Counter({'0,0': 34, '1,0': 27})\n",
      "Accuracy: 0.5573770491803278\n",
      "-----Iteration 8  Net [16, 16, 16] Lambda 0.1 -----------------\n"
     ]
    },
    {
     "name": "stderr",
     "output_type": "stream",
     "text": [
      "C:\\Users\\Tanishk\\AppData\\Local\\Temp/ipykernel_20172/869318862.py:8: SettingWithCopyWarning: \n",
      "A value is trying to be set on a copy of a slice from a DataFrame.\n",
      "Try using .loc[row_indexer,col_indexer] = value instead\n",
      "\n",
      "See the caveats in the documentation: https://pandas.pydata.org/pandas-docs/stable/user_guide/indexing.html#returning-a-view-versus-a-copy\n",
      "  df[col] = df[col].apply(\n"
     ]
    },
    {
     "name": "stdout",
     "output_type": "stream",
     "text": [
      "Final Diff Cost: 2.7364169508325986e-05\n",
      "Final Cost 1.497440419920186\n",
      "Number of Iterations: 1\n",
      "Conf Matrix: Counter({'0,0': 33, '1,0': 27})\n",
      "Accuracy: 0.55\n",
      "-----Iteration 9  Net [16, 16, 16] Lambda 0.1 -----------------\n"
     ]
    },
    {
     "name": "stderr",
     "output_type": "stream",
     "text": [
      "C:\\Users\\Tanishk\\AppData\\Local\\Temp/ipykernel_20172/869318862.py:8: SettingWithCopyWarning: \n",
      "A value is trying to be set on a copy of a slice from a DataFrame.\n",
      "Try using .loc[row_indexer,col_indexer] = value instead\n",
      "\n",
      "See the caveats in the documentation: https://pandas.pydata.org/pandas-docs/stable/user_guide/indexing.html#returning-a-view-versus-a-copy\n",
      "  df[col] = df[col].apply(\n"
     ]
    },
    {
     "name": "stdout",
     "output_type": "stream",
     "text": [
      "Final Diff Cost: 1.9224754558067048e-05\n",
      "Final Cost 1.497493117830372\n",
      "Number of Iterations: 1\n",
      "Conf Matrix: Counter({'0,0': 33, '1,0': 27})\n",
      "Accuracy: 0.55\n",
      "-----Iteration 10  Net [16, 16, 16] Lambda 0.1 -----------------\n"
     ]
    },
    {
     "name": "stderr",
     "output_type": "stream",
     "text": [
      "C:\\Users\\Tanishk\\AppData\\Local\\Temp/ipykernel_20172/869318862.py:8: SettingWithCopyWarning: \n",
      "A value is trying to be set on a copy of a slice from a DataFrame.\n",
      "Try using .loc[row_indexer,col_indexer] = value instead\n",
      "\n",
      "See the caveats in the documentation: https://pandas.pydata.org/pandas-docs/stable/user_guide/indexing.html#returning-a-view-versus-a-copy\n",
      "  df[col] = df[col].apply(\n"
     ]
    },
    {
     "name": "stdout",
     "output_type": "stream",
     "text": [
      "Final Diff Cost: 1.9511219799150936e-05\n",
      "Final Cost 1.4973906829052654\n",
      "Number of Iterations: 1\n",
      "Conf Matrix: Counter({'0,0': 33, '1,0': 27})\n",
      "Accuracy: 0.55\n",
      "Number of instances in test set: 61.0\n",
      "-----Iteration 1  Net [25, 25, 25] Lambda 0.1 -----------------\n"
     ]
    },
    {
     "name": "stderr",
     "output_type": "stream",
     "text": [
      "c:\\Users\\Tanishk\\AppData\\Local\\Programs\\Python\\Python39\\lib\\site-packages\\numpy\\core\\fromnumeric.py:3440: RuntimeWarning: Mean of empty slice.\n",
      "  return _methods._mean(a, axis=axis, dtype=dtype,\n",
      "c:\\Users\\Tanishk\\AppData\\Local\\Programs\\Python\\Python39\\lib\\site-packages\\numpy\\core\\_methods.py:189: RuntimeWarning: invalid value encountered in double_scalars\n",
      "  ret = ret.dtype.type(ret / rcount)\n",
      "C:\\Users\\Tanishk\\AppData\\Local\\Temp/ipykernel_20172/869318862.py:8: SettingWithCopyWarning: \n",
      "A value is trying to be set on a copy of a slice from a DataFrame.\n",
      "Try using .loc[row_indexer,col_indexer] = value instead\n",
      "\n",
      "See the caveats in the documentation: https://pandas.pydata.org/pandas-docs/stable/user_guide/indexing.html#returning-a-view-versus-a-copy\n",
      "  df[col] = df[col].apply(\n"
     ]
    },
    {
     "name": "stdout",
     "output_type": "stream",
     "text": [
      "Final Diff Cost: -7.209204977320915e-05\n",
      "Final Cost 1.3664799761990316\n",
      "Number of Iterations: 1224\n",
      "Conf Matrix: Counter({'0,0': 24, '1,0': 17, '1,1': 11, '0,1': 10})\n",
      "Accuracy: 0.5645161290322581\n",
      "-----Iteration 2  Net [25, 25, 25] Lambda 0.1 -----------------\n"
     ]
    },
    {
     "name": "stderr",
     "output_type": "stream",
     "text": [
      "C:\\Users\\Tanishk\\AppData\\Local\\Temp/ipykernel_20172/869318862.py:8: SettingWithCopyWarning: \n",
      "A value is trying to be set on a copy of a slice from a DataFrame.\n",
      "Try using .loc[row_indexer,col_indexer] = value instead\n",
      "\n",
      "See the caveats in the documentation: https://pandas.pydata.org/pandas-docs/stable/user_guide/indexing.html#returning-a-view-versus-a-copy\n",
      "  df[col] = df[col].apply(\n"
     ]
    },
    {
     "name": "stdout",
     "output_type": "stream",
     "text": [
      "Final Diff Cost: -0.0005949598015853041\n",
      "Final Cost 1.4078648004431198\n",
      "Number of Iterations: 3\n",
      "Conf Matrix: Counter({'0,0': 29, '1,1': 24, '0,1': 5, '1,0': 3})\n",
      "Accuracy: 0.8688524590163934\n",
      "-----Iteration 3  Net [25, 25, 25] Lambda 0.1 -----------------\n"
     ]
    },
    {
     "name": "stderr",
     "output_type": "stream",
     "text": [
      "C:\\Users\\Tanishk\\AppData\\Local\\Temp/ipykernel_20172/869318862.py:8: SettingWithCopyWarning: \n",
      "A value is trying to be set on a copy of a slice from a DataFrame.\n",
      "Try using .loc[row_indexer,col_indexer] = value instead\n",
      "\n",
      "See the caveats in the documentation: https://pandas.pydata.org/pandas-docs/stable/user_guide/indexing.html#returning-a-view-versus-a-copy\n",
      "  df[col] = df[col].apply(\n"
     ]
    },
    {
     "name": "stdout",
     "output_type": "stream",
     "text": [
      "Final Diff Cost: -0.011445231475386342\n",
      "Final Cost 1.3977776065973788\n",
      "Number of Iterations: 1\n",
      "Conf Matrix: Counter({'0,0': 33, '1,0': 21, '1,1': 6, '0,1': 1})\n",
      "Accuracy: 0.639344262295082\n",
      "-----Iteration 4  Net [25, 25, 25] Lambda 0.1 -----------------\n"
     ]
    },
    {
     "name": "stderr",
     "output_type": "stream",
     "text": [
      "C:\\Users\\Tanishk\\AppData\\Local\\Temp/ipykernel_20172/869318862.py:8: SettingWithCopyWarning: \n",
      "A value is trying to be set on a copy of a slice from a DataFrame.\n",
      "Try using .loc[row_indexer,col_indexer] = value instead\n",
      "\n",
      "See the caveats in the documentation: https://pandas.pydata.org/pandas-docs/stable/user_guide/indexing.html#returning-a-view-versus-a-copy\n",
      "  df[col] = df[col].apply(\n"
     ]
    },
    {
     "name": "stdout",
     "output_type": "stream",
     "text": [
      "Final Diff Cost: -0.04087851410606169\n",
      "Final Cost 1.514617796169278\n",
      "Number of Iterations: 1\n",
      "Conf Matrix: Counter({'1,1': 24, '0,1': 19, '0,0': 15, '1,0': 3})\n",
      "Accuracy: 0.639344262295082\n",
      "-----Iteration 5  Net [25, 25, 25] Lambda 0.1 -----------------\n"
     ]
    },
    {
     "name": "stderr",
     "output_type": "stream",
     "text": [
      "C:\\Users\\Tanishk\\AppData\\Local\\Temp/ipykernel_20172/869318862.py:8: SettingWithCopyWarning: \n",
      "A value is trying to be set on a copy of a slice from a DataFrame.\n",
      "Try using .loc[row_indexer,col_indexer] = value instead\n",
      "\n",
      "See the caveats in the documentation: https://pandas.pydata.org/pandas-docs/stable/user_guide/indexing.html#returning-a-view-versus-a-copy\n",
      "  df[col] = df[col].apply(\n"
     ]
    },
    {
     "name": "stdout",
     "output_type": "stream",
     "text": [
      "Final Diff Cost: -0.0700146094941525\n",
      "Final Cost 1.658712631017765\n",
      "Number of Iterations: 1\n",
      "Conf Matrix: Counter({'0,0': 33, '1,0': 23, '1,1': 4, '0,1': 1})\n",
      "Accuracy: 0.6065573770491803\n",
      "-----Iteration 6  Net [25, 25, 25] Lambda 0.1 -----------------\n"
     ]
    },
    {
     "name": "stderr",
     "output_type": "stream",
     "text": [
      "C:\\Users\\Tanishk\\AppData\\Local\\Temp/ipykernel_20172/869318862.py:8: SettingWithCopyWarning: \n",
      "A value is trying to be set on a copy of a slice from a DataFrame.\n",
      "Try using .loc[row_indexer,col_indexer] = value instead\n",
      "\n",
      "See the caveats in the documentation: https://pandas.pydata.org/pandas-docs/stable/user_guide/indexing.html#returning-a-view-versus-a-copy\n",
      "  df[col] = df[col].apply(\n"
     ]
    },
    {
     "name": "stdout",
     "output_type": "stream",
     "text": [
      "Final Diff Cost: -0.047965519324971284\n",
      "Final Cost 1.603067930769321\n",
      "Number of Iterations: 1\n",
      "Conf Matrix: Counter({'0,1': 25, '1,1': 23, '0,0': 9, '1,0': 4})\n",
      "Accuracy: 0.5245901639344263\n",
      "-----Iteration 7  Net [25, 25, 25] Lambda 0.1 -----------------\n"
     ]
    },
    {
     "name": "stderr",
     "output_type": "stream",
     "text": [
      "C:\\Users\\Tanishk\\AppData\\Local\\Temp/ipykernel_20172/869318862.py:8: SettingWithCopyWarning: \n",
      "A value is trying to be set on a copy of a slice from a DataFrame.\n",
      "Try using .loc[row_indexer,col_indexer] = value instead\n",
      "\n",
      "See the caveats in the documentation: https://pandas.pydata.org/pandas-docs/stable/user_guide/indexing.html#returning-a-view-versus-a-copy\n",
      "  df[col] = df[col].apply(\n"
     ]
    },
    {
     "name": "stdout",
     "output_type": "stream",
     "text": [
      "Final Diff Cost: -0.00019136266223873655\n",
      "Final Cost 1.307439496240105\n",
      "Number of Iterations: 7\n",
      "Conf Matrix: Counter({'0,0': 32, '1,0': 14, '1,1': 13, '0,1': 2})\n",
      "Accuracy: 0.7377049180327869\n",
      "-----Iteration 8  Net [25, 25, 25] Lambda 0.1 -----------------\n"
     ]
    },
    {
     "name": "stderr",
     "output_type": "stream",
     "text": [
      "C:\\Users\\Tanishk\\AppData\\Local\\Temp/ipykernel_20172/869318862.py:8: SettingWithCopyWarning: \n",
      "A value is trying to be set on a copy of a slice from a DataFrame.\n",
      "Try using .loc[row_indexer,col_indexer] = value instead\n",
      "\n",
      "See the caveats in the documentation: https://pandas.pydata.org/pandas-docs/stable/user_guide/indexing.html#returning-a-view-versus-a-copy\n",
      "  df[col] = df[col].apply(\n"
     ]
    },
    {
     "name": "stdout",
     "output_type": "stream",
     "text": [
      "Final Diff Cost: -0.029610544641041958\n",
      "Final Cost 1.454726181742534\n",
      "Number of Iterations: 2\n",
      "Conf Matrix: Counter({'0,0': 32, '1,0': 19, '1,1': 8, '0,1': 1})\n",
      "Accuracy: 0.6666666666666666\n",
      "-----Iteration 9  Net [25, 25, 25] Lambda 0.1 -----------------\n"
     ]
    },
    {
     "name": "stderr",
     "output_type": "stream",
     "text": [
      "C:\\Users\\Tanishk\\AppData\\Local\\Temp/ipykernel_20172/869318862.py:8: SettingWithCopyWarning: \n",
      "A value is trying to be set on a copy of a slice from a DataFrame.\n",
      "Try using .loc[row_indexer,col_indexer] = value instead\n",
      "\n",
      "See the caveats in the documentation: https://pandas.pydata.org/pandas-docs/stable/user_guide/indexing.html#returning-a-view-versus-a-copy\n",
      "  df[col] = df[col].apply(\n"
     ]
    },
    {
     "name": "stdout",
     "output_type": "stream",
     "text": [
      "Final Diff Cost: -0.005756990289494279\n",
      "Final Cost 1.4453018979523247\n",
      "Number of Iterations: 1\n",
      "Conf Matrix: Counter({'0,0': 23, '1,1': 22, '0,1': 10, '1,0': 5})\n",
      "Accuracy: 0.75\n",
      "-----Iteration 10  Net [25, 25, 25] Lambda 0.1 -----------------\n"
     ]
    },
    {
     "name": "stderr",
     "output_type": "stream",
     "text": [
      "C:\\Users\\Tanishk\\AppData\\Local\\Temp/ipykernel_20172/869318862.py:8: SettingWithCopyWarning: \n",
      "A value is trying to be set on a copy of a slice from a DataFrame.\n",
      "Try using .loc[row_indexer,col_indexer] = value instead\n",
      "\n",
      "See the caveats in the documentation: https://pandas.pydata.org/pandas-docs/stable/user_guide/indexing.html#returning-a-view-versus-a-copy\n",
      "  df[col] = df[col].apply(\n"
     ]
    },
    {
     "name": "stdout",
     "output_type": "stream",
     "text": [
      "Final Diff Cost: -0.00015683002969169024\n",
      "Final Cost 1.3779158704357375\n",
      "Number of Iterations: 12\n",
      "Conf Matrix: Counter({'0,0': 22, '1,1': 14, '1,0': 13, '0,1': 11})\n",
      "Accuracy: 0.6\n",
      "Number of instances in test set: 61.0\n",
      "-----Iteration 1  Net [32, 32, 32] Lambda 0.1 -----------------\n"
     ]
    },
    {
     "name": "stderr",
     "output_type": "stream",
     "text": [
      "c:\\Users\\Tanishk\\AppData\\Local\\Programs\\Python\\Python39\\lib\\site-packages\\numpy\\core\\fromnumeric.py:3440: RuntimeWarning: Mean of empty slice.\n",
      "  return _methods._mean(a, axis=axis, dtype=dtype,\n",
      "c:\\Users\\Tanishk\\AppData\\Local\\Programs\\Python\\Python39\\lib\\site-packages\\numpy\\core\\_methods.py:189: RuntimeWarning: invalid value encountered in double_scalars\n",
      "  ret = ret.dtype.type(ret / rcount)\n",
      "C:\\Users\\Tanishk\\AppData\\Local\\Temp/ipykernel_20172/869318862.py:8: SettingWithCopyWarning: \n",
      "A value is trying to be set on a copy of a slice from a DataFrame.\n",
      "Try using .loc[row_indexer,col_indexer] = value instead\n",
      "\n",
      "See the caveats in the documentation: https://pandas.pydata.org/pandas-docs/stable/user_guide/indexing.html#returning-a-view-versus-a-copy\n",
      "  df[col] = df[col].apply(\n"
     ]
    },
    {
     "name": "stdout",
     "output_type": "stream",
     "text": [
      "Final Diff Cost: -1.2692949120651775e-05\n",
      "Final Cost 1.4562213450738073\n",
      "Number of Iterations: 1010\n",
      "Conf Matrix: Counter({'0,0': 21, '1,1': 17, '0,1': 13, '1,0': 11})\n",
      "Accuracy: 0.6129032258064516\n",
      "-----Iteration 2  Net [32, 32, 32] Lambda 0.1 -----------------\n"
     ]
    },
    {
     "name": "stderr",
     "output_type": "stream",
     "text": [
      "C:\\Users\\Tanishk\\AppData\\Local\\Temp/ipykernel_20172/869318862.py:8: SettingWithCopyWarning: \n",
      "A value is trying to be set on a copy of a slice from a DataFrame.\n",
      "Try using .loc[row_indexer,col_indexer] = value instead\n",
      "\n",
      "See the caveats in the documentation: https://pandas.pydata.org/pandas-docs/stable/user_guide/indexing.html#returning-a-view-versus-a-copy\n",
      "  df[col] = df[col].apply(\n"
     ]
    },
    {
     "name": "stdout",
     "output_type": "stream",
     "text": [
      "Final Diff Cost: -0.001900305925487622\n",
      "Final Cost 1.4539024481828298\n",
      "Number of Iterations: 1\n",
      "Conf Matrix: Counter({'0,0': 25, '1,1': 14, '1,0': 13, '0,1': 9})\n",
      "Accuracy: 0.639344262295082\n",
      "-----Iteration 3  Net [32, 32, 32] Lambda 0.1 -----------------\n"
     ]
    },
    {
     "name": "stderr",
     "output_type": "stream",
     "text": [
      "C:\\Users\\Tanishk\\AppData\\Local\\Temp/ipykernel_20172/869318862.py:8: SettingWithCopyWarning: \n",
      "A value is trying to be set on a copy of a slice from a DataFrame.\n",
      "Try using .loc[row_indexer,col_indexer] = value instead\n",
      "\n",
      "See the caveats in the documentation: https://pandas.pydata.org/pandas-docs/stable/user_guide/indexing.html#returning-a-view-versus-a-copy\n",
      "  df[col] = df[col].apply(\n"
     ]
    },
    {
     "name": "stdout",
     "output_type": "stream",
     "text": [
      "Final Diff Cost: -0.004454023441456734\n",
      "Final Cost 1.508793852001665\n",
      "Number of Iterations: 1\n",
      "Conf Matrix: Counter({'0,0': 24, '1,1': 18, '0,1': 10, '1,0': 9})\n",
      "Accuracy: 0.6885245901639344\n",
      "-----Iteration 4  Net [32, 32, 32] Lambda 0.1 -----------------\n"
     ]
    },
    {
     "name": "stderr",
     "output_type": "stream",
     "text": [
      "C:\\Users\\Tanishk\\AppData\\Local\\Temp/ipykernel_20172/869318862.py:8: SettingWithCopyWarning: \n",
      "A value is trying to be set on a copy of a slice from a DataFrame.\n",
      "Try using .loc[row_indexer,col_indexer] = value instead\n",
      "\n",
      "See the caveats in the documentation: https://pandas.pydata.org/pandas-docs/stable/user_guide/indexing.html#returning-a-view-versus-a-copy\n",
      "  df[col] = df[col].apply(\n"
     ]
    },
    {
     "name": "stdout",
     "output_type": "stream",
     "text": [
      "Final Diff Cost: -0.011095920988703156\n",
      "Final Cost 1.490818526938778\n",
      "Number of Iterations: 1\n",
      "Conf Matrix: Counter({'1,1': 21, '0,0': 18, '0,1': 16, '1,0': 6})\n",
      "Accuracy: 0.639344262295082\n",
      "-----Iteration 5  Net [32, 32, 32] Lambda 0.1 -----------------\n"
     ]
    },
    {
     "name": "stderr",
     "output_type": "stream",
     "text": [
      "C:\\Users\\Tanishk\\AppData\\Local\\Temp/ipykernel_20172/869318862.py:8: SettingWithCopyWarning: \n",
      "A value is trying to be set on a copy of a slice from a DataFrame.\n",
      "Try using .loc[row_indexer,col_indexer] = value instead\n",
      "\n",
      "See the caveats in the documentation: https://pandas.pydata.org/pandas-docs/stable/user_guide/indexing.html#returning-a-view-versus-a-copy\n",
      "  df[col] = df[col].apply(\n"
     ]
    },
    {
     "name": "stdout",
     "output_type": "stream",
     "text": [
      "Final Diff Cost: -0.02172451925924923\n",
      "Final Cost 1.603739120194691\n",
      "Number of Iterations: 3\n",
      "Conf Matrix: Counter({'0,0': 34, '1,0': 25, '1,1': 2})\n",
      "Accuracy: 0.5901639344262295\n",
      "-----Iteration 6  Net [32, 32, 32] Lambda 0.1 -----------------\n"
     ]
    },
    {
     "name": "stderr",
     "output_type": "stream",
     "text": [
      "C:\\Users\\Tanishk\\AppData\\Local\\Temp/ipykernel_20172/869318862.py:8: SettingWithCopyWarning: \n",
      "A value is trying to be set on a copy of a slice from a DataFrame.\n",
      "Try using .loc[row_indexer,col_indexer] = value instead\n",
      "\n",
      "See the caveats in the documentation: https://pandas.pydata.org/pandas-docs/stable/user_guide/indexing.html#returning-a-view-versus-a-copy\n",
      "  df[col] = df[col].apply(\n"
     ]
    },
    {
     "name": "stdout",
     "output_type": "stream",
     "text": [
      "Final Diff Cost: -0.0008037184469309455\n",
      "Final Cost 1.468778356019104\n",
      "Number of Iterations: 12\n",
      "Conf Matrix: Counter({'0,0': 31, '1,0': 18, '1,1': 9, '0,1': 3})\n",
      "Accuracy: 0.6557377049180327\n",
      "-----Iteration 7  Net [32, 32, 32] Lambda 0.1 -----------------\n"
     ]
    },
    {
     "name": "stderr",
     "output_type": "stream",
     "text": [
      "C:\\Users\\Tanishk\\AppData\\Local\\Temp/ipykernel_20172/869318862.py:8: SettingWithCopyWarning: \n",
      "A value is trying to be set on a copy of a slice from a DataFrame.\n",
      "Try using .loc[row_indexer,col_indexer] = value instead\n",
      "\n",
      "See the caveats in the documentation: https://pandas.pydata.org/pandas-docs/stable/user_guide/indexing.html#returning-a-view-versus-a-copy\n",
      "  df[col] = df[col].apply(\n"
     ]
    },
    {
     "name": "stdout",
     "output_type": "stream",
     "text": [
      "Final Diff Cost: -0.017912850199752306\n",
      "Final Cost 1.3995246979010707\n",
      "Number of Iterations: 3\n",
      "Conf Matrix: Counter({'0,0': 31, '1,0': 17, '1,1': 10, '0,1': 3})\n",
      "Accuracy: 0.6721311475409836\n",
      "-----Iteration 8  Net [32, 32, 32] Lambda 0.1 -----------------\n"
     ]
    },
    {
     "name": "stderr",
     "output_type": "stream",
     "text": [
      "C:\\Users\\Tanishk\\AppData\\Local\\Temp/ipykernel_20172/869318862.py:8: SettingWithCopyWarning: \n",
      "A value is trying to be set on a copy of a slice from a DataFrame.\n",
      "Try using .loc[row_indexer,col_indexer] = value instead\n",
      "\n",
      "See the caveats in the documentation: https://pandas.pydata.org/pandas-docs/stable/user_guide/indexing.html#returning-a-view-versus-a-copy\n",
      "  df[col] = df[col].apply(\n"
     ]
    },
    {
     "name": "stdout",
     "output_type": "stream",
     "text": [
      "Final Diff Cost: -0.003095476581904677\n",
      "Final Cost 1.4693679156011048\n",
      "Number of Iterations: 8\n",
      "Conf Matrix: Counter({'0,0': 30, '1,0': 19, '1,1': 8, '0,1': 3})\n",
      "Accuracy: 0.6333333333333333\n",
      "-----Iteration 9  Net [32, 32, 32] Lambda 0.1 -----------------\n"
     ]
    },
    {
     "name": "stderr",
     "output_type": "stream",
     "text": [
      "C:\\Users\\Tanishk\\AppData\\Local\\Temp/ipykernel_20172/869318862.py:8: SettingWithCopyWarning: \n",
      "A value is trying to be set on a copy of a slice from a DataFrame.\n",
      "Try using .loc[row_indexer,col_indexer] = value instead\n",
      "\n",
      "See the caveats in the documentation: https://pandas.pydata.org/pandas-docs/stable/user_guide/indexing.html#returning-a-view-versus-a-copy\n",
      "  df[col] = df[col].apply(\n"
     ]
    },
    {
     "name": "stdout",
     "output_type": "stream",
     "text": [
      "Final Diff Cost: -0.017413537467022788\n",
      "Final Cost 1.4812209529181173\n",
      "Number of Iterations: 1\n",
      "Conf Matrix: Counter({'0,1': 19, '1,1': 18, '0,0': 14, '1,0': 9})\n",
      "Accuracy: 0.5333333333333333\n",
      "-----Iteration 10  Net [32, 32, 32] Lambda 0.1 -----------------\n"
     ]
    },
    {
     "name": "stderr",
     "output_type": "stream",
     "text": [
      "C:\\Users\\Tanishk\\AppData\\Local\\Temp/ipykernel_20172/869318862.py:8: SettingWithCopyWarning: \n",
      "A value is trying to be set on a copy of a slice from a DataFrame.\n",
      "Try using .loc[row_indexer,col_indexer] = value instead\n",
      "\n",
      "See the caveats in the documentation: https://pandas.pydata.org/pandas-docs/stable/user_guide/indexing.html#returning-a-view-versus-a-copy\n",
      "  df[col] = df[col].apply(\n"
     ]
    },
    {
     "name": "stdout",
     "output_type": "stream",
     "text": [
      "Final Diff Cost: -0.003681061538669095\n",
      "Final Cost 1.4899513776696112\n",
      "Number of Iterations: 1\n",
      "Conf Matrix: Counter({'0,0': 24, '1,1': 23, '0,1': 9, '1,0': 4})\n",
      "Accuracy: 0.7833333333333333\n",
      "Number of instances in test set: 61.0\n",
      "-----Iteration 1  Net [64, 64, 64] Lambda 0.1 -----------------\n"
     ]
    },
    {
     "name": "stderr",
     "output_type": "stream",
     "text": [
      "c:\\Users\\Tanishk\\AppData\\Local\\Programs\\Python\\Python39\\lib\\site-packages\\numpy\\core\\fromnumeric.py:3440: RuntimeWarning: Mean of empty slice.\n",
      "  return _methods._mean(a, axis=axis, dtype=dtype,\n",
      "c:\\Users\\Tanishk\\AppData\\Local\\Programs\\Python\\Python39\\lib\\site-packages\\numpy\\core\\_methods.py:189: RuntimeWarning: invalid value encountered in double_scalars\n",
      "  ret = ret.dtype.type(ret / rcount)\n",
      "C:\\Users\\Tanishk\\AppData\\Local\\Temp/ipykernel_20172/869318862.py:8: SettingWithCopyWarning: \n",
      "A value is trying to be set on a copy of a slice from a DataFrame.\n",
      "Try using .loc[row_indexer,col_indexer] = value instead\n",
      "\n",
      "See the caveats in the documentation: https://pandas.pydata.org/pandas-docs/stable/user_guide/indexing.html#returning-a-view-versus-a-copy\n",
      "  df[col] = df[col].apply(\n"
     ]
    },
    {
     "name": "stdout",
     "output_type": "stream",
     "text": [
      "Final Diff Cost: -6.14270404759587e-05\n",
      "Final Cost 1.9081615173175406\n",
      "Number of Iterations: 340\n",
      "Conf Matrix: Counter({'0,0': 27, '1,0': 17, '1,1': 11, '0,1': 7})\n",
      "Accuracy: 0.6129032258064516\n",
      "-----Iteration 2  Net [64, 64, 64] Lambda 0.1 -----------------\n"
     ]
    },
    {
     "name": "stderr",
     "output_type": "stream",
     "text": [
      "C:\\Users\\Tanishk\\AppData\\Local\\Temp/ipykernel_20172/869318862.py:8: SettingWithCopyWarning: \n",
      "A value is trying to be set on a copy of a slice from a DataFrame.\n",
      "Try using .loc[row_indexer,col_indexer] = value instead\n",
      "\n",
      "See the caveats in the documentation: https://pandas.pydata.org/pandas-docs/stable/user_guide/indexing.html#returning-a-view-versus-a-copy\n",
      "  df[col] = df[col].apply(\n"
     ]
    },
    {
     "name": "stdout",
     "output_type": "stream",
     "text": [
      "Final Diff Cost: -0.005105420493196622\n",
      "Final Cost 1.9299327743299621\n",
      "Number of Iterations: 1\n",
      "Conf Matrix: Counter({'0,0': 29, '1,0': 18, '1,1': 9, '0,1': 5})\n",
      "Accuracy: 0.6229508196721312\n",
      "-----Iteration 3  Net [64, 64, 64] Lambda 0.1 -----------------\n"
     ]
    },
    {
     "name": "stderr",
     "output_type": "stream",
     "text": [
      "C:\\Users\\Tanishk\\AppData\\Local\\Temp/ipykernel_20172/869318862.py:8: SettingWithCopyWarning: \n",
      "A value is trying to be set on a copy of a slice from a DataFrame.\n",
      "Try using .loc[row_indexer,col_indexer] = value instead\n",
      "\n",
      "See the caveats in the documentation: https://pandas.pydata.org/pandas-docs/stable/user_guide/indexing.html#returning-a-view-versus-a-copy\n",
      "  df[col] = df[col].apply(\n"
     ]
    },
    {
     "name": "stdout",
     "output_type": "stream",
     "text": [
      "Final Diff Cost: -0.06046426436486518\n",
      "Final Cost 2.2048687167346497\n",
      "Number of Iterations: 1\n",
      "Conf Matrix: Counter({'0,1': 28, '1,1': 27, '0,0': 6})\n",
      "Accuracy: 0.5409836065573771\n",
      "-----Iteration 4  Net [64, 64, 64] Lambda 0.1 -----------------\n"
     ]
    },
    {
     "name": "stderr",
     "output_type": "stream",
     "text": [
      "C:\\Users\\Tanishk\\AppData\\Local\\Temp/ipykernel_20172/869318862.py:8: SettingWithCopyWarning: \n",
      "A value is trying to be set on a copy of a slice from a DataFrame.\n",
      "Try using .loc[row_indexer,col_indexer] = value instead\n",
      "\n",
      "See the caveats in the documentation: https://pandas.pydata.org/pandas-docs/stable/user_guide/indexing.html#returning-a-view-versus-a-copy\n",
      "  df[col] = df[col].apply(\n"
     ]
    },
    {
     "name": "stdout",
     "output_type": "stream",
     "text": [
      "Final Diff Cost: -0.06655268185389751\n",
      "Final Cost 2.4085799125027996\n",
      "Number of Iterations: 1\n",
      "Conf Matrix: Counter({'0,0': 34, '1,0': 27})\n",
      "Accuracy: 0.5573770491803278\n",
      "-----Iteration 5  Net [64, 64, 64] Lambda 0.1 -----------------\n"
     ]
    },
    {
     "name": "stderr",
     "output_type": "stream",
     "text": [
      "C:\\Users\\Tanishk\\AppData\\Local\\Temp/ipykernel_20172/869318862.py:8: SettingWithCopyWarning: \n",
      "A value is trying to be set on a copy of a slice from a DataFrame.\n",
      "Try using .loc[row_indexer,col_indexer] = value instead\n",
      "\n",
      "See the caveats in the documentation: https://pandas.pydata.org/pandas-docs/stable/user_guide/indexing.html#returning-a-view-versus-a-copy\n",
      "  df[col] = df[col].apply(\n"
     ]
    },
    {
     "name": "stdout",
     "output_type": "stream",
     "text": [
      "Final Diff Cost: -0.015984242148448846\n",
      "Final Cost 2.282174468050897\n",
      "Number of Iterations: 2\n",
      "Conf Matrix: Counter({'0,0': 34, '1,0': 26, '1,1': 1})\n",
      "Accuracy: 0.5737704918032787\n",
      "-----Iteration 6  Net [64, 64, 64] Lambda 0.1 -----------------\n"
     ]
    },
    {
     "name": "stderr",
     "output_type": "stream",
     "text": [
      "C:\\Users\\Tanishk\\AppData\\Local\\Temp/ipykernel_20172/869318862.py:8: SettingWithCopyWarning: \n",
      "A value is trying to be set on a copy of a slice from a DataFrame.\n",
      "Try using .loc[row_indexer,col_indexer] = value instead\n",
      "\n",
      "See the caveats in the documentation: https://pandas.pydata.org/pandas-docs/stable/user_guide/indexing.html#returning-a-view-versus-a-copy\n",
      "  df[col] = df[col].apply(\n"
     ]
    },
    {
     "name": "stdout",
     "output_type": "stream",
     "text": [
      "Final Diff Cost: -0.0005416033688487865\n",
      "Final Cost 1.9640411950846386\n",
      "Number of Iterations: 16\n",
      "Conf Matrix: Counter({'0,0': 33, '1,0': 19, '1,1': 8, '0,1': 1})\n",
      "Accuracy: 0.6721311475409836\n",
      "-----Iteration 7  Net [64, 64, 64] Lambda 0.1 -----------------\n"
     ]
    },
    {
     "name": "stderr",
     "output_type": "stream",
     "text": [
      "C:\\Users\\Tanishk\\AppData\\Local\\Temp/ipykernel_20172/869318862.py:8: SettingWithCopyWarning: \n",
      "A value is trying to be set on a copy of a slice from a DataFrame.\n",
      "Try using .loc[row_indexer,col_indexer] = value instead\n",
      "\n",
      "See the caveats in the documentation: https://pandas.pydata.org/pandas-docs/stable/user_guide/indexing.html#returning-a-view-versus-a-copy\n",
      "  df[col] = df[col].apply(\n"
     ]
    },
    {
     "name": "stdout",
     "output_type": "stream",
     "text": [
      "Final Diff Cost: -0.006276127336960924\n",
      "Final Cost 1.9865863867851352\n",
      "Number of Iterations: 2\n",
      "Conf Matrix: Counter({'0,0': 34, '1,0': 23, '1,1': 4})\n",
      "Accuracy: 0.6229508196721312\n",
      "-----Iteration 8  Net [64, 64, 64] Lambda 0.1 -----------------\n"
     ]
    },
    {
     "name": "stderr",
     "output_type": "stream",
     "text": [
      "C:\\Users\\Tanishk\\AppData\\Local\\Temp/ipykernel_20172/869318862.py:8: SettingWithCopyWarning: \n",
      "A value is trying to be set on a copy of a slice from a DataFrame.\n",
      "Try using .loc[row_indexer,col_indexer] = value instead\n",
      "\n",
      "See the caveats in the documentation: https://pandas.pydata.org/pandas-docs/stable/user_guide/indexing.html#returning-a-view-versus-a-copy\n",
      "  df[col] = df[col].apply(\n"
     ]
    },
    {
     "name": "stdout",
     "output_type": "stream",
     "text": [
      "Final Diff Cost: -0.0005220241412906557\n",
      "Final Cost 1.9422849035882466\n",
      "Number of Iterations: 1\n",
      "Conf Matrix: Counter({'1,1': 18, '0,1': 17, '0,0': 16, '1,0': 9})\n",
      "Accuracy: 0.5666666666666667\n",
      "-----Iteration 9  Net [64, 64, 64] Lambda 0.1 -----------------\n"
     ]
    },
    {
     "name": "stderr",
     "output_type": "stream",
     "text": [
      "C:\\Users\\Tanishk\\AppData\\Local\\Temp/ipykernel_20172/869318862.py:8: SettingWithCopyWarning: \n",
      "A value is trying to be set on a copy of a slice from a DataFrame.\n",
      "Try using .loc[row_indexer,col_indexer] = value instead\n",
      "\n",
      "See the caveats in the documentation: https://pandas.pydata.org/pandas-docs/stable/user_guide/indexing.html#returning-a-view-versus-a-copy\n",
      "  df[col] = df[col].apply(\n"
     ]
    },
    {
     "name": "stdout",
     "output_type": "stream",
     "text": [
      "Final Diff Cost: -0.005187586589791682\n",
      "Final Cost 1.954464389999628\n",
      "Number of Iterations: 1\n",
      "Conf Matrix: Counter({'0,0': 32, '1,0': 23, '1,1': 4, '0,1': 1})\n",
      "Accuracy: 0.6\n",
      "-----Iteration 10  Net [64, 64, 64] Lambda 0.1 -----------------\n"
     ]
    },
    {
     "name": "stderr",
     "output_type": "stream",
     "text": [
      "C:\\Users\\Tanishk\\AppData\\Local\\Temp/ipykernel_20172/869318862.py:8: SettingWithCopyWarning: \n",
      "A value is trying to be set on a copy of a slice from a DataFrame.\n",
      "Try using .loc[row_indexer,col_indexer] = value instead\n",
      "\n",
      "See the caveats in the documentation: https://pandas.pydata.org/pandas-docs/stable/user_guide/indexing.html#returning-a-view-versus-a-copy\n",
      "  df[col] = df[col].apply(\n"
     ]
    },
    {
     "name": "stdout",
     "output_type": "stream",
     "text": [
      "Final Diff Cost: -0.0011241835238449127\n",
      "Final Cost 1.9213573130860042\n",
      "Number of Iterations: 1\n",
      "Conf Matrix: Counter({'0,0': 19, '1,1': 16, '0,1': 14, '1,0': 11})\n",
      "Accuracy: 0.5833333333333334\n",
      "[0.5542, 0.5959, 0.6697, 0.6347, 0.6597, 0.6169, 0.5543, 0.5543, 0.5543, 0.6598, 0.6448, 0.5953]\n",
      "[nan, nan, nan, nan, nan, nan, nan, nan, nan, nan, nan, nan]\n",
      "Number of instances in test set: 61.0\n",
      "-----Iteration 1  Net [4] Lambda 0.01 -----------------\n"
     ]
    },
    {
     "name": "stderr",
     "output_type": "stream",
     "text": [
      "c:\\Users\\Tanishk\\AppData\\Local\\Programs\\Python\\Python39\\lib\\site-packages\\numpy\\core\\fromnumeric.py:3440: RuntimeWarning: Mean of empty slice.\n",
      "  return _methods._mean(a, axis=axis, dtype=dtype,\n",
      "c:\\Users\\Tanishk\\AppData\\Local\\Programs\\Python\\Python39\\lib\\site-packages\\numpy\\core\\_methods.py:189: RuntimeWarning: invalid value encountered in double_scalars\n",
      "  ret = ret.dtype.type(ret / rcount)\n",
      "C:\\Users\\Tanishk\\AppData\\Local\\Temp/ipykernel_20172/869318862.py:8: SettingWithCopyWarning: \n",
      "A value is trying to be set on a copy of a slice from a DataFrame.\n",
      "Try using .loc[row_indexer,col_indexer] = value instead\n",
      "\n",
      "See the caveats in the documentation: https://pandas.pydata.org/pandas-docs/stable/user_guide/indexing.html#returning-a-view-versus-a-copy\n",
      "  df[col] = df[col].apply(\n"
     ]
    },
    {
     "name": "stdout",
     "output_type": "stream",
     "text": [
      "Final Diff Cost: 9.721795286132817e-05\n",
      "Final Cost 1.3774390192624797\n",
      "Number of Iterations: 45\n",
      "Conf Matrix: Counter({'0,0': 31, '1,0': 25, '0,1': 3, '1,1': 3})\n",
      "Accuracy: 0.5483870967741935\n",
      "-----Iteration 2  Net [4] Lambda 0.01 -----------------\n"
     ]
    },
    {
     "name": "stderr",
     "output_type": "stream",
     "text": [
      "C:\\Users\\Tanishk\\AppData\\Local\\Temp/ipykernel_20172/869318862.py:8: SettingWithCopyWarning: \n",
      "A value is trying to be set on a copy of a slice from a DataFrame.\n",
      "Try using .loc[row_indexer,col_indexer] = value instead\n",
      "\n",
      "See the caveats in the documentation: https://pandas.pydata.org/pandas-docs/stable/user_guide/indexing.html#returning-a-view-versus-a-copy\n",
      "  df[col] = df[col].apply(\n"
     ]
    },
    {
     "name": "stdout",
     "output_type": "stream",
     "text": [
      "Final Diff Cost: 9.942708808097223e-05\n",
      "Final Cost 1.3749127677484823\n",
      "Number of Iterations: 9\n",
      "Conf Matrix: Counter({'0,0': 32, '1,0': 26, '0,1': 2, '1,1': 1})\n",
      "Accuracy: 0.5409836065573771\n",
      "-----Iteration 3  Net [4] Lambda 0.01 -----------------\n"
     ]
    },
    {
     "name": "stderr",
     "output_type": "stream",
     "text": [
      "C:\\Users\\Tanishk\\AppData\\Local\\Temp/ipykernel_20172/869318862.py:8: SettingWithCopyWarning: \n",
      "A value is trying to be set on a copy of a slice from a DataFrame.\n",
      "Try using .loc[row_indexer,col_indexer] = value instead\n",
      "\n",
      "See the caveats in the documentation: https://pandas.pydata.org/pandas-docs/stable/user_guide/indexing.html#returning-a-view-versus-a-copy\n",
      "  df[col] = df[col].apply(\n"
     ]
    },
    {
     "name": "stdout",
     "output_type": "stream",
     "text": [
      "Final Diff Cost: 8.657542585099876e-05\n",
      "Final Cost 1.3786744512344855\n",
      "Number of Iterations: 9\n",
      "Conf Matrix: Counter({'0,0': 34, '1,0': 26, '1,1': 1})\n",
      "Accuracy: 0.5737704918032787\n",
      "-----Iteration 4  Net [4] Lambda 0.01 -----------------\n"
     ]
    },
    {
     "name": "stderr",
     "output_type": "stream",
     "text": [
      "C:\\Users\\Tanishk\\AppData\\Local\\Temp/ipykernel_20172/869318862.py:8: SettingWithCopyWarning: \n",
      "A value is trying to be set on a copy of a slice from a DataFrame.\n",
      "Try using .loc[row_indexer,col_indexer] = value instead\n",
      "\n",
      "See the caveats in the documentation: https://pandas.pydata.org/pandas-docs/stable/user_guide/indexing.html#returning-a-view-versus-a-copy\n",
      "  df[col] = df[col].apply(\n"
     ]
    },
    {
     "name": "stdout",
     "output_type": "stream",
     "text": [
      "Final Diff Cost: 9.716500752388058e-05\n",
      "Final Cost 1.3772322637745456\n",
      "Number of Iterations: 6\n",
      "Conf Matrix: Counter({'0,0': 33, '1,0': 26, '0,1': 1, '1,1': 1})\n",
      "Accuracy: 0.5573770491803278\n",
      "-----Iteration 5  Net [4] Lambda 0.01 -----------------\n"
     ]
    },
    {
     "name": "stderr",
     "output_type": "stream",
     "text": [
      "C:\\Users\\Tanishk\\AppData\\Local\\Temp/ipykernel_20172/869318862.py:8: SettingWithCopyWarning: \n",
      "A value is trying to be set on a copy of a slice from a DataFrame.\n",
      "Try using .loc[row_indexer,col_indexer] = value instead\n",
      "\n",
      "See the caveats in the documentation: https://pandas.pydata.org/pandas-docs/stable/user_guide/indexing.html#returning-a-view-versus-a-copy\n",
      "  df[col] = df[col].apply(\n"
     ]
    },
    {
     "name": "stdout",
     "output_type": "stream",
     "text": [
      "Final Diff Cost: 8.88761572743757e-05\n",
      "Final Cost 1.3728354086072188\n",
      "Number of Iterations: 7\n",
      "Conf Matrix: Counter({'0,0': 31, '1,0': 26, '0,1': 3, '1,1': 1})\n",
      "Accuracy: 0.5245901639344263\n",
      "-----Iteration 6  Net [4] Lambda 0.01 -----------------\n"
     ]
    },
    {
     "name": "stderr",
     "output_type": "stream",
     "text": [
      "C:\\Users\\Tanishk\\AppData\\Local\\Temp/ipykernel_20172/869318862.py:8: SettingWithCopyWarning: \n",
      "A value is trying to be set on a copy of a slice from a DataFrame.\n",
      "Try using .loc[row_indexer,col_indexer] = value instead\n",
      "\n",
      "See the caveats in the documentation: https://pandas.pydata.org/pandas-docs/stable/user_guide/indexing.html#returning-a-view-versus-a-copy\n",
      "  df[col] = df[col].apply(\n"
     ]
    },
    {
     "name": "stdout",
     "output_type": "stream",
     "text": [
      "Final Diff Cost: 8.94732705096768e-05\n",
      "Final Cost 1.3784503021518595\n",
      "Number of Iterations: 1\n",
      "Conf Matrix: Counter({'0,0': 33, '1,0': 24, '1,1': 3, '0,1': 1})\n",
      "Accuracy: 0.5901639344262295\n",
      "-----Iteration 7  Net [4] Lambda 0.01 -----------------\n"
     ]
    },
    {
     "name": "stderr",
     "output_type": "stream",
     "text": [
      "C:\\Users\\Tanishk\\AppData\\Local\\Temp/ipykernel_20172/869318862.py:8: SettingWithCopyWarning: \n",
      "A value is trying to be set on a copy of a slice from a DataFrame.\n",
      "Try using .loc[row_indexer,col_indexer] = value instead\n",
      "\n",
      "See the caveats in the documentation: https://pandas.pydata.org/pandas-docs/stable/user_guide/indexing.html#returning-a-view-versus-a-copy\n",
      "  df[col] = df[col].apply(\n"
     ]
    },
    {
     "name": "stdout",
     "output_type": "stream",
     "text": [
      "Final Diff Cost: 9.943800741929465e-05\n",
      "Final Cost 1.37585797993325\n",
      "Number of Iterations: 9\n",
      "Conf Matrix: Counter({'0,0': 31, '1,0': 24, '0,1': 3, '1,1': 3})\n",
      "Accuracy: 0.5573770491803278\n",
      "-----Iteration 8  Net [4] Lambda 0.01 -----------------\n"
     ]
    },
    {
     "name": "stderr",
     "output_type": "stream",
     "text": [
      "C:\\Users\\Tanishk\\AppData\\Local\\Temp/ipykernel_20172/869318862.py:8: SettingWithCopyWarning: \n",
      "A value is trying to be set on a copy of a slice from a DataFrame.\n",
      "Try using .loc[row_indexer,col_indexer] = value instead\n",
      "\n",
      "See the caveats in the documentation: https://pandas.pydata.org/pandas-docs/stable/user_guide/indexing.html#returning-a-view-versus-a-copy\n",
      "  df[col] = df[col].apply(\n"
     ]
    },
    {
     "name": "stdout",
     "output_type": "stream",
     "text": [
      "Final Diff Cost: 9.407035422204224e-05\n",
      "Final Cost 1.3740861291563682\n",
      "Number of Iterations: 5\n",
      "Conf Matrix: Counter({'0,0': 30, '1,0': 26, '0,1': 3, '1,1': 1})\n",
      "Accuracy: 0.5166666666666667\n",
      "-----Iteration 9  Net [4] Lambda 0.01 -----------------\n"
     ]
    },
    {
     "name": "stderr",
     "output_type": "stream",
     "text": [
      "C:\\Users\\Tanishk\\AppData\\Local\\Temp/ipykernel_20172/869318862.py:8: SettingWithCopyWarning: \n",
      "A value is trying to be set on a copy of a slice from a DataFrame.\n",
      "Try using .loc[row_indexer,col_indexer] = value instead\n",
      "\n",
      "See the caveats in the documentation: https://pandas.pydata.org/pandas-docs/stable/user_guide/indexing.html#returning-a-view-versus-a-copy\n",
      "  df[col] = df[col].apply(\n"
     ]
    },
    {
     "name": "stdout",
     "output_type": "stream",
     "text": [
      "Final Diff Cost: 9.378263443449164e-05\n",
      "Final Cost 1.3741148283119315\n",
      "Number of Iterations: 3\n",
      "Conf Matrix: Counter({'0,0': 33, '1,0': 27})\n",
      "Accuracy: 0.55\n",
      "-----Iteration 10  Net [4] Lambda 0.01 -----------------\n"
     ]
    },
    {
     "name": "stderr",
     "output_type": "stream",
     "text": [
      "C:\\Users\\Tanishk\\AppData\\Local\\Temp/ipykernel_20172/869318862.py:8: SettingWithCopyWarning: \n",
      "A value is trying to be set on a copy of a slice from a DataFrame.\n",
      "Try using .loc[row_indexer,col_indexer] = value instead\n",
      "\n",
      "See the caveats in the documentation: https://pandas.pydata.org/pandas-docs/stable/user_guide/indexing.html#returning-a-view-versus-a-copy\n",
      "  df[col] = df[col].apply(\n"
     ]
    },
    {
     "name": "stdout",
     "output_type": "stream",
     "text": [
      "Final Diff Cost: 9.557642079638384e-05\n",
      "Final Cost 1.3767286309061322\n",
      "Number of Iterations: 12\n",
      "Conf Matrix: Counter({'0,0': 33, '1,0': 25, '1,1': 2})\n",
      "Accuracy: 0.5833333333333334\n",
      "Number of instances in test set: 61.0\n",
      "-----Iteration 1  Net [8] Lambda 0.01 -----------------\n"
     ]
    },
    {
     "name": "stderr",
     "output_type": "stream",
     "text": [
      "c:\\Users\\Tanishk\\AppData\\Local\\Programs\\Python\\Python39\\lib\\site-packages\\numpy\\core\\fromnumeric.py:3440: RuntimeWarning: Mean of empty slice.\n",
      "  return _methods._mean(a, axis=axis, dtype=dtype,\n",
      "c:\\Users\\Tanishk\\AppData\\Local\\Programs\\Python\\Python39\\lib\\site-packages\\numpy\\core\\_methods.py:189: RuntimeWarning: invalid value encountered in double_scalars\n",
      "  ret = ret.dtype.type(ret / rcount)\n",
      "C:\\Users\\Tanishk\\AppData\\Local\\Temp/ipykernel_20172/869318862.py:8: SettingWithCopyWarning: \n",
      "A value is trying to be set on a copy of a slice from a DataFrame.\n",
      "Try using .loc[row_indexer,col_indexer] = value instead\n",
      "\n",
      "See the caveats in the documentation: https://pandas.pydata.org/pandas-docs/stable/user_guide/indexing.html#returning-a-view-versus-a-copy\n",
      "  df[col] = df[col].apply(\n"
     ]
    },
    {
     "name": "stdout",
     "output_type": "stream",
     "text": [
      "Final Diff Cost: 7.853509362687472e-05\n",
      "Final Cost 0.9328525773867219\n",
      "Number of Iterations: 649\n",
      "Conf Matrix: Counter({'0,0': 26, '1,1': 21, '0,1': 8, '1,0': 7})\n",
      "Accuracy: 0.7580645161290323\n",
      "-----Iteration 2  Net [8] Lambda 0.01 -----------------\n"
     ]
    },
    {
     "name": "stderr",
     "output_type": "stream",
     "text": [
      "C:\\Users\\Tanishk\\AppData\\Local\\Temp/ipykernel_20172/869318862.py:8: SettingWithCopyWarning: \n",
      "A value is trying to be set on a copy of a slice from a DataFrame.\n",
      "Try using .loc[row_indexer,col_indexer] = value instead\n",
      "\n",
      "See the caveats in the documentation: https://pandas.pydata.org/pandas-docs/stable/user_guide/indexing.html#returning-a-view-versus-a-copy\n",
      "  df[col] = df[col].apply(\n"
     ]
    },
    {
     "name": "stdout",
     "output_type": "stream",
     "text": [
      "Final Diff Cost: -0.07236906306952862\n",
      "Final Cost 1.3648341435598552\n",
      "Number of Iterations: 2\n",
      "Conf Matrix: Counter({'0,0': 33, '1,0': 23, '1,1': 4, '0,1': 1})\n",
      "Accuracy: 0.6065573770491803\n",
      "-----Iteration 3  Net [8] Lambda 0.01 -----------------\n"
     ]
    },
    {
     "name": "stderr",
     "output_type": "stream",
     "text": [
      "C:\\Users\\Tanishk\\AppData\\Local\\Temp/ipykernel_20172/869318862.py:8: SettingWithCopyWarning: \n",
      "A value is trying to be set on a copy of a slice from a DataFrame.\n",
      "Try using .loc[row_indexer,col_indexer] = value instead\n",
      "\n",
      "See the caveats in the documentation: https://pandas.pydata.org/pandas-docs/stable/user_guide/indexing.html#returning-a-view-versus-a-copy\n",
      "  df[col] = df[col].apply(\n"
     ]
    },
    {
     "name": "stdout",
     "output_type": "stream",
     "text": [
      "Final Diff Cost: -0.019348931811352443\n",
      "Final Cost 1.2523472551357466\n",
      "Number of Iterations: 6\n",
      "Conf Matrix: Counter({'0,0': 29, '1,0': 21, '1,1': 6, '0,1': 5})\n",
      "Accuracy: 0.5737704918032787\n",
      "-----Iteration 4  Net [8] Lambda 0.01 -----------------\n"
     ]
    },
    {
     "name": "stderr",
     "output_type": "stream",
     "text": [
      "C:\\Users\\Tanishk\\AppData\\Local\\Temp/ipykernel_20172/869318862.py:8: SettingWithCopyWarning: \n",
      "A value is trying to be set on a copy of a slice from a DataFrame.\n",
      "Try using .loc[row_indexer,col_indexer] = value instead\n",
      "\n",
      "See the caveats in the documentation: https://pandas.pydata.org/pandas-docs/stable/user_guide/indexing.html#returning-a-view-versus-a-copy\n",
      "  df[col] = df[col].apply(\n"
     ]
    },
    {
     "name": "stdout",
     "output_type": "stream",
     "text": [
      "Final Diff Cost: -0.0007159544496584402\n",
      "Final Cost 1.2111403937255534\n",
      "Number of Iterations: 1\n",
      "Conf Matrix: Counter({'0,0': 25, '1,1': 18, '0,1': 9, '1,0': 9})\n",
      "Accuracy: 0.7049180327868853\n",
      "-----Iteration 5  Net [8] Lambda 0.01 -----------------\n"
     ]
    },
    {
     "name": "stderr",
     "output_type": "stream",
     "text": [
      "C:\\Users\\Tanishk\\AppData\\Local\\Temp/ipykernel_20172/869318862.py:8: SettingWithCopyWarning: \n",
      "A value is trying to be set on a copy of a slice from a DataFrame.\n",
      "Try using .loc[row_indexer,col_indexer] = value instead\n",
      "\n",
      "See the caveats in the documentation: https://pandas.pydata.org/pandas-docs/stable/user_guide/indexing.html#returning-a-view-versus-a-copy\n",
      "  df[col] = df[col].apply(\n"
     ]
    },
    {
     "name": "stdout",
     "output_type": "stream",
     "text": [
      "Final Diff Cost: -0.012571865929314363\n",
      "Final Cost 1.2187050760212883\n",
      "Number of Iterations: 1\n",
      "Conf Matrix: Counter({'0,0': 22, '1,1': 17, '0,1': 12, '1,0': 10})\n",
      "Accuracy: 0.639344262295082\n",
      "-----Iteration 6  Net [8] Lambda 0.01 -----------------\n"
     ]
    },
    {
     "name": "stderr",
     "output_type": "stream",
     "text": [
      "C:\\Users\\Tanishk\\AppData\\Local\\Temp/ipykernel_20172/869318862.py:8: SettingWithCopyWarning: \n",
      "A value is trying to be set on a copy of a slice from a DataFrame.\n",
      "Try using .loc[row_indexer,col_indexer] = value instead\n",
      "\n",
      "See the caveats in the documentation: https://pandas.pydata.org/pandas-docs/stable/user_guide/indexing.html#returning-a-view-versus-a-copy\n",
      "  df[col] = df[col].apply(\n"
     ]
    },
    {
     "name": "stdout",
     "output_type": "stream",
     "text": [
      "Final Diff Cost: 5.775370220639786e-05\n",
      "Final Cost 1.2042577448259264\n",
      "Number of Iterations: 13\n",
      "Conf Matrix: Counter({'0,0': 26, '1,1': 18, '1,0': 9, '0,1': 8})\n",
      "Accuracy: 0.7213114754098361\n",
      "-----Iteration 7  Net [8] Lambda 0.01 -----------------\n"
     ]
    },
    {
     "name": "stderr",
     "output_type": "stream",
     "text": [
      "C:\\Users\\Tanishk\\AppData\\Local\\Temp/ipykernel_20172/869318862.py:8: SettingWithCopyWarning: \n",
      "A value is trying to be set on a copy of a slice from a DataFrame.\n",
      "Try using .loc[row_indexer,col_indexer] = value instead\n",
      "\n",
      "See the caveats in the documentation: https://pandas.pydata.org/pandas-docs/stable/user_guide/indexing.html#returning-a-view-versus-a-copy\n",
      "  df[col] = df[col].apply(\n"
     ]
    },
    {
     "name": "stdout",
     "output_type": "stream",
     "text": [
      "Final Diff Cost: -0.07237985605388841\n",
      "Final Cost 1.4524980095697813\n",
      "Number of Iterations: 1\n",
      "Conf Matrix: Counter({'1,1': 26, '0,1': 25, '0,0': 9, '1,0': 1})\n",
      "Accuracy: 0.5737704918032787\n",
      "-----Iteration 8  Net [8] Lambda 0.01 -----------------\n"
     ]
    },
    {
     "name": "stderr",
     "output_type": "stream",
     "text": [
      "C:\\Users\\Tanishk\\AppData\\Local\\Temp/ipykernel_20172/869318862.py:8: SettingWithCopyWarning: \n",
      "A value is trying to be set on a copy of a slice from a DataFrame.\n",
      "Try using .loc[row_indexer,col_indexer] = value instead\n",
      "\n",
      "See the caveats in the documentation: https://pandas.pydata.org/pandas-docs/stable/user_guide/indexing.html#returning-a-view-versus-a-copy\n",
      "  df[col] = df[col].apply(\n"
     ]
    },
    {
     "name": "stdout",
     "output_type": "stream",
     "text": [
      "Final Diff Cost: -0.13896623236445094\n",
      "Final Cost 1.5574277138269703\n",
      "Number of Iterations: 1\n",
      "Conf Matrix: Counter({'0,0': 33, '1,0': 25, '1,1': 2})\n",
      "Accuracy: 0.5833333333333334\n",
      "-----Iteration 9  Net [8] Lambda 0.01 -----------------\n"
     ]
    },
    {
     "name": "stderr",
     "output_type": "stream",
     "text": [
      "C:\\Users\\Tanishk\\AppData\\Local\\Temp/ipykernel_20172/869318862.py:8: SettingWithCopyWarning: \n",
      "A value is trying to be set on a copy of a slice from a DataFrame.\n",
      "Try using .loc[row_indexer,col_indexer] = value instead\n",
      "\n",
      "See the caveats in the documentation: https://pandas.pydata.org/pandas-docs/stable/user_guide/indexing.html#returning-a-view-versus-a-copy\n",
      "  df[col] = df[col].apply(\n"
     ]
    },
    {
     "name": "stdout",
     "output_type": "stream",
     "text": [
      "Final Diff Cost: -0.14459119879658577\n",
      "Final Cost 1.550096709287887\n",
      "Number of Iterations: 2\n",
      "Conf Matrix: Counter({'0,0': 32, '1,0': 27, '0,1': 1})\n",
      "Accuracy: 0.5333333333333333\n",
      "-----Iteration 10  Net [8] Lambda 0.01 -----------------\n"
     ]
    },
    {
     "name": "stderr",
     "output_type": "stream",
     "text": [
      "C:\\Users\\Tanishk\\AppData\\Local\\Temp/ipykernel_20172/869318862.py:8: SettingWithCopyWarning: \n",
      "A value is trying to be set on a copy of a slice from a DataFrame.\n",
      "Try using .loc[row_indexer,col_indexer] = value instead\n",
      "\n",
      "See the caveats in the documentation: https://pandas.pydata.org/pandas-docs/stable/user_guide/indexing.html#returning-a-view-versus-a-copy\n",
      "  df[col] = df[col].apply(\n"
     ]
    },
    {
     "name": "stdout",
     "output_type": "stream",
     "text": [
      "Final Diff Cost: -0.011862348518470123\n",
      "Final Cost 1.2550433678517745\n",
      "Number of Iterations: 4\n",
      "Conf Matrix: Counter({'0,0': 30, '1,0': 18, '1,1': 9, '0,1': 3})\n",
      "Accuracy: 0.65\n",
      "Number of instances in test set: 61.0\n",
      "-----Iteration 1  Net [16] Lambda 0.01 -----------------\n"
     ]
    },
    {
     "name": "stderr",
     "output_type": "stream",
     "text": [
      "c:\\Users\\Tanishk\\AppData\\Local\\Programs\\Python\\Python39\\lib\\site-packages\\numpy\\core\\fromnumeric.py:3440: RuntimeWarning: Mean of empty slice.\n",
      "  return _methods._mean(a, axis=axis, dtype=dtype,\n",
      "c:\\Users\\Tanishk\\AppData\\Local\\Programs\\Python\\Python39\\lib\\site-packages\\numpy\\core\\_methods.py:189: RuntimeWarning: invalid value encountered in double_scalars\n",
      "  ret = ret.dtype.type(ret / rcount)\n",
      "C:\\Users\\Tanishk\\AppData\\Local\\Temp/ipykernel_20172/869318862.py:8: SettingWithCopyWarning: \n",
      "A value is trying to be set on a copy of a slice from a DataFrame.\n",
      "Try using .loc[row_indexer,col_indexer] = value instead\n",
      "\n",
      "See the caveats in the documentation: https://pandas.pydata.org/pandas-docs/stable/user_guide/indexing.html#returning-a-view-versus-a-copy\n",
      "  df[col] = df[col].apply(\n"
     ]
    },
    {
     "name": "stdout",
     "output_type": "stream",
     "text": [
      "Final Diff Cost: 8.117310869892869e-05\n",
      "Final Cost 1.1370549255427573\n",
      "Number of Iterations: 1648\n",
      "Conf Matrix: Counter({'0,0': 27, '1,0': 17, '1,1': 11, '0,1': 7})\n",
      "Accuracy: 0.6129032258064516\n",
      "-----Iteration 2  Net [16] Lambda 0.01 -----------------\n"
     ]
    },
    {
     "name": "stderr",
     "output_type": "stream",
     "text": [
      "C:\\Users\\Tanishk\\AppData\\Local\\Temp/ipykernel_20172/869318862.py:8: SettingWithCopyWarning: \n",
      "A value is trying to be set on a copy of a slice from a DataFrame.\n",
      "Try using .loc[row_indexer,col_indexer] = value instead\n",
      "\n",
      "See the caveats in the documentation: https://pandas.pydata.org/pandas-docs/stable/user_guide/indexing.html#returning-a-view-versus-a-copy\n",
      "  df[col] = df[col].apply(\n"
     ]
    },
    {
     "name": "stdout",
     "output_type": "stream",
     "text": [
      "Final Diff Cost: 8.397318875719151e-05\n",
      "Final Cost 1.1821392403357147\n",
      "Number of Iterations: 7\n",
      "Conf Matrix: Counter({'0,0': 30, '1,1': 17, '1,0': 10, '0,1': 4})\n",
      "Accuracy: 0.7704918032786885\n",
      "-----Iteration 3  Net [16] Lambda 0.01 -----------------\n"
     ]
    },
    {
     "name": "stderr",
     "output_type": "stream",
     "text": [
      "C:\\Users\\Tanishk\\AppData\\Local\\Temp/ipykernel_20172/869318862.py:8: SettingWithCopyWarning: \n",
      "A value is trying to be set on a copy of a slice from a DataFrame.\n",
      "Try using .loc[row_indexer,col_indexer] = value instead\n",
      "\n",
      "See the caveats in the documentation: https://pandas.pydata.org/pandas-docs/stable/user_guide/indexing.html#returning-a-view-versus-a-copy\n",
      "  df[col] = df[col].apply(\n"
     ]
    },
    {
     "name": "stdout",
     "output_type": "stream",
     "text": [
      "Final Diff Cost: -0.0007767879102986708\n",
      "Final Cost 1.1815999263909582\n",
      "Number of Iterations: 5\n",
      "Conf Matrix: Counter({'0,0': 29, '1,0': 18, '1,1': 9, '0,1': 5})\n",
      "Accuracy: 0.6229508196721312\n",
      "-----Iteration 4  Net [16] Lambda 0.01 -----------------\n"
     ]
    },
    {
     "name": "stderr",
     "output_type": "stream",
     "text": [
      "C:\\Users\\Tanishk\\AppData\\Local\\Temp/ipykernel_20172/869318862.py:8: SettingWithCopyWarning: \n",
      "A value is trying to be set on a copy of a slice from a DataFrame.\n",
      "Try using .loc[row_indexer,col_indexer] = value instead\n",
      "\n",
      "See the caveats in the documentation: https://pandas.pydata.org/pandas-docs/stable/user_guide/indexing.html#returning-a-view-versus-a-copy\n",
      "  df[col] = df[col].apply(\n"
     ]
    },
    {
     "name": "stdout",
     "output_type": "stream",
     "text": [
      "Final Diff Cost: -0.008807030708801955\n",
      "Final Cost 1.050781751801388\n",
      "Number of Iterations: 4\n",
      "Conf Matrix: Counter({'0,0': 27, '1,1': 24, '0,1': 7, '1,0': 3})\n",
      "Accuracy: 0.8360655737704918\n",
      "-----Iteration 5  Net [16] Lambda 0.01 -----------------\n"
     ]
    },
    {
     "name": "stderr",
     "output_type": "stream",
     "text": [
      "C:\\Users\\Tanishk\\AppData\\Local\\Temp/ipykernel_20172/869318862.py:8: SettingWithCopyWarning: \n",
      "A value is trying to be set on a copy of a slice from a DataFrame.\n",
      "Try using .loc[row_indexer,col_indexer] = value instead\n",
      "\n",
      "See the caveats in the documentation: https://pandas.pydata.org/pandas-docs/stable/user_guide/indexing.html#returning-a-view-versus-a-copy\n",
      "  df[col] = df[col].apply(\n"
     ]
    },
    {
     "name": "stdout",
     "output_type": "stream",
     "text": [
      "Final Diff Cost: -0.010799968772889246\n",
      "Final Cost 1.194955209282661\n",
      "Number of Iterations: 1\n",
      "Conf Matrix: Counter({'0,0': 22, '1,1': 20, '0,1': 12, '1,0': 7})\n",
      "Accuracy: 0.6885245901639344\n",
      "-----Iteration 6  Net [16] Lambda 0.01 -----------------\n"
     ]
    },
    {
     "name": "stderr",
     "output_type": "stream",
     "text": [
      "C:\\Users\\Tanishk\\AppData\\Local\\Temp/ipykernel_20172/869318862.py:8: SettingWithCopyWarning: \n",
      "A value is trying to be set on a copy of a slice from a DataFrame.\n",
      "Try using .loc[row_indexer,col_indexer] = value instead\n",
      "\n",
      "See the caveats in the documentation: https://pandas.pydata.org/pandas-docs/stable/user_guide/indexing.html#returning-a-view-versus-a-copy\n",
      "  df[col] = df[col].apply(\n"
     ]
    },
    {
     "name": "stdout",
     "output_type": "stream",
     "text": [
      "Final Diff Cost: -0.018734855877048595\n",
      "Final Cost 1.230586651769934\n",
      "Number of Iterations: 1\n",
      "Conf Matrix: Counter({'0,0': 33, '1,0': 19, '1,1': 8, '0,1': 1})\n",
      "Accuracy: 0.6721311475409836\n",
      "-----Iteration 7  Net [16] Lambda 0.01 -----------------\n"
     ]
    },
    {
     "name": "stderr",
     "output_type": "stream",
     "text": [
      "C:\\Users\\Tanishk\\AppData\\Local\\Temp/ipykernel_20172/869318862.py:8: SettingWithCopyWarning: \n",
      "A value is trying to be set on a copy of a slice from a DataFrame.\n",
      "Try using .loc[row_indexer,col_indexer] = value instead\n",
      "\n",
      "See the caveats in the documentation: https://pandas.pydata.org/pandas-docs/stable/user_guide/indexing.html#returning-a-view-versus-a-copy\n",
      "  df[col] = df[col].apply(\n"
     ]
    },
    {
     "name": "stdout",
     "output_type": "stream",
     "text": [
      "Final Diff Cost: -0.012119956960821021\n",
      "Final Cost 1.305435049134066\n",
      "Number of Iterations: 2\n",
      "Conf Matrix: Counter({'0,0': 33, '1,0': 18, '1,1': 9, '0,1': 1})\n",
      "Accuracy: 0.6885245901639344\n",
      "-----Iteration 8  Net [16] Lambda 0.01 -----------------\n"
     ]
    },
    {
     "name": "stderr",
     "output_type": "stream",
     "text": [
      "C:\\Users\\Tanishk\\AppData\\Local\\Temp/ipykernel_20172/869318862.py:8: SettingWithCopyWarning: \n",
      "A value is trying to be set on a copy of a slice from a DataFrame.\n",
      "Try using .loc[row_indexer,col_indexer] = value instead\n",
      "\n",
      "See the caveats in the documentation: https://pandas.pydata.org/pandas-docs/stable/user_guide/indexing.html#returning-a-view-versus-a-copy\n",
      "  df[col] = df[col].apply(\n"
     ]
    },
    {
     "name": "stdout",
     "output_type": "stream",
     "text": [
      "Final Diff Cost: -0.0024148126892507005\n",
      "Final Cost 1.1604448581542424\n",
      "Number of Iterations: 8\n",
      "Conf Matrix: Counter({'0,0': 24, '1,0': 15, '1,1': 12, '0,1': 9})\n",
      "Accuracy: 0.6\n",
      "-----Iteration 9  Net [16] Lambda 0.01 -----------------\n"
     ]
    },
    {
     "name": "stderr",
     "output_type": "stream",
     "text": [
      "C:\\Users\\Tanishk\\AppData\\Local\\Temp/ipykernel_20172/869318862.py:8: SettingWithCopyWarning: \n",
      "A value is trying to be set on a copy of a slice from a DataFrame.\n",
      "Try using .loc[row_indexer,col_indexer] = value instead\n",
      "\n",
      "See the caveats in the documentation: https://pandas.pydata.org/pandas-docs/stable/user_guide/indexing.html#returning-a-view-versus-a-copy\n",
      "  df[col] = df[col].apply(\n"
     ]
    },
    {
     "name": "stdout",
     "output_type": "stream",
     "text": [
      "Final Diff Cost: -0.006939306058977079\n",
      "Final Cost 1.170802207417591\n",
      "Number of Iterations: 1\n",
      "Conf Matrix: Counter({'0,0': 30, '1,0': 20, '1,1': 7, '0,1': 3})\n",
      "Accuracy: 0.6166666666666667\n",
      "-----Iteration 10  Net [16] Lambda 0.01 -----------------\n"
     ]
    },
    {
     "name": "stderr",
     "output_type": "stream",
     "text": [
      "C:\\Users\\Tanishk\\AppData\\Local\\Temp/ipykernel_20172/869318862.py:8: SettingWithCopyWarning: \n",
      "A value is trying to be set on a copy of a slice from a DataFrame.\n",
      "Try using .loc[row_indexer,col_indexer] = value instead\n",
      "\n",
      "See the caveats in the documentation: https://pandas.pydata.org/pandas-docs/stable/user_guide/indexing.html#returning-a-view-versus-a-copy\n",
      "  df[col] = df[col].apply(\n"
     ]
    },
    {
     "name": "stdout",
     "output_type": "stream",
     "text": [
      "Final Diff Cost: -0.013718086655031492\n",
      "Final Cost 1.238161961385277\n",
      "Number of Iterations: 1\n",
      "Conf Matrix: Counter({'1,1': 24, '0,0': 18, '0,1': 15, '1,0': 3})\n",
      "Accuracy: 0.7\n",
      "Number of instances in test set: 61.0\n",
      "-----Iteration 1  Net [25] Lambda 0.01 -----------------\n"
     ]
    },
    {
     "name": "stderr",
     "output_type": "stream",
     "text": [
      "c:\\Users\\Tanishk\\AppData\\Local\\Programs\\Python\\Python39\\lib\\site-packages\\numpy\\core\\fromnumeric.py:3440: RuntimeWarning: Mean of empty slice.\n",
      "  return _methods._mean(a, axis=axis, dtype=dtype,\n",
      "c:\\Users\\Tanishk\\AppData\\Local\\Programs\\Python\\Python39\\lib\\site-packages\\numpy\\core\\_methods.py:189: RuntimeWarning: invalid value encountered in double_scalars\n",
      "  ret = ret.dtype.type(ret / rcount)\n",
      "C:\\Users\\Tanishk\\AppData\\Local\\Temp/ipykernel_20172/869318862.py:8: SettingWithCopyWarning: \n",
      "A value is trying to be set on a copy of a slice from a DataFrame.\n",
      "Try using .loc[row_indexer,col_indexer] = value instead\n",
      "\n",
      "See the caveats in the documentation: https://pandas.pydata.org/pandas-docs/stable/user_guide/indexing.html#returning-a-view-versus-a-copy\n",
      "  df[col] = df[col].apply(\n"
     ]
    },
    {
     "name": "stdout",
     "output_type": "stream",
     "text": [
      "Final Diff Cost: -9.285043722717656e-05\n",
      "Final Cost 0.909633038987582\n",
      "Number of Iterations: 622\n",
      "Conf Matrix: Counter({'0,0': 29, '1,1': 25, '0,1': 5, '1,0': 3})\n",
      "Accuracy: 0.8709677419354839\n",
      "-----Iteration 2  Net [25] Lambda 0.01 -----------------\n"
     ]
    },
    {
     "name": "stderr",
     "output_type": "stream",
     "text": [
      "C:\\Users\\Tanishk\\AppData\\Local\\Temp/ipykernel_20172/869318862.py:8: SettingWithCopyWarning: \n",
      "A value is trying to be set on a copy of a slice from a DataFrame.\n",
      "Try using .loc[row_indexer,col_indexer] = value instead\n",
      "\n",
      "See the caveats in the documentation: https://pandas.pydata.org/pandas-docs/stable/user_guide/indexing.html#returning-a-view-versus-a-copy\n",
      "  df[col] = df[col].apply(\n"
     ]
    },
    {
     "name": "stdout",
     "output_type": "stream",
     "text": [
      "Final Diff Cost: -0.00019079776547914484\n",
      "Final Cost 1.252034482473128\n",
      "Number of Iterations: 10\n",
      "Conf Matrix: Counter({'0,0': 31, '1,0': 20, '1,1': 7, '0,1': 3})\n",
      "Accuracy: 0.6229508196721312\n",
      "-----Iteration 3  Net [25] Lambda 0.01 -----------------\n"
     ]
    },
    {
     "name": "stderr",
     "output_type": "stream",
     "text": [
      "C:\\Users\\Tanishk\\AppData\\Local\\Temp/ipykernel_20172/869318862.py:8: SettingWithCopyWarning: \n",
      "A value is trying to be set on a copy of a slice from a DataFrame.\n",
      "Try using .loc[row_indexer,col_indexer] = value instead\n",
      "\n",
      "See the caveats in the documentation: https://pandas.pydata.org/pandas-docs/stable/user_guide/indexing.html#returning-a-view-versus-a-copy\n",
      "  df[col] = df[col].apply(\n"
     ]
    },
    {
     "name": "stdout",
     "output_type": "stream",
     "text": [
      "Final Diff Cost: -0.027177426763911994\n",
      "Final Cost 1.377929061017043\n",
      "Number of Iterations: 1\n",
      "Conf Matrix: Counter({'1,1': 26, '0,1': 20, '0,0': 14, '1,0': 1})\n",
      "Accuracy: 0.6557377049180327\n",
      "-----Iteration 4  Net [25] Lambda 0.01 -----------------\n"
     ]
    },
    {
     "name": "stderr",
     "output_type": "stream",
     "text": [
      "C:\\Users\\Tanishk\\AppData\\Local\\Temp/ipykernel_20172/869318862.py:8: SettingWithCopyWarning: \n",
      "A value is trying to be set on a copy of a slice from a DataFrame.\n",
      "Try using .loc[row_indexer,col_indexer] = value instead\n",
      "\n",
      "See the caveats in the documentation: https://pandas.pydata.org/pandas-docs/stable/user_guide/indexing.html#returning-a-view-versus-a-copy\n",
      "  df[col] = df[col].apply(\n"
     ]
    },
    {
     "name": "stdout",
     "output_type": "stream",
     "text": [
      "Final Diff Cost: -0.12670561085372123\n",
      "Final Cost 1.724927052738226\n",
      "Number of Iterations: 1\n",
      "Conf Matrix: Counter({'0,0': 34, '1,0': 27})\n",
      "Accuracy: 0.5573770491803278\n",
      "-----Iteration 5  Net [25] Lambda 0.01 -----------------\n"
     ]
    },
    {
     "name": "stderr",
     "output_type": "stream",
     "text": [
      "C:\\Users\\Tanishk\\AppData\\Local\\Temp/ipykernel_20172/869318862.py:8: SettingWithCopyWarning: \n",
      "A value is trying to be set on a copy of a slice from a DataFrame.\n",
      "Try using .loc[row_indexer,col_indexer] = value instead\n",
      "\n",
      "See the caveats in the documentation: https://pandas.pydata.org/pandas-docs/stable/user_guide/indexing.html#returning-a-view-versus-a-copy\n",
      "  df[col] = df[col].apply(\n"
     ]
    },
    {
     "name": "stdout",
     "output_type": "stream",
     "text": [
      "Final Diff Cost: -0.0026309013731997677\n",
      "Final Cost 1.2542471071407555\n",
      "Number of Iterations: 8\n",
      "Conf Matrix: Counter({'0,0': 30, '1,0': 20, '1,1': 7, '0,1': 4})\n",
      "Accuracy: 0.6065573770491803\n",
      "-----Iteration 6  Net [25] Lambda 0.01 -----------------\n"
     ]
    },
    {
     "name": "stderr",
     "output_type": "stream",
     "text": [
      "C:\\Users\\Tanishk\\AppData\\Local\\Temp/ipykernel_20172/869318862.py:8: SettingWithCopyWarning: \n",
      "A value is trying to be set on a copy of a slice from a DataFrame.\n",
      "Try using .loc[row_indexer,col_indexer] = value instead\n",
      "\n",
      "See the caveats in the documentation: https://pandas.pydata.org/pandas-docs/stable/user_guide/indexing.html#returning-a-view-versus-a-copy\n",
      "  df[col] = df[col].apply(\n"
     ]
    },
    {
     "name": "stdout",
     "output_type": "stream",
     "text": [
      "Final Diff Cost: -0.0008252518133253783\n",
      "Final Cost 1.3416211102968112\n",
      "Number of Iterations: 1\n",
      "Conf Matrix: Counter({'1,1': 25, '0,1': 21, '0,0': 13, '1,0': 2})\n",
      "Accuracy: 0.6229508196721312\n",
      "-----Iteration 7  Net [25] Lambda 0.01 -----------------\n"
     ]
    },
    {
     "name": "stderr",
     "output_type": "stream",
     "text": [
      "C:\\Users\\Tanishk\\AppData\\Local\\Temp/ipykernel_20172/869318862.py:8: SettingWithCopyWarning: \n",
      "A value is trying to be set on a copy of a slice from a DataFrame.\n",
      "Try using .loc[row_indexer,col_indexer] = value instead\n",
      "\n",
      "See the caveats in the documentation: https://pandas.pydata.org/pandas-docs/stable/user_guide/indexing.html#returning-a-view-versus-a-copy\n",
      "  df[col] = df[col].apply(\n"
     ]
    },
    {
     "name": "stdout",
     "output_type": "stream",
     "text": [
      "Final Diff Cost: -0.0012794835268794547\n",
      "Final Cost 1.2571301815186338\n",
      "Number of Iterations: 7\n",
      "Conf Matrix: Counter({'0,0': 32, '1,0': 19, '1,1': 8, '0,1': 2})\n",
      "Accuracy: 0.6557377049180327\n",
      "-----Iteration 8  Net [25] Lambda 0.01 -----------------\n"
     ]
    },
    {
     "name": "stderr",
     "output_type": "stream",
     "text": [
      "C:\\Users\\Tanishk\\AppData\\Local\\Temp/ipykernel_20172/869318862.py:8: SettingWithCopyWarning: \n",
      "A value is trying to be set on a copy of a slice from a DataFrame.\n",
      "Try using .loc[row_indexer,col_indexer] = value instead\n",
      "\n",
      "See the caveats in the documentation: https://pandas.pydata.org/pandas-docs/stable/user_guide/indexing.html#returning-a-view-versus-a-copy\n",
      "  df[col] = df[col].apply(\n"
     ]
    },
    {
     "name": "stdout",
     "output_type": "stream",
     "text": [
      "Final Diff Cost: -0.004336389850396749\n",
      "Final Cost 1.2324004586926776\n",
      "Number of Iterations: 1\n",
      "Conf Matrix: Counter({'0,0': 20, '1,1': 20, '0,1': 13, '1,0': 7})\n",
      "Accuracy: 0.6666666666666666\n",
      "-----Iteration 9  Net [25] Lambda 0.01 -----------------\n"
     ]
    },
    {
     "name": "stderr",
     "output_type": "stream",
     "text": [
      "C:\\Users\\Tanishk\\AppData\\Local\\Temp/ipykernel_20172/869318862.py:8: SettingWithCopyWarning: \n",
      "A value is trying to be set on a copy of a slice from a DataFrame.\n",
      "Try using .loc[row_indexer,col_indexer] = value instead\n",
      "\n",
      "See the caveats in the documentation: https://pandas.pydata.org/pandas-docs/stable/user_guide/indexing.html#returning-a-view-versus-a-copy\n",
      "  df[col] = df[col].apply(\n"
     ]
    },
    {
     "name": "stdout",
     "output_type": "stream",
     "text": [
      "Final Diff Cost: -0.03315595205683253\n",
      "Final Cost 1.2787970828292248\n",
      "Number of Iterations: 1\n",
      "Conf Matrix: Counter({'0,0': 29, '1,0': 20, '1,1': 7, '0,1': 4})\n",
      "Accuracy: 0.6\n",
      "-----Iteration 10  Net [25] Lambda 0.01 -----------------\n"
     ]
    },
    {
     "name": "stderr",
     "output_type": "stream",
     "text": [
      "C:\\Users\\Tanishk\\AppData\\Local\\Temp/ipykernel_20172/869318862.py:8: SettingWithCopyWarning: \n",
      "A value is trying to be set on a copy of a slice from a DataFrame.\n",
      "Try using .loc[row_indexer,col_indexer] = value instead\n",
      "\n",
      "See the caveats in the documentation: https://pandas.pydata.org/pandas-docs/stable/user_guide/indexing.html#returning-a-view-versus-a-copy\n",
      "  df[col] = df[col].apply(\n"
     ]
    },
    {
     "name": "stdout",
     "output_type": "stream",
     "text": [
      "Final Diff Cost: -0.028793075271728252\n",
      "Final Cost 1.3543946295262141\n",
      "Number of Iterations: 2\n",
      "Conf Matrix: Counter({'0,0': 30, '1,0': 22, '1,1': 5, '0,1': 3})\n",
      "Accuracy: 0.5833333333333334\n",
      "Number of instances in test set: 61.0\n",
      "-----Iteration 1  Net [32] Lambda 0.01 -----------------\n"
     ]
    },
    {
     "name": "stderr",
     "output_type": "stream",
     "text": [
      "c:\\Users\\Tanishk\\AppData\\Local\\Programs\\Python\\Python39\\lib\\site-packages\\numpy\\core\\fromnumeric.py:3440: RuntimeWarning: Mean of empty slice.\n",
      "  return _methods._mean(a, axis=axis, dtype=dtype,\n",
      "c:\\Users\\Tanishk\\AppData\\Local\\Programs\\Python\\Python39\\lib\\site-packages\\numpy\\core\\_methods.py:189: RuntimeWarning: invalid value encountered in double_scalars\n",
      "  ret = ret.dtype.type(ret / rcount)\n",
      "C:\\Users\\Tanishk\\AppData\\Local\\Temp/ipykernel_20172/869318862.py:8: SettingWithCopyWarning: \n",
      "A value is trying to be set on a copy of a slice from a DataFrame.\n",
      "Try using .loc[row_indexer,col_indexer] = value instead\n",
      "\n",
      "See the caveats in the documentation: https://pandas.pydata.org/pandas-docs/stable/user_guide/indexing.html#returning-a-view-versus-a-copy\n",
      "  df[col] = df[col].apply(\n"
     ]
    },
    {
     "name": "stdout",
     "output_type": "stream",
     "text": [
      "Final Diff Cost: 6.527450050164418e-05\n",
      "Final Cost 1.154550973725\n",
      "Number of Iterations: 1796\n",
      "Conf Matrix: Counter({'0,0': 25, '1,1': 15, '1,0': 13, '0,1': 9})\n",
      "Accuracy: 0.6451612903225806\n",
      "-----Iteration 2  Net [32] Lambda 0.01 -----------------\n"
     ]
    },
    {
     "name": "stderr",
     "output_type": "stream",
     "text": [
      "C:\\Users\\Tanishk\\AppData\\Local\\Temp/ipykernel_20172/869318862.py:8: SettingWithCopyWarning: \n",
      "A value is trying to be set on a copy of a slice from a DataFrame.\n",
      "Try using .loc[row_indexer,col_indexer] = value instead\n",
      "\n",
      "See the caveats in the documentation: https://pandas.pydata.org/pandas-docs/stable/user_guide/indexing.html#returning-a-view-versus-a-copy\n",
      "  df[col] = df[col].apply(\n"
     ]
    },
    {
     "name": "stdout",
     "output_type": "stream",
     "text": [
      "Final Diff Cost: -0.0010859200409198966\n",
      "Final Cost 1.1808936585556113\n",
      "Number of Iterations: 2\n",
      "Conf Matrix: Counter({'1,1': 22, '0,0': 21, '0,1': 13, '1,0': 5})\n",
      "Accuracy: 0.7049180327868853\n",
      "-----Iteration 3  Net [32] Lambda 0.01 -----------------\n"
     ]
    },
    {
     "name": "stderr",
     "output_type": "stream",
     "text": [
      "C:\\Users\\Tanishk\\AppData\\Local\\Temp/ipykernel_20172/869318862.py:8: SettingWithCopyWarning: \n",
      "A value is trying to be set on a copy of a slice from a DataFrame.\n",
      "Try using .loc[row_indexer,col_indexer] = value instead\n",
      "\n",
      "See the caveats in the documentation: https://pandas.pydata.org/pandas-docs/stable/user_guide/indexing.html#returning-a-view-versus-a-copy\n",
      "  df[col] = df[col].apply(\n"
     ]
    },
    {
     "name": "stdout",
     "output_type": "stream",
     "text": [
      "Final Diff Cost: 4.806387169287163e-05\n",
      "Final Cost 1.190425112214859\n",
      "Number of Iterations: 2\n",
      "Conf Matrix: Counter({'0,0': 31, '1,0': 15, '1,1': 12, '0,1': 3})\n",
      "Accuracy: 0.7049180327868853\n",
      "-----Iteration 4  Net [32] Lambda 0.01 -----------------\n"
     ]
    },
    {
     "name": "stderr",
     "output_type": "stream",
     "text": [
      "C:\\Users\\Tanishk\\AppData\\Local\\Temp/ipykernel_20172/869318862.py:8: SettingWithCopyWarning: \n",
      "A value is trying to be set on a copy of a slice from a DataFrame.\n",
      "Try using .loc[row_indexer,col_indexer] = value instead\n",
      "\n",
      "See the caveats in the documentation: https://pandas.pydata.org/pandas-docs/stable/user_guide/indexing.html#returning-a-view-versus-a-copy\n",
      "  df[col] = df[col].apply(\n"
     ]
    },
    {
     "name": "stdout",
     "output_type": "stream",
     "text": [
      "Final Diff Cost: -0.017721193693422288\n",
      "Final Cost 1.2271932188483023\n",
      "Number of Iterations: 2\n",
      "Conf Matrix: Counter({'0,1': 21, '1,1': 20, '0,0': 13, '1,0': 7})\n",
      "Accuracy: 0.5409836065573771\n",
      "-----Iteration 5  Net [32] Lambda 0.01 -----------------\n"
     ]
    },
    {
     "name": "stderr",
     "output_type": "stream",
     "text": [
      "C:\\Users\\Tanishk\\AppData\\Local\\Temp/ipykernel_20172/869318862.py:8: SettingWithCopyWarning: \n",
      "A value is trying to be set on a copy of a slice from a DataFrame.\n",
      "Try using .loc[row_indexer,col_indexer] = value instead\n",
      "\n",
      "See the caveats in the documentation: https://pandas.pydata.org/pandas-docs/stable/user_guide/indexing.html#returning-a-view-versus-a-copy\n",
      "  df[col] = df[col].apply(\n"
     ]
    },
    {
     "name": "stdout",
     "output_type": "stream",
     "text": [
      "Final Diff Cost: -0.00042154092357638007\n",
      "Final Cost 1.176352163608606\n",
      "Number of Iterations: 4\n",
      "Conf Matrix: Counter({'0,0': 21, '1,1': 20, '0,1': 13, '1,0': 7})\n",
      "Accuracy: 0.6721311475409836\n",
      "-----Iteration 6  Net [32] Lambda 0.01 -----------------\n"
     ]
    },
    {
     "name": "stderr",
     "output_type": "stream",
     "text": [
      "C:\\Users\\Tanishk\\AppData\\Local\\Temp/ipykernel_20172/869318862.py:8: SettingWithCopyWarning: \n",
      "A value is trying to be set on a copy of a slice from a DataFrame.\n",
      "Try using .loc[row_indexer,col_indexer] = value instead\n",
      "\n",
      "See the caveats in the documentation: https://pandas.pydata.org/pandas-docs/stable/user_guide/indexing.html#returning-a-view-versus-a-copy\n",
      "  df[col] = df[col].apply(\n"
     ]
    },
    {
     "name": "stdout",
     "output_type": "stream",
     "text": [
      "Final Diff Cost: -0.0005123982530708115\n",
      "Final Cost 1.18417969751744\n",
      "Number of Iterations: 8\n",
      "Conf Matrix: Counter({'0,0': 28, '1,1': 17, '1,0': 10, '0,1': 6})\n",
      "Accuracy: 0.7377049180327869\n",
      "-----Iteration 7  Net [32] Lambda 0.01 -----------------\n"
     ]
    },
    {
     "name": "stderr",
     "output_type": "stream",
     "text": [
      "C:\\Users\\Tanishk\\AppData\\Local\\Temp/ipykernel_20172/869318862.py:8: SettingWithCopyWarning: \n",
      "A value is trying to be set on a copy of a slice from a DataFrame.\n",
      "Try using .loc[row_indexer,col_indexer] = value instead\n",
      "\n",
      "See the caveats in the documentation: https://pandas.pydata.org/pandas-docs/stable/user_guide/indexing.html#returning-a-view-versus-a-copy\n",
      "  df[col] = df[col].apply(\n"
     ]
    },
    {
     "name": "stdout",
     "output_type": "stream",
     "text": [
      "Final Diff Cost: -0.00020562473392660152\n",
      "Final Cost 1.1619998520175803\n",
      "Number of Iterations: 3\n",
      "Conf Matrix: Counter({'0,0': 27, '1,0': 16, '1,1': 11, '0,1': 7})\n",
      "Accuracy: 0.6229508196721312\n",
      "-----Iteration 8  Net [32] Lambda 0.01 -----------------\n"
     ]
    },
    {
     "name": "stderr",
     "output_type": "stream",
     "text": [
      "C:\\Users\\Tanishk\\AppData\\Local\\Temp/ipykernel_20172/869318862.py:8: SettingWithCopyWarning: \n",
      "A value is trying to be set on a copy of a slice from a DataFrame.\n",
      "Try using .loc[row_indexer,col_indexer] = value instead\n",
      "\n",
      "See the caveats in the documentation: https://pandas.pydata.org/pandas-docs/stable/user_guide/indexing.html#returning-a-view-versus-a-copy\n",
      "  df[col] = df[col].apply(\n"
     ]
    },
    {
     "name": "stdout",
     "output_type": "stream",
     "text": [
      "Final Diff Cost: -0.027508646495826294\n",
      "Final Cost 1.1415233870508334\n",
      "Number of Iterations: 1\n",
      "Conf Matrix: Counter({'0,0': 30, '1,1': 14, '1,0': 13, '0,1': 3})\n",
      "Accuracy: 0.7333333333333333\n",
      "-----Iteration 9  Net [32] Lambda 0.01 -----------------\n"
     ]
    },
    {
     "name": "stderr",
     "output_type": "stream",
     "text": [
      "C:\\Users\\Tanishk\\AppData\\Local\\Temp/ipykernel_20172/869318862.py:8: SettingWithCopyWarning: \n",
      "A value is trying to be set on a copy of a slice from a DataFrame.\n",
      "Try using .loc[row_indexer,col_indexer] = value instead\n",
      "\n",
      "See the caveats in the documentation: https://pandas.pydata.org/pandas-docs/stable/user_guide/indexing.html#returning-a-view-versus-a-copy\n",
      "  df[col] = df[col].apply(\n"
     ]
    },
    {
     "name": "stdout",
     "output_type": "stream",
     "text": [
      "Final Diff Cost: -0.008248299443951446\n",
      "Final Cost 1.450299734068614\n",
      "Number of Iterations: 3\n",
      "Conf Matrix: Counter({'0,1': 27, '1,1': 25, '0,0': 6, '1,0': 2})\n",
      "Accuracy: 0.5166666666666667\n",
      "-----Iteration 10  Net [32] Lambda 0.01 -----------------\n"
     ]
    },
    {
     "name": "stderr",
     "output_type": "stream",
     "text": [
      "C:\\Users\\Tanishk\\AppData\\Local\\Temp/ipykernel_20172/869318862.py:8: SettingWithCopyWarning: \n",
      "A value is trying to be set on a copy of a slice from a DataFrame.\n",
      "Try using .loc[row_indexer,col_indexer] = value instead\n",
      "\n",
      "See the caveats in the documentation: https://pandas.pydata.org/pandas-docs/stable/user_guide/indexing.html#returning-a-view-versus-a-copy\n",
      "  df[col] = df[col].apply(\n"
     ]
    },
    {
     "name": "stdout",
     "output_type": "stream",
     "text": [
      "Final Diff Cost: 7.02829607954758e-05\n",
      "Final Cost 1.165207414467242\n",
      "Number of Iterations: 24\n",
      "Conf Matrix: Counter({'0,0': 26, '1,1': 17, '1,0': 10, '0,1': 7})\n",
      "Accuracy: 0.7166666666666667\n",
      "Number of instances in test set: 61.0\n",
      "-----Iteration 1  Net [64] Lambda 0.01 -----------------\n"
     ]
    },
    {
     "name": "stderr",
     "output_type": "stream",
     "text": [
      "c:\\Users\\Tanishk\\AppData\\Local\\Programs\\Python\\Python39\\lib\\site-packages\\numpy\\core\\fromnumeric.py:3440: RuntimeWarning: Mean of empty slice.\n",
      "  return _methods._mean(a, axis=axis, dtype=dtype,\n",
      "c:\\Users\\Tanishk\\AppData\\Local\\Programs\\Python\\Python39\\lib\\site-packages\\numpy\\core\\_methods.py:189: RuntimeWarning: invalid value encountered in double_scalars\n",
      "  ret = ret.dtype.type(ret / rcount)\n",
      "C:\\Users\\Tanishk\\AppData\\Local\\Temp/ipykernel_20172/869318862.py:8: SettingWithCopyWarning: \n",
      "A value is trying to be set on a copy of a slice from a DataFrame.\n",
      "Try using .loc[row_indexer,col_indexer] = value instead\n",
      "\n",
      "See the caveats in the documentation: https://pandas.pydata.org/pandas-docs/stable/user_guide/indexing.html#returning-a-view-versus-a-copy\n",
      "  df[col] = df[col].apply(\n"
     ]
    },
    {
     "name": "stdout",
     "output_type": "stream",
     "text": [
      "Final Diff Cost: 8.3975197508801e-05\n",
      "Final Cost 1.1435743336870665\n",
      "Number of Iterations: 1279\n",
      "Conf Matrix: Counter({'0,0': 23, '1,0': 17, '0,1': 11, '1,1': 11})\n",
      "Accuracy: 0.5483870967741935\n",
      "-----Iteration 2  Net [64] Lambda 0.01 -----------------\n"
     ]
    },
    {
     "name": "stderr",
     "output_type": "stream",
     "text": [
      "C:\\Users\\Tanishk\\AppData\\Local\\Temp/ipykernel_20172/869318862.py:8: SettingWithCopyWarning: \n",
      "A value is trying to be set on a copy of a slice from a DataFrame.\n",
      "Try using .loc[row_indexer,col_indexer] = value instead\n",
      "\n",
      "See the caveats in the documentation: https://pandas.pydata.org/pandas-docs/stable/user_guide/indexing.html#returning-a-view-versus-a-copy\n",
      "  df[col] = df[col].apply(\n"
     ]
    },
    {
     "name": "stdout",
     "output_type": "stream",
     "text": [
      "Final Diff Cost: -0.0003484442073060645\n",
      "Final Cost 1.1991167531390985\n",
      "Number of Iterations: 5\n",
      "Conf Matrix: Counter({'0,0': 29, '1,1': 16, '1,0': 11, '0,1': 5})\n",
      "Accuracy: 0.7377049180327869\n",
      "-----Iteration 3  Net [64] Lambda 0.01 -----------------\n"
     ]
    },
    {
     "name": "stderr",
     "output_type": "stream",
     "text": [
      "C:\\Users\\Tanishk\\AppData\\Local\\Temp/ipykernel_20172/869318862.py:8: SettingWithCopyWarning: \n",
      "A value is trying to be set on a copy of a slice from a DataFrame.\n",
      "Try using .loc[row_indexer,col_indexer] = value instead\n",
      "\n",
      "See the caveats in the documentation: https://pandas.pydata.org/pandas-docs/stable/user_guide/indexing.html#returning-a-view-versus-a-copy\n",
      "  df[col] = df[col].apply(\n"
     ]
    },
    {
     "name": "stdout",
     "output_type": "stream",
     "text": [
      "Final Diff Cost: -0.0022534410203933763\n",
      "Final Cost 1.115272025834588\n",
      "Number of Iterations: 7\n",
      "Conf Matrix: Counter({'0,0': 32, '1,1': 17, '1,0': 10, '0,1': 2})\n",
      "Accuracy: 0.8032786885245902\n",
      "-----Iteration 4  Net [64] Lambda 0.01 -----------------\n"
     ]
    },
    {
     "name": "stderr",
     "output_type": "stream",
     "text": [
      "C:\\Users\\Tanishk\\AppData\\Local\\Temp/ipykernel_20172/869318862.py:8: SettingWithCopyWarning: \n",
      "A value is trying to be set on a copy of a slice from a DataFrame.\n",
      "Try using .loc[row_indexer,col_indexer] = value instead\n",
      "\n",
      "See the caveats in the documentation: https://pandas.pydata.org/pandas-docs/stable/user_guide/indexing.html#returning-a-view-versus-a-copy\n",
      "  df[col] = df[col].apply(\n"
     ]
    },
    {
     "name": "stdout",
     "output_type": "stream",
     "text": [
      "Final Diff Cost: -0.04652653147207153\n",
      "Final Cost 1.294731629006759\n",
      "Number of Iterations: 1\n",
      "Conf Matrix: Counter({'1,1': 22, '0,1': 18, '0,0': 16, '1,0': 5})\n",
      "Accuracy: 0.6229508196721312\n",
      "-----Iteration 5  Net [64] Lambda 0.01 -----------------\n"
     ]
    },
    {
     "name": "stderr",
     "output_type": "stream",
     "text": [
      "C:\\Users\\Tanishk\\AppData\\Local\\Temp/ipykernel_20172/869318862.py:8: SettingWithCopyWarning: \n",
      "A value is trying to be set on a copy of a slice from a DataFrame.\n",
      "Try using .loc[row_indexer,col_indexer] = value instead\n",
      "\n",
      "See the caveats in the documentation: https://pandas.pydata.org/pandas-docs/stable/user_guide/indexing.html#returning-a-view-versus-a-copy\n",
      "  df[col] = df[col].apply(\n"
     ]
    },
    {
     "name": "stdout",
     "output_type": "stream",
     "text": [
      "Final Diff Cost: -0.0009546093310277559\n",
      "Final Cost 1.1905038901235234\n",
      "Number of Iterations: 1\n",
      "Conf Matrix: Counter({'0,0': 29, '1,1': 15, '1,0': 12, '0,1': 5})\n",
      "Accuracy: 0.7213114754098361\n",
      "-----Iteration 6  Net [64] Lambda 0.01 -----------------\n"
     ]
    },
    {
     "name": "stderr",
     "output_type": "stream",
     "text": [
      "C:\\Users\\Tanishk\\AppData\\Local\\Temp/ipykernel_20172/869318862.py:8: SettingWithCopyWarning: \n",
      "A value is trying to be set on a copy of a slice from a DataFrame.\n",
      "Try using .loc[row_indexer,col_indexer] = value instead\n",
      "\n",
      "See the caveats in the documentation: https://pandas.pydata.org/pandas-docs/stable/user_guide/indexing.html#returning-a-view-versus-a-copy\n",
      "  df[col] = df[col].apply(\n"
     ]
    },
    {
     "name": "stdout",
     "output_type": "stream",
     "text": [
      "Final Diff Cost: -0.00511915912636729\n",
      "Final Cost 1.2063829707186726\n",
      "Number of Iterations: 1\n",
      "Conf Matrix: Counter({'0,0': 31, '1,1': 16, '1,0': 11, '0,1': 3})\n",
      "Accuracy: 0.7704918032786885\n",
      "-----Iteration 7  Net [64] Lambda 0.01 -----------------\n"
     ]
    },
    {
     "name": "stderr",
     "output_type": "stream",
     "text": [
      "C:\\Users\\Tanishk\\AppData\\Local\\Temp/ipykernel_20172/869318862.py:8: SettingWithCopyWarning: \n",
      "A value is trying to be set on a copy of a slice from a DataFrame.\n",
      "Try using .loc[row_indexer,col_indexer] = value instead\n",
      "\n",
      "See the caveats in the documentation: https://pandas.pydata.org/pandas-docs/stable/user_guide/indexing.html#returning-a-view-versus-a-copy\n",
      "  df[col] = df[col].apply(\n"
     ]
    },
    {
     "name": "stdout",
     "output_type": "stream",
     "text": [
      "Final Diff Cost: -0.020561412896591857\n",
      "Final Cost 1.2632571089407727\n",
      "Number of Iterations: 1\n",
      "Conf Matrix: Counter({'1,1': 21, '0,0': 18, '0,1': 16, '1,0': 6})\n",
      "Accuracy: 0.639344262295082\n",
      "-----Iteration 8  Net [64] Lambda 0.01 -----------------\n"
     ]
    },
    {
     "name": "stderr",
     "output_type": "stream",
     "text": [
      "C:\\Users\\Tanishk\\AppData\\Local\\Temp/ipykernel_20172/869318862.py:8: SettingWithCopyWarning: \n",
      "A value is trying to be set on a copy of a slice from a DataFrame.\n",
      "Try using .loc[row_indexer,col_indexer] = value instead\n",
      "\n",
      "See the caveats in the documentation: https://pandas.pydata.org/pandas-docs/stable/user_guide/indexing.html#returning-a-view-versus-a-copy\n",
      "  df[col] = df[col].apply(\n"
     ]
    },
    {
     "name": "stdout",
     "output_type": "stream",
     "text": [
      "Final Diff Cost: -0.0004873301084884485\n",
      "Final Cost 1.2152043461835174\n",
      "Number of Iterations: 2\n",
      "Conf Matrix: Counter({'0,0': 20, '1,1': 19, '0,1': 13, '1,0': 8})\n",
      "Accuracy: 0.65\n",
      "-----Iteration 9  Net [64] Lambda 0.01 -----------------\n"
     ]
    },
    {
     "name": "stderr",
     "output_type": "stream",
     "text": [
      "C:\\Users\\Tanishk\\AppData\\Local\\Temp/ipykernel_20172/869318862.py:8: SettingWithCopyWarning: \n",
      "A value is trying to be set on a copy of a slice from a DataFrame.\n",
      "Try using .loc[row_indexer,col_indexer] = value instead\n",
      "\n",
      "See the caveats in the documentation: https://pandas.pydata.org/pandas-docs/stable/user_guide/indexing.html#returning-a-view-versus-a-copy\n",
      "  df[col] = df[col].apply(\n"
     ]
    },
    {
     "name": "stdout",
     "output_type": "stream",
     "text": [
      "Final Diff Cost: -0.01659460520931244\n",
      "Final Cost 1.2793568086265603\n",
      "Number of Iterations: 1\n",
      "Conf Matrix: Counter({'0,0': 33, '1,0': 17, '1,1': 10})\n",
      "Accuracy: 0.7166666666666667\n",
      "-----Iteration 10  Net [64] Lambda 0.01 -----------------\n"
     ]
    },
    {
     "name": "stderr",
     "output_type": "stream",
     "text": [
      "C:\\Users\\Tanishk\\AppData\\Local\\Temp/ipykernel_20172/869318862.py:8: SettingWithCopyWarning: \n",
      "A value is trying to be set on a copy of a slice from a DataFrame.\n",
      "Try using .loc[row_indexer,col_indexer] = value instead\n",
      "\n",
      "See the caveats in the documentation: https://pandas.pydata.org/pandas-docs/stable/user_guide/indexing.html#returning-a-view-versus-a-copy\n",
      "  df[col] = df[col].apply(\n"
     ]
    },
    {
     "name": "stdout",
     "output_type": "stream",
     "text": [
      "Final Diff Cost: -0.00012938671529205692\n",
      "Final Cost 1.1822360832203243\n",
      "Number of Iterations: 9\n",
      "Conf Matrix: Counter({'0,0': 28, '1,0': 14, '1,1': 13, '0,1': 5})\n",
      "Accuracy: 0.6833333333333333\n",
      "Number of instances in test set: 61.0\n",
      "-----Iteration 1  Net [4, 4, 4] Lambda 0.01 -----------------\n"
     ]
    },
    {
     "name": "stderr",
     "output_type": "stream",
     "text": [
      "c:\\Users\\Tanishk\\AppData\\Local\\Programs\\Python\\Python39\\lib\\site-packages\\numpy\\core\\fromnumeric.py:3440: RuntimeWarning: Mean of empty slice.\n",
      "  return _methods._mean(a, axis=axis, dtype=dtype,\n",
      "c:\\Users\\Tanishk\\AppData\\Local\\Programs\\Python\\Python39\\lib\\site-packages\\numpy\\core\\_methods.py:189: RuntimeWarning: invalid value encountered in double_scalars\n",
      "  ret = ret.dtype.type(ret / rcount)\n",
      "C:\\Users\\Tanishk\\AppData\\Local\\Temp/ipykernel_20172/869318862.py:8: SettingWithCopyWarning: \n",
      "A value is trying to be set on a copy of a slice from a DataFrame.\n",
      "Try using .loc[row_indexer,col_indexer] = value instead\n",
      "\n",
      "See the caveats in the documentation: https://pandas.pydata.org/pandas-docs/stable/user_guide/indexing.html#returning-a-view-versus-a-copy\n",
      "  df[col] = df[col].apply(\n"
     ]
    },
    {
     "name": "stdout",
     "output_type": "stream",
     "text": [
      "Final Diff Cost: 9.47287328789681e-05\n",
      "Final Cost 1.3778840574142375\n",
      "Number of Iterations: 85\n",
      "Conf Matrix: Counter({'0,0': 34, '1,0': 28})\n",
      "Accuracy: 0.5483870967741935\n",
      "-----Iteration 2  Net [4, 4, 4] Lambda 0.01 -----------------\n"
     ]
    },
    {
     "name": "stderr",
     "output_type": "stream",
     "text": [
      "C:\\Users\\Tanishk\\AppData\\Local\\Temp/ipykernel_20172/869318862.py:8: SettingWithCopyWarning: \n",
      "A value is trying to be set on a copy of a slice from a DataFrame.\n",
      "Try using .loc[row_indexer,col_indexer] = value instead\n",
      "\n",
      "See the caveats in the documentation: https://pandas.pydata.org/pandas-docs/stable/user_guide/indexing.html#returning-a-view-versus-a-copy\n",
      "  df[col] = df[col].apply(\n"
     ]
    },
    {
     "name": "stdout",
     "output_type": "stream",
     "text": [
      "Final Diff Cost: 8.72427899734074e-05\n",
      "Final Cost 1.3782296062116173\n",
      "Number of Iterations: 1\n",
      "Conf Matrix: Counter({'0,0': 34, '1,0': 27})\n",
      "Accuracy: 0.5573770491803278\n",
      "-----Iteration 3  Net [4, 4, 4] Lambda 0.01 -----------------\n"
     ]
    },
    {
     "name": "stderr",
     "output_type": "stream",
     "text": [
      "C:\\Users\\Tanishk\\AppData\\Local\\Temp/ipykernel_20172/869318862.py:8: SettingWithCopyWarning: \n",
      "A value is trying to be set on a copy of a slice from a DataFrame.\n",
      "Try using .loc[row_indexer,col_indexer] = value instead\n",
      "\n",
      "See the caveats in the documentation: https://pandas.pydata.org/pandas-docs/stable/user_guide/indexing.html#returning-a-view-versus-a-copy\n",
      "  df[col] = df[col].apply(\n"
     ]
    },
    {
     "name": "stdout",
     "output_type": "stream",
     "text": [
      "Final Diff Cost: 8.358636483252191e-05\n",
      "Final Cost 1.37812248825449\n",
      "Number of Iterations: 1\n",
      "Conf Matrix: Counter({'0,0': 34, '1,0': 27})\n",
      "Accuracy: 0.5573770491803278\n",
      "-----Iteration 4  Net [4, 4, 4] Lambda 0.01 -----------------\n"
     ]
    },
    {
     "name": "stderr",
     "output_type": "stream",
     "text": [
      "C:\\Users\\Tanishk\\AppData\\Local\\Temp/ipykernel_20172/869318862.py:8: SettingWithCopyWarning: \n",
      "A value is trying to be set on a copy of a slice from a DataFrame.\n",
      "Try using .loc[row_indexer,col_indexer] = value instead\n",
      "\n",
      "See the caveats in the documentation: https://pandas.pydata.org/pandas-docs/stable/user_guide/indexing.html#returning-a-view-versus-a-copy\n",
      "  df[col] = df[col].apply(\n"
     ]
    },
    {
     "name": "stdout",
     "output_type": "stream",
     "text": [
      "Final Diff Cost: 7.203825022084054e-05\n",
      "Final Cost 1.3776952626252017\n",
      "Number of Iterations: 1\n",
      "Conf Matrix: Counter({'0,0': 34, '1,0': 27})\n",
      "Accuracy: 0.5573770491803278\n",
      "-----Iteration 5  Net [4, 4, 4] Lambda 0.01 -----------------\n"
     ]
    },
    {
     "name": "stderr",
     "output_type": "stream",
     "text": [
      "C:\\Users\\Tanishk\\AppData\\Local\\Temp/ipykernel_20172/869318862.py:8: SettingWithCopyWarning: \n",
      "A value is trying to be set on a copy of a slice from a DataFrame.\n",
      "Try using .loc[row_indexer,col_indexer] = value instead\n",
      "\n",
      "See the caveats in the documentation: https://pandas.pydata.org/pandas-docs/stable/user_guide/indexing.html#returning-a-view-versus-a-copy\n",
      "  df[col] = df[col].apply(\n"
     ]
    },
    {
     "name": "stdout",
     "output_type": "stream",
     "text": [
      "Final Diff Cost: 7.237347418498352e-05\n",
      "Final Cost 1.3779708068713314\n",
      "Number of Iterations: 1\n",
      "Conf Matrix: Counter({'0,0': 34, '1,0': 27})\n",
      "Accuracy: 0.5573770491803278\n",
      "-----Iteration 6  Net [4, 4, 4] Lambda 0.01 -----------------\n"
     ]
    },
    {
     "name": "stderr",
     "output_type": "stream",
     "text": [
      "C:\\Users\\Tanishk\\AppData\\Local\\Temp/ipykernel_20172/869318862.py:8: SettingWithCopyWarning: \n",
      "A value is trying to be set on a copy of a slice from a DataFrame.\n",
      "Try using .loc[row_indexer,col_indexer] = value instead\n",
      "\n",
      "See the caveats in the documentation: https://pandas.pydata.org/pandas-docs/stable/user_guide/indexing.html#returning-a-view-versus-a-copy\n",
      "  df[col] = df[col].apply(\n"
     ]
    },
    {
     "name": "stdout",
     "output_type": "stream",
     "text": [
      "Final Diff Cost: 6.65994170352402e-05\n",
      "Final Cost 1.3779105546753851\n",
      "Number of Iterations: 1\n",
      "Conf Matrix: Counter({'0,0': 34, '1,0': 27})\n",
      "Accuracy: 0.5573770491803278\n",
      "-----Iteration 7  Net [4, 4, 4] Lambda 0.01 -----------------\n"
     ]
    },
    {
     "name": "stderr",
     "output_type": "stream",
     "text": [
      "C:\\Users\\Tanishk\\AppData\\Local\\Temp/ipykernel_20172/869318862.py:8: SettingWithCopyWarning: \n",
      "A value is trying to be set on a copy of a slice from a DataFrame.\n",
      "Try using .loc[row_indexer,col_indexer] = value instead\n",
      "\n",
      "See the caveats in the documentation: https://pandas.pydata.org/pandas-docs/stable/user_guide/indexing.html#returning-a-view-versus-a-copy\n",
      "  df[col] = df[col].apply(\n"
     ]
    },
    {
     "name": "stdout",
     "output_type": "stream",
     "text": [
      "Final Diff Cost: 5.860865557716366e-05\n",
      "Final Cost 1.377727605446617\n",
      "Number of Iterations: 1\n",
      "Conf Matrix: Counter({'0,0': 34, '1,0': 27})\n",
      "Accuracy: 0.5573770491803278\n",
      "-----Iteration 8  Net [4, 4, 4] Lambda 0.01 -----------------\n",
      "Final Diff Cost: 6.28906154509501e-05\n",
      "Final Cost 1.3774625097282847\n",
      "Number of Iterations:"
     ]
    },
    {
     "name": "stderr",
     "output_type": "stream",
     "text": [
      "C:\\Users\\Tanishk\\AppData\\Local\\Temp/ipykernel_20172/869318862.py:8: SettingWithCopyWarning: \n",
      "A value is trying to be set on a copy of a slice from a DataFrame.\n",
      "Try using .loc[row_indexer,col_indexer] = value instead\n",
      "\n",
      "See the caveats in the documentation: https://pandas.pydata.org/pandas-docs/stable/user_guide/indexing.html#returning-a-view-versus-a-copy\n",
      "  df[col] = df[col].apply(\n"
     ]
    },
    {
     "name": "stdout",
     "output_type": "stream",
     "text": [
      " 1\n",
      "Conf Matrix: Counter({'0,0': 33, '1,0': 27})\n",
      "Accuracy: 0.55\n",
      "-----Iteration 9  Net [4, 4, 4] Lambda 0.01 -----------------\n"
     ]
    },
    {
     "name": "stderr",
     "output_type": "stream",
     "text": [
      "C:\\Users\\Tanishk\\AppData\\Local\\Temp/ipykernel_20172/869318862.py:8: SettingWithCopyWarning: \n",
      "A value is trying to be set on a copy of a slice from a DataFrame.\n",
      "Try using .loc[row_indexer,col_indexer] = value instead\n",
      "\n",
      "See the caveats in the documentation: https://pandas.pydata.org/pandas-docs/stable/user_guide/indexing.html#returning-a-view-versus-a-copy\n",
      "  df[col] = df[col].apply(\n",
      "C:\\Users\\Tanishk\\AppData\\Local\\Temp/ipykernel_20172/869318862.py:8: SettingWithCopyWarning: \n",
      "A value is trying to be set on a copy of a slice from a DataFrame.\n",
      "Try using .loc[row_indexer,col_indexer] = value instead\n",
      "\n",
      "See the caveats in the documentation: https://pandas.pydata.org/pandas-docs/stable/user_guide/indexing.html#returning-a-view-versus-a-copy\n",
      "  df[col] = df[col].apply(\n"
     ]
    },
    {
     "name": "stdout",
     "output_type": "stream",
     "text": [
      "Final Diff Cost: 5.7685540659546675e-05\n",
      "Final Cost 1.377474009143821\n",
      "Number of Iterations: 1\n",
      "Conf Matrix: Counter({'0,0': 33, '1,0': 27})\n",
      "Accuracy: 0.55\n",
      "-----Iteration 10  Net [4, 4, 4] Lambda 0.01 -----------------\n",
      "Final Diff Cost: 5.138687672023856e-05\n",
      "Final Cost 1.3772619362267322\n",
      "Number of Iterations: 1\n",
      "Conf Matrix: Counter({'0,0': 33, '1,0': 27})\n",
      "Accuracy: 0.55\n",
      "Number of instances in test set: 61.0\n",
      "-----Iteration 1  Net [8, 8, 8] Lambda 0.01 -----------------\n"
     ]
    },
    {
     "name": "stderr",
     "output_type": "stream",
     "text": [
      "c:\\Users\\Tanishk\\AppData\\Local\\Programs\\Python\\Python39\\lib\\site-packages\\numpy\\core\\fromnumeric.py:3440: RuntimeWarning: Mean of empty slice.\n",
      "  return _methods._mean(a, axis=axis, dtype=dtype,\n",
      "c:\\Users\\Tanishk\\AppData\\Local\\Programs\\Python\\Python39\\lib\\site-packages\\numpy\\core\\_methods.py:189: RuntimeWarning: invalid value encountered in double_scalars\n",
      "  ret = ret.dtype.type(ret / rcount)\n",
      "C:\\Users\\Tanishk\\AppData\\Local\\Temp/ipykernel_20172/869318862.py:8: SettingWithCopyWarning: \n",
      "A value is trying to be set on a copy of a slice from a DataFrame.\n",
      "Try using .loc[row_indexer,col_indexer] = value instead\n",
      "\n",
      "See the caveats in the documentation: https://pandas.pydata.org/pandas-docs/stable/user_guide/indexing.html#returning-a-view-versus-a-copy\n",
      "  df[col] = df[col].apply(\n"
     ]
    },
    {
     "name": "stdout",
     "output_type": "stream",
     "text": [
      "Final Diff Cost: 8.951385507183218e-05\n",
      "Final Cost 1.3783989476260712\n",
      "Number of Iterations: 44\n",
      "Conf Matrix: Counter({'0,0': 34, '1,0': 28})\n",
      "Accuracy: 0.5483870967741935\n",
      "-----Iteration 2  Net [8, 8, 8] Lambda 0.01 -----------------\n"
     ]
    },
    {
     "name": "stderr",
     "output_type": "stream",
     "text": [
      "C:\\Users\\Tanishk\\AppData\\Local\\Temp/ipykernel_20172/869318862.py:8: SettingWithCopyWarning: \n",
      "A value is trying to be set on a copy of a slice from a DataFrame.\n",
      "Try using .loc[row_indexer,col_indexer] = value instead\n",
      "\n",
      "See the caveats in the documentation: https://pandas.pydata.org/pandas-docs/stable/user_guide/indexing.html#returning-a-view-versus-a-copy\n",
      "  df[col] = df[col].apply(\n"
     ]
    },
    {
     "name": "stdout",
     "output_type": "stream",
     "text": [
      "Final Diff Cost: 2.6934748035722933e-05\n",
      "Final Cost 1.3780384741724017\n",
      "Number of Iterations: 1\n",
      "Conf Matrix: Counter({'0,0': 34, '1,0': 27})\n",
      "Accuracy: 0.5573770491803278\n",
      "-----Iteration 3  Net [8, 8, 8] Lambda 0.01 -----------------\n"
     ]
    },
    {
     "name": "stderr",
     "output_type": "stream",
     "text": [
      "C:\\Users\\Tanishk\\AppData\\Local\\Temp/ipykernel_20172/869318862.py:8: SettingWithCopyWarning: \n",
      "A value is trying to be set on a copy of a slice from a DataFrame.\n",
      "Try using .loc[row_indexer,col_indexer] = value instead\n",
      "\n",
      "See the caveats in the documentation: https://pandas.pydata.org/pandas-docs/stable/user_guide/indexing.html#returning-a-view-versus-a-copy\n",
      "  df[col] = df[col].apply(\n"
     ]
    },
    {
     "name": "stdout",
     "output_type": "stream",
     "text": [
      "Final Diff Cost: 7.523877975623705e-05\n",
      "Final Cost 1.376080217136375\n",
      "Number of Iterations: 1\n",
      "Conf Matrix: Counter({'0,0': 34, '1,0': 27})\n",
      "Accuracy: 0.5573770491803278\n",
      "-----Iteration 4  Net [8, 8, 8] Lambda 0.01 -----------------\n",
      "Final Diff Cost: 7.132277375632157e-05\n",
      "Final Cost 1.379200880768463\n",
      "Number of Iterations: 1\n",
      "Conf Matrix: Counter({'0,0': 34, '1,0': 27})\n",
      "Accuracy: 0.5573770491803278\n",
      "-----Iteration 5  Net [8, 8, 8] Lambda 0.01 -----------------\n"
     ]
    },
    {
     "name": "stderr",
     "output_type": "stream",
     "text": [
      "C:\\Users\\Tanishk\\AppData\\Local\\Temp/ipykernel_20172/869318862.py:8: SettingWithCopyWarning: \n",
      "A value is trying to be set on a copy of a slice from a DataFrame.\n",
      "Try using .loc[row_indexer,col_indexer] = value instead\n",
      "\n",
      "See the caveats in the documentation: https://pandas.pydata.org/pandas-docs/stable/user_guide/indexing.html#returning-a-view-versus-a-copy\n",
      "  df[col] = df[col].apply(\n",
      "C:\\Users\\Tanishk\\AppData\\Local\\Temp/ipykernel_20172/869318862.py:8: SettingWithCopyWarning: \n",
      "A value is trying to be set on a copy of a slice from a DataFrame.\n",
      "Try using .loc[row_indexer,col_indexer] = value instead\n",
      "\n",
      "See the caveats in the documentation: https://pandas.pydata.org/pandas-docs/stable/user_guide/indexing.html#returning-a-view-versus-a-copy\n",
      "  df[col] = df[col].apply(\n"
     ]
    },
    {
     "name": "stdout",
     "output_type": "stream",
     "text": [
      "Final Diff Cost: 7.676150557323069e-05\n",
      "Final Cost 1.3780767451954252\n",
      "Number of Iterations: 1\n",
      "Conf Matrix: Counter({'0,0': 34, '1,0': 27})\n",
      "Accuracy: 0.5573770491803278\n",
      "-----Iteration 6  Net [8, 8, 8] Lambda 0.01 -----------------\n"
     ]
    },
    {
     "name": "stderr",
     "output_type": "stream",
     "text": [
      "C:\\Users\\Tanishk\\AppData\\Local\\Temp/ipykernel_20172/869318862.py:8: SettingWithCopyWarning: \n",
      "A value is trying to be set on a copy of a slice from a DataFrame.\n",
      "Try using .loc[row_indexer,col_indexer] = value instead\n",
      "\n",
      "See the caveats in the documentation: https://pandas.pydata.org/pandas-docs/stable/user_guide/indexing.html#returning-a-view-versus-a-copy\n",
      "  df[col] = df[col].apply(\n",
      "C:\\Users\\Tanishk\\AppData\\Local\\Temp/ipykernel_20172/869318862.py:8: SettingWithCopyWarning: \n",
      "A value is trying to be set on a copy of a slice from a DataFrame.\n",
      "Try using .loc[row_indexer,col_indexer] = value instead\n",
      "\n",
      "See the caveats in the documentation: https://pandas.pydata.org/pandas-docs/stable/user_guide/indexing.html#returning-a-view-versus-a-copy\n",
      "  df[col] = df[col].apply(\n"
     ]
    },
    {
     "name": "stdout",
     "output_type": "stream",
     "text": [
      "Final Diff Cost: 3.313911432756278e-05\n",
      "Final Cost 1.3782637437788539\n",
      "Number of Iterations: 1\n",
      "Conf Matrix: Counter({'0,0': 34, '1,0': 27})\n",
      "Accuracy: 0.5573770491803278\n",
      "-----Iteration 7  Net [8, 8, 8] Lambda 0.01 -----------------\n",
      "Final Diff Cost: 2.1309173386940827e-05\n",
      "Final Cost 1.378277660120306\n",
      "Number of Iterations: 1\n",
      "Conf Matrix: Counter({'0,0': 34, '1,0': 27})\n",
      "Accuracy: 0.5573770491803278\n",
      "-----Iteration 8  Net [8, 8, 8] Lambda 0.01 -----------------\n"
     ]
    },
    {
     "name": "stderr",
     "output_type": "stream",
     "text": [
      "C:\\Users\\Tanishk\\AppData\\Local\\Temp/ipykernel_20172/869318862.py:8: SettingWithCopyWarning: \n",
      "A value is trying to be set on a copy of a slice from a DataFrame.\n",
      "Try using .loc[row_indexer,col_indexer] = value instead\n",
      "\n",
      "See the caveats in the documentation: https://pandas.pydata.org/pandas-docs/stable/user_guide/indexing.html#returning-a-view-versus-a-copy\n",
      "  df[col] = df[col].apply(\n"
     ]
    },
    {
     "name": "stdout",
     "output_type": "stream",
     "text": [
      "Final Diff Cost: 2.71135003131473e-05\n",
      "Final Cost 1.377334914294502\n",
      "Number of Iterations: 1\n",
      "Conf Matrix: Counter({'0,0': 33, '1,0': 27})\n",
      "Accuracy: 0.55\n",
      "-----Iteration 9  Net [8, 8, 8] Lambda 0.01 -----------------\n",
      "Final Diff Cost: 1.4464190274399158e-05\n",
      "Final Cost 1.3780495927493408\n",
      "Number of Iterations: 1\n",
      "Conf Matrix: Counter({'0,0': 33, '1,0': 27})\n",
      "Accuracy: 0.55\n",
      "-----Iteration 10  Net [8, 8, 8] Lambda 0.01 -----------------\n"
     ]
    },
    {
     "name": "stderr",
     "output_type": "stream",
     "text": [
      "C:\\Users\\Tanishk\\AppData\\Local\\Temp/ipykernel_20172/869318862.py:8: SettingWithCopyWarning: \n",
      "A value is trying to be set on a copy of a slice from a DataFrame.\n",
      "Try using .loc[row_indexer,col_indexer] = value instead\n",
      "\n",
      "See the caveats in the documentation: https://pandas.pydata.org/pandas-docs/stable/user_guide/indexing.html#returning-a-view-versus-a-copy\n",
      "  df[col] = df[col].apply(\n",
      "C:\\Users\\Tanishk\\AppData\\Local\\Temp/ipykernel_20172/869318862.py:8: SettingWithCopyWarning: \n",
      "A value is trying to be set on a copy of a slice from a DataFrame.\n",
      "Try using .loc[row_indexer,col_indexer] = value instead\n",
      "\n",
      "See the caveats in the documentation: https://pandas.pydata.org/pandas-docs/stable/user_guide/indexing.html#returning-a-view-versus-a-copy\n",
      "  df[col] = df[col].apply(\n"
     ]
    },
    {
     "name": "stdout",
     "output_type": "stream",
     "text": [
      "Final Diff Cost: 2.299308669018174e-05\n",
      "Final Cost 1.378205559633094\n",
      "Number of Iterations: 1\n",
      "Conf Matrix: Counter({'0,0': 33, '1,0': 27})\n",
      "Accuracy: 0.55\n",
      "Number of instances in test set: 61.0\n",
      "-----Iteration 1  Net [16, 16, 16] Lambda 0.01 -----------------\n"
     ]
    },
    {
     "name": "stderr",
     "output_type": "stream",
     "text": [
      "c:\\Users\\Tanishk\\AppData\\Local\\Programs\\Python\\Python39\\lib\\site-packages\\numpy\\core\\fromnumeric.py:3440: RuntimeWarning: Mean of empty slice.\n",
      "  return _methods._mean(a, axis=axis, dtype=dtype,\n",
      "c:\\Users\\Tanishk\\AppData\\Local\\Programs\\Python\\Python39\\lib\\site-packages\\numpy\\core\\_methods.py:189: RuntimeWarning: invalid value encountered in double_scalars\n",
      "  ret = ret.dtype.type(ret / rcount)\n",
      "C:\\Users\\Tanishk\\AppData\\Local\\Temp/ipykernel_20172/869318862.py:8: SettingWithCopyWarning: \n",
      "A value is trying to be set on a copy of a slice from a DataFrame.\n",
      "Try using .loc[row_indexer,col_indexer] = value instead\n",
      "\n",
      "See the caveats in the documentation: https://pandas.pydata.org/pandas-docs/stable/user_guide/indexing.html#returning-a-view-versus-a-copy\n",
      "  df[col] = df[col].apply(\n"
     ]
    },
    {
     "name": "stdout",
     "output_type": "stream",
     "text": [
      "Final Diff Cost: 7.210588078354618e-05\n",
      "Final Cost 1.385197355305595\n",
      "Number of Iterations: 22\n",
      "Conf Matrix: Counter({'0,0': 34, '1,0': 28})\n",
      "Accuracy: 0.5483870967741935\n",
      "-----Iteration 2  Net [16, 16, 16] Lambda 0.01 -----------------\n"
     ]
    },
    {
     "name": "stderr",
     "output_type": "stream",
     "text": [
      "C:\\Users\\Tanishk\\AppData\\Local\\Temp/ipykernel_20172/869318862.py:8: SettingWithCopyWarning: \n",
      "A value is trying to be set on a copy of a slice from a DataFrame.\n",
      "Try using .loc[row_indexer,col_indexer] = value instead\n",
      "\n",
      "See the caveats in the documentation: https://pandas.pydata.org/pandas-docs/stable/user_guide/indexing.html#returning-a-view-versus-a-copy\n",
      "  df[col] = df[col].apply(\n"
     ]
    },
    {
     "name": "stdout",
     "output_type": "stream",
     "text": [
      "Final Diff Cost: 7.851945439130148e-05\n",
      "Final Cost 1.3840176834676527\n",
      "Number of Iterations: 5\n",
      "Conf Matrix: Counter({'0,0': 34, '1,0': 27})\n",
      "Accuracy: 0.5573770491803278\n",
      "-----Iteration 3  Net [16, 16, 16] Lambda 0.01 -----------------\n"
     ]
    },
    {
     "name": "stderr",
     "output_type": "stream",
     "text": [
      "C:\\Users\\Tanishk\\AppData\\Local\\Temp/ipykernel_20172/869318862.py:8: SettingWithCopyWarning: \n",
      "A value is trying to be set on a copy of a slice from a DataFrame.\n",
      "Try using .loc[row_indexer,col_indexer] = value instead\n",
      "\n",
      "See the caveats in the documentation: https://pandas.pydata.org/pandas-docs/stable/user_guide/indexing.html#returning-a-view-versus-a-copy\n",
      "  df[col] = df[col].apply(\n"
     ]
    },
    {
     "name": "stdout",
     "output_type": "stream",
     "text": [
      "Final Diff Cost: 2.7723315313643582e-05\n",
      "Final Cost 1.3851563624403436\n",
      "Number of Iterations: 1\n",
      "Conf Matrix: Counter({'0,0': 34, '1,0': 27})\n",
      "Accuracy: 0.5573770491803278\n",
      "-----Iteration 4  Net [16, 16, 16] Lambda 0.01 -----------------\n"
     ]
    },
    {
     "name": "stderr",
     "output_type": "stream",
     "text": [
      "C:\\Users\\Tanishk\\AppData\\Local\\Temp/ipykernel_20172/869318862.py:8: SettingWithCopyWarning: \n",
      "A value is trying to be set on a copy of a slice from a DataFrame.\n",
      "Try using .loc[row_indexer,col_indexer] = value instead\n",
      "\n",
      "See the caveats in the documentation: https://pandas.pydata.org/pandas-docs/stable/user_guide/indexing.html#returning-a-view-versus-a-copy\n",
      "  df[col] = df[col].apply(\n"
     ]
    },
    {
     "name": "stdout",
     "output_type": "stream",
     "text": [
      "Final Diff Cost: 1.8073127265427757e-05\n",
      "Final Cost 1.3847085062323932\n",
      "Number of Iterations: 1\n",
      "Conf Matrix: Counter({'0,0': 34, '1,0': 27})\n",
      "Accuracy: 0.5573770491803278\n",
      "-----Iteration 5  Net [16, 16, 16] Lambda 0.01 -----------------\n"
     ]
    },
    {
     "name": "stderr",
     "output_type": "stream",
     "text": [
      "C:\\Users\\Tanishk\\AppData\\Local\\Temp/ipykernel_20172/869318862.py:8: SettingWithCopyWarning: \n",
      "A value is trying to be set on a copy of a slice from a DataFrame.\n",
      "Try using .loc[row_indexer,col_indexer] = value instead\n",
      "\n",
      "See the caveats in the documentation: https://pandas.pydata.org/pandas-docs/stable/user_guide/indexing.html#returning-a-view-versus-a-copy\n",
      "  df[col] = df[col].apply(\n"
     ]
    },
    {
     "name": "stdout",
     "output_type": "stream",
     "text": [
      "Final Diff Cost: 2.5556312098773404e-05\n",
      "Final Cost 1.3864403557247817\n",
      "Number of Iterations: 1\n",
      "Conf Matrix: Counter({'0,0': 34, '1,0': 27})\n",
      "Accuracy: 0.5573770491803278\n",
      "-----Iteration 6  Net [16, 16, 16] Lambda 0.01 -----------------\n"
     ]
    },
    {
     "name": "stderr",
     "output_type": "stream",
     "text": [
      "C:\\Users\\Tanishk\\AppData\\Local\\Temp/ipykernel_20172/869318862.py:8: SettingWithCopyWarning: \n",
      "A value is trying to be set on a copy of a slice from a DataFrame.\n",
      "Try using .loc[row_indexer,col_indexer] = value instead\n",
      "\n",
      "See the caveats in the documentation: https://pandas.pydata.org/pandas-docs/stable/user_guide/indexing.html#returning-a-view-versus-a-copy\n",
      "  df[col] = df[col].apply(\n"
     ]
    },
    {
     "name": "stdout",
     "output_type": "stream",
     "text": [
      "Final Diff Cost: 4.701237875015529e-05\n",
      "Final Cost 1.3829110230646722\n",
      "Number of Iterations: 1\n",
      "Conf Matrix: Counter({'0,0': 34, '1,0': 27})\n",
      "Accuracy: 0.5573770491803278\n",
      "-----Iteration 7  Net [16, 16, 16] Lambda 0.01 -----------------\n",
      "Final Diff Cost: 1.4243273476211016e-05\n",
      "Final Cost 1.3834572930947213\n",
      "Number of Iterations: "
     ]
    },
    {
     "name": "stderr",
     "output_type": "stream",
     "text": [
      "C:\\Users\\Tanishk\\AppData\\Local\\Temp/ipykernel_20172/869318862.py:8: SettingWithCopyWarning: \n",
      "A value is trying to be set on a copy of a slice from a DataFrame.\n",
      "Try using .loc[row_indexer,col_indexer] = value instead\n",
      "\n",
      "See the caveats in the documentation: https://pandas.pydata.org/pandas-docs/stable/user_guide/indexing.html#returning-a-view-versus-a-copy\n",
      "  df[col] = df[col].apply(\n"
     ]
    },
    {
     "name": "stdout",
     "output_type": "stream",
     "text": [
      "1\n",
      "Conf Matrix: Counter({'0,0': 34, '1,0': 27})\n",
      "Accuracy: 0.5573770491803278\n",
      "-----Iteration 8  Net [16, 16, 16] Lambda 0.01 -----------------\n"
     ]
    },
    {
     "name": "stderr",
     "output_type": "stream",
     "text": [
      "C:\\Users\\Tanishk\\AppData\\Local\\Temp/ipykernel_20172/869318862.py:8: SettingWithCopyWarning: \n",
      "A value is trying to be set on a copy of a slice from a DataFrame.\n",
      "Try using .loc[row_indexer,col_indexer] = value instead\n",
      "\n",
      "See the caveats in the documentation: https://pandas.pydata.org/pandas-docs/stable/user_guide/indexing.html#returning-a-view-versus-a-copy\n",
      "  df[col] = df[col].apply(\n"
     ]
    },
    {
     "name": "stdout",
     "output_type": "stream",
     "text": [
      "Final Diff Cost: 3.137114951501374e-05\n",
      "Final Cost 1.3855442431765193\n",
      "Number of Iterations: 1\n",
      "Conf Matrix: Counter({'0,0': 33, '1,0': 27})\n",
      "Accuracy: 0.55\n",
      "-----Iteration 9  Net [16, 16, 16] Lambda 0.01 -----------------\n"
     ]
    },
    {
     "name": "stderr",
     "output_type": "stream",
     "text": [
      "C:\\Users\\Tanishk\\AppData\\Local\\Temp/ipykernel_20172/869318862.py:8: SettingWithCopyWarning: \n",
      "A value is trying to be set on a copy of a slice from a DataFrame.\n",
      "Try using .loc[row_indexer,col_indexer] = value instead\n",
      "\n",
      "See the caveats in the documentation: https://pandas.pydata.org/pandas-docs/stable/user_guide/indexing.html#returning-a-view-versus-a-copy\n",
      "  df[col] = df[col].apply(\n"
     ]
    },
    {
     "name": "stdout",
     "output_type": "stream",
     "text": [
      "Final Diff Cost: 2.316449981498714e-05\n",
      "Final Cost 1.3830190579442359\n",
      "Number of Iterations: 1\n",
      "Conf Matrix: Counter({'0,0': 33, '1,0': 27})\n",
      "Accuracy: 0.55\n",
      "-----Iteration 10  Net [16, 16, 16] Lambda 0.01 -----------------\n"
     ]
    },
    {
     "name": "stderr",
     "output_type": "stream",
     "text": [
      "C:\\Users\\Tanishk\\AppData\\Local\\Temp/ipykernel_20172/869318862.py:8: SettingWithCopyWarning: \n",
      "A value is trying to be set on a copy of a slice from a DataFrame.\n",
      "Try using .loc[row_indexer,col_indexer] = value instead\n",
      "\n",
      "See the caveats in the documentation: https://pandas.pydata.org/pandas-docs/stable/user_guide/indexing.html#returning-a-view-versus-a-copy\n",
      "  df[col] = df[col].apply(\n"
     ]
    },
    {
     "name": "stdout",
     "output_type": "stream",
     "text": [
      "Final Diff Cost: 2.184828544238293e-05\n",
      "Final Cost 1.3834164280977757\n",
      "Number of Iterations: 1\n",
      "Conf Matrix: Counter({'0,0': 33, '1,0': 27})\n",
      "Accuracy: 0.55\n",
      "Number of instances in test set: 61.0\n",
      "-----Iteration 1  Net [25, 25, 25] Lambda 0.01 -----------------\n"
     ]
    },
    {
     "name": "stderr",
     "output_type": "stream",
     "text": [
      "c:\\Users\\Tanishk\\AppData\\Local\\Programs\\Python\\Python39\\lib\\site-packages\\numpy\\core\\fromnumeric.py:3440: RuntimeWarning: Mean of empty slice.\n",
      "  return _methods._mean(a, axis=axis, dtype=dtype,\n",
      "c:\\Users\\Tanishk\\AppData\\Local\\Programs\\Python\\Python39\\lib\\site-packages\\numpy\\core\\_methods.py:189: RuntimeWarning: invalid value encountered in double_scalars\n",
      "  ret = ret.dtype.type(ret / rcount)\n",
      "C:\\Users\\Tanishk\\AppData\\Local\\Temp/ipykernel_20172/869318862.py:8: SettingWithCopyWarning: \n",
      "A value is trying to be set on a copy of a slice from a DataFrame.\n",
      "Try using .loc[row_indexer,col_indexer] = value instead\n",
      "\n",
      "See the caveats in the documentation: https://pandas.pydata.org/pandas-docs/stable/user_guide/indexing.html#returning-a-view-versus-a-copy\n",
      "  df[col] = df[col].apply(\n"
     ]
    },
    {
     "name": "stdout",
     "output_type": "stream",
     "text": [
      "Final Diff Cost: 9.99856250416542e-05\n",
      "Final Cost 1.386736362039563\n",
      "Number of Iterations: 108\n",
      "Conf Matrix: Counter({'0,0': 34, '1,0': 28})\n",
      "Accuracy: 0.5483870967741935\n",
      "-----Iteration 2  Net [25, 25, 25] Lambda 0.01 -----------------\n"
     ]
    },
    {
     "name": "stderr",
     "output_type": "stream",
     "text": [
      "C:\\Users\\Tanishk\\AppData\\Local\\Temp/ipykernel_20172/869318862.py:8: SettingWithCopyWarning: \n",
      "A value is trying to be set on a copy of a slice from a DataFrame.\n",
      "Try using .loc[row_indexer,col_indexer] = value instead\n",
      "\n",
      "See the caveats in the documentation: https://pandas.pydata.org/pandas-docs/stable/user_guide/indexing.html#returning-a-view-versus-a-copy\n",
      "  df[col] = df[col].apply(\n"
     ]
    },
    {
     "name": "stdout",
     "output_type": "stream",
     "text": [
      "Final Diff Cost: -0.00010555122796951366\n",
      "Final Cost 1.1581714327984174\n",
      "Number of Iterations: 1550\n",
      "Conf Matrix: Counter({'0,0': 24, '1,0': 18, '0,1': 10, '1,1': 9})\n",
      "Accuracy: 0.5409836065573771\n",
      "-----Iteration 3  Net [25, 25, 25] Lambda 0.01 -----------------\n"
     ]
    },
    {
     "name": "stderr",
     "output_type": "stream",
     "text": [
      "C:\\Users\\Tanishk\\AppData\\Local\\Temp/ipykernel_20172/869318862.py:8: SettingWithCopyWarning: \n",
      "A value is trying to be set on a copy of a slice from a DataFrame.\n",
      "Try using .loc[row_indexer,col_indexer] = value instead\n",
      "\n",
      "See the caveats in the documentation: https://pandas.pydata.org/pandas-docs/stable/user_guide/indexing.html#returning-a-view-versus-a-copy\n",
      "  df[col] = df[col].apply(\n"
     ]
    },
    {
     "name": "stdout",
     "output_type": "stream",
     "text": [
      "Final Diff Cost: -0.07853016029658955\n",
      "Final Cost 1.3684639823560916\n",
      "Number of Iterations: 1\n",
      "Conf Matrix: Counter({'0,1': 27, '1,1': 25, '0,0': 7, '1,0': 2})\n",
      "Accuracy: 0.5245901639344263\n",
      "-----Iteration 4  Net [25, 25, 25] Lambda 0.01 -----------------\n"
     ]
    },
    {
     "name": "stderr",
     "output_type": "stream",
     "text": [
      "C:\\Users\\Tanishk\\AppData\\Local\\Temp/ipykernel_20172/869318862.py:8: SettingWithCopyWarning: \n",
      "A value is trying to be set on a copy of a slice from a DataFrame.\n",
      "Try using .loc[row_indexer,col_indexer] = value instead\n",
      "\n",
      "See the caveats in the documentation: https://pandas.pydata.org/pandas-docs/stable/user_guide/indexing.html#returning-a-view-versus-a-copy\n",
      "  df[col] = df[col].apply(\n"
     ]
    },
    {
     "name": "stdout",
     "output_type": "stream",
     "text": [
      "Final Diff Cost: -0.013344937066971818\n",
      "Final Cost 1.1854479589137414\n",
      "Number of Iterations: 9\n",
      "Conf Matrix: Counter({'0,0': 32, '1,0': 19, '1,1': 8, '0,1': 2})\n",
      "Accuracy: 0.6557377049180327\n",
      "-----Iteration 5  Net [25, 25, 25] Lambda 0.01 -----------------\n"
     ]
    },
    {
     "name": "stderr",
     "output_type": "stream",
     "text": [
      "C:\\Users\\Tanishk\\AppData\\Local\\Temp/ipykernel_20172/869318862.py:8: SettingWithCopyWarning: \n",
      "A value is trying to be set on a copy of a slice from a DataFrame.\n",
      "Try using .loc[row_indexer,col_indexer] = value instead\n",
      "\n",
      "See the caveats in the documentation: https://pandas.pydata.org/pandas-docs/stable/user_guide/indexing.html#returning-a-view-versus-a-copy\n",
      "  df[col] = df[col].apply(\n"
     ]
    },
    {
     "name": "stdout",
     "output_type": "stream",
     "text": [
      "Final Diff Cost: -5.354299197946055e-05\n",
      "Final Cost 1.2156733621694749\n",
      "Number of Iterations: 8\n",
      "Conf Matrix: Counter({'0,0': 28, '1,0': 16, '1,1': 11, '0,1': 6})\n",
      "Accuracy: 0.639344262295082\n",
      "-----Iteration 6  Net [25, 25, 25] Lambda 0.01 -----------------\n"
     ]
    },
    {
     "name": "stderr",
     "output_type": "stream",
     "text": [
      "C:\\Users\\Tanishk\\AppData\\Local\\Temp/ipykernel_20172/869318862.py:8: SettingWithCopyWarning: \n",
      "A value is trying to be set on a copy of a slice from a DataFrame.\n",
      "Try using .loc[row_indexer,col_indexer] = value instead\n",
      "\n",
      "See the caveats in the documentation: https://pandas.pydata.org/pandas-docs/stable/user_guide/indexing.html#returning-a-view-versus-a-copy\n",
      "  df[col] = df[col].apply(\n"
     ]
    },
    {
     "name": "stdout",
     "output_type": "stream",
     "text": [
      "Final Diff Cost: -0.01567946439021739\n",
      "Final Cost 1.25410272473592\n",
      "Number of Iterations: 2\n",
      "Conf Matrix: Counter({'0,0': 32, '1,0': 23, '1,1': 4, '0,1': 2})\n",
      "Accuracy: 0.5901639344262295\n",
      "-----Iteration 7  Net [25, 25, 25] Lambda 0.01 -----------------\n"
     ]
    },
    {
     "name": "stderr",
     "output_type": "stream",
     "text": [
      "C:\\Users\\Tanishk\\AppData\\Local\\Temp/ipykernel_20172/869318862.py:8: SettingWithCopyWarning: \n",
      "A value is trying to be set on a copy of a slice from a DataFrame.\n",
      "Try using .loc[row_indexer,col_indexer] = value instead\n",
      "\n",
      "See the caveats in the documentation: https://pandas.pydata.org/pandas-docs/stable/user_guide/indexing.html#returning-a-view-versus-a-copy\n",
      "  df[col] = df[col].apply(\n"
     ]
    },
    {
     "name": "stdout",
     "output_type": "stream",
     "text": [
      "Final Diff Cost: -0.01636478555247045\n",
      "Final Cost 1.272050047264378\n",
      "Number of Iterations: 2\n",
      "Conf Matrix: Counter({'0,0': 32, '1,0': 19, '1,1': 8, '0,1': 2})\n",
      "Accuracy: 0.6557377049180327\n",
      "-----Iteration 8  Net [25, 25, 25] Lambda 0.01 -----------------\n"
     ]
    },
    {
     "name": "stderr",
     "output_type": "stream",
     "text": [
      "C:\\Users\\Tanishk\\AppData\\Local\\Temp/ipykernel_20172/869318862.py:8: SettingWithCopyWarning: \n",
      "A value is trying to be set on a copy of a slice from a DataFrame.\n",
      "Try using .loc[row_indexer,col_indexer] = value instead\n",
      "\n",
      "See the caveats in the documentation: https://pandas.pydata.org/pandas-docs/stable/user_guide/indexing.html#returning-a-view-versus-a-copy\n",
      "  df[col] = df[col].apply(\n"
     ]
    },
    {
     "name": "stdout",
     "output_type": "stream",
     "text": [
      "Final Diff Cost: -0.0005216571143211723\n",
      "Final Cost 1.2054191687840121\n",
      "Number of Iterations: 14\n",
      "Conf Matrix: Counter({'0,0': 29, '1,1': 16, '1,0': 11, '0,1': 4})\n",
      "Accuracy: 0.75\n",
      "-----Iteration 9  Net [25, 25, 25] Lambda 0.01 -----------------\n"
     ]
    },
    {
     "name": "stderr",
     "output_type": "stream",
     "text": [
      "C:\\Users\\Tanishk\\AppData\\Local\\Temp/ipykernel_20172/869318862.py:8: SettingWithCopyWarning: \n",
      "A value is trying to be set on a copy of a slice from a DataFrame.\n",
      "Try using .loc[row_indexer,col_indexer] = value instead\n",
      "\n",
      "See the caveats in the documentation: https://pandas.pydata.org/pandas-docs/stable/user_guide/indexing.html#returning-a-view-versus-a-copy\n",
      "  df[col] = df[col].apply(\n"
     ]
    },
    {
     "name": "stdout",
     "output_type": "stream",
     "text": [
      "Final Diff Cost: -0.027506670017950263\n",
      "Final Cost 1.267304598666449\n",
      "Number of Iterations: 1\n",
      "Conf Matrix: Counter({'0,0': 32, '1,0': 18, '1,1': 9, '0,1': 1})\n",
      "Accuracy: 0.6833333333333333\n",
      "-----Iteration 10  Net [25, 25, 25] Lambda 0.01 -----------------\n"
     ]
    },
    {
     "name": "stderr",
     "output_type": "stream",
     "text": [
      "C:\\Users\\Tanishk\\AppData\\Local\\Temp/ipykernel_20172/869318862.py:8: SettingWithCopyWarning: \n",
      "A value is trying to be set on a copy of a slice from a DataFrame.\n",
      "Try using .loc[row_indexer,col_indexer] = value instead\n",
      "\n",
      "See the caveats in the documentation: https://pandas.pydata.org/pandas-docs/stable/user_guide/indexing.html#returning-a-view-versus-a-copy\n",
      "  df[col] = df[col].apply(\n"
     ]
    },
    {
     "name": "stdout",
     "output_type": "stream",
     "text": [
      "Final Diff Cost: -0.02743741657699994\n",
      "Final Cost 1.2757950720464106\n",
      "Number of Iterations: 1\n",
      "Conf Matrix: Counter({'1,1': 21, '0,0': 19, '0,1': 14, '1,0': 6})\n",
      "Accuracy: 0.6666666666666666\n",
      "Number of instances in test set: 61.0\n",
      "-----Iteration 1  Net [32, 32, 32] Lambda 0.01 -----------------\n"
     ]
    },
    {
     "name": "stderr",
     "output_type": "stream",
     "text": [
      "c:\\Users\\Tanishk\\AppData\\Local\\Programs\\Python\\Python39\\lib\\site-packages\\numpy\\core\\fromnumeric.py:3440: RuntimeWarning: Mean of empty slice.\n",
      "  return _methods._mean(a, axis=axis, dtype=dtype,\n",
      "c:\\Users\\Tanishk\\AppData\\Local\\Programs\\Python\\Python39\\lib\\site-packages\\numpy\\core\\_methods.py:189: RuntimeWarning: invalid value encountered in double_scalars\n",
      "  ret = ret.dtype.type(ret / rcount)\n",
      "C:\\Users\\Tanishk\\AppData\\Local\\Temp/ipykernel_20172/869318862.py:8: SettingWithCopyWarning: \n",
      "A value is trying to be set on a copy of a slice from a DataFrame.\n",
      "Try using .loc[row_indexer,col_indexer] = value instead\n",
      "\n",
      "See the caveats in the documentation: https://pandas.pydata.org/pandas-docs/stable/user_guide/indexing.html#returning-a-view-versus-a-copy\n",
      "  df[col] = df[col].apply(\n"
     ]
    },
    {
     "name": "stdout",
     "output_type": "stream",
     "text": [
      "Final Diff Cost: -0.00023320652667213615\n",
      "Final Cost 1.0395921837033575\n",
      "Number of Iterations: 670\n",
      "Conf Matrix: Counter({'0,0': 29, '1,1': 19, '1,0': 9, '0,1': 5})\n",
      "Accuracy: 0.7741935483870968\n",
      "-----Iteration 2  Net [32, 32, 32] Lambda 0.01 -----------------\n"
     ]
    },
    {
     "name": "stderr",
     "output_type": "stream",
     "text": [
      "C:\\Users\\Tanishk\\AppData\\Local\\Temp/ipykernel_20172/869318862.py:8: SettingWithCopyWarning: \n",
      "A value is trying to be set on a copy of a slice from a DataFrame.\n",
      "Try using .loc[row_indexer,col_indexer] = value instead\n",
      "\n",
      "See the caveats in the documentation: https://pandas.pydata.org/pandas-docs/stable/user_guide/indexing.html#returning-a-view-versus-a-copy\n",
      "  df[col] = df[col].apply(\n"
     ]
    },
    {
     "name": "stdout",
     "output_type": "stream",
     "text": [
      "Final Diff Cost: -0.11093241986000124\n",
      "Final Cost 1.604169534025514\n",
      "Number of Iterations: 1\n",
      "Conf Matrix: Counter({'0,1': 29, '1,1': 26, '0,0': 5, '1,0': 1})\n",
      "Accuracy: 0.5081967213114754\n",
      "-----Iteration 3  Net [32, 32, 32] Lambda 0.01 -----------------\n"
     ]
    },
    {
     "name": "stderr",
     "output_type": "stream",
     "text": [
      "C:\\Users\\Tanishk\\AppData\\Local\\Temp/ipykernel_20172/869318862.py:8: SettingWithCopyWarning: \n",
      "A value is trying to be set on a copy of a slice from a DataFrame.\n",
      "Try using .loc[row_indexer,col_indexer] = value instead\n",
      "\n",
      "See the caveats in the documentation: https://pandas.pydata.org/pandas-docs/stable/user_guide/indexing.html#returning-a-view-versus-a-copy\n",
      "  df[col] = df[col].apply(\n"
     ]
    },
    {
     "name": "stdout",
     "output_type": "stream",
     "text": [
      "Final Diff Cost: -0.09055706543351127\n",
      "Final Cost 1.60407000945734\n",
      "Number of Iterations: 1\n",
      "Conf Matrix: Counter({'0,0': 34, '1,0': 26, '1,1': 1})\n",
      "Accuracy: 0.5737704918032787\n",
      "-----Iteration 4  Net [32, 32, 32] Lambda 0.01 -----------------\n"
     ]
    },
    {
     "name": "stderr",
     "output_type": "stream",
     "text": [
      "C:\\Users\\Tanishk\\AppData\\Local\\Temp/ipykernel_20172/869318862.py:8: SettingWithCopyWarning: \n",
      "A value is trying to be set on a copy of a slice from a DataFrame.\n",
      "Try using .loc[row_indexer,col_indexer] = value instead\n",
      "\n",
      "See the caveats in the documentation: https://pandas.pydata.org/pandas-docs/stable/user_guide/indexing.html#returning-a-view-versus-a-copy\n",
      "  df[col] = df[col].apply(\n"
     ]
    },
    {
     "name": "stdout",
     "output_type": "stream",
     "text": [
      "Final Diff Cost: -0.0530045609131824\n",
      "Final Cost 1.5177511623105264\n",
      "Number of Iterations: 1\n",
      "Conf Matrix: Counter({'0,1': 32, '1,1': 26, '0,0': 2, '1,0': 1})\n",
      "Accuracy: 0.45901639344262296\n",
      "-----Iteration 5  Net [32, 32, 32] Lambda 0.01 -----------------\n"
     ]
    },
    {
     "name": "stderr",
     "output_type": "stream",
     "text": [
      "C:\\Users\\Tanishk\\AppData\\Local\\Temp/ipykernel_20172/869318862.py:8: SettingWithCopyWarning: \n",
      "A value is trying to be set on a copy of a slice from a DataFrame.\n",
      "Try using .loc[row_indexer,col_indexer] = value instead\n",
      "\n",
      "See the caveats in the documentation: https://pandas.pydata.org/pandas-docs/stable/user_guide/indexing.html#returning-a-view-versus-a-copy\n",
      "  df[col] = df[col].apply(\n"
     ]
    },
    {
     "name": "stdout",
     "output_type": "stream",
     "text": [
      "Final Diff Cost: -0.1896851576809413\n",
      "Final Cost 1.713121020976602\n",
      "Number of Iterations: 1\n",
      "Conf Matrix: Counter({'0,0': 34, '1,0': 27})\n",
      "Accuracy: 0.5573770491803278\n",
      "-----Iteration 6  Net [32, 32, 32] Lambda 0.01 -----------------\n"
     ]
    },
    {
     "name": "stderr",
     "output_type": "stream",
     "text": [
      "C:\\Users\\Tanishk\\AppData\\Local\\Temp/ipykernel_20172/869318862.py:8: SettingWithCopyWarning: \n",
      "A value is trying to be set on a copy of a slice from a DataFrame.\n",
      "Try using .loc[row_indexer,col_indexer] = value instead\n",
      "\n",
      "See the caveats in the documentation: https://pandas.pydata.org/pandas-docs/stable/user_guide/indexing.html#returning-a-view-versus-a-copy\n",
      "  df[col] = df[col].apply(\n"
     ]
    },
    {
     "name": "stdout",
     "output_type": "stream",
     "text": [
      "Final Diff Cost: -0.022589918498299166\n",
      "Final Cost 1.4591473628304388\n",
      "Number of Iterations: 2\n",
      "Conf Matrix: Counter({'0,0': 33, '1,0': 25, '1,1': 2, '0,1': 1})\n",
      "Accuracy: 0.5737704918032787\n",
      "-----Iteration 7  Net [32, 32, 32] Lambda 0.01 -----------------\n"
     ]
    },
    {
     "name": "stderr",
     "output_type": "stream",
     "text": [
      "C:\\Users\\Tanishk\\AppData\\Local\\Temp/ipykernel_20172/869318862.py:8: SettingWithCopyWarning: \n",
      "A value is trying to be set on a copy of a slice from a DataFrame.\n",
      "Try using .loc[row_indexer,col_indexer] = value instead\n",
      "\n",
      "See the caveats in the documentation: https://pandas.pydata.org/pandas-docs/stable/user_guide/indexing.html#returning-a-view-versus-a-copy\n",
      "  df[col] = df[col].apply(\n"
     ]
    },
    {
     "name": "stdout",
     "output_type": "stream",
     "text": [
      "Final Diff Cost: -0.002327156944431641\n",
      "Final Cost 1.3035267919442188\n",
      "Number of Iterations: 8\n",
      "Conf Matrix: Counter({'0,0': 30, '1,0': 18, '1,1': 9, '0,1': 4})\n",
      "Accuracy: 0.639344262295082\n",
      "-----Iteration 8  Net [32, 32, 32] Lambda 0.01 -----------------\n"
     ]
    },
    {
     "name": "stderr",
     "output_type": "stream",
     "text": [
      "C:\\Users\\Tanishk\\AppData\\Local\\Temp/ipykernel_20172/869318862.py:8: SettingWithCopyWarning: \n",
      "A value is trying to be set on a copy of a slice from a DataFrame.\n",
      "Try using .loc[row_indexer,col_indexer] = value instead\n",
      "\n",
      "See the caveats in the documentation: https://pandas.pydata.org/pandas-docs/stable/user_guide/indexing.html#returning-a-view-versus-a-copy\n",
      "  df[col] = df[col].apply(\n"
     ]
    },
    {
     "name": "stdout",
     "output_type": "stream",
     "text": [
      "Final Diff Cost: -0.03608430717765465\n",
      "Final Cost 1.3632756338437089\n",
      "Number of Iterations: 1\n",
      "Conf Matrix: Counter({'1,1': 23, '0,1': 21, '0,0': 12, '1,0': 4})\n",
      "Accuracy: 0.5833333333333334\n",
      "-----Iteration 9  Net [32, 32, 32] Lambda 0.01 -----------------\n"
     ]
    },
    {
     "name": "stderr",
     "output_type": "stream",
     "text": [
      "C:\\Users\\Tanishk\\AppData\\Local\\Temp/ipykernel_20172/869318862.py:8: SettingWithCopyWarning: \n",
      "A value is trying to be set on a copy of a slice from a DataFrame.\n",
      "Try using .loc[row_indexer,col_indexer] = value instead\n",
      "\n",
      "See the caveats in the documentation: https://pandas.pydata.org/pandas-docs/stable/user_guide/indexing.html#returning-a-view-versus-a-copy\n",
      "  df[col] = df[col].apply(\n"
     ]
    },
    {
     "name": "stdout",
     "output_type": "stream",
     "text": [
      "Final Diff Cost: -0.012317184022957894\n",
      "Final Cost 1.3432090649091892\n",
      "Number of Iterations: 1\n",
      "Conf Matrix: Counter({'0,0': 30, '1,0': 20, '1,1': 7, '0,1': 3})\n",
      "Accuracy: 0.6166666666666667\n",
      "-----Iteration 10  Net [32, 32, 32] Lambda 0.01 -----------------\n"
     ]
    },
    {
     "name": "stderr",
     "output_type": "stream",
     "text": [
      "C:\\Users\\Tanishk\\AppData\\Local\\Temp/ipykernel_20172/869318862.py:8: SettingWithCopyWarning: \n",
      "A value is trying to be set on a copy of a slice from a DataFrame.\n",
      "Try using .loc[row_indexer,col_indexer] = value instead\n",
      "\n",
      "See the caveats in the documentation: https://pandas.pydata.org/pandas-docs/stable/user_guide/indexing.html#returning-a-view-versus-a-copy\n",
      "  df[col] = df[col].apply(\n"
     ]
    },
    {
     "name": "stdout",
     "output_type": "stream",
     "text": [
      "Final Diff Cost: -0.030097987285518712\n",
      "Final Cost 1.3245781162268588\n",
      "Number of Iterations: 1\n",
      "Conf Matrix: Counter({'0,1': 25, '1,1': 22, '0,0': 8, '1,0': 5})\n",
      "Accuracy: 0.5\n",
      "Number of instances in test set: 61.0\n",
      "-----Iteration 1  Net [64, 64, 64] Lambda 0.01 -----------------\n"
     ]
    },
    {
     "name": "stderr",
     "output_type": "stream",
     "text": [
      "c:\\Users\\Tanishk\\AppData\\Local\\Programs\\Python\\Python39\\lib\\site-packages\\numpy\\core\\fromnumeric.py:3440: RuntimeWarning: Mean of empty slice.\n",
      "  return _methods._mean(a, axis=axis, dtype=dtype,\n",
      "c:\\Users\\Tanishk\\AppData\\Local\\Programs\\Python\\Python39\\lib\\site-packages\\numpy\\core\\_methods.py:189: RuntimeWarning: invalid value encountered in double_scalars\n",
      "  ret = ret.dtype.type(ret / rcount)\n",
      "C:\\Users\\Tanishk\\AppData\\Local\\Temp/ipykernel_20172/869318862.py:8: SettingWithCopyWarning: \n",
      "A value is trying to be set on a copy of a slice from a DataFrame.\n",
      "Try using .loc[row_indexer,col_indexer] = value instead\n",
      "\n",
      "See the caveats in the documentation: https://pandas.pydata.org/pandas-docs/stable/user_guide/indexing.html#returning-a-view-versus-a-copy\n",
      "  df[col] = df[col].apply(\n"
     ]
    },
    {
     "name": "stdout",
     "output_type": "stream",
     "text": [
      "Final Diff Cost: -9.290632492775508e-05\n",
      "Final Cost 1.27374223465742\n",
      "Number of Iterations: 271\n",
      "Conf Matrix: Counter({'0,0': 27, '1,0': 17, '1,1': 11, '0,1': 7})\n",
      "Accuracy: 0.6129032258064516\n",
      "-----Iteration 2  Net [64, 64, 64] Lambda 0.01 -----------------\n"
     ]
    },
    {
     "name": "stderr",
     "output_type": "stream",
     "text": [
      "C:\\Users\\Tanishk\\AppData\\Local\\Temp/ipykernel_20172/869318862.py:8: SettingWithCopyWarning: \n",
      "A value is trying to be set on a copy of a slice from a DataFrame.\n",
      "Try using .loc[row_indexer,col_indexer] = value instead\n",
      "\n",
      "See the caveats in the documentation: https://pandas.pydata.org/pandas-docs/stable/user_guide/indexing.html#returning-a-view-versus-a-copy\n",
      "  df[col] = df[col].apply(\n"
     ]
    },
    {
     "name": "stdout",
     "output_type": "stream",
     "text": [
      "Final Diff Cost: -0.06876713990992012\n",
      "Final Cost 1.4152394494739162\n",
      "Number of Iterations: 1\n",
      "Conf Matrix: Counter({'1,1': 27, '0,1': 25, '0,0': 9})\n",
      "Accuracy: 0.5901639344262295\n",
      "-----Iteration 3  Net [64, 64, 64] Lambda 0.01 -----------------\n"
     ]
    },
    {
     "name": "stderr",
     "output_type": "stream",
     "text": [
      "C:\\Users\\Tanishk\\AppData\\Local\\Temp/ipykernel_20172/869318862.py:8: SettingWithCopyWarning: \n",
      "A value is trying to be set on a copy of a slice from a DataFrame.\n",
      "Try using .loc[row_indexer,col_indexer] = value instead\n",
      "\n",
      "See the caveats in the documentation: https://pandas.pydata.org/pandas-docs/stable/user_guide/indexing.html#returning-a-view-versus-a-copy\n",
      "  df[col] = df[col].apply(\n"
     ]
    },
    {
     "name": "stdout",
     "output_type": "stream",
     "text": [
      "Final Diff Cost: -0.23429502260793877\n",
      "Final Cost 1.7362638947711828\n",
      "Number of Iterations: 1\n",
      "Conf Matrix: Counter({'0,0': 34, '1,0': 23, '1,1': 4})\n",
      "Accuracy: 0.6229508196721312\n",
      "-----Iteration 4  Net [64, 64, 64] Lambda 0.01 -----------------\n"
     ]
    },
    {
     "name": "stderr",
     "output_type": "stream",
     "text": [
      "C:\\Users\\Tanishk\\AppData\\Local\\Temp/ipykernel_20172/869318862.py:8: SettingWithCopyWarning: \n",
      "A value is trying to be set on a copy of a slice from a DataFrame.\n",
      "Try using .loc[row_indexer,col_indexer] = value instead\n",
      "\n",
      "See the caveats in the documentation: https://pandas.pydata.org/pandas-docs/stable/user_guide/indexing.html#returning-a-view-versus-a-copy\n",
      "  df[col] = df[col].apply(\n"
     ]
    },
    {
     "name": "stdout",
     "output_type": "stream",
     "text": [
      "Final Diff Cost: -0.1045476307923221\n",
      "Final Cost 1.716023390594463\n",
      "Number of Iterations: 2\n",
      "Conf Matrix: Counter({'0,0': 32, '1,0': 26, '0,1': 2, '1,1': 1})\n",
      "Accuracy: 0.5409836065573771\n",
      "-----Iteration 5  Net [64, 64, 64] Lambda 0.01 -----------------\n"
     ]
    },
    {
     "name": "stderr",
     "output_type": "stream",
     "text": [
      "C:\\Users\\Tanishk\\AppData\\Local\\Temp/ipykernel_20172/869318862.py:8: SettingWithCopyWarning: \n",
      "A value is trying to be set on a copy of a slice from a DataFrame.\n",
      "Try using .loc[row_indexer,col_indexer] = value instead\n",
      "\n",
      "See the caveats in the documentation: https://pandas.pydata.org/pandas-docs/stable/user_guide/indexing.html#returning-a-view-versus-a-copy\n",
      "  df[col] = df[col].apply(\n"
     ]
    },
    {
     "name": "stdout",
     "output_type": "stream",
     "text": [
      "Final Diff Cost: -0.04468394352651894\n",
      "Final Cost 1.524133371969044\n",
      "Number of Iterations: 2\n",
      "Conf Matrix: Counter({'0,0': 34, '1,0': 23, '1,1': 4})\n",
      "Accuracy: 0.6229508196721312\n",
      "-----Iteration 6  Net [64, 64, 64] Lambda 0.01 -----------------\n"
     ]
    },
    {
     "name": "stderr",
     "output_type": "stream",
     "text": [
      "C:\\Users\\Tanishk\\AppData\\Local\\Temp/ipykernel_20172/869318862.py:8: SettingWithCopyWarning: \n",
      "A value is trying to be set on a copy of a slice from a DataFrame.\n",
      "Try using .loc[row_indexer,col_indexer] = value instead\n",
      "\n",
      "See the caveats in the documentation: https://pandas.pydata.org/pandas-docs/stable/user_guide/indexing.html#returning-a-view-versus-a-copy\n",
      "  df[col] = df[col].apply(\n"
     ]
    },
    {
     "name": "stdout",
     "output_type": "stream",
     "text": [
      "Final Diff Cost: -0.020974373840672023\n",
      "Final Cost 1.4248685389643845\n",
      "Number of Iterations: 2\n",
      "Conf Matrix: Counter({'0,0': 33, '1,0': 24, '1,1': 3, '0,1': 1})\n",
      "Accuracy: 0.5901639344262295\n",
      "-----Iteration 7  Net [64, 64, 64] Lambda 0.01 -----------------\n"
     ]
    },
    {
     "name": "stderr",
     "output_type": "stream",
     "text": [
      "C:\\Users\\Tanishk\\AppData\\Local\\Temp/ipykernel_20172/869318862.py:8: SettingWithCopyWarning: \n",
      "A value is trying to be set on a copy of a slice from a DataFrame.\n",
      "Try using .loc[row_indexer,col_indexer] = value instead\n",
      "\n",
      "See the caveats in the documentation: https://pandas.pydata.org/pandas-docs/stable/user_guide/indexing.html#returning-a-view-versus-a-copy\n",
      "  df[col] = df[col].apply(\n"
     ]
    },
    {
     "name": "stdout",
     "output_type": "stream",
     "text": [
      "Final Diff Cost: -0.01059626922952761\n",
      "Final Cost 1.3819629882416349\n",
      "Number of Iterations: 2\n",
      "Conf Matrix: Counter({'0,0': 32, '1,0': 24, '1,1': 3, '0,1': 2})\n",
      "Accuracy: 0.5737704918032787\n",
      "-----Iteration 8  Net [64, 64, 64] Lambda 0.01 -----------------\n"
     ]
    },
    {
     "name": "stderr",
     "output_type": "stream",
     "text": [
      "C:\\Users\\Tanishk\\AppData\\Local\\Temp/ipykernel_20172/869318862.py:8: SettingWithCopyWarning: \n",
      "A value is trying to be set on a copy of a slice from a DataFrame.\n",
      "Try using .loc[row_indexer,col_indexer] = value instead\n",
      "\n",
      "See the caveats in the documentation: https://pandas.pydata.org/pandas-docs/stable/user_guide/indexing.html#returning-a-view-versus-a-copy\n",
      "  df[col] = df[col].apply(\n"
     ]
    },
    {
     "name": "stdout",
     "output_type": "stream",
     "text": [
      "Final Diff Cost: -0.010866406371896398\n",
      "Final Cost 1.4099003590350434\n",
      "Number of Iterations: 2\n",
      "Conf Matrix: Counter({'0,0': 32, '1,0': 25, '1,1': 2, '0,1': 1})\n",
      "Accuracy: 0.5666666666666667\n",
      "-----Iteration 9  Net [64, 64, 64] Lambda 0.01 -----------------\n"
     ]
    },
    {
     "name": "stderr",
     "output_type": "stream",
     "text": [
      "C:\\Users\\Tanishk\\AppData\\Local\\Temp/ipykernel_20172/869318862.py:8: SettingWithCopyWarning: \n",
      "A value is trying to be set on a copy of a slice from a DataFrame.\n",
      "Try using .loc[row_indexer,col_indexer] = value instead\n",
      "\n",
      "See the caveats in the documentation: https://pandas.pydata.org/pandas-docs/stable/user_guide/indexing.html#returning-a-view-versus-a-copy\n",
      "  df[col] = df[col].apply(\n"
     ]
    },
    {
     "name": "stdout",
     "output_type": "stream",
     "text": [
      "Final Diff Cost: -0.01772363313000702\n",
      "Final Cost 1.424151977350614\n",
      "Number of Iterations: 2\n",
      "Conf Matrix: Counter({'0,0': 32, '1,0': 21, '1,1': 6, '0,1': 1})\n",
      "Accuracy: 0.6333333333333333\n",
      "-----Iteration 10  Net [64, 64, 64] Lambda 0.01 -----------------\n"
     ]
    },
    {
     "name": "stderr",
     "output_type": "stream",
     "text": [
      "C:\\Users\\Tanishk\\AppData\\Local\\Temp/ipykernel_20172/869318862.py:8: SettingWithCopyWarning: \n",
      "A value is trying to be set on a copy of a slice from a DataFrame.\n",
      "Try using .loc[row_indexer,col_indexer] = value instead\n",
      "\n",
      "See the caveats in the documentation: https://pandas.pydata.org/pandas-docs/stable/user_guide/indexing.html#returning-a-view-versus-a-copy\n",
      "  df[col] = df[col].apply(\n"
     ]
    },
    {
     "name": "stdout",
     "output_type": "stream",
     "text": [
      "Final Diff Cost: -0.02305248218454059\n",
      "Final Cost 1.4218100699709482\n",
      "Number of Iterations: 2\n",
      "Conf Matrix: Counter({'0,0': 32, '1,0': 22, '1,1': 5, '0,1': 1})\n",
      "Accuracy: 0.6166666666666667\n",
      "[0.5543, 0.6344, 0.6808, 0.6442, 0.6595, 0.6893, 0.5543, 0.5543, 0.5543, 0.6255, 0.5786, 0.5971]\n",
      "[nan, nan, nan, nan, nan, nan, nan, nan, nan, nan, nan, nan]\n"
     ]
    },
    {
     "name": "stderr",
     "output_type": "stream",
     "text": [
      "c:\\Users\\Tanishk\\AppData\\Local\\Programs\\Python\\Python39\\lib\\site-packages\\numpy\\core\\fromnumeric.py:3440: RuntimeWarning: Mean of empty slice.\n",
      "  return _methods._mean(a, axis=axis, dtype=dtype,\n",
      "c:\\Users\\Tanishk\\AppData\\Local\\Programs\\Python\\Python39\\lib\\site-packages\\numpy\\core\\_methods.py:189: RuntimeWarning: invalid value encountered in double_scalars\n",
      "  ret = ret.dtype.type(ret / rcount)\n"
     ]
    }
   ],
   "source": [
    "\n",
    "SC = 1e-4\n",
    "with ThreadPoolExecutor(8) as executor:\n",
    "    \n",
    "\n",
    "    for l in [.1, .01]:\n",
    "        fin_accuracy = []\n",
    "        fin_fscore = []\n",
    "\n",
    "        for num_hid in [1, 3]:\n",
    "            for num_neur in [4, 8, 16, 25, 32, 64]:\n",
    "                accs, fscores = run_cross_valid(\n",
    "                    df, num_vals, alpha=.1, net=[num_neur] * num_hid, conts=conts, lamb=l)\n",
    "                # print(f\"Accuracies: {accs},\\nMean: {np.mean(accs)}\")\n",
    "                fin_accuracy.append(np.round(np.mean(accs), decimals=4))\n",
    "                # print(f\"F1-Scores: {fscores},\\nMean: {np.mean(fscores)}\")\n",
    "                fin_fscore.append(np.round(np.mean(fscores), decimals=4))\n",
    "                # break\n",
    "            # break\n",
    "        # print()\n",
    "        # results_table(fin_accuracy)\n",
    "        # print()\n",
    "        # results_table(fin_fscore)\n",
    "        # print()\n",
    "        print(fin_accuracy)\n",
    "        print(fin_fscore)\n",
    "    \n"
   ]
  },
  {
   "cell_type": "code",
   "execution_count": null,
   "metadata": {},
   "outputs": [],
   "source": []
  }
 ],
 "metadata": {
  "kernelspec": {
   "display_name": "Python 3.9.7 64-bit",
   "language": "python",
   "name": "python3"
  },
  "language_info": {
   "codemirror_mode": {
    "name": "ipython",
    "version": 3
   },
   "file_extension": ".py",
   "mimetype": "text/x-python",
   "name": "python",
   "nbconvert_exporter": "python",
   "pygments_lexer": "ipython3",
   "version": "3.9.7"
  },
  "orig_nbformat": 4,
  "vscode": {
   "interpreter": {
    "hash": "fdff13a68e517d0fd16c82d3cf7617575db8049ef7e9d36e1fa035227d8b9827"
   }
  }
 },
 "nbformat": 4,
 "nbformat_minor": 2
}
