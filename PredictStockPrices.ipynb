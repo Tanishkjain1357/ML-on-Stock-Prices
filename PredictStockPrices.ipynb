{
 "cells": [
  {
   "cell_type": "markdown",
   "metadata": {},
   "source": [
    "***Importing all packages/libraries and datasets***"
   ]
  },
  {
   "cell_type": "code",
   "execution_count": null,
   "metadata": {},
   "outputs": [],
   "source": [
    "import pandas as pd\n",
    "import numpy as np\n",
    "import matplotlib.pyplot as plt\n",
    "import seaborn as sns\n",
    "from collections import Counter\n",
    "from concurrent.futures import ThreadPoolExecutor\n",
    "import random\n",
    "from sklearn.preprocessing import OneHotEncoder\n",
    "fd_14 = pd.read_csv(\"./Stocks/2014_Financial_Data.csv\")\n",
    "fd_15 = pd.read_csv(\"./Stocks/2015_Financial_Data.csv\")\n",
    "fd_16 = pd.read_csv(\"./Stocks/2016_Financial_Data.csv\")\n",
    "fd_17 = pd.read_csv(\"./Stocks/2017_Financial_Data.csv\")\n",
    "fd_18 = pd.read_csv(\"./Stocks/2018_Financial_Data.csv\")"
   ]
  },
  {
   "cell_type": "code",
   "execution_count": null,
   "metadata": {},
   "outputs": [],
   "source": [
    "# print(fd_14.head())\n",
    "# print(fd_15.head())\n",
    "# print(fd_16.head())\n",
    "# print(fd_17.head())\n",
    "# print(fd_18.head())\n",
    "fd_14.info()\n",
    "fd_14.describe()\n",
    "# print(fd_14[[\"Unnamed: 0\", \"Asset Growth\", \"2015 PRICE VAR [%]\", \"Class\"]])"
   ]
  },
  {
   "cell_type": "code",
   "execution_count": null,
   "metadata": {},
   "outputs": [],
   "source": [
    "object_cols = list(filter(lambda x: isinstance(fd_14[x][0], str), fd_14.columns))\n",
    "object_cols"
   ]
  },
  {
   "cell_type": "code",
   "execution_count": null,
   "metadata": {},
   "outputs": [],
   "source": [
    "print(fd_14['Sector'].unique())\n",
    "\n",
    "df_class = fd_14['Class'].value_counts()\n",
    "print(df_class)\n",
    "sns.barplot(np.arange(len(df_class)), df_class)\n",
    "plt.show()"
   ]
  },
  {
   "cell_type": "markdown",
   "metadata": {},
   "source": [
    "***Attempting to clean data***"
   ]
  },
  {
   "cell_type": "code",
   "execution_count": null,
   "metadata": {},
   "outputs": [],
   "source": [
    "# Dropped those columns with more than 50% of their elements as NULL\n",
    "fd_14 = fd_14.dropna(thresh=len(fd_14)/2, axis=1)\n",
    "print(fd_14.head())\n",
    "print(fd_14.shape)"
   ]
  },
  {
   "cell_type": "code",
   "execution_count": null,
   "metadata": {},
   "outputs": [],
   "source": [
    "\n",
    "fd_14.isnull().sum()"
   ]
  },
  {
   "cell_type": "code",
   "execution_count": null,
   "metadata": {},
   "outputs": [],
   "source": [
    "print(fd_14.columns)"
   ]
  },
  {
   "cell_type": "code",
   "execution_count": null,
   "metadata": {},
   "outputs": [],
   "source": [
    "# Test to see how many rows will be left if all NULL valued rows were removed\n",
    "fd_14 = fd_14.dropna()\n",
    "fd_14.drop(['Unnamed: 0', 'Sector'], axis=1, inplace=True)\n",
    "fd_14.to_csv('out.csv')"
   ]
  },
  {
   "cell_type": "code",
   "execution_count": null,
   "metadata": {},
   "outputs": [],
   "source": [
    "def is_cont(col):\n",
    "    if type(col) != np.int64:\n",
    "        if type(col) == np.float64:\n",
    "            return True\n",
    "        if len(col) > 0 and type(col.iloc[0]) == np.float64:\n",
    "            return True\n",
    "    counts = col.value_counts()\n",
    "    if (len(counts[counts < .1 * len(counts)])) > 0:\n",
    "        return True\n",
    "    return False"
   ]
  },
  {
   "cell_type": "code",
   "execution_count": null,
   "metadata": {},
   "outputs": [],
   "source": [
    "def min_max_finder(data):\n",
    "    max_col = dict()\n",
    "    min_col = dict()\n",
    "    for x in data.columns:\n",
    "        max_col[x] = max(data[x])\n",
    "        min_col[x] = min(data[x])\n",
    "    return max_col, min_col"
   ]
  },
  {
   "cell_type": "code",
   "execution_count": null,
   "metadata": {},
   "outputs": [],
   "source": [
    "def normalize(df, max_cols, min_cols, conts):\n",
    "    def normal_func(x, col):\n",
    "        if max_cols[col] - min_cols[col] == 0:\n",
    "            return 0\n",
    "        return 2 * (x - min_cols[col]) / (max_cols[col] - min_cols[col]) - 1\n",
    "    for col in df.columns:\n",
    "        if conts[col]:\n",
    "            df[col] = df[col].apply(\n",
    "                lambda x: normal_func(x, col))"
   ]
  },
  {
   "cell_type": "code",
   "execution_count": null,
   "metadata": {},
   "outputs": [],
   "source": [
    "def convert_to_one_hot(col):\n",
    "    encoder = OneHotEncoder(handle_unknown='ignore')\n",
    "    col = col.reshape(-1, 1)\n",
    "    encoder.fit(col)\n",
    "    new_col = encoder.transform(col).toarray()\n",
    "    return new_col"
   ]
  },
  {
   "cell_type": "code",
   "execution_count": null,
   "metadata": {},
   "outputs": [],
   "source": [
    "def extract_dataframe(filename, delim=None, names=None):\n",
    "    df = pd.read_csv(filename, delimiter=delim, names=names)\n",
    "    class_name = [x for x in df.columns if 'class' in x.lower()][0]\n",
    "    df.rename(columns={class_name: 'class'}, inplace=True)\n",
    "    num_vals = dict()\n",
    "    for x in df:\n",
    "        num_vals[x] = np.array(sorted(df[x].unique()))\n",
    "\n",
    "    return df, num_vals\n",
    "\n"
   ]
  },
  {
   "cell_type": "code",
   "execution_count": null,
   "metadata": {},
   "outputs": [],
   "source": [
    "def make_X_y_split(df):\n",
    "    X = df.loc[:, df.columns != 'class']\n",
    "    y = df['class']\n",
    "    X = np.array(X)\n",
    "    y = np.array([y])\n",
    "    y = convert_to_one_hot(y)\n",
    "    return X, y"
   ]
  },
  {
   "cell_type": "code",
   "execution_count": null,
   "metadata": {},
   "outputs": [],
   "source": [
    "def create_thetas(layers: list):\n",
    "    thetas = dict()\n",
    "    for i, v in enumerate(layers[:-1]):\n",
    "        val = np.random.uniform(-1, 1, size=(layers[i+1], v+1))\n",
    "        thetas[i] = val\n",
    "    return thetas\n"
   ]
  },
  {
   "cell_type": "code",
   "execution_count": null,
   "metadata": {},
   "outputs": [],
   "source": [
    "def add_bias(X):\n",
    "    o = np.ones((np.shape(X)[0], 1), dtype=int)\n",
    "    return np.column_stack((o, X))\n",
    "\n",
    "def sigmoid(z):\n",
    "    return 1 / (1 + np.exp(-z))\n",
    "\n",
    "def z(weights: np.array, inputs: np.array):\n",
    "    return np.matmul(weights, inputs)"
   ]
  },
  {
   "cell_type": "code",
   "execution_count": null,
   "metadata": {},
   "outputs": [],
   "source": [
    "def run_forward_prop(X, theta):\n",
    "    a = []\n",
    "    a.append(np.asarray(add_bias(X)))\n",
    "    for l in range(len(theta) - 1):\n",
    "        # print(a[l])\n",
    "        zl = np.matmul(a[l], theta[l].transpose())\n",
    "        zl = sigmoid(zl)\n",
    "        a.append(add_bias(zl))\n",
    "    zl = np.matmul(a[len(theta)-1], theta[len(theta)-1].transpose())\n",
    "    a.append(sigmoid(zl))\n",
    "    return a"
   ]
  },
  {
   "cell_type": "code",
   "execution_count": null,
   "metadata": {},
   "outputs": [],
   "source": [
    "def J(outputs, y, reg=0, lamb=0.0):\n",
    "    tempRes1 = []\n",
    "    tempRes2 = []\n",
    "    with np.errstate(divide=\"ignore\"):\n",
    "        tempRes1 = np.log(outputs)\n",
    "        tempRes2 = np.log(1-outputs)\n",
    "    tempRes1[np.isneginf(tempRes1)] = 0\n",
    "    tempRes2[np.isneginf(tempRes2)] = 0\n",
    "    jx = np.multiply(-1 * y, tempRes1)\n",
    "    jy = np.multiply(1 - y, tempRes2)\n",
    "    j = jx - jy\n",
    "    j = np.sum(j) / len(y)\n",
    "    return np.mean(j) + (reg if lamb != 0 else 0)"
   ]
  },
  {
   "cell_type": "code",
   "execution_count": null,
   "metadata": {},
   "outputs": [],
   "source": [
    "def run_back_prop(a, y, thetas, lamb):\n",
    "    delta = dict()\n",
    "    delta[len(thetas)] = np.subtract(a[-1], y)\n",
    "    for k in range(len(thetas)-1, -1, -1):\n",
    "        delta[k] = np.matmul(delta[k+1], thetas[k])\n",
    "        delta[k] = np.multiply(delta[k], a[k])\n",
    "        delta[k] = np.multiply(delta[k], 1 - a[k])\n",
    "        delta[k] = np.delete(delta[k], (0), axis=1)\n",
    "    D = dict()\n",
    "    for k in range(len(thetas) - 1, -1, -1):\n",
    "        if k not in D:\n",
    "            D[k] = 0\n",
    "        D[k] += np.matmul(delta[k+1].transpose(), a[k])\n",
    "    for k in range(len(thetas)-1, -1, -1):\n",
    "        if lamb != 0.0:\n",
    "            Pk = lamb * thetas[k]\n",
    "            Pk[:, 0] = np.array([0] * len(Pk[:, 0]))\n",
    "            D[k] = (D[k] + Pk)\n",
    "        D[k] /= len(y)\n",
    "    return D"
   ]
  },
  {
   "cell_type": "code",
   "execution_count": null,
   "metadata": {},
   "outputs": [],
   "source": [
    "def calc_regularization(thetas, y, lamb=0):\n",
    "    S = 0\n",
    "    if lamb != 0:\n",
    "        for a in thetas.values():\n",
    "            for b in a:\n",
    "                S += sum(b[1:]**2)\n",
    "        S = lamb * S / 2 / len(y)\n",
    "    return S"
   ]
  },
  {
   "cell_type": "code",
   "execution_count": null,
   "metadata": {},
   "outputs": [],
   "source": [
    "def gradient_descent(X, y, thetas, stop_crit, alpha, lamb):\n",
    "    a = run_forward_prop(X, thetas)\n",
    "    cur_cost = 100000\n",
    "    reg = calc_regularization(thetas, y, lamb)\n",
    "    new_c = J(a[-1], y, reg, lamb)\n",
    "    num_iter = 0\n",
    "    while (cur_cost - new_c > stop_crit and num_iter < 200000):\n",
    "        cur_cost = new_c\n",
    "        gradients = run_back_prop(a, y, thetas, lamb)\n",
    "        for k in range(len(thetas)-1, -1, -1):\n",
    "            thetas[k] -= alpha * gradients[k]\n",
    "        num_iter += 1\n",
    "        a = run_forward_prop(X, thetas)\n",
    "        new_c = J(a[-1], y, reg, lamb)\n",
    "        if num_iter % 10000 == 0:\n",
    "            print(f\"After {num_iter} iterations: {cur_cost - new_c}\")\n",
    "    print(\"Final Diff Cost:\", cur_cost - new_c)\n",
    "    print(\"Final Cost\", new_c)\n",
    "    print(\"Number of Iterations:\", num_iter)\n",
    "    return thetas"
   ]
  },
  {
   "cell_type": "code",
   "execution_count": null,
   "metadata": {},
   "outputs": [],
   "source": [
    "def train_test_split(all_indices: dict, foldNum: int):\n",
    "    train = []\n",
    "    test = []\n",
    "    for c in all_indices:\n",
    "        test.extend(all_indices[c][foldNum])\n",
    "        t = np.concatenate(\n",
    "            all_indices[c][0:foldNum]+all_indices[c][foldNum+1:]).ravel()\n",
    "        train.extend(t)\n",
    "    return train, test"
   ]
  },
  {
   "cell_type": "code",
   "execution_count": null,
   "metadata": {},
   "outputs": [],
   "source": [
    "def make_subsets(df, classes, num_splits: int):\n",
    "    all = dict()\n",
    "    for c in classes:\n",
    "        all[c] = df.index[df['class'] == c].tolist()\n",
    "        random.shuffle(all[c])\n",
    "        all[c] = np.array_split(all[c], num_splits)\n",
    "    return all\n",
    "\n",
    "def convert_to_class(output):\n",
    "    output = np.array(\n",
    "        list((map(lambda x: np.where(x - max(x) >= 0, 1, 0), output))))\n",
    "    return output"
   ]
  },
  {
   "cell_type": "code",
   "execution_count": null,
   "metadata": {},
   "outputs": [],
   "source": [
    "def calc_accuracy(actual, predicted):\n",
    "    # key = 'actual,predicted', value = frequency\n",
    "    outputs = Counter({'0,0': 0, '0,1': 0, '1:0': 0, '1,1': 0})\n",
    "    total = 0\n",
    "    for i in range(len(actual)):\n",
    "        trueIndex = int(np.where(actual[i] == 1)[0])\n",
    "        predIndex = int(np.where(predicted[i] == 1)[0])\n",
    "        if trueIndex == predIndex:\n",
    "            total += 1\n",
    "        outputs += Counter([f\"{trueIndex},{predIndex}\"])\n",
    "    return outputs, total/len(actual)\n",
    "\n",
    "def F1_score(precision, recall):\n",
    "    return 2 * precision * recall / (precision + recall)\n",
    "\n",
    "def precision(all, num_vals):\n",
    "    fin_len = len(num_vals) - 1 if len(num_vals) == 2 else len(num_vals)\n",
    "    num_vals = num_vals[:-1] if len(num_vals) == 2 else num_vals\n",
    "    num_vals = num_vals - min(num_vals) if min(num_vals) > 0 else num_vals\n",
    "    precisions = 0\n",
    "    for i in num_vals:\n",
    "        TP = all[f\"{i},{i}\"]\n",
    "        FP = sum([val for x, val in all.items()\n",
    "                  if f\",{i}\" in x and f\"{i},{i}\" not in x])\n",
    "        precisions += TP/(TP + FP) if TP+FP != 0 else 0\n",
    "    return precisions / fin_len\n",
    "\n",
    "def recall(all, num_vals):\n",
    "    fin_len = len(num_vals) - 1 if len(num_vals) == 2 else len(num_vals)\n",
    "    num_vals = num_vals[:-1] if len(num_vals) == 2 else num_vals\n",
    "    num_vals = num_vals - min(num_vals) if min(num_vals) > 0 else num_vals\n",
    "    recalls = 0\n",
    "    for i in num_vals:\n",
    "        TP = all[f\"{i},{i}\"]\n",
    "        FN = sum([val for x, val in all.items()\n",
    "                  if f\"{i},\" in x and f\"{i},{i}\" not in x])\n",
    "        recalls += TP/(TP + FN) if TP + FN != 0 else 0\n",
    "    return recalls / fin_len"
   ]
  },
  {
   "cell_type": "code",
   "execution_count": null,
   "metadata": {},
   "outputs": [],
   "source": [
    "def plots(x_axis, y_axis, y_lab, x_lab):\n",
    "    plt.figure(figsize=(10, 6))\n",
    "    plt.scatter(x_axis, y_axis, label=y_lab)\n",
    "    plt.errorbar(x_axis, y_axis)\n",
    "    plt.xlabel(x_lab)\n",
    "    plt.ylabel(y_lab)\n",
    "    plt.title(f\"{y_lab} vs {x_lab}\")\n",
    "    plt.legend()\n",
    "    plt.autoscale()\n",
    "    plt.show()"
   ]
  },
  {
   "cell_type": "code",
   "execution_count": null,
   "metadata": {},
   "outputs": [],
   "source": [
    "def run_cross_valid(df, num_vals, alpha, net, conts, lamb=0, k=10, find_cost=0):\n",
    "    num = np.ceil(len(df['class']) / k)\n",
    "    all_indices = make_subsets(df, num_vals['class'], k)\n",
    "    print(f\"Number of instances in test set: {num}\")\n",
    "    test_accuracies = []\n",
    "    all_fScore = []\n",
    "    layers = [len(df.columns) - 1]\n",
    "    layers.extend(net)\n",
    "    layers.append(len(num_vals['class']))\n",
    "    thetas = create_thetas(layers)\n",
    "    # print(all_indices)\n",
    "    # return\n",
    "    for i in range(k):\n",
    "        print(\n",
    "            f\"-----Iteration {i+1}  Net {net} Lambda {lamb} -----------------\")\n",
    "        train, test = train_test_split(all_indices, i)\n",
    "        # print(\"TRAIN\", train)\n",
    "        # print(\"TEST\", test)\n",
    "        train = df.iloc[train]\n",
    "        test = df.iloc[test]\n",
    "        if (len(test) == 0):\n",
    "            break\n",
    "        # test.reset_index(drop=True, inplace=True)\n",
    "\n",
    "        max_cols, min_cols = min_max_finder(train)\n",
    "        normalize(train, max_cols, min_cols, conts)\n",
    "        normalize(test, max_cols, min_cols, conts)\n",
    "        trainX, trainY = make_X_y_split(train)\n",
    "        testX, testY = make_X_y_split(test)\n",
    "\n",
    "        thetas = gradient_descent(trainX, trainY, thetas, SC, alpha, lamb)\n",
    "        results = run_forward_prop(testX, thetas)[-1]\n",
    "        results = convert_to_class(results)\n",
    "        if find_cost == 0:\n",
    "            op, ac = calc_accuracy(testY, results)\n",
    "\n",
    "            print(\"Conf Matrix:\", op)\n",
    "            print(\"Accuracy:\", ac)\n",
    "\n",
    "            f1 = F1_score(precision(op, num_vals['class']), recall(\n",
    "                op, num_vals['class']))\n",
    "            print(\"F1-Score:\", f1)\n",
    "            all_fScore.append(f1)\n",
    "            test_accuracies.append(ac)\n",
    "        else:\n",
    "            reg = calc_regularization(thetas, testY, lamb)\n",
    "            t_cost = J(results, testY, reg, lamb=lamb)\n",
    "            # print(\"TCOST TCOST---------------------------------\", t_cost)\n",
    "            test_accuracies.append(t_cost)\n",
    "        # print('-------------------------', test_accuracies)\n",
    "\n",
    "    return test_accuracies, all_fScore"
   ]
  },
  {
   "cell_type": "code",
   "execution_count": null,
   "metadata": {},
   "outputs": [],
   "source": [
    "df, num_vals = extract_dataframe(\n",
    "        'out.csv')\n",
    "conts = dict()\n",
    "for x in df:\n",
    "    conts[x] = is_cont(df[x])"
   ]
  },
  {
   "cell_type": "code",
   "execution_count": 52,
   "metadata": {},
   "outputs": [
    {
     "name": "stdout",
     "output_type": "stream",
     "text": [
      "Number of instances in test set: 61.0\n",
      "-----Iteration 1  Net [4] Lambda 0.1 -----------------\n"
     ]
    },
    {
     "name": "stderr",
     "output_type": "stream",
     "text": [
      "C:\\Users\\Tanishk\\AppData\\Local\\Temp/ipykernel_18588/869318862.py:8: SettingWithCopyWarning: \n",
      "A value is trying to be set on a copy of a slice from a DataFrame.\n",
      "Try using .loc[row_indexer,col_indexer] = value instead\n",
      "\n",
      "See the caveats in the documentation: https://pandas.pydata.org/pandas-docs/stable/user_guide/indexing.html#returning-a-view-versus-a-copy\n",
      "  df[col] = df[col].apply(\n"
     ]
    },
    {
     "name": "stdout",
     "output_type": "stream",
     "text": [
      "Final Diff Cost: 9.465531524810444e-05\n",
      "Final Cost 1.399772653192838\n",
      "Number of Iterations: 30\n",
      "Conf Matrix: Counter({'0,0': 33, '1,0': 27, '0,1': 1, '1,1': 1})\n",
      "Accuracy: 0.5483870967741935\n",
      "F1-Score: 0.7021276595744681\n",
      "-----Iteration 2  Net [4] Lambda 0.1 -----------------\n"
     ]
    },
    {
     "name": "stderr",
     "output_type": "stream",
     "text": [
      "C:\\Users\\Tanishk\\AppData\\Local\\Temp/ipykernel_18588/869318862.py:8: SettingWithCopyWarning: \n",
      "A value is trying to be set on a copy of a slice from a DataFrame.\n",
      "Try using .loc[row_indexer,col_indexer] = value instead\n",
      "\n",
      "See the caveats in the documentation: https://pandas.pydata.org/pandas-docs/stable/user_guide/indexing.html#returning-a-view-versus-a-copy\n",
      "  df[col] = df[col].apply(\n"
     ]
    },
    {
     "name": "stdout",
     "output_type": "stream",
     "text": [
      "Final Diff Cost: 9.268249229421599e-05\n",
      "Final Cost 1.4021509620590045\n",
      "Number of Iterations: 8\n",
      "Conf Matrix: Counter({'0,0': 33, '1,0': 26, '0,1': 1, '1,1': 1})\n",
      "Accuracy: 0.5573770491803278\n",
      "F1-Score: 0.7096774193548386\n",
      "-----Iteration 3  Net [4] Lambda 0.1 -----------------\n"
     ]
    },
    {
     "name": "stderr",
     "output_type": "stream",
     "text": [
      "C:\\Users\\Tanishk\\AppData\\Local\\Temp/ipykernel_18588/869318862.py:8: SettingWithCopyWarning: \n",
      "A value is trying to be set on a copy of a slice from a DataFrame.\n",
      "Try using .loc[row_indexer,col_indexer] = value instead\n",
      "\n",
      "See the caveats in the documentation: https://pandas.pydata.org/pandas-docs/stable/user_guide/indexing.html#returning-a-view-versus-a-copy\n",
      "  df[col] = df[col].apply(\n"
     ]
    },
    {
     "name": "stdout",
     "output_type": "stream",
     "text": [
      "Final Diff Cost: 6.702846635753268e-05\n",
      "Final Cost 1.3995366830408271\n",
      "Number of Iterations: 1\n",
      "Conf Matrix: Counter({'0,0': 33, '1,0': 26, '0,1': 1, '1,1': 1})\n",
      "Accuracy: 0.5573770491803278\n",
      "F1-Score: 0.7096774193548386\n",
      "-----Iteration 4  Net [4] Lambda 0.1 -----------------\n"
     ]
    },
    {
     "name": "stderr",
     "output_type": "stream",
     "text": [
      "C:\\Users\\Tanishk\\AppData\\Local\\Temp/ipykernel_18588/869318862.py:8: SettingWithCopyWarning: \n",
      "A value is trying to be set on a copy of a slice from a DataFrame.\n",
      "Try using .loc[row_indexer,col_indexer] = value instead\n",
      "\n",
      "See the caveats in the documentation: https://pandas.pydata.org/pandas-docs/stable/user_guide/indexing.html#returning-a-view-versus-a-copy\n",
      "  df[col] = df[col].apply(\n"
     ]
    },
    {
     "name": "stdout",
     "output_type": "stream",
     "text": [
      "Final Diff Cost: 3.714313029457017e-05\n",
      "Final Cost 1.3984564452102093\n",
      "Number of Iterations: 1\n",
      "Conf Matrix: Counter({'0,0': 33, '1,0': 27, '0,1': 1})\n",
      "Accuracy: 0.5409836065573771\n",
      "F1-Score: 0.7021276595744681\n",
      "-----Iteration 5  Net [4] Lambda 0.1 -----------------\n"
     ]
    },
    {
     "name": "stderr",
     "output_type": "stream",
     "text": [
      "C:\\Users\\Tanishk\\AppData\\Local\\Temp/ipykernel_18588/869318862.py:8: SettingWithCopyWarning: \n",
      "A value is trying to be set on a copy of a slice from a DataFrame.\n",
      "Try using .loc[row_indexer,col_indexer] = value instead\n",
      "\n",
      "See the caveats in the documentation: https://pandas.pydata.org/pandas-docs/stable/user_guide/indexing.html#returning-a-view-versus-a-copy\n",
      "  df[col] = df[col].apply(\n"
     ]
    },
    {
     "name": "stdout",
     "output_type": "stream",
     "text": [
      "Final Diff Cost: 8.596009309513875e-05\n",
      "Final Cost 1.3994021939972334\n",
      "Number of Iterations: 2\n",
      "Conf Matrix: Counter({'0,0': 34, '1,0': 27})\n",
      "Accuracy: 0.5573770491803278\n",
      "F1-Score: 0.7157894736842105\n",
      "-----Iteration 6  Net [4] Lambda 0.1 -----------------\n"
     ]
    },
    {
     "name": "stderr",
     "output_type": "stream",
     "text": [
      "C:\\Users\\Tanishk\\AppData\\Local\\Temp/ipykernel_18588/869318862.py:8: SettingWithCopyWarning: \n",
      "A value is trying to be set on a copy of a slice from a DataFrame.\n",
      "Try using .loc[row_indexer,col_indexer] = value instead\n",
      "\n",
      "See the caveats in the documentation: https://pandas.pydata.org/pandas-docs/stable/user_guide/indexing.html#returning-a-view-versus-a-copy\n",
      "  df[col] = df[col].apply(\n"
     ]
    },
    {
     "name": "stdout",
     "output_type": "stream",
     "text": [
      "Final Diff Cost: 8.943422451146432e-05\n",
      "Final Cost 1.400497215678837\n",
      "Number of Iterations: 4\n",
      "Conf Matrix: Counter({'0,0': 34, '1,0': 26, '1,1': 1})\n",
      "Accuracy: 0.5737704918032787\n",
      "F1-Score: 0.7234042553191489\n",
      "-----Iteration 7  Net [4] Lambda 0.1 -----------------\n"
     ]
    },
    {
     "name": "stderr",
     "output_type": "stream",
     "text": [
      "C:\\Users\\Tanishk\\AppData\\Local\\Temp/ipykernel_18588/869318862.py:8: SettingWithCopyWarning: \n",
      "A value is trying to be set on a copy of a slice from a DataFrame.\n",
      "Try using .loc[row_indexer,col_indexer] = value instead\n",
      "\n",
      "See the caveats in the documentation: https://pandas.pydata.org/pandas-docs/stable/user_guide/indexing.html#returning-a-view-versus-a-copy\n",
      "  df[col] = df[col].apply(\n"
     ]
    },
    {
     "name": "stdout",
     "output_type": "stream",
     "text": [
      "Final Diff Cost: 1.4438043385744947e-05\n",
      "Final Cost 1.3989738554479796\n",
      "Number of Iterations: 1\n",
      "Conf Matrix: Counter({'0,0': 34, '1,0': 26, '1,1': 1})\n",
      "Accuracy: 0.5737704918032787\n",
      "F1-Score: 0.7234042553191489\n",
      "-----Iteration 8  Net [4] Lambda 0.1 -----------------\n"
     ]
    },
    {
     "name": "stderr",
     "output_type": "stream",
     "text": [
      "C:\\Users\\Tanishk\\AppData\\Local\\Temp/ipykernel_18588/869318862.py:8: SettingWithCopyWarning: \n",
      "A value is trying to be set on a copy of a slice from a DataFrame.\n",
      "Try using .loc[row_indexer,col_indexer] = value instead\n",
      "\n",
      "See the caveats in the documentation: https://pandas.pydata.org/pandas-docs/stable/user_guide/indexing.html#returning-a-view-versus-a-copy\n",
      "  df[col] = df[col].apply(\n"
     ]
    },
    {
     "name": "stdout",
     "output_type": "stream",
     "text": [
      "Final Diff Cost: 1.0797197540712844e-05\n",
      "Final Cost 1.3985036524743568\n",
      "Number of Iterations: 1\n",
      "Conf Matrix: Counter({'0,0': 33, '1,0': 26, '1,1': 1})\n",
      "Accuracy: 0.5666666666666667\n",
      "F1-Score: 0.717391304347826\n",
      "-----Iteration 9  Net [4] Lambda 0.1 -----------------\n"
     ]
    },
    {
     "name": "stderr",
     "output_type": "stream",
     "text": [
      "C:\\Users\\Tanishk\\AppData\\Local\\Temp/ipykernel_18588/869318862.py:8: SettingWithCopyWarning: \n",
      "A value is trying to be set on a copy of a slice from a DataFrame.\n",
      "Try using .loc[row_indexer,col_indexer] = value instead\n",
      "\n",
      "See the caveats in the documentation: https://pandas.pydata.org/pandas-docs/stable/user_guide/indexing.html#returning-a-view-versus-a-copy\n",
      "  df[col] = df[col].apply(\n"
     ]
    },
    {
     "name": "stdout",
     "output_type": "stream",
     "text": [
      "Final Diff Cost: 5.351847511447794e-05\n",
      "Final Cost 1.3993680645322566\n",
      "Number of Iterations: 1\n",
      "Conf Matrix: Counter({'0,0': 33, '1,0': 27})\n",
      "Accuracy: 0.55\n",
      "F1-Score: 0.7096774193548387\n",
      "-----Iteration 10  Net [4] Lambda 0.1 -----------------\n"
     ]
    },
    {
     "name": "stderr",
     "output_type": "stream",
     "text": [
      "C:\\Users\\Tanishk\\AppData\\Local\\Temp/ipykernel_18588/869318862.py:8: SettingWithCopyWarning: \n",
      "A value is trying to be set on a copy of a slice from a DataFrame.\n",
      "Try using .loc[row_indexer,col_indexer] = value instead\n",
      "\n",
      "See the caveats in the documentation: https://pandas.pydata.org/pandas-docs/stable/user_guide/indexing.html#returning-a-view-versus-a-copy\n",
      "  df[col] = df[col].apply(\n"
     ]
    },
    {
     "name": "stdout",
     "output_type": "stream",
     "text": [
      "Final Diff Cost: 2.9148787936916776e-05\n",
      "Final Cost 1.398753941670473\n",
      "Number of Iterations: 1\n",
      "Conf Matrix: Counter({'0,0': 33, '1,0': 27})\n",
      "Accuracy: 0.55\n",
      "F1-Score: 0.7096774193548387\n",
      "Number of instances in test set: 61.0\n",
      "-----Iteration 1  Net [8] Lambda 0.1 -----------------\n"
     ]
    },
    {
     "name": "stderr",
     "output_type": "stream",
     "text": [
      "C:\\Users\\Tanishk\\AppData\\Local\\Temp/ipykernel_18588/869318862.py:8: SettingWithCopyWarning: \n",
      "A value is trying to be set on a copy of a slice from a DataFrame.\n",
      "Try using .loc[row_indexer,col_indexer] = value instead\n",
      "\n",
      "See the caveats in the documentation: https://pandas.pydata.org/pandas-docs/stable/user_guide/indexing.html#returning-a-view-versus-a-copy\n",
      "  df[col] = df[col].apply(\n"
     ]
    },
    {
     "name": "stdout",
     "output_type": "stream",
     "text": [
      "Final Diff Cost: 9.658682922242257e-05\n",
      "Final Cost 1.4269110677629095\n",
      "Number of Iterations: 29\n",
      "Conf Matrix: Counter({'0,0': 31, '1,0': 28, '0,1': 3})\n",
      "Accuracy: 0.5\n",
      "F1-Score: 0.6666666666666667\n",
      "-----Iteration 2  Net [8] Lambda 0.1 -----------------\n"
     ]
    },
    {
     "name": "stderr",
     "output_type": "stream",
     "text": [
      "C:\\Users\\Tanishk\\AppData\\Local\\Temp/ipykernel_18588/869318862.py:8: SettingWithCopyWarning: \n",
      "A value is trying to be set on a copy of a slice from a DataFrame.\n",
      "Try using .loc[row_indexer,col_indexer] = value instead\n",
      "\n",
      "See the caveats in the documentation: https://pandas.pydata.org/pandas-docs/stable/user_guide/indexing.html#returning-a-view-versus-a-copy\n",
      "  df[col] = df[col].apply(\n"
     ]
    },
    {
     "name": "stdout",
     "output_type": "stream",
     "text": [
      "Final Diff Cost: 9.082757287082188e-05\n",
      "Final Cost 1.4255365373936426\n",
      "Number of Iterations: 6\n",
      "Conf Matrix: Counter({'0,0': 34, '1,0': 27})\n",
      "Accuracy: 0.5573770491803278\n",
      "F1-Score: 0.7157894736842105\n",
      "-----Iteration 3  Net [8] Lambda 0.1 -----------------\n"
     ]
    },
    {
     "name": "stderr",
     "output_type": "stream",
     "text": [
      "C:\\Users\\Tanishk\\AppData\\Local\\Temp/ipykernel_18588/869318862.py:8: SettingWithCopyWarning: \n",
      "A value is trying to be set on a copy of a slice from a DataFrame.\n",
      "Try using .loc[row_indexer,col_indexer] = value instead\n",
      "\n",
      "See the caveats in the documentation: https://pandas.pydata.org/pandas-docs/stable/user_guide/indexing.html#returning-a-view-versus-a-copy\n",
      "  df[col] = df[col].apply(\n"
     ]
    },
    {
     "name": "stdout",
     "output_type": "stream",
     "text": [
      "Final Diff Cost: 9.613255580087632e-05\n",
      "Final Cost 1.4256054062630197\n",
      "Number of Iterations: 5\n",
      "Conf Matrix: Counter({'0,0': 34, '1,0': 26, '1,1': 1})\n",
      "Accuracy: 0.5737704918032787\n",
      "F1-Score: 0.7234042553191489\n",
      "-----Iteration 4  Net [8] Lambda 0.1 -----------------\n"
     ]
    },
    {
     "name": "stderr",
     "output_type": "stream",
     "text": [
      "C:\\Users\\Tanishk\\AppData\\Local\\Temp/ipykernel_18588/869318862.py:8: SettingWithCopyWarning: \n",
      "A value is trying to be set on a copy of a slice from a DataFrame.\n",
      "Try using .loc[row_indexer,col_indexer] = value instead\n",
      "\n",
      "See the caveats in the documentation: https://pandas.pydata.org/pandas-docs/stable/user_guide/indexing.html#returning-a-view-versus-a-copy\n",
      "  df[col] = df[col].apply(\n"
     ]
    },
    {
     "name": "stdout",
     "output_type": "stream",
     "text": [
      "Final Diff Cost: 9.894289727174765e-05\n",
      "Final Cost 1.4249411386127644\n",
      "Number of Iterations: 3\n",
      "Conf Matrix: Counter({'0,0': 33, '1,0': 26, '0,1': 1, '1,1': 1})\n",
      "Accuracy: 0.5573770491803278\n",
      "F1-Score: 0.7096774193548386\n",
      "-----Iteration 5  Net [8] Lambda 0.1 -----------------\n"
     ]
    },
    {
     "name": "stderr",
     "output_type": "stream",
     "text": [
      "C:\\Users\\Tanishk\\AppData\\Local\\Temp/ipykernel_18588/869318862.py:8: SettingWithCopyWarning: \n",
      "A value is trying to be set on a copy of a slice from a DataFrame.\n",
      "Try using .loc[row_indexer,col_indexer] = value instead\n",
      "\n",
      "See the caveats in the documentation: https://pandas.pydata.org/pandas-docs/stable/user_guide/indexing.html#returning-a-view-versus-a-copy\n",
      "  df[col] = df[col].apply(\n"
     ]
    },
    {
     "name": "stdout",
     "output_type": "stream",
     "text": [
      "Final Diff Cost: 9.492422400048106e-05\n",
      "Final Cost 1.1849502220433255\n",
      "Number of Iterations: 1594\n",
      "Conf Matrix: Counter({'0,0': 26, '1,0': 18, '1,1': 9, '0,1': 8})\n",
      "Accuracy: 0.5737704918032787\n",
      "F1-Score: 0.6666666666666667\n",
      "-----Iteration 6  Net [8] Lambda 0.1 -----------------\n"
     ]
    },
    {
     "name": "stderr",
     "output_type": "stream",
     "text": [
      "C:\\Users\\Tanishk\\AppData\\Local\\Temp/ipykernel_18588/869318862.py:8: SettingWithCopyWarning: \n",
      "A value is trying to be set on a copy of a slice from a DataFrame.\n",
      "Try using .loc[row_indexer,col_indexer] = value instead\n",
      "\n",
      "See the caveats in the documentation: https://pandas.pydata.org/pandas-docs/stable/user_guide/indexing.html#returning-a-view-versus-a-copy\n",
      "  df[col] = df[col].apply(\n"
     ]
    },
    {
     "name": "stdout",
     "output_type": "stream",
     "text": [
      "Final Diff Cost: -0.011089565371961818\n",
      "Final Cost 1.2813088665211596\n",
      "Number of Iterations: 2\n",
      "Conf Matrix: Counter({'0,0': 29, '1,0': 19, '1,1': 8, '0,1': 5})\n",
      "Accuracy: 0.6065573770491803\n",
      "F1-Score: 0.7073170731707317\n",
      "-----Iteration 7  Net [8] Lambda 0.1 -----------------\n"
     ]
    },
    {
     "name": "stderr",
     "output_type": "stream",
     "text": [
      "C:\\Users\\Tanishk\\AppData\\Local\\Temp/ipykernel_18588/869318862.py:8: SettingWithCopyWarning: \n",
      "A value is trying to be set on a copy of a slice from a DataFrame.\n",
      "Try using .loc[row_indexer,col_indexer] = value instead\n",
      "\n",
      "See the caveats in the documentation: https://pandas.pydata.org/pandas-docs/stable/user_guide/indexing.html#returning-a-view-versus-a-copy\n",
      "  df[col] = df[col].apply(\n"
     ]
    },
    {
     "name": "stdout",
     "output_type": "stream",
     "text": [
      "Final Diff Cost: -0.04990622867389605\n",
      "Final Cost 1.3711884047154421\n",
      "Number of Iterations: 2\n",
      "Conf Matrix: Counter({'0,0': 34, '1,0': 22, '1,1': 5})\n",
      "Accuracy: 0.639344262295082\n",
      "F1-Score: 0.7555555555555554\n",
      "-----Iteration 8  Net [8] Lambda 0.1 -----------------\n"
     ]
    },
    {
     "name": "stderr",
     "output_type": "stream",
     "text": [
      "C:\\Users\\Tanishk\\AppData\\Local\\Temp/ipykernel_18588/869318862.py:8: SettingWithCopyWarning: \n",
      "A value is trying to be set on a copy of a slice from a DataFrame.\n",
      "Try using .loc[row_indexer,col_indexer] = value instead\n",
      "\n",
      "See the caveats in the documentation: https://pandas.pydata.org/pandas-docs/stable/user_guide/indexing.html#returning-a-view-versus-a-copy\n",
      "  df[col] = df[col].apply(\n"
     ]
    },
    {
     "name": "stdout",
     "output_type": "stream",
     "text": [
      "Final Diff Cost: -0.006028491648980117\n",
      "Final Cost 1.25451011353859\n",
      "Number of Iterations: 1\n",
      "Conf Matrix: Counter({'0,0': 24, '1,1': 21, '0,1': 9, '1,0': 6})\n",
      "Accuracy: 0.75\n",
      "F1-Score: 0.761904761904762\n",
      "-----Iteration 9  Net [8] Lambda 0.1 -----------------\n"
     ]
    },
    {
     "name": "stderr",
     "output_type": "stream",
     "text": [
      "C:\\Users\\Tanishk\\AppData\\Local\\Temp/ipykernel_18588/869318862.py:8: SettingWithCopyWarning: \n",
      "A value is trying to be set on a copy of a slice from a DataFrame.\n",
      "Try using .loc[row_indexer,col_indexer] = value instead\n",
      "\n",
      "See the caveats in the documentation: https://pandas.pydata.org/pandas-docs/stable/user_guide/indexing.html#returning-a-view-versus-a-copy\n",
      "  df[col] = df[col].apply(\n"
     ]
    },
    {
     "name": "stdout",
     "output_type": "stream",
     "text": [
      "Final Diff Cost: -0.002325349090838591\n",
      "Final Cost 1.2314681586304677\n",
      "Number of Iterations: 2\n",
      "Conf Matrix: Counter({'0,0': 21, '1,1': 18, '0,1': 12, '1,0': 9})\n",
      "Accuracy: 0.65\n",
      "F1-Score: 0.6666666666666666\n",
      "-----Iteration 10  Net [8] Lambda 0.1 -----------------\n"
     ]
    },
    {
     "name": "stderr",
     "output_type": "stream",
     "text": [
      "C:\\Users\\Tanishk\\AppData\\Local\\Temp/ipykernel_18588/869318862.py:8: SettingWithCopyWarning: \n",
      "A value is trying to be set on a copy of a slice from a DataFrame.\n",
      "Try using .loc[row_indexer,col_indexer] = value instead\n",
      "\n",
      "See the caveats in the documentation: https://pandas.pydata.org/pandas-docs/stable/user_guide/indexing.html#returning-a-view-versus-a-copy\n",
      "  df[col] = df[col].apply(\n"
     ]
    },
    {
     "name": "stdout",
     "output_type": "stream",
     "text": [
      "Final Diff Cost: -0.011879180575787629\n",
      "Final Cost 1.1106034114136714\n",
      "Number of Iterations: 3\n",
      "Conf Matrix: Counter({'0,0': 32, '1,0': 14, '1,1': 13, '0,1': 1})\n",
      "Accuracy: 0.75\n",
      "F1-Score: 0.810126582278481\n",
      "Number of instances in test set: 61.0\n",
      "-----Iteration 1  Net [16] Lambda 0.1 -----------------\n"
     ]
    },
    {
     "name": "stderr",
     "output_type": "stream",
     "text": [
      "C:\\Users\\Tanishk\\AppData\\Local\\Temp/ipykernel_18588/869318862.py:8: SettingWithCopyWarning: \n",
      "A value is trying to be set on a copy of a slice from a DataFrame.\n",
      "Try using .loc[row_indexer,col_indexer] = value instead\n",
      "\n",
      "See the caveats in the documentation: https://pandas.pydata.org/pandas-docs/stable/user_guide/indexing.html#returning-a-view-versus-a-copy\n",
      "  df[col] = df[col].apply(\n"
     ]
    },
    {
     "name": "stdout",
     "output_type": "stream",
     "text": [
      "Final Diff Cost: 9.996279210233716e-05\n",
      "Final Cost 1.451274325594297\n",
      "Number of Iterations: 416\n",
      "Conf Matrix: Counter({'0,0': 32, '1,0': 22, '1,1': 6, '0,1': 2})\n",
      "Accuracy: 0.6129032258064516\n",
      "F1-Score: 0.7272727272727272\n",
      "-----Iteration 2  Net [16] Lambda 0.1 -----------------\n"
     ]
    },
    {
     "name": "stderr",
     "output_type": "stream",
     "text": [
      "C:\\Users\\Tanishk\\AppData\\Local\\Temp/ipykernel_18588/869318862.py:8: SettingWithCopyWarning: \n",
      "A value is trying to be set on a copy of a slice from a DataFrame.\n",
      "Try using .loc[row_indexer,col_indexer] = value instead\n",
      "\n",
      "See the caveats in the documentation: https://pandas.pydata.org/pandas-docs/stable/user_guide/indexing.html#returning-a-view-versus-a-copy\n",
      "  df[col] = df[col].apply(\n"
     ]
    },
    {
     "name": "stdout",
     "output_type": "stream",
     "text": [
      "Final Diff Cost: 5.919696343004155e-05\n",
      "Final Cost 1.2515562601810095\n",
      "Number of Iterations: 1628\n",
      "Conf Matrix: Counter({'0,0': 24, '1,1': 14, '1,0': 13, '0,1': 10})\n",
      "Accuracy: 0.6229508196721312\n",
      "F1-Score: 0.676056338028169\n",
      "-----Iteration 3  Net [16] Lambda 0.1 -----------------\n"
     ]
    },
    {
     "name": "stderr",
     "output_type": "stream",
     "text": [
      "C:\\Users\\Tanishk\\AppData\\Local\\Temp/ipykernel_18588/869318862.py:8: SettingWithCopyWarning: \n",
      "A value is trying to be set on a copy of a slice from a DataFrame.\n",
      "Try using .loc[row_indexer,col_indexer] = value instead\n",
      "\n",
      "See the caveats in the documentation: https://pandas.pydata.org/pandas-docs/stable/user_guide/indexing.html#returning-a-view-versus-a-copy\n",
      "  df[col] = df[col].apply(\n"
     ]
    },
    {
     "name": "stdout",
     "output_type": "stream",
     "text": [
      "Final Diff Cost: -0.0031005351081561106\n",
      "Final Cost 1.2217135958901781\n",
      "Number of Iterations: 5\n",
      "Conf Matrix: Counter({'0,0': 34, '1,1': 17, '1,0': 10})\n",
      "Accuracy: 0.8360655737704918\n",
      "F1-Score: 0.8717948717948718\n",
      "-----Iteration 4  Net [16] Lambda 0.1 -----------------\n"
     ]
    },
    {
     "name": "stderr",
     "output_type": "stream",
     "text": [
      "C:\\Users\\Tanishk\\AppData\\Local\\Temp/ipykernel_18588/869318862.py:8: SettingWithCopyWarning: \n",
      "A value is trying to be set on a copy of a slice from a DataFrame.\n",
      "Try using .loc[row_indexer,col_indexer] = value instead\n",
      "\n",
      "See the caveats in the documentation: https://pandas.pydata.org/pandas-docs/stable/user_guide/indexing.html#returning-a-view-versus-a-copy\n",
      "  df[col] = df[col].apply(\n"
     ]
    },
    {
     "name": "stdout",
     "output_type": "stream",
     "text": [
      "Final Diff Cost: -0.0030956064548661733\n",
      "Final Cost 1.2937862122842994\n",
      "Number of Iterations: 6\n",
      "Conf Matrix: Counter({'0,0': 32, '1,0': 18, '1,1': 9, '0,1': 2})\n",
      "Accuracy: 0.6721311475409836\n",
      "F1-Score: 0.7619047619047621\n",
      "-----Iteration 5  Net [16] Lambda 0.1 -----------------\n"
     ]
    },
    {
     "name": "stderr",
     "output_type": "stream",
     "text": [
      "C:\\Users\\Tanishk\\AppData\\Local\\Temp/ipykernel_18588/869318862.py:8: SettingWithCopyWarning: \n",
      "A value is trying to be set on a copy of a slice from a DataFrame.\n",
      "Try using .loc[row_indexer,col_indexer] = value instead\n",
      "\n",
      "See the caveats in the documentation: https://pandas.pydata.org/pandas-docs/stable/user_guide/indexing.html#returning-a-view-versus-a-copy\n",
      "  df[col] = df[col].apply(\n"
     ]
    },
    {
     "name": "stdout",
     "output_type": "stream",
     "text": [
      "Final Diff Cost: -0.0003877310960418434\n",
      "Final Cost 1.2376428031899545\n",
      "Number of Iterations: 6\n",
      "Conf Matrix: Counter({'0,0': 25, '1,0': 15, '1,1': 12, '0,1': 9})\n",
      "Accuracy: 0.6065573770491803\n",
      "F1-Score: 0.6756756756756757\n",
      "-----Iteration 6  Net [16] Lambda 0.1 -----------------\n"
     ]
    },
    {
     "name": "stderr",
     "output_type": "stream",
     "text": [
      "C:\\Users\\Tanishk\\AppData\\Local\\Temp/ipykernel_18588/869318862.py:8: SettingWithCopyWarning: \n",
      "A value is trying to be set on a copy of a slice from a DataFrame.\n",
      "Try using .loc[row_indexer,col_indexer] = value instead\n",
      "\n",
      "See the caveats in the documentation: https://pandas.pydata.org/pandas-docs/stable/user_guide/indexing.html#returning-a-view-versus-a-copy\n",
      "  df[col] = df[col].apply(\n"
     ]
    },
    {
     "name": "stdout",
     "output_type": "stream",
     "text": [
      "Final Diff Cost: -0.00013937770375482827\n",
      "Final Cost 1.260880662607657\n",
      "Number of Iterations: 2\n",
      "Conf Matrix: Counter({'0,0': 23, '1,1': 17, '0,1': 11, '1,0': 10})\n",
      "Accuracy: 0.6557377049180327\n",
      "F1-Score: 0.6865671641791046\n",
      "-----Iteration 7  Net [16] Lambda 0.1 -----------------\n"
     ]
    },
    {
     "name": "stderr",
     "output_type": "stream",
     "text": [
      "C:\\Users\\Tanishk\\AppData\\Local\\Temp/ipykernel_18588/869318862.py:8: SettingWithCopyWarning: \n",
      "A value is trying to be set on a copy of a slice from a DataFrame.\n",
      "Try using .loc[row_indexer,col_indexer] = value instead\n",
      "\n",
      "See the caveats in the documentation: https://pandas.pydata.org/pandas-docs/stable/user_guide/indexing.html#returning-a-view-versus-a-copy\n",
      "  df[col] = df[col].apply(\n"
     ]
    },
    {
     "name": "stdout",
     "output_type": "stream",
     "text": [
      "Final Diff Cost: -0.0009072541722907612\n",
      "Final Cost 1.2693286152545322\n",
      "Number of Iterations: 2\n",
      "Conf Matrix: Counter({'0,0': 32, '1,1': 15, '1,0': 12, '0,1': 2})\n",
      "Accuracy: 0.7704918032786885\n",
      "F1-Score: 0.8205128205128205\n",
      "-----Iteration 8  Net [16] Lambda 0.1 -----------------\n"
     ]
    },
    {
     "name": "stderr",
     "output_type": "stream",
     "text": [
      "C:\\Users\\Tanishk\\AppData\\Local\\Temp/ipykernel_18588/869318862.py:8: SettingWithCopyWarning: \n",
      "A value is trying to be set on a copy of a slice from a DataFrame.\n",
      "Try using .loc[row_indexer,col_indexer] = value instead\n",
      "\n",
      "See the caveats in the documentation: https://pandas.pydata.org/pandas-docs/stable/user_guide/indexing.html#returning-a-view-versus-a-copy\n",
      "  df[col] = df[col].apply(\n"
     ]
    },
    {
     "name": "stdout",
     "output_type": "stream",
     "text": [
      "Final Diff Cost: 8.188133800746122e-05\n",
      "Final Cost 1.255845907863877\n",
      "Number of Iterations: 5\n",
      "Conf Matrix: Counter({'0,0': 26, '1,1': 19, '1,0': 8, '0,1': 7})\n",
      "Accuracy: 0.75\n",
      "F1-Score: 0.7761194029850745\n",
      "-----Iteration 9  Net [16] Lambda 0.1 -----------------\n"
     ]
    },
    {
     "name": "stderr",
     "output_type": "stream",
     "text": [
      "C:\\Users\\Tanishk\\AppData\\Local\\Temp/ipykernel_18588/869318862.py:8: SettingWithCopyWarning: \n",
      "A value is trying to be set on a copy of a slice from a DataFrame.\n",
      "Try using .loc[row_indexer,col_indexer] = value instead\n",
      "\n",
      "See the caveats in the documentation: https://pandas.pydata.org/pandas-docs/stable/user_guide/indexing.html#returning-a-view-versus-a-copy\n",
      "  df[col] = df[col].apply(\n"
     ]
    },
    {
     "name": "stdout",
     "output_type": "stream",
     "text": [
      "Final Diff Cost: -0.011775379140789521\n",
      "Final Cost 1.273955137668332\n",
      "Number of Iterations: 1\n",
      "Conf Matrix: Counter({'0,0': 31, '1,0': 22, '1,1': 5, '0,1': 2})\n",
      "Accuracy: 0.6\n",
      "F1-Score: 0.7209302325581395\n",
      "-----Iteration 10  Net [16] Lambda 0.1 -----------------\n"
     ]
    },
    {
     "name": "stderr",
     "output_type": "stream",
     "text": [
      "C:\\Users\\Tanishk\\AppData\\Local\\Temp/ipykernel_18588/869318862.py:8: SettingWithCopyWarning: \n",
      "A value is trying to be set on a copy of a slice from a DataFrame.\n",
      "Try using .loc[row_indexer,col_indexer] = value instead\n",
      "\n",
      "See the caveats in the documentation: https://pandas.pydata.org/pandas-docs/stable/user_guide/indexing.html#returning-a-view-versus-a-copy\n",
      "  df[col] = df[col].apply(\n"
     ]
    },
    {
     "name": "stdout",
     "output_type": "stream",
     "text": [
      "Final Diff Cost: -0.03631326449572003\n",
      "Final Cost 1.3353382791950887\n",
      "Number of Iterations: 1\n",
      "Conf Matrix: Counter({'1,1': 22, '0,1': 21, '0,0': 12, '1,0': 5})\n",
      "Accuracy: 0.5666666666666667\n",
      "F1-Score: 0.48000000000000004\n",
      "Number of instances in test set: 61.0\n",
      "-----Iteration 1  Net [25] Lambda 0.1 -----------------\n"
     ]
    },
    {
     "name": "stderr",
     "output_type": "stream",
     "text": [
      "C:\\Users\\Tanishk\\AppData\\Local\\Temp/ipykernel_18588/869318862.py:8: SettingWithCopyWarning: \n",
      "A value is trying to be set on a copy of a slice from a DataFrame.\n",
      "Try using .loc[row_indexer,col_indexer] = value instead\n",
      "\n",
      "See the caveats in the documentation: https://pandas.pydata.org/pandas-docs/stable/user_guide/indexing.html#returning-a-view-versus-a-copy\n",
      "  df[col] = df[col].apply(\n"
     ]
    },
    {
     "name": "stdout",
     "output_type": "stream",
     "text": [
      "Final Diff Cost: 6.223633337087975e-05\n",
      "Final Cost 1.2906559248078004\n",
      "Number of Iterations: 1521\n",
      "Conf Matrix: Counter({'0,0': 22, '1,1': 16, '0,1': 12, '1,0': 12})\n",
      "Accuracy: 0.6129032258064516\n",
      "F1-Score: 0.6470588235294118\n",
      "-----Iteration 2  Net [25] Lambda 0.1 -----------------\n"
     ]
    },
    {
     "name": "stderr",
     "output_type": "stream",
     "text": [
      "C:\\Users\\Tanishk\\AppData\\Local\\Temp/ipykernel_18588/869318862.py:8: SettingWithCopyWarning: \n",
      "A value is trying to be set on a copy of a slice from a DataFrame.\n",
      "Try using .loc[row_indexer,col_indexer] = value instead\n",
      "\n",
      "See the caveats in the documentation: https://pandas.pydata.org/pandas-docs/stable/user_guide/indexing.html#returning-a-view-versus-a-copy\n",
      "  df[col] = df[col].apply(\n"
     ]
    },
    {
     "name": "stdout",
     "output_type": "stream",
     "text": [
      "Final Diff Cost: -0.0018613516047840672\n",
      "Final Cost 1.2471724477088413\n",
      "Number of Iterations: 11\n",
      "Conf Matrix: Counter({'0,0': 33, '1,0': 16, '1,1': 11, '0,1': 1})\n",
      "Accuracy: 0.7213114754098361\n",
      "F1-Score: 0.7951807228915663\n",
      "-----Iteration 3  Net [25] Lambda 0.1 -----------------\n"
     ]
    },
    {
     "name": "stderr",
     "output_type": "stream",
     "text": [
      "C:\\Users\\Tanishk\\AppData\\Local\\Temp/ipykernel_18588/869318862.py:8: SettingWithCopyWarning: \n",
      "A value is trying to be set on a copy of a slice from a DataFrame.\n",
      "Try using .loc[row_indexer,col_indexer] = value instead\n",
      "\n",
      "See the caveats in the documentation: https://pandas.pydata.org/pandas-docs/stable/user_guide/indexing.html#returning-a-view-versus-a-copy\n",
      "  df[col] = df[col].apply(\n"
     ]
    },
    {
     "name": "stdout",
     "output_type": "stream",
     "text": [
      "Final Diff Cost: -6.204148964683576e-05\n",
      "Final Cost 1.3329111158939897\n",
      "Number of Iterations: 11\n",
      "Conf Matrix: Counter({'0,0': 24, '1,1': 19, '0,1': 10, '1,0': 8})\n",
      "Accuracy: 0.7049180327868853\n",
      "F1-Score: 0.7272727272727272\n",
      "-----Iteration 4  Net [25] Lambda 0.1 -----------------\n"
     ]
    },
    {
     "name": "stderr",
     "output_type": "stream",
     "text": [
      "C:\\Users\\Tanishk\\AppData\\Local\\Temp/ipykernel_18588/869318862.py:8: SettingWithCopyWarning: \n",
      "A value is trying to be set on a copy of a slice from a DataFrame.\n",
      "Try using .loc[row_indexer,col_indexer] = value instead\n",
      "\n",
      "See the caveats in the documentation: https://pandas.pydata.org/pandas-docs/stable/user_guide/indexing.html#returning-a-view-versus-a-copy\n",
      "  df[col] = df[col].apply(\n"
     ]
    },
    {
     "name": "stdout",
     "output_type": "stream",
     "text": [
      "Final Diff Cost: -0.0014903490690985066\n",
      "Final Cost 1.3200161861073463\n",
      "Number of Iterations: 4\n",
      "Conf Matrix: Counter({'0,0': 29, '1,1': 14, '1,0': 13, '0,1': 5})\n",
      "Accuracy: 0.7049180327868853\n",
      "F1-Score: 0.7631578947368423\n",
      "-----Iteration 5  Net [25] Lambda 0.1 -----------------\n"
     ]
    },
    {
     "name": "stderr",
     "output_type": "stream",
     "text": [
      "C:\\Users\\Tanishk\\AppData\\Local\\Temp/ipykernel_18588/869318862.py:8: SettingWithCopyWarning: \n",
      "A value is trying to be set on a copy of a slice from a DataFrame.\n",
      "Try using .loc[row_indexer,col_indexer] = value instead\n",
      "\n",
      "See the caveats in the documentation: https://pandas.pydata.org/pandas-docs/stable/user_guide/indexing.html#returning-a-view-versus-a-copy\n",
      "  df[col] = df[col].apply(\n"
     ]
    },
    {
     "name": "stdout",
     "output_type": "stream",
     "text": [
      "Final Diff Cost: -0.0012390371004651346\n",
      "Final Cost 1.3216478834409058\n",
      "Number of Iterations: 1\n",
      "Conf Matrix: Counter({'0,0': 24, '1,1': 20, '0,1': 10, '1,0': 7})\n",
      "Accuracy: 0.7213114754098361\n",
      "F1-Score: 0.7384615384615385\n",
      "-----Iteration 6  Net [25] Lambda 0.1 -----------------\n"
     ]
    },
    {
     "name": "stderr",
     "output_type": "stream",
     "text": [
      "C:\\Users\\Tanishk\\AppData\\Local\\Temp/ipykernel_18588/869318862.py:8: SettingWithCopyWarning: \n",
      "A value is trying to be set on a copy of a slice from a DataFrame.\n",
      "Try using .loc[row_indexer,col_indexer] = value instead\n",
      "\n",
      "See the caveats in the documentation: https://pandas.pydata.org/pandas-docs/stable/user_guide/indexing.html#returning-a-view-versus-a-copy\n",
      "  df[col] = df[col].apply(\n"
     ]
    },
    {
     "name": "stdout",
     "output_type": "stream",
     "text": [
      "Final Diff Cost: -0.00010008632490343672\n",
      "Final Cost 1.299966508926596\n",
      "Number of Iterations: 6\n",
      "Conf Matrix: Counter({'0,0': 29, '1,0': 14, '1,1': 13, '0,1': 5})\n",
      "Accuracy: 0.6885245901639344\n",
      "F1-Score: 0.7532467532467532\n",
      "-----Iteration 7  Net [25] Lambda 0.1 -----------------\n"
     ]
    },
    {
     "name": "stderr",
     "output_type": "stream",
     "text": [
      "C:\\Users\\Tanishk\\AppData\\Local\\Temp/ipykernel_18588/869318862.py:8: SettingWithCopyWarning: \n",
      "A value is trying to be set on a copy of a slice from a DataFrame.\n",
      "Try using .loc[row_indexer,col_indexer] = value instead\n",
      "\n",
      "See the caveats in the documentation: https://pandas.pydata.org/pandas-docs/stable/user_guide/indexing.html#returning-a-view-versus-a-copy\n",
      "  df[col] = df[col].apply(\n"
     ]
    },
    {
     "name": "stdout",
     "output_type": "stream",
     "text": [
      "Final Diff Cost: -0.013673891747069122\n",
      "Final Cost 1.3530929655561281\n",
      "Number of Iterations: 1\n",
      "Conf Matrix: Counter({'0,0': 32, '1,0': 20, '1,1': 7, '0,1': 2})\n",
      "Accuracy: 0.639344262295082\n",
      "F1-Score: 0.744186046511628\n",
      "-----Iteration 8  Net [25] Lambda 0.1 -----------------\n"
     ]
    },
    {
     "name": "stderr",
     "output_type": "stream",
     "text": [
      "C:\\Users\\Tanishk\\AppData\\Local\\Temp/ipykernel_18588/869318862.py:8: SettingWithCopyWarning: \n",
      "A value is trying to be set on a copy of a slice from a DataFrame.\n",
      "Try using .loc[row_indexer,col_indexer] = value instead\n",
      "\n",
      "See the caveats in the documentation: https://pandas.pydata.org/pandas-docs/stable/user_guide/indexing.html#returning-a-view-versus-a-copy\n",
      "  df[col] = df[col].apply(\n"
     ]
    },
    {
     "name": "stdout",
     "output_type": "stream",
     "text": [
      "Final Diff Cost: -0.0021693249763876654\n",
      "Final Cost 1.4226001671387825\n",
      "Number of Iterations: 2\n",
      "Conf Matrix: Counter({'0,0': 33, '1,0': 16, '1,1': 11})\n",
      "Accuracy: 0.7333333333333333\n",
      "F1-Score: 0.8048780487804877\n",
      "-----Iteration 9  Net [25] Lambda 0.1 -----------------\n"
     ]
    },
    {
     "name": "stderr",
     "output_type": "stream",
     "text": [
      "C:\\Users\\Tanishk\\AppData\\Local\\Temp/ipykernel_18588/869318862.py:8: SettingWithCopyWarning: \n",
      "A value is trying to be set on a copy of a slice from a DataFrame.\n",
      "Try using .loc[row_indexer,col_indexer] = value instead\n",
      "\n",
      "See the caveats in the documentation: https://pandas.pydata.org/pandas-docs/stable/user_guide/indexing.html#returning-a-view-versus-a-copy\n",
      "  df[col] = df[col].apply(\n"
     ]
    },
    {
     "name": "stdout",
     "output_type": "stream",
     "text": [
      "Final Diff Cost: -0.01112096637158988\n",
      "Final Cost 1.399864513860988\n",
      "Number of Iterations: 2\n",
      "Conf Matrix: Counter({'0,0': 33, '1,0': 22, '1,1': 5})\n",
      "Accuracy: 0.6333333333333333\n",
      "F1-Score: 0.7499999999999999\n",
      "-----Iteration 10  Net [25] Lambda 0.1 -----------------\n"
     ]
    },
    {
     "name": "stderr",
     "output_type": "stream",
     "text": [
      "C:\\Users\\Tanishk\\AppData\\Local\\Temp/ipykernel_18588/869318862.py:8: SettingWithCopyWarning: \n",
      "A value is trying to be set on a copy of a slice from a DataFrame.\n",
      "Try using .loc[row_indexer,col_indexer] = value instead\n",
      "\n",
      "See the caveats in the documentation: https://pandas.pydata.org/pandas-docs/stable/user_guide/indexing.html#returning-a-view-versus-a-copy\n",
      "  df[col] = df[col].apply(\n"
     ]
    },
    {
     "name": "stdout",
     "output_type": "stream",
     "text": [
      "Final Diff Cost: -0.009231948493434006\n",
      "Final Cost 1.3929885226323764\n",
      "Number of Iterations: 1\n",
      "Conf Matrix: Counter({'1,1': 25, '0,1': 17, '0,0': 16, '1,0': 2})\n",
      "Accuracy: 0.6833333333333333\n",
      "F1-Score: 0.6274509803921569\n",
      "Number of instances in test set: 61.0\n",
      "-----Iteration 1  Net [32] Lambda 0.1 -----------------\n"
     ]
    },
    {
     "name": "stderr",
     "output_type": "stream",
     "text": [
      "C:\\Users\\Tanishk\\AppData\\Local\\Temp/ipykernel_18588/869318862.py:8: SettingWithCopyWarning: \n",
      "A value is trying to be set on a copy of a slice from a DataFrame.\n",
      "Try using .loc[row_indexer,col_indexer] = value instead\n",
      "\n",
      "See the caveats in the documentation: https://pandas.pydata.org/pandas-docs/stable/user_guide/indexing.html#returning-a-view-versus-a-copy\n",
      "  df[col] = df[col].apply(\n"
     ]
    },
    {
     "name": "stdout",
     "output_type": "stream",
     "text": [
      "Final Diff Cost: 8.64198389614046e-05\n",
      "Final Cost 1.3668129188809193\n",
      "Number of Iterations: 1428\n",
      "Conf Matrix: Counter({'0,0': 26, '1,1': 16, '1,0': 12, '0,1': 8})\n",
      "Accuracy: 0.6774193548387096\n",
      "F1-Score: 0.7222222222222222\n",
      "-----Iteration 2  Net [32] Lambda 0.1 -----------------\n"
     ]
    },
    {
     "name": "stderr",
     "output_type": "stream",
     "text": [
      "C:\\Users\\Tanishk\\AppData\\Local\\Temp/ipykernel_18588/869318862.py:8: SettingWithCopyWarning: \n",
      "A value is trying to be set on a copy of a slice from a DataFrame.\n",
      "Try using .loc[row_indexer,col_indexer] = value instead\n",
      "\n",
      "See the caveats in the documentation: https://pandas.pydata.org/pandas-docs/stable/user_guide/indexing.html#returning-a-view-versus-a-copy\n",
      "  df[col] = df[col].apply(\n"
     ]
    },
    {
     "name": "stdout",
     "output_type": "stream",
     "text": [
      "Final Diff Cost: -0.0007451953439052694\n",
      "Final Cost 1.4428226078633446\n",
      "Number of Iterations: 1\n",
      "Conf Matrix: Counter({'1,1': 21, '0,0': 19, '0,1': 15, '1,0': 6})\n",
      "Accuracy: 0.6557377049180327\n",
      "F1-Score: 0.6440677966101696\n",
      "-----Iteration 3  Net [32] Lambda 0.1 -----------------\n"
     ]
    },
    {
     "name": "stderr",
     "output_type": "stream",
     "text": [
      "C:\\Users\\Tanishk\\AppData\\Local\\Temp/ipykernel_18588/869318862.py:8: SettingWithCopyWarning: \n",
      "A value is trying to be set on a copy of a slice from a DataFrame.\n",
      "Try using .loc[row_indexer,col_indexer] = value instead\n",
      "\n",
      "See the caveats in the documentation: https://pandas.pydata.org/pandas-docs/stable/user_guide/indexing.html#returning-a-view-versus-a-copy\n",
      "  df[col] = df[col].apply(\n"
     ]
    },
    {
     "name": "stdout",
     "output_type": "stream",
     "text": [
      "Final Diff Cost: -0.016157008546574092\n",
      "Final Cost 1.395645911384815\n",
      "Number of Iterations: 2\n",
      "Conf Matrix: Counter({'1,1': 26, '0,0': 20, '0,1': 14, '1,0': 1})\n",
      "Accuracy: 0.7540983606557377\n",
      "F1-Score: 0.7272727272727274\n",
      "-----Iteration 4  Net [32] Lambda 0.1 -----------------\n"
     ]
    },
    {
     "name": "stderr",
     "output_type": "stream",
     "text": [
      "C:\\Users\\Tanishk\\AppData\\Local\\Temp/ipykernel_18588/869318862.py:8: SettingWithCopyWarning: \n",
      "A value is trying to be set on a copy of a slice from a DataFrame.\n",
      "Try using .loc[row_indexer,col_indexer] = value instead\n",
      "\n",
      "See the caveats in the documentation: https://pandas.pydata.org/pandas-docs/stable/user_guide/indexing.html#returning-a-view-versus-a-copy\n",
      "  df[col] = df[col].apply(\n"
     ]
    },
    {
     "name": "stdout",
     "output_type": "stream",
     "text": [
      "Final Diff Cost: -0.0007355008971561272\n",
      "Final Cost 1.4138535654267224\n",
      "Number of Iterations: 10\n",
      "Conf Matrix: Counter({'0,0': 29, '1,0': 17, '1,1': 10, '0,1': 5})\n",
      "Accuracy: 0.639344262295082\n",
      "F1-Score: 0.725\n",
      "-----Iteration 5  Net [32] Lambda 0.1 -----------------\n"
     ]
    },
    {
     "name": "stderr",
     "output_type": "stream",
     "text": [
      "C:\\Users\\Tanishk\\AppData\\Local\\Temp/ipykernel_18588/869318862.py:8: SettingWithCopyWarning: \n",
      "A value is trying to be set on a copy of a slice from a DataFrame.\n",
      "Try using .loc[row_indexer,col_indexer] = value instead\n",
      "\n",
      "See the caveats in the documentation: https://pandas.pydata.org/pandas-docs/stable/user_guide/indexing.html#returning-a-view-versus-a-copy\n",
      "  df[col] = df[col].apply(\n"
     ]
    },
    {
     "name": "stdout",
     "output_type": "stream",
     "text": [
      "Final Diff Cost: -0.0003873319853699986\n",
      "Final Cost 1.3784585248246024\n",
      "Number of Iterations: 9\n",
      "Conf Matrix: Counter({'0,0': 27, '1,1': 15, '1,0': 12, '0,1': 7})\n",
      "Accuracy: 0.6885245901639344\n",
      "F1-Score: 0.7397260273972601\n",
      "-----Iteration 6  Net [32] Lambda 0.1 -----------------\n"
     ]
    },
    {
     "name": "stderr",
     "output_type": "stream",
     "text": [
      "C:\\Users\\Tanishk\\AppData\\Local\\Temp/ipykernel_18588/869318862.py:8: SettingWithCopyWarning: \n",
      "A value is trying to be set on a copy of a slice from a DataFrame.\n",
      "Try using .loc[row_indexer,col_indexer] = value instead\n",
      "\n",
      "See the caveats in the documentation: https://pandas.pydata.org/pandas-docs/stable/user_guide/indexing.html#returning-a-view-versus-a-copy\n",
      "  df[col] = df[col].apply(\n"
     ]
    },
    {
     "name": "stdout",
     "output_type": "stream",
     "text": [
      "Final Diff Cost: -0.0005612756696833365\n",
      "Final Cost 1.3863081849533423\n",
      "Number of Iterations: 1\n",
      "Conf Matrix: Counter({'0,0': 27, '1,0': 15, '1,1': 12, '0,1': 7})\n",
      "Accuracy: 0.639344262295082\n",
      "F1-Score: 0.7105263157894737\n",
      "-----Iteration 7  Net [32] Lambda 0.1 -----------------\n"
     ]
    },
    {
     "name": "stderr",
     "output_type": "stream",
     "text": [
      "C:\\Users\\Tanishk\\AppData\\Local\\Temp/ipykernel_18588/869318862.py:8: SettingWithCopyWarning: \n",
      "A value is trying to be set on a copy of a slice from a DataFrame.\n",
      "Try using .loc[row_indexer,col_indexer] = value instead\n",
      "\n",
      "See the caveats in the documentation: https://pandas.pydata.org/pandas-docs/stable/user_guide/indexing.html#returning-a-view-versus-a-copy\n",
      "  df[col] = df[col].apply(\n"
     ]
    },
    {
     "name": "stdout",
     "output_type": "stream",
     "text": [
      "Final Diff Cost: -0.026267070889083977\n",
      "Final Cost 1.4718169026729762\n",
      "Number of Iterations: 1\n",
      "Conf Matrix: Counter({'1,1': 26, '0,1': 22, '0,0': 12, '1,0': 1})\n",
      "Accuracy: 0.6229508196721312\n",
      "F1-Score: 0.5106382978723405\n",
      "-----Iteration 8  Net [32] Lambda 0.1 -----------------\n"
     ]
    },
    {
     "name": "stderr",
     "output_type": "stream",
     "text": [
      "C:\\Users\\Tanishk\\AppData\\Local\\Temp/ipykernel_18588/869318862.py:8: SettingWithCopyWarning: \n",
      "A value is trying to be set on a copy of a slice from a DataFrame.\n",
      "Try using .loc[row_indexer,col_indexer] = value instead\n",
      "\n",
      "See the caveats in the documentation: https://pandas.pydata.org/pandas-docs/stable/user_guide/indexing.html#returning-a-view-versus-a-copy\n",
      "  df[col] = df[col].apply(\n"
     ]
    },
    {
     "name": "stdout",
     "output_type": "stream",
     "text": [
      "Final Diff Cost: -0.0008407973165127647\n",
      "Final Cost 1.4220914730474061\n",
      "Number of Iterations: 9\n",
      "Conf Matrix: Counter({'0,0': 29, '1,0': 17, '1,1': 10, '0,1': 4})\n",
      "Accuracy: 0.65\n",
      "F1-Score: 0.7341772151898734\n",
      "-----Iteration 9  Net [32] Lambda 0.1 -----------------\n"
     ]
    },
    {
     "name": "stderr",
     "output_type": "stream",
     "text": [
      "C:\\Users\\Tanishk\\AppData\\Local\\Temp/ipykernel_18588/869318862.py:8: SettingWithCopyWarning: \n",
      "A value is trying to be set on a copy of a slice from a DataFrame.\n",
      "Try using .loc[row_indexer,col_indexer] = value instead\n",
      "\n",
      "See the caveats in the documentation: https://pandas.pydata.org/pandas-docs/stable/user_guide/indexing.html#returning-a-view-versus-a-copy\n",
      "  df[col] = df[col].apply(\n"
     ]
    },
    {
     "name": "stdout",
     "output_type": "stream",
     "text": [
      "Final Diff Cost: -0.004343643085672921\n",
      "Final Cost 1.4006858426551232\n",
      "Number of Iterations: 8\n",
      "Conf Matrix: Counter({'0,0': 32, '1,0': 26, '0,1': 1, '1,1': 1})\n",
      "Accuracy: 0.55\n",
      "F1-Score: 0.7032967032967034\n",
      "-----Iteration 10  Net [32] Lambda 0.1 -----------------\n"
     ]
    },
    {
     "name": "stderr",
     "output_type": "stream",
     "text": [
      "C:\\Users\\Tanishk\\AppData\\Local\\Temp/ipykernel_18588/869318862.py:8: SettingWithCopyWarning: \n",
      "A value is trying to be set on a copy of a slice from a DataFrame.\n",
      "Try using .loc[row_indexer,col_indexer] = value instead\n",
      "\n",
      "See the caveats in the documentation: https://pandas.pydata.org/pandas-docs/stable/user_guide/indexing.html#returning-a-view-versus-a-copy\n",
      "  df[col] = df[col].apply(\n"
     ]
    },
    {
     "name": "stdout",
     "output_type": "stream",
     "text": [
      "Final Diff Cost: -0.024204485268971787\n",
      "Final Cost 1.4408301936307835\n",
      "Number of Iterations: 1\n",
      "Conf Matrix: Counter({'1,1': 22, '0,1': 21, '0,0': 12, '1,0': 5})\n",
      "Accuracy: 0.5666666666666667\n",
      "F1-Score: 0.48000000000000004\n",
      "Number of instances in test set: 61.0\n",
      "-----Iteration 1  Net [64] Lambda 0.1 -----------------\n"
     ]
    },
    {
     "name": "stderr",
     "output_type": "stream",
     "text": [
      "C:\\Users\\Tanishk\\AppData\\Local\\Temp/ipykernel_18588/869318862.py:8: SettingWithCopyWarning: \n",
      "A value is trying to be set on a copy of a slice from a DataFrame.\n",
      "Try using .loc[row_indexer,col_indexer] = value instead\n",
      "\n",
      "See the caveats in the documentation: https://pandas.pydata.org/pandas-docs/stable/user_guide/indexing.html#returning-a-view-versus-a-copy\n",
      "  df[col] = df[col].apply(\n"
     ]
    },
    {
     "name": "stdout",
     "output_type": "stream",
     "text": [
      "Final Diff Cost: 8.824813692043243e-05\n",
      "Final Cost 1.578500448403235\n",
      "Number of Iterations: 1394\n",
      "Conf Matrix: Counter({'0,0': 28, '1,0': 17, '1,1': 11, '0,1': 6})\n",
      "Accuracy: 0.6290322580645161\n",
      "F1-Score: 0.7088607594936709\n",
      "-----Iteration 2  Net [64] Lambda 0.1 -----------------\n"
     ]
    },
    {
     "name": "stderr",
     "output_type": "stream",
     "text": [
      "C:\\Users\\Tanishk\\AppData\\Local\\Temp/ipykernel_18588/869318862.py:8: SettingWithCopyWarning: \n",
      "A value is trying to be set on a copy of a slice from a DataFrame.\n",
      "Try using .loc[row_indexer,col_indexer] = value instead\n",
      "\n",
      "See the caveats in the documentation: https://pandas.pydata.org/pandas-docs/stable/user_guide/indexing.html#returning-a-view-versus-a-copy\n",
      "  df[col] = df[col].apply(\n"
     ]
    },
    {
     "name": "stdout",
     "output_type": "stream",
     "text": [
      "Final Diff Cost: -0.031081365922029258\n",
      "Final Cost 1.65143696172461\n",
      "Number of Iterations: 1\n",
      "Conf Matrix: Counter({'0,0': 32, '1,0': 19, '1,1': 8, '0,1': 2})\n",
      "Accuracy: 0.6557377049180327\n",
      "F1-Score: 0.7529411764705882\n",
      "-----Iteration 3  Net [64] Lambda 0.1 -----------------\n"
     ]
    },
    {
     "name": "stderr",
     "output_type": "stream",
     "text": [
      "C:\\Users\\Tanishk\\AppData\\Local\\Temp/ipykernel_18588/869318862.py:8: SettingWithCopyWarning: \n",
      "A value is trying to be set on a copy of a slice from a DataFrame.\n",
      "Try using .loc[row_indexer,col_indexer] = value instead\n",
      "\n",
      "See the caveats in the documentation: https://pandas.pydata.org/pandas-docs/stable/user_guide/indexing.html#returning-a-view-versus-a-copy\n",
      "  df[col] = df[col].apply(\n"
     ]
    },
    {
     "name": "stdout",
     "output_type": "stream",
     "text": [
      "Final Diff Cost: -0.003562244631450495\n",
      "Final Cost 1.6750287352549864\n",
      "Number of Iterations: 1\n",
      "Conf Matrix: Counter({'1,1': 25, '0,0': 18, '0,1': 16, '1,0': 2})\n",
      "Accuracy: 0.7049180327868853\n",
      "F1-Score: 0.6666666666666667\n",
      "-----Iteration 4  Net [64] Lambda 0.1 -----------------\n"
     ]
    },
    {
     "name": "stderr",
     "output_type": "stream",
     "text": [
      "C:\\Users\\Tanishk\\AppData\\Local\\Temp/ipykernel_18588/869318862.py:8: SettingWithCopyWarning: \n",
      "A value is trying to be set on a copy of a slice from a DataFrame.\n",
      "Try using .loc[row_indexer,col_indexer] = value instead\n",
      "\n",
      "See the caveats in the documentation: https://pandas.pydata.org/pandas-docs/stable/user_guide/indexing.html#returning-a-view-versus-a-copy\n",
      "  df[col] = df[col].apply(\n"
     ]
    },
    {
     "name": "stdout",
     "output_type": "stream",
     "text": [
      "Final Diff Cost: -0.01825117305710311\n",
      "Final Cost 1.618851483680935\n",
      "Number of Iterations: 1\n",
      "Conf Matrix: Counter({'0,0': 29, '1,1': 14, '1,0': 13, '0,1': 5})\n",
      "Accuracy: 0.7049180327868853\n",
      "F1-Score: 0.7631578947368423\n",
      "-----Iteration 5  Net [64] Lambda 0.1 -----------------\n"
     ]
    },
    {
     "name": "stderr",
     "output_type": "stream",
     "text": [
      "C:\\Users\\Tanishk\\AppData\\Local\\Temp/ipykernel_18588/869318862.py:8: SettingWithCopyWarning: \n",
      "A value is trying to be set on a copy of a slice from a DataFrame.\n",
      "Try using .loc[row_indexer,col_indexer] = value instead\n",
      "\n",
      "See the caveats in the documentation: https://pandas.pydata.org/pandas-docs/stable/user_guide/indexing.html#returning-a-view-versus-a-copy\n",
      "  df[col] = df[col].apply(\n"
     ]
    },
    {
     "name": "stdout",
     "output_type": "stream",
     "text": [
      "Final Diff Cost: -0.001793397016079723\n",
      "Final Cost 1.564328549808788\n",
      "Number of Iterations: 1\n",
      "Conf Matrix: Counter({'0,0': 21, '1,1': 15, '0,1': 13, '1,0': 12})\n",
      "Accuracy: 0.5901639344262295\n",
      "F1-Score: 0.6268656716417911\n",
      "-----Iteration 6  Net [64] Lambda 0.1 -----------------\n"
     ]
    },
    {
     "name": "stderr",
     "output_type": "stream",
     "text": [
      "C:\\Users\\Tanishk\\AppData\\Local\\Temp/ipykernel_18588/869318862.py:8: SettingWithCopyWarning: \n",
      "A value is trying to be set on a copy of a slice from a DataFrame.\n",
      "Try using .loc[row_indexer,col_indexer] = value instead\n",
      "\n",
      "See the caveats in the documentation: https://pandas.pydata.org/pandas-docs/stable/user_guide/indexing.html#returning-a-view-versus-a-copy\n",
      "  df[col] = df[col].apply(\n"
     ]
    },
    {
     "name": "stdout",
     "output_type": "stream",
     "text": [
      "Final Diff Cost: -0.0006354264292809386\n",
      "Final Cost 1.5855605412867757\n",
      "Number of Iterations: 2\n",
      "Conf Matrix: Counter({'0,0': 32, '1,0': 15, '1,1': 12, '0,1': 2})\n",
      "Accuracy: 0.7213114754098361\n",
      "F1-Score: 0.7901234567901235\n",
      "-----Iteration 7  Net [64] Lambda 0.1 -----------------\n"
     ]
    },
    {
     "name": "stderr",
     "output_type": "stream",
     "text": [
      "C:\\Users\\Tanishk\\AppData\\Local\\Temp/ipykernel_18588/869318862.py:8: SettingWithCopyWarning: \n",
      "A value is trying to be set on a copy of a slice from a DataFrame.\n",
      "Try using .loc[row_indexer,col_indexer] = value instead\n",
      "\n",
      "See the caveats in the documentation: https://pandas.pydata.org/pandas-docs/stable/user_guide/indexing.html#returning-a-view-versus-a-copy\n",
      "  df[col] = df[col].apply(\n"
     ]
    },
    {
     "name": "stdout",
     "output_type": "stream",
     "text": [
      "Final Diff Cost: -0.0005583698828006689\n",
      "Final Cost 1.5751616385539151\n",
      "Number of Iterations: 1\n",
      "Conf Matrix: Counter({'0,0': 26, '1,1': 17, '1,0': 10, '0,1': 8})\n",
      "Accuracy: 0.7049180327868853\n",
      "F1-Score: 0.7428571428571428\n",
      "-----Iteration 8  Net [64] Lambda 0.1 -----------------\n"
     ]
    },
    {
     "name": "stderr",
     "output_type": "stream",
     "text": [
      "C:\\Users\\Tanishk\\AppData\\Local\\Temp/ipykernel_18588/869318862.py:8: SettingWithCopyWarning: \n",
      "A value is trying to be set on a copy of a slice from a DataFrame.\n",
      "Try using .loc[row_indexer,col_indexer] = value instead\n",
      "\n",
      "See the caveats in the documentation: https://pandas.pydata.org/pandas-docs/stable/user_guide/indexing.html#returning-a-view-versus-a-copy\n",
      "  df[col] = df[col].apply(\n"
     ]
    },
    {
     "name": "stdout",
     "output_type": "stream",
     "text": [
      "Final Diff Cost: -0.0013302521847142756\n",
      "Final Cost 1.4687715016398402\n",
      "Number of Iterations: 7\n",
      "Conf Matrix: Counter({'0,0': 28, '1,1': 15, '1,0': 12, '0,1': 5})\n",
      "Accuracy: 0.7166666666666667\n",
      "F1-Score: 0.7671232876712328\n",
      "-----Iteration 9  Net [64] Lambda 0.1 -----------------\n"
     ]
    },
    {
     "name": "stderr",
     "output_type": "stream",
     "text": [
      "C:\\Users\\Tanishk\\AppData\\Local\\Temp/ipykernel_18588/869318862.py:8: SettingWithCopyWarning: \n",
      "A value is trying to be set on a copy of a slice from a DataFrame.\n",
      "Try using .loc[row_indexer,col_indexer] = value instead\n",
      "\n",
      "See the caveats in the documentation: https://pandas.pydata.org/pandas-docs/stable/user_guide/indexing.html#returning-a-view-versus-a-copy\n",
      "  df[col] = df[col].apply(\n"
     ]
    },
    {
     "name": "stdout",
     "output_type": "stream",
     "text": [
      "Final Diff Cost: -0.03719233764391272\n",
      "Final Cost 1.7801782731309188\n",
      "Number of Iterations: 1\n",
      "Conf Matrix: Counter({'1,1': 27, '0,1': 24, '0,0': 9})\n",
      "Accuracy: 0.6\n",
      "F1-Score: 0.42857142857142855\n",
      "-----Iteration 10  Net [64] Lambda 0.1 -----------------\n"
     ]
    },
    {
     "name": "stderr",
     "output_type": "stream",
     "text": [
      "C:\\Users\\Tanishk\\AppData\\Local\\Temp/ipykernel_18588/869318862.py:8: SettingWithCopyWarning: \n",
      "A value is trying to be set on a copy of a slice from a DataFrame.\n",
      "Try using .loc[row_indexer,col_indexer] = value instead\n",
      "\n",
      "See the caveats in the documentation: https://pandas.pydata.org/pandas-docs/stable/user_guide/indexing.html#returning-a-view-versus-a-copy\n",
      "  df[col] = df[col].apply(\n"
     ]
    },
    {
     "name": "stdout",
     "output_type": "stream",
     "text": [
      "Final Diff Cost: -0.006291416837446828\n",
      "Final Cost 1.5954532322771766\n",
      "Number of Iterations: 1\n",
      "Conf Matrix: Counter({'0,0': 26, '1,0': 19, '1,1': 8, '0,1': 7})\n",
      "Accuracy: 0.5666666666666667\n",
      "F1-Score: 0.6666666666666666\n",
      "Number of instances in test set: 61.0\n",
      "-----Iteration 1  Net [4, 4, 4] Lambda 0.1 -----------------\n"
     ]
    },
    {
     "name": "stderr",
     "output_type": "stream",
     "text": [
      "C:\\Users\\Tanishk\\AppData\\Local\\Temp/ipykernel_18588/869318862.py:8: SettingWithCopyWarning: \n",
      "A value is trying to be set on a copy of a slice from a DataFrame.\n",
      "Try using .loc[row_indexer,col_indexer] = value instead\n",
      "\n",
      "See the caveats in the documentation: https://pandas.pydata.org/pandas-docs/stable/user_guide/indexing.html#returning-a-view-versus-a-copy\n",
      "  df[col] = df[col].apply(\n"
     ]
    },
    {
     "name": "stdout",
     "output_type": "stream",
     "text": [
      "Final Diff Cost: 8.955828993495452e-05\n",
      "Final Cost 1.4036100429807972\n",
      "Number of Iterations: 51\n",
      "Conf Matrix: Counter({'0,0': 34, '1,0': 28})\n",
      "Accuracy: 0.5483870967741935\n",
      "F1-Score: 0.7083333333333333\n",
      "-----Iteration 2  Net [4, 4, 4] Lambda 0.1 -----------------\n"
     ]
    },
    {
     "name": "stderr",
     "output_type": "stream",
     "text": [
      "C:\\Users\\Tanishk\\AppData\\Local\\Temp/ipykernel_18588/869318862.py:8: SettingWithCopyWarning: \n",
      "A value is trying to be set on a copy of a slice from a DataFrame.\n",
      "Try using .loc[row_indexer,col_indexer] = value instead\n",
      "\n",
      "See the caveats in the documentation: https://pandas.pydata.org/pandas-docs/stable/user_guide/indexing.html#returning-a-view-versus-a-copy\n",
      "  df[col] = df[col].apply(\n"
     ]
    },
    {
     "name": "stdout",
     "output_type": "stream",
     "text": [
      "Final Diff Cost: 8.28243153070396e-05\n",
      "Final Cost 1.4037692983791366\n",
      "Number of Iterations: 1\n",
      "Conf Matrix: Counter({'0,0': 34, '1,0': 27})\n",
      "Accuracy: 0.5573770491803278\n",
      "F1-Score: 0.7157894736842105\n",
      "-----Iteration 3  Net [4, 4, 4] Lambda 0.1 -----------------\n"
     ]
    },
    {
     "name": "stderr",
     "output_type": "stream",
     "text": [
      "C:\\Users\\Tanishk\\AppData\\Local\\Temp/ipykernel_18588/869318862.py:8: SettingWithCopyWarning: \n",
      "A value is trying to be set on a copy of a slice from a DataFrame.\n",
      "Try using .loc[row_indexer,col_indexer] = value instead\n",
      "\n",
      "See the caveats in the documentation: https://pandas.pydata.org/pandas-docs/stable/user_guide/indexing.html#returning-a-view-versus-a-copy\n",
      "  df[col] = df[col].apply(\n"
     ]
    },
    {
     "name": "stdout",
     "output_type": "stream",
     "text": [
      "Final Diff Cost: 6.874811736978792e-05\n",
      "Final Cost 1.4035343040654613\n",
      "Number of Iterations: 1\n",
      "Conf Matrix: Counter({'0,0': 34, '1,0': 27})\n",
      "Accuracy: 0.5573770491803278\n",
      "F1-Score: 0.7157894736842105\n",
      "-----Iteration 4  Net [4, 4, 4] Lambda 0.1 -----------------\n"
     ]
    },
    {
     "name": "stderr",
     "output_type": "stream",
     "text": [
      "C:\\Users\\Tanishk\\AppData\\Local\\Temp/ipykernel_18588/869318862.py:8: SettingWithCopyWarning: \n",
      "A value is trying to be set on a copy of a slice from a DataFrame.\n",
      "Try using .loc[row_indexer,col_indexer] = value instead\n",
      "\n",
      "See the caveats in the documentation: https://pandas.pydata.org/pandas-docs/stable/user_guide/indexing.html#returning-a-view-versus-a-copy\n",
      "  df[col] = df[col].apply(\n"
     ]
    },
    {
     "name": "stdout",
     "output_type": "stream",
     "text": [
      "Final Diff Cost: 5.916410111872494e-05\n",
      "Final Cost 1.4035242070009255\n",
      "Number of Iterations: 1\n",
      "Conf Matrix: Counter({'0,0': 34, '1,0': 27})\n",
      "Accuracy: 0.5573770491803278\n",
      "F1-Score: 0.7157894736842105\n",
      "-----Iteration 5  Net [4, 4, 4] Lambda 0.1 -----------------\n"
     ]
    },
    {
     "name": "stderr",
     "output_type": "stream",
     "text": [
      "C:\\Users\\Tanishk\\AppData\\Local\\Temp/ipykernel_18588/869318862.py:8: SettingWithCopyWarning: \n",
      "A value is trying to be set on a copy of a slice from a DataFrame.\n",
      "Try using .loc[row_indexer,col_indexer] = value instead\n",
      "\n",
      "See the caveats in the documentation: https://pandas.pydata.org/pandas-docs/stable/user_guide/indexing.html#returning-a-view-versus-a-copy\n",
      "  df[col] = df[col].apply(\n"
     ]
    },
    {
     "name": "stdout",
     "output_type": "stream",
     "text": [
      "Final Diff Cost: 5.18048337678767e-05\n",
      "Final Cost 1.4034136135475235\n",
      "Number of Iterations: 1\n",
      "Conf Matrix: Counter({'0,0': 34, '1,0': 27})\n",
      "Accuracy: 0.5573770491803278\n",
      "F1-Score: 0.7157894736842105\n",
      "-----Iteration 6  Net [4, 4, 4] Lambda 0.1 -----------------\n"
     ]
    },
    {
     "name": "stderr",
     "output_type": "stream",
     "text": [
      "C:\\Users\\Tanishk\\AppData\\Local\\Temp/ipykernel_18588/869318862.py:8: SettingWithCopyWarning: \n",
      "A value is trying to be set on a copy of a slice from a DataFrame.\n",
      "Try using .loc[row_indexer,col_indexer] = value instead\n",
      "\n",
      "See the caveats in the documentation: https://pandas.pydata.org/pandas-docs/stable/user_guide/indexing.html#returning-a-view-versus-a-copy\n",
      "  df[col] = df[col].apply(\n"
     ]
    },
    {
     "name": "stdout",
     "output_type": "stream",
     "text": [
      "Final Diff Cost: 4.7326038257189396e-05\n",
      "Final Cost 1.4034095005195582\n",
      "Number of Iterations: 1\n",
      "Conf Matrix: Counter({'0,0': 34, '1,0': 27})\n",
      "Accuracy: 0.5573770491803278\n",
      "F1-Score: 0.7157894736842105\n",
      "-----Iteration 7  Net [4, 4, 4] Lambda 0.1 -----------------\n"
     ]
    },
    {
     "name": "stderr",
     "output_type": "stream",
     "text": [
      "C:\\Users\\Tanishk\\AppData\\Local\\Temp/ipykernel_18588/869318862.py:8: SettingWithCopyWarning: \n",
      "A value is trying to be set on a copy of a slice from a DataFrame.\n",
      "Try using .loc[row_indexer,col_indexer] = value instead\n",
      "\n",
      "See the caveats in the documentation: https://pandas.pydata.org/pandas-docs/stable/user_guide/indexing.html#returning-a-view-versus-a-copy\n",
      "  df[col] = df[col].apply(\n"
     ]
    },
    {
     "name": "stdout",
     "output_type": "stream",
     "text": [
      "Final Diff Cost: 3.9774440847795134e-05\n",
      "Final Cost 1.4033452675801619\n",
      "Number of Iterations: 1\n",
      "Conf Matrix: Counter({'0,0': 34, '1,0': 27})\n",
      "Accuracy: 0.5573770491803278\n",
      "F1-Score: 0.7157894736842105\n",
      "-----Iteration 8  Net [4, 4, 4] Lambda 0.1 -----------------\n"
     ]
    },
    {
     "name": "stderr",
     "output_type": "stream",
     "text": [
      "C:\\Users\\Tanishk\\AppData\\Local\\Temp/ipykernel_18588/869318862.py:8: SettingWithCopyWarning: \n",
      "A value is trying to be set on a copy of a slice from a DataFrame.\n",
      "Try using .loc[row_indexer,col_indexer] = value instead\n",
      "\n",
      "See the caveats in the documentation: https://pandas.pydata.org/pandas-docs/stable/user_guide/indexing.html#returning-a-view-versus-a-copy\n",
      "  df[col] = df[col].apply(\n"
     ]
    },
    {
     "name": "stdout",
     "output_type": "stream",
     "text": [
      "Final Diff Cost: 3.4530195935023045e-05\n",
      "Final Cost 1.4028720813469664\n",
      "Number of Iterations: 1\n",
      "Conf Matrix: Counter({'0,0': 33, '1,0': 27})\n",
      "Accuracy: 0.55\n",
      "F1-Score: 0.7096774193548387\n",
      "-----Iteration 9  Net [4, 4, 4] Lambda 0.1 -----------------\n"
     ]
    },
    {
     "name": "stderr",
     "output_type": "stream",
     "text": [
      "C:\\Users\\Tanishk\\AppData\\Local\\Temp/ipykernel_18588/869318862.py:8: SettingWithCopyWarning: \n",
      "A value is trying to be set on a copy of a slice from a DataFrame.\n",
      "Try using .loc[row_indexer,col_indexer] = value instead\n",
      "\n",
      "See the caveats in the documentation: https://pandas.pydata.org/pandas-docs/stable/user_guide/indexing.html#returning-a-view-versus-a-copy\n",
      "  df[col] = df[col].apply(\n"
     ]
    },
    {
     "name": "stdout",
     "output_type": "stream",
     "text": [
      "Final Diff Cost: 3.101703286390034e-05\n",
      "Final Cost 1.4029161145621254\n",
      "Number of Iterations: 1\n",
      "Conf Matrix: Counter({'0,0': 33, '1,0': 27})\n",
      "Accuracy: 0.55\n",
      "F1-Score: 0.7096774193548387\n",
      "-----Iteration 10  Net [4, 4, 4] Lambda 0.1 -----------------\n"
     ]
    },
    {
     "name": "stderr",
     "output_type": "stream",
     "text": [
      "C:\\Users\\Tanishk\\AppData\\Local\\Temp/ipykernel_18588/869318862.py:8: SettingWithCopyWarning: \n",
      "A value is trying to be set on a copy of a slice from a DataFrame.\n",
      "Try using .loc[row_indexer,col_indexer] = value instead\n",
      "\n",
      "See the caveats in the documentation: https://pandas.pydata.org/pandas-docs/stable/user_guide/indexing.html#returning-a-view-versus-a-copy\n",
      "  df[col] = df[col].apply(\n"
     ]
    },
    {
     "name": "stdout",
     "output_type": "stream",
     "text": [
      "Final Diff Cost: 2.8581488530798893e-05\n",
      "Final Cost 1.4029124533029451\n",
      "Number of Iterations: 1\n",
      "Conf Matrix: Counter({'0,0': 33, '1,0': 27})\n",
      "Accuracy: 0.55\n",
      "F1-Score: 0.7096774193548387\n",
      "Number of instances in test set: 61.0\n",
      "-----Iteration 1  Net [8, 8, 8] Lambda 0.1 -----------------\n"
     ]
    },
    {
     "name": "stderr",
     "output_type": "stream",
     "text": [
      "C:\\Users\\Tanishk\\AppData\\Local\\Temp/ipykernel_18588/869318862.py:8: SettingWithCopyWarning: \n",
      "A value is trying to be set on a copy of a slice from a DataFrame.\n",
      "Try using .loc[row_indexer,col_indexer] = value instead\n",
      "\n",
      "See the caveats in the documentation: https://pandas.pydata.org/pandas-docs/stable/user_guide/indexing.html#returning-a-view-versus-a-copy\n",
      "  df[col] = df[col].apply(\n"
     ]
    },
    {
     "name": "stdout",
     "output_type": "stream",
     "text": [
      "Final Diff Cost: 9.85890967983849e-05\n",
      "Final Cost 1.4303384669983423\n",
      "Number of Iterations: 34\n",
      "Conf Matrix: Counter({'0,0': 34, '1,0': 28})\n",
      "Accuracy: 0.5483870967741935\n",
      "F1-Score: 0.7083333333333333\n",
      "-----Iteration 2  Net [8, 8, 8] Lambda 0.1 -----------------\n"
     ]
    },
    {
     "name": "stderr",
     "output_type": "stream",
     "text": [
      "C:\\Users\\Tanishk\\AppData\\Local\\Temp/ipykernel_18588/869318862.py:8: SettingWithCopyWarning: \n",
      "A value is trying to be set on a copy of a slice from a DataFrame.\n",
      "Try using .loc[row_indexer,col_indexer] = value instead\n",
      "\n",
      "See the caveats in the documentation: https://pandas.pydata.org/pandas-docs/stable/user_guide/indexing.html#returning-a-view-versus-a-copy\n",
      "  df[col] = df[col].apply(\n"
     ]
    },
    {
     "name": "stdout",
     "output_type": "stream",
     "text": [
      "Final Diff Cost: 7.096143544393918e-05\n",
      "Final Cost 1.4304502842780404\n",
      "Number of Iterations: 1\n",
      "Conf Matrix: Counter({'0,0': 34, '1,0': 27})\n",
      "Accuracy: 0.5573770491803278\n",
      "F1-Score: 0.7157894736842105\n",
      "-----Iteration 3  Net [8, 8, 8] Lambda 0.1 -----------------\n"
     ]
    },
    {
     "name": "stderr",
     "output_type": "stream",
     "text": [
      "C:\\Users\\Tanishk\\AppData\\Local\\Temp/ipykernel_18588/869318862.py:8: SettingWithCopyWarning: \n",
      "A value is trying to be set on a copy of a slice from a DataFrame.\n",
      "Try using .loc[row_indexer,col_indexer] = value instead\n",
      "\n",
      "See the caveats in the documentation: https://pandas.pydata.org/pandas-docs/stable/user_guide/indexing.html#returning-a-view-versus-a-copy\n",
      "  df[col] = df[col].apply(\n"
     ]
    },
    {
     "name": "stdout",
     "output_type": "stream",
     "text": [
      "Final Diff Cost: 6.369767376734892e-05\n",
      "Final Cost 1.430591841454525\n",
      "Number of Iterations: 1\n",
      "Conf Matrix: Counter({'0,0': 34, '1,0': 27})\n",
      "Accuracy: 0.5573770491803278\n",
      "F1-Score: 0.7157894736842105\n",
      "-----Iteration 4  Net [8, 8, 8] Lambda 0.1 -----------------\n"
     ]
    },
    {
     "name": "stderr",
     "output_type": "stream",
     "text": [
      "C:\\Users\\Tanishk\\AppData\\Local\\Temp/ipykernel_18588/869318862.py:8: SettingWithCopyWarning: \n",
      "A value is trying to be set on a copy of a slice from a DataFrame.\n",
      "Try using .loc[row_indexer,col_indexer] = value instead\n",
      "\n",
      "See the caveats in the documentation: https://pandas.pydata.org/pandas-docs/stable/user_guide/indexing.html#returning-a-view-versus-a-copy\n",
      "  df[col] = df[col].apply(\n"
     ]
    },
    {
     "name": "stdout",
     "output_type": "stream",
     "text": [
      "Final Diff Cost: 6.444703220753745e-05\n",
      "Final Cost 1.4302646255276459\n",
      "Number of Iterations: 1\n",
      "Conf Matrix: Counter({'0,0': 34, '1,0': 27})\n",
      "Accuracy: 0.5573770491803278\n",
      "F1-Score: 0.7157894736842105\n",
      "-----Iteration 5  Net [8, 8, 8] Lambda 0.1 -----------------\n"
     ]
    },
    {
     "name": "stderr",
     "output_type": "stream",
     "text": [
      "C:\\Users\\Tanishk\\AppData\\Local\\Temp/ipykernel_18588/869318862.py:8: SettingWithCopyWarning: \n",
      "A value is trying to be set on a copy of a slice from a DataFrame.\n",
      "Try using .loc[row_indexer,col_indexer] = value instead\n",
      "\n",
      "See the caveats in the documentation: https://pandas.pydata.org/pandas-docs/stable/user_guide/indexing.html#returning-a-view-versus-a-copy\n",
      "  df[col] = df[col].apply(\n"
     ]
    },
    {
     "name": "stdout",
     "output_type": "stream",
     "text": [
      "Final Diff Cost: 5.981739212224113e-05\n",
      "Final Cost 1.4303036041584136\n",
      "Number of Iterations: 1\n",
      "Conf Matrix: Counter({'0,0': 34, '1,0': 27})\n",
      "Accuracy: 0.5573770491803278\n",
      "F1-Score: 0.7157894736842105\n",
      "-----Iteration 6  Net [8, 8, 8] Lambda 0.1 -----------------\n"
     ]
    },
    {
     "name": "stderr",
     "output_type": "stream",
     "text": [
      "C:\\Users\\Tanishk\\AppData\\Local\\Temp/ipykernel_18588/869318862.py:8: SettingWithCopyWarning: \n",
      "A value is trying to be set on a copy of a slice from a DataFrame.\n",
      "Try using .loc[row_indexer,col_indexer] = value instead\n",
      "\n",
      "See the caveats in the documentation: https://pandas.pydata.org/pandas-docs/stable/user_guide/indexing.html#returning-a-view-versus-a-copy\n",
      "  df[col] = df[col].apply(\n"
     ]
    },
    {
     "name": "stdout",
     "output_type": "stream",
     "text": [
      "Final Diff Cost: 3.147820852444916e-05\n",
      "Final Cost 1.4303611387815733\n",
      "Number of Iterations: 1\n",
      "Conf Matrix: Counter({'0,0': 34, '1,0': 27})\n",
      "Accuracy: 0.5573770491803278\n",
      "F1-Score: 0.7157894736842105\n",
      "-----Iteration 7  Net [8, 8, 8] Lambda 0.1 -----------------\n"
     ]
    },
    {
     "name": "stderr",
     "output_type": "stream",
     "text": [
      "C:\\Users\\Tanishk\\AppData\\Local\\Temp/ipykernel_18588/869318862.py:8: SettingWithCopyWarning: \n",
      "A value is trying to be set on a copy of a slice from a DataFrame.\n",
      "Try using .loc[row_indexer,col_indexer] = value instead\n",
      "\n",
      "See the caveats in the documentation: https://pandas.pydata.org/pandas-docs/stable/user_guide/indexing.html#returning-a-view-versus-a-copy\n",
      "  df[col] = df[col].apply(\n"
     ]
    },
    {
     "name": "stdout",
     "output_type": "stream",
     "text": [
      "Final Diff Cost: 3.5440782139684046e-05\n",
      "Final Cost 1.4300541934601692\n",
      "Number of Iterations: 1\n",
      "Conf Matrix: Counter({'0,0': 34, '1,0': 27})\n",
      "Accuracy: 0.5573770491803278\n",
      "F1-Score: 0.7157894736842105\n",
      "-----Iteration 8  Net [8, 8, 8] Lambda 0.1 -----------------\n"
     ]
    },
    {
     "name": "stderr",
     "output_type": "stream",
     "text": [
      "C:\\Users\\Tanishk\\AppData\\Local\\Temp/ipykernel_18588/869318862.py:8: SettingWithCopyWarning: \n",
      "A value is trying to be set on a copy of a slice from a DataFrame.\n",
      "Try using .loc[row_indexer,col_indexer] = value instead\n",
      "\n",
      "See the caveats in the documentation: https://pandas.pydata.org/pandas-docs/stable/user_guide/indexing.html#returning-a-view-versus-a-copy\n",
      "  df[col] = df[col].apply(\n"
     ]
    },
    {
     "name": "stdout",
     "output_type": "stream",
     "text": [
      "Final Diff Cost: 2.0606849889137635e-05\n",
      "Final Cost 1.4292512176207688\n",
      "Number of Iterations: 1\n",
      "Conf Matrix: Counter({'0,0': 33, '1,0': 27})\n",
      "Accuracy: 0.55\n",
      "F1-Score: 0.7096774193548387\n",
      "-----Iteration 9  Net [8, 8, 8] Lambda 0.1 -----------------\n"
     ]
    },
    {
     "name": "stderr",
     "output_type": "stream",
     "text": [
      "C:\\Users\\Tanishk\\AppData\\Local\\Temp/ipykernel_18588/869318862.py:8: SettingWithCopyWarning: \n",
      "A value is trying to be set on a copy of a slice from a DataFrame.\n",
      "Try using .loc[row_indexer,col_indexer] = value instead\n",
      "\n",
      "See the caveats in the documentation: https://pandas.pydata.org/pandas-docs/stable/user_guide/indexing.html#returning-a-view-versus-a-copy\n",
      "  df[col] = df[col].apply(\n"
     ]
    },
    {
     "name": "stdout",
     "output_type": "stream",
     "text": [
      "Final Diff Cost: 3.404021259512113e-05\n",
      "Final Cost 1.4295954454693736\n",
      "Number of Iterations: 1\n",
      "Conf Matrix: Counter({'0,0': 33, '1,0': 27})\n",
      "Accuracy: 0.55\n",
      "F1-Score: 0.7096774193548387\n",
      "-----Iteration 10  Net [8, 8, 8] Lambda 0.1 -----------------\n"
     ]
    },
    {
     "name": "stderr",
     "output_type": "stream",
     "text": [
      "C:\\Users\\Tanishk\\AppData\\Local\\Temp/ipykernel_18588/869318862.py:8: SettingWithCopyWarning: \n",
      "A value is trying to be set on a copy of a slice from a DataFrame.\n",
      "Try using .loc[row_indexer,col_indexer] = value instead\n",
      "\n",
      "See the caveats in the documentation: https://pandas.pydata.org/pandas-docs/stable/user_guide/indexing.html#returning-a-view-versus-a-copy\n",
      "  df[col] = df[col].apply(\n"
     ]
    },
    {
     "name": "stdout",
     "output_type": "stream",
     "text": [
      "Final Diff Cost: 2.1831034658248427e-05\n",
      "Final Cost 1.429545584803666\n",
      "Number of Iterations: 1\n",
      "Conf Matrix: Counter({'0,0': 33, '1,0': 27})\n",
      "Accuracy: 0.55\n",
      "F1-Score: 0.7096774193548387\n",
      "Number of instances in test set: 61.0\n",
      "-----Iteration 1  Net [16, 16, 16] Lambda 0.1 -----------------\n"
     ]
    },
    {
     "name": "stderr",
     "output_type": "stream",
     "text": [
      "C:\\Users\\Tanishk\\AppData\\Local\\Temp/ipykernel_18588/869318862.py:8: SettingWithCopyWarning: \n",
      "A value is trying to be set on a copy of a slice from a DataFrame.\n",
      "Try using .loc[row_indexer,col_indexer] = value instead\n",
      "\n",
      "See the caveats in the documentation: https://pandas.pydata.org/pandas-docs/stable/user_guide/indexing.html#returning-a-view-versus-a-copy\n",
      "  df[col] = df[col].apply(\n"
     ]
    },
    {
     "name": "stdout",
     "output_type": "stream",
     "text": [
      "Final Diff Cost: 8.149222735220896e-05\n",
      "Final Cost 1.5007759712666542\n",
      "Number of Iterations: 24\n",
      "Conf Matrix: Counter({'0,0': 34, '1,0': 27, '1,1': 1})\n",
      "Accuracy: 0.5645161290322581\n",
      "F1-Score: 0.7157894736842105\n",
      "-----Iteration 2  Net [16, 16, 16] Lambda 0.1 -----------------\n"
     ]
    },
    {
     "name": "stderr",
     "output_type": "stream",
     "text": [
      "C:\\Users\\Tanishk\\AppData\\Local\\Temp/ipykernel_18588/869318862.py:8: SettingWithCopyWarning: \n",
      "A value is trying to be set on a copy of a slice from a DataFrame.\n",
      "Try using .loc[row_indexer,col_indexer] = value instead\n",
      "\n",
      "See the caveats in the documentation: https://pandas.pydata.org/pandas-docs/stable/user_guide/indexing.html#returning-a-view-versus-a-copy\n",
      "  df[col] = df[col].apply(\n"
     ]
    },
    {
     "name": "stdout",
     "output_type": "stream",
     "text": [
      "Final Diff Cost: 2.2474457223031763e-05\n",
      "Final Cost 1.4969145700487403\n",
      "Number of Iterations: 1\n",
      "Conf Matrix: Counter({'0,0': 34, '1,0': 27})\n",
      "Accuracy: 0.5573770491803278\n",
      "F1-Score: 0.7157894736842105\n",
      "-----Iteration 3  Net [16, 16, 16] Lambda 0.1 -----------------\n"
     ]
    },
    {
     "name": "stderr",
     "output_type": "stream",
     "text": [
      "C:\\Users\\Tanishk\\AppData\\Local\\Temp/ipykernel_18588/869318862.py:8: SettingWithCopyWarning: \n",
      "A value is trying to be set on a copy of a slice from a DataFrame.\n",
      "Try using .loc[row_indexer,col_indexer] = value instead\n",
      "\n",
      "See the caveats in the documentation: https://pandas.pydata.org/pandas-docs/stable/user_guide/indexing.html#returning-a-view-versus-a-copy\n",
      "  df[col] = df[col].apply(\n"
     ]
    },
    {
     "name": "stdout",
     "output_type": "stream",
     "text": [
      "Final Diff Cost: 1.578845701888376e-05\n",
      "Final Cost 1.4982918915214396\n",
      "Number of Iterations: 1\n",
      "Conf Matrix: Counter({'0,0': 34, '1,0': 27})\n",
      "Accuracy: 0.5573770491803278\n",
      "F1-Score: 0.7157894736842105\n",
      "-----Iteration 4  Net [16, 16, 16] Lambda 0.1 -----------------\n"
     ]
    },
    {
     "name": "stderr",
     "output_type": "stream",
     "text": [
      "C:\\Users\\Tanishk\\AppData\\Local\\Temp/ipykernel_18588/869318862.py:8: SettingWithCopyWarning: \n",
      "A value is trying to be set on a copy of a slice from a DataFrame.\n",
      "Try using .loc[row_indexer,col_indexer] = value instead\n",
      "\n",
      "See the caveats in the documentation: https://pandas.pydata.org/pandas-docs/stable/user_guide/indexing.html#returning-a-view-versus-a-copy\n",
      "  df[col] = df[col].apply(\n"
     ]
    },
    {
     "name": "stdout",
     "output_type": "stream",
     "text": [
      "Final Diff Cost: 1.9654401736568516e-05\n",
      "Final Cost 1.4971705145273524\n",
      "Number of Iterations: 1\n",
      "Conf Matrix: Counter({'0,0': 34, '1,0': 27})\n",
      "Accuracy: 0.5573770491803278\n",
      "F1-Score: 0.7157894736842105\n",
      "-----Iteration 5  Net [16, 16, 16] Lambda 0.1 -----------------\n"
     ]
    },
    {
     "name": "stderr",
     "output_type": "stream",
     "text": [
      "C:\\Users\\Tanishk\\AppData\\Local\\Temp/ipykernel_18588/869318862.py:8: SettingWithCopyWarning: \n",
      "A value is trying to be set on a copy of a slice from a DataFrame.\n",
      "Try using .loc[row_indexer,col_indexer] = value instead\n",
      "\n",
      "See the caveats in the documentation: https://pandas.pydata.org/pandas-docs/stable/user_guide/indexing.html#returning-a-view-versus-a-copy\n",
      "  df[col] = df[col].apply(\n"
     ]
    },
    {
     "name": "stdout",
     "output_type": "stream",
     "text": [
      "Final Diff Cost: 1.1889705868739497e-05\n",
      "Final Cost 1.497629272349676\n",
      "Number of Iterations: 1\n",
      "Conf Matrix: Counter({'0,0': 34, '1,0': 27})\n",
      "Accuracy: 0.5573770491803278\n",
      "F1-Score: 0.7157894736842105\n",
      "-----Iteration 6  Net [16, 16, 16] Lambda 0.1 -----------------\n"
     ]
    },
    {
     "name": "stderr",
     "output_type": "stream",
     "text": [
      "C:\\Users\\Tanishk\\AppData\\Local\\Temp/ipykernel_18588/869318862.py:8: SettingWithCopyWarning: \n",
      "A value is trying to be set on a copy of a slice from a DataFrame.\n",
      "Try using .loc[row_indexer,col_indexer] = value instead\n",
      "\n",
      "See the caveats in the documentation: https://pandas.pydata.org/pandas-docs/stable/user_guide/indexing.html#returning-a-view-versus-a-copy\n",
      "  df[col] = df[col].apply(\n"
     ]
    },
    {
     "name": "stdout",
     "output_type": "stream",
     "text": [
      "Final Diff Cost: 4.884356589940353e-05\n",
      "Final Cost 1.4976527961132415\n",
      "Number of Iterations: 1\n",
      "Conf Matrix: Counter({'0,0': 34, '1,0': 27})\n",
      "Accuracy: 0.5573770491803278\n",
      "F1-Score: 0.7157894736842105\n",
      "-----Iteration 7  Net [16, 16, 16] Lambda 0.1 -----------------\n"
     ]
    },
    {
     "name": "stderr",
     "output_type": "stream",
     "text": [
      "C:\\Users\\Tanishk\\AppData\\Local\\Temp/ipykernel_18588/869318862.py:8: SettingWithCopyWarning: \n",
      "A value is trying to be set on a copy of a slice from a DataFrame.\n",
      "Try using .loc[row_indexer,col_indexer] = value instead\n",
      "\n",
      "See the caveats in the documentation: https://pandas.pydata.org/pandas-docs/stable/user_guide/indexing.html#returning-a-view-versus-a-copy\n",
      "  df[col] = df[col].apply(\n"
     ]
    },
    {
     "name": "stdout",
     "output_type": "stream",
     "text": [
      "Final Diff Cost: 1.1130444941942486e-05\n",
      "Final Cost 1.4977600452135524\n",
      "Number of Iterations: 1\n",
      "Conf Matrix: Counter({'0,0': 34, '1,0': 27})\n",
      "Accuracy: 0.5573770491803278\n",
      "F1-Score: 0.7157894736842105\n",
      "-----Iteration 8  Net [16, 16, 16] Lambda 0.1 -----------------\n"
     ]
    },
    {
     "name": "stderr",
     "output_type": "stream",
     "text": [
      "C:\\Users\\Tanishk\\AppData\\Local\\Temp/ipykernel_18588/869318862.py:8: SettingWithCopyWarning: \n",
      "A value is trying to be set on a copy of a slice from a DataFrame.\n",
      "Try using .loc[row_indexer,col_indexer] = value instead\n",
      "\n",
      "See the caveats in the documentation: https://pandas.pydata.org/pandas-docs/stable/user_guide/indexing.html#returning-a-view-versus-a-copy\n",
      "  df[col] = df[col].apply(\n"
     ]
    },
    {
     "name": "stdout",
     "output_type": "stream",
     "text": [
      "Final Diff Cost: 1.4915533063541986e-05\n",
      "Final Cost 1.4980509185669846\n",
      "Number of Iterations: 1\n",
      "Conf Matrix: Counter({'0,0': 33, '1,0': 27})\n",
      "Accuracy: 0.55\n",
      "F1-Score: 0.7096774193548387\n",
      "-----Iteration 9  Net [16, 16, 16] Lambda 0.1 -----------------\n"
     ]
    },
    {
     "name": "stderr",
     "output_type": "stream",
     "text": [
      "C:\\Users\\Tanishk\\AppData\\Local\\Temp/ipykernel_18588/869318862.py:8: SettingWithCopyWarning: \n",
      "A value is trying to be set on a copy of a slice from a DataFrame.\n",
      "Try using .loc[row_indexer,col_indexer] = value instead\n",
      "\n",
      "See the caveats in the documentation: https://pandas.pydata.org/pandas-docs/stable/user_guide/indexing.html#returning-a-view-versus-a-copy\n",
      "  df[col] = df[col].apply(\n"
     ]
    },
    {
     "name": "stdout",
     "output_type": "stream",
     "text": [
      "Final Diff Cost: 1.7950379824327456e-05\n",
      "Final Cost 1.4968088805513633\n",
      "Number of Iterations: 1\n",
      "Conf Matrix: Counter({'0,0': 33, '1,0': 27})\n",
      "Accuracy: 0.55\n",
      "F1-Score: 0.7096774193548387\n",
      "-----Iteration 10  Net [16, 16, 16] Lambda 0.1 -----------------\n"
     ]
    },
    {
     "name": "stderr",
     "output_type": "stream",
     "text": [
      "C:\\Users\\Tanishk\\AppData\\Local\\Temp/ipykernel_18588/869318862.py:8: SettingWithCopyWarning: \n",
      "A value is trying to be set on a copy of a slice from a DataFrame.\n",
      "Try using .loc[row_indexer,col_indexer] = value instead\n",
      "\n",
      "See the caveats in the documentation: https://pandas.pydata.org/pandas-docs/stable/user_guide/indexing.html#returning-a-view-versus-a-copy\n",
      "  df[col] = df[col].apply(\n"
     ]
    },
    {
     "name": "stdout",
     "output_type": "stream",
     "text": [
      "Final Diff Cost: 1.2432924799687939e-05\n",
      "Final Cost 1.4970500542443534\n",
      "Number of Iterations: 1\n",
      "Conf Matrix: Counter({'0,0': 33, '1,0': 27})\n",
      "Accuracy: 0.55\n",
      "F1-Score: 0.7096774193548387\n",
      "Number of instances in test set: 61.0\n",
      "-----Iteration 1  Net [25, 25, 25] Lambda 0.1 -----------------\n"
     ]
    },
    {
     "name": "stderr",
     "output_type": "stream",
     "text": [
      "C:\\Users\\Tanishk\\AppData\\Local\\Temp/ipykernel_18588/869318862.py:8: SettingWithCopyWarning: \n",
      "A value is trying to be set on a copy of a slice from a DataFrame.\n",
      "Try using .loc[row_indexer,col_indexer] = value instead\n",
      "\n",
      "See the caveats in the documentation: https://pandas.pydata.org/pandas-docs/stable/user_guide/indexing.html#returning-a-view-versus-a-copy\n",
      "  df[col] = df[col].apply(\n"
     ]
    },
    {
     "name": "stdout",
     "output_type": "stream",
     "text": [
      "Final Diff Cost: 9.144018826789946e-05\n",
      "Final Cost 1.5869484505250933\n",
      "Number of Iterations: 18\n",
      "Conf Matrix: Counter({'0,0': 33, '1,0': 28, '0,1': 1})\n",
      "Accuracy: 0.532258064516129\n",
      "F1-Score: 0.6947368421052632\n",
      "-----Iteration 2  Net [25, 25, 25] Lambda 0.1 -----------------\n"
     ]
    },
    {
     "name": "stderr",
     "output_type": "stream",
     "text": [
      "C:\\Users\\Tanishk\\AppData\\Local\\Temp/ipykernel_18588/869318862.py:8: SettingWithCopyWarning: \n",
      "A value is trying to be set on a copy of a slice from a DataFrame.\n",
      "Try using .loc[row_indexer,col_indexer] = value instead\n",
      "\n",
      "See the caveats in the documentation: https://pandas.pydata.org/pandas-docs/stable/user_guide/indexing.html#returning-a-view-versus-a-copy\n",
      "  df[col] = df[col].apply(\n"
     ]
    },
    {
     "name": "stdout",
     "output_type": "stream",
     "text": [
      "Final Diff Cost: 7.069391964398264e-05\n",
      "Final Cost 1.5856754251442335\n",
      "Number of Iterations: 5\n",
      "Conf Matrix: Counter({'0,0': 33, '1,0': 27, '0,1': 1})\n",
      "Accuracy: 0.5409836065573771\n",
      "F1-Score: 0.7021276595744681\n",
      "-----Iteration 3  Net [25, 25, 25] Lambda 0.1 -----------------\n"
     ]
    },
    {
     "name": "stderr",
     "output_type": "stream",
     "text": [
      "C:\\Users\\Tanishk\\AppData\\Local\\Temp/ipykernel_18588/869318862.py:8: SettingWithCopyWarning: \n",
      "A value is trying to be set on a copy of a slice from a DataFrame.\n",
      "Try using .loc[row_indexer,col_indexer] = value instead\n",
      "\n",
      "See the caveats in the documentation: https://pandas.pydata.org/pandas-docs/stable/user_guide/indexing.html#returning-a-view-versus-a-copy\n",
      "  df[col] = df[col].apply(\n"
     ]
    },
    {
     "name": "stdout",
     "output_type": "stream",
     "text": [
      "Final Diff Cost: 8.523109768576731e-05\n",
      "Final Cost 1.58607634100751\n",
      "Number of Iterations: 3\n",
      "Conf Matrix: Counter({'0,0': 33, '1,0': 27, '0,1': 1})\n",
      "Accuracy: 0.5409836065573771\n",
      "F1-Score: 0.7021276595744681\n",
      "-----Iteration 4  Net [25, 25, 25] Lambda 0.1 -----------------\n"
     ]
    },
    {
     "name": "stderr",
     "output_type": "stream",
     "text": [
      "C:\\Users\\Tanishk\\AppData\\Local\\Temp/ipykernel_18588/869318862.py:8: SettingWithCopyWarning: \n",
      "A value is trying to be set on a copy of a slice from a DataFrame.\n",
      "Try using .loc[row_indexer,col_indexer] = value instead\n",
      "\n",
      "See the caveats in the documentation: https://pandas.pydata.org/pandas-docs/stable/user_guide/indexing.html#returning-a-view-versus-a-copy\n",
      "  df[col] = df[col].apply(\n"
     ]
    },
    {
     "name": "stdout",
     "output_type": "stream",
     "text": [
      "Final Diff Cost: 9.985128470346716e-05\n",
      "Final Cost 1.586880854257069\n",
      "Number of Iterations: 5\n",
      "Conf Matrix: Counter({'0,0': 33, '1,0': 27, '0,1': 1})\n",
      "Accuracy: 0.5409836065573771\n",
      "F1-Score: 0.7021276595744681\n",
      "-----Iteration 5  Net [25, 25, 25] Lambda 0.1 -----------------\n"
     ]
    },
    {
     "name": "stderr",
     "output_type": "stream",
     "text": [
      "C:\\Users\\Tanishk\\AppData\\Local\\Temp/ipykernel_18588/869318862.py:8: SettingWithCopyWarning: \n",
      "A value is trying to be set on a copy of a slice from a DataFrame.\n",
      "Try using .loc[row_indexer,col_indexer] = value instead\n",
      "\n",
      "See the caveats in the documentation: https://pandas.pydata.org/pandas-docs/stable/user_guide/indexing.html#returning-a-view-versus-a-copy\n",
      "  df[col] = df[col].apply(\n"
     ]
    },
    {
     "name": "stdout",
     "output_type": "stream",
     "text": [
      "Final Diff Cost: 8.331485047596843e-05\n",
      "Final Cost 1.5876389228800991\n",
      "Number of Iterations: 5\n",
      "Conf Matrix: Counter({'0,0': 34, '1,0': 27})\n",
      "Accuracy: 0.5573770491803278\n",
      "F1-Score: 0.7157894736842105\n",
      "-----Iteration 6  Net [25, 25, 25] Lambda 0.1 -----------------\n"
     ]
    },
    {
     "name": "stderr",
     "output_type": "stream",
     "text": [
      "C:\\Users\\Tanishk\\AppData\\Local\\Temp/ipykernel_18588/869318862.py:8: SettingWithCopyWarning: \n",
      "A value is trying to be set on a copy of a slice from a DataFrame.\n",
      "Try using .loc[row_indexer,col_indexer] = value instead\n",
      "\n",
      "See the caveats in the documentation: https://pandas.pydata.org/pandas-docs/stable/user_guide/indexing.html#returning-a-view-versus-a-copy\n",
      "  df[col] = df[col].apply(\n"
     ]
    },
    {
     "name": "stdout",
     "output_type": "stream",
     "text": [
      "Final Diff Cost: 8.516800338864705e-05\n",
      "Final Cost 1.5899548905505672\n",
      "Number of Iterations: 6\n",
      "Conf Matrix: Counter({'0,0': 34, '1,0': 27})\n",
      "Accuracy: 0.5573770491803278\n",
      "F1-Score: 0.7157894736842105\n",
      "-----Iteration 7  Net [25, 25, 25] Lambda 0.1 -----------------\n"
     ]
    },
    {
     "name": "stderr",
     "output_type": "stream",
     "text": [
      "C:\\Users\\Tanishk\\AppData\\Local\\Temp/ipykernel_18588/869318862.py:8: SettingWithCopyWarning: \n",
      "A value is trying to be set on a copy of a slice from a DataFrame.\n",
      "Try using .loc[row_indexer,col_indexer] = value instead\n",
      "\n",
      "See the caveats in the documentation: https://pandas.pydata.org/pandas-docs/stable/user_guide/indexing.html#returning-a-view-versus-a-copy\n",
      "  df[col] = df[col].apply(\n"
     ]
    },
    {
     "name": "stdout",
     "output_type": "stream",
     "text": [
      "Final Diff Cost: 8.027899742302225e-05\n",
      "Final Cost 1.5863391404088976\n",
      "Number of Iterations: 6\n",
      "Conf Matrix: Counter({'0,0': 33, '1,0': 27, '0,1': 1})\n",
      "Accuracy: 0.5409836065573771\n",
      "F1-Score: 0.7021276595744681\n",
      "-----Iteration 8  Net [25, 25, 25] Lambda 0.1 -----------------\n"
     ]
    },
    {
     "name": "stderr",
     "output_type": "stream",
     "text": [
      "C:\\Users\\Tanishk\\AppData\\Local\\Temp/ipykernel_18588/869318862.py:8: SettingWithCopyWarning: \n",
      "A value is trying to be set on a copy of a slice from a DataFrame.\n",
      "Try using .loc[row_indexer,col_indexer] = value instead\n",
      "\n",
      "See the caveats in the documentation: https://pandas.pydata.org/pandas-docs/stable/user_guide/indexing.html#returning-a-view-versus-a-copy\n",
      "  df[col] = df[col].apply(\n"
     ]
    },
    {
     "name": "stdout",
     "output_type": "stream",
     "text": [
      "Final Diff Cost: 8.447985081216913e-05\n",
      "Final Cost 1.5847201117687078\n",
      "Number of Iterations: 4\n",
      "Conf Matrix: Counter({'0,0': 33, '1,0': 27})\n",
      "Accuracy: 0.55\n",
      "F1-Score: 0.7096774193548387\n",
      "-----Iteration 9  Net [25, 25, 25] Lambda 0.1 -----------------\n"
     ]
    },
    {
     "name": "stderr",
     "output_type": "stream",
     "text": [
      "C:\\Users\\Tanishk\\AppData\\Local\\Temp/ipykernel_18588/869318862.py:8: SettingWithCopyWarning: \n",
      "A value is trying to be set on a copy of a slice from a DataFrame.\n",
      "Try using .loc[row_indexer,col_indexer] = value instead\n",
      "\n",
      "See the caveats in the documentation: https://pandas.pydata.org/pandas-docs/stable/user_guide/indexing.html#returning-a-view-versus-a-copy\n",
      "  df[col] = df[col].apply(\n"
     ]
    },
    {
     "name": "stdout",
     "output_type": "stream",
     "text": [
      "Final Diff Cost: 6.88478433497064e-05\n",
      "Final Cost 1.583792807638312\n",
      "Number of Iterations: 5\n",
      "Conf Matrix: Counter({'0,0': 33, '1,0': 27})\n",
      "Accuracy: 0.55\n",
      "F1-Score: 0.7096774193548387\n",
      "-----Iteration 10  Net [25, 25, 25] Lambda 0.1 -----------------\n"
     ]
    },
    {
     "name": "stderr",
     "output_type": "stream",
     "text": [
      "C:\\Users\\Tanishk\\AppData\\Local\\Temp/ipykernel_18588/869318862.py:8: SettingWithCopyWarning: \n",
      "A value is trying to be set on a copy of a slice from a DataFrame.\n",
      "Try using .loc[row_indexer,col_indexer] = value instead\n",
      "\n",
      "See the caveats in the documentation: https://pandas.pydata.org/pandas-docs/stable/user_guide/indexing.html#returning-a-view-versus-a-copy\n",
      "  df[col] = df[col].apply(\n"
     ]
    },
    {
     "name": "stdout",
     "output_type": "stream",
     "text": [
      "Final Diff Cost: 9.896173392154317e-05\n",
      "Final Cost 1.5841256022719978\n",
      "Number of Iterations: 3\n",
      "Conf Matrix: Counter({'0,0': 33, '1,0': 27})\n",
      "Accuracy: 0.55\n",
      "F1-Score: 0.7096774193548387\n",
      "Number of instances in test set: 61.0\n",
      "-----Iteration 1  Net [32, 32, 32] Lambda 0.1 -----------------\n"
     ]
    },
    {
     "name": "stderr",
     "output_type": "stream",
     "text": [
      "C:\\Users\\Tanishk\\AppData\\Local\\Temp/ipykernel_18588/869318862.py:8: SettingWithCopyWarning: \n",
      "A value is trying to be set on a copy of a slice from a DataFrame.\n",
      "Try using .loc[row_indexer,col_indexer] = value instead\n",
      "\n",
      "See the caveats in the documentation: https://pandas.pydata.org/pandas-docs/stable/user_guide/indexing.html#returning-a-view-versus-a-copy\n",
      "  df[col] = df[col].apply(\n"
     ]
    },
    {
     "name": "stdout",
     "output_type": "stream",
     "text": [
      "Final Diff Cost: 9.511248747662293e-05\n",
      "Final Cost 1.6543963454657504\n",
      "Number of Iterations: 8\n",
      "Conf Matrix: Counter({'0,0': 33, '1,0': 27, '0,1': 1, '1,1': 1})\n",
      "Accuracy: 0.5483870967741935\n",
      "F1-Score: 0.7021276595744681\n",
      "-----Iteration 2  Net [32, 32, 32] Lambda 0.1 -----------------\n"
     ]
    },
    {
     "name": "stderr",
     "output_type": "stream",
     "text": [
      "C:\\Users\\Tanishk\\AppData\\Local\\Temp/ipykernel_18588/869318862.py:8: SettingWithCopyWarning: \n",
      "A value is trying to be set on a copy of a slice from a DataFrame.\n",
      "Try using .loc[row_indexer,col_indexer] = value instead\n",
      "\n",
      "See the caveats in the documentation: https://pandas.pydata.org/pandas-docs/stable/user_guide/indexing.html#returning-a-view-versus-a-copy\n",
      "  df[col] = df[col].apply(\n"
     ]
    },
    {
     "name": "stdout",
     "output_type": "stream",
     "text": [
      "Final Diff Cost: 8.33674981903787e-05\n",
      "Final Cost 1.6561232490043332\n",
      "Number of Iterations: 3\n",
      "Conf Matrix: Counter({'0,0': 33, '1,0': 23, '1,1': 4, '0,1': 1})\n",
      "Accuracy: 0.6065573770491803\n",
      "F1-Score: 0.7333333333333333\n",
      "-----Iteration 3  Net [32, 32, 32] Lambda 0.1 -----------------\n"
     ]
    },
    {
     "name": "stderr",
     "output_type": "stream",
     "text": [
      "C:\\Users\\Tanishk\\AppData\\Local\\Temp/ipykernel_18588/869318862.py:8: SettingWithCopyWarning: \n",
      "A value is trying to be set on a copy of a slice from a DataFrame.\n",
      "Try using .loc[row_indexer,col_indexer] = value instead\n",
      "\n",
      "See the caveats in the documentation: https://pandas.pydata.org/pandas-docs/stable/user_guide/indexing.html#returning-a-view-versus-a-copy\n",
      "  df[col] = df[col].apply(\n"
     ]
    },
    {
     "name": "stdout",
     "output_type": "stream",
     "text": [
      "Final Diff Cost: 8.617226029294933e-05\n",
      "Final Cost 1.6554151223103617\n",
      "Number of Iterations: 2\n",
      "Conf Matrix: Counter({'0,0': 32, '1,0': 26, '0,1': 2, '1,1': 1})\n",
      "Accuracy: 0.5409836065573771\n",
      "F1-Score: 0.6956521739130435\n",
      "-----Iteration 4  Net [32, 32, 32] Lambda 0.1 -----------------\n"
     ]
    },
    {
     "name": "stderr",
     "output_type": "stream",
     "text": [
      "C:\\Users\\Tanishk\\AppData\\Local\\Temp/ipykernel_18588/869318862.py:8: SettingWithCopyWarning: \n",
      "A value is trying to be set on a copy of a slice from a DataFrame.\n",
      "Try using .loc[row_indexer,col_indexer] = value instead\n",
      "\n",
      "See the caveats in the documentation: https://pandas.pydata.org/pandas-docs/stable/user_guide/indexing.html#returning-a-view-versus-a-copy\n",
      "  df[col] = df[col].apply(\n"
     ]
    },
    {
     "name": "stdout",
     "output_type": "stream",
     "text": [
      "Final Diff Cost: 9.580282559085163e-05\n",
      "Final Cost 1.6544212442403439\n",
      "Number of Iterations: 3\n",
      "Conf Matrix: Counter({'0,0': 34, '1,0': 27})\n",
      "Accuracy: 0.5573770491803278\n",
      "F1-Score: 0.7157894736842105\n",
      "-----Iteration 5  Net [32, 32, 32] Lambda 0.1 -----------------\n"
     ]
    },
    {
     "name": "stderr",
     "output_type": "stream",
     "text": [
      "C:\\Users\\Tanishk\\AppData\\Local\\Temp/ipykernel_18588/869318862.py:8: SettingWithCopyWarning: \n",
      "A value is trying to be set on a copy of a slice from a DataFrame.\n",
      "Try using .loc[row_indexer,col_indexer] = value instead\n",
      "\n",
      "See the caveats in the documentation: https://pandas.pydata.org/pandas-docs/stable/user_guide/indexing.html#returning-a-view-versus-a-copy\n",
      "  df[col] = df[col].apply(\n"
     ]
    },
    {
     "name": "stdout",
     "output_type": "stream",
     "text": [
      "Final Diff Cost: 9.994463239371143e-05\n",
      "Final Cost 1.6313424226296893\n",
      "Number of Iterations: 191\n",
      "Conf Matrix: Counter({'0,0': 28, '1,0': 22, '0,1': 6, '1,1': 5})\n",
      "Accuracy: 0.5409836065573771\n",
      "F1-Score: 0.6666666666666666\n",
      "-----Iteration 6  Net [32, 32, 32] Lambda 0.1 -----------------\n"
     ]
    },
    {
     "name": "stderr",
     "output_type": "stream",
     "text": [
      "C:\\Users\\Tanishk\\AppData\\Local\\Temp/ipykernel_18588/869318862.py:8: SettingWithCopyWarning: \n",
      "A value is trying to be set on a copy of a slice from a DataFrame.\n",
      "Try using .loc[row_indexer,col_indexer] = value instead\n",
      "\n",
      "See the caveats in the documentation: https://pandas.pydata.org/pandas-docs/stable/user_guide/indexing.html#returning-a-view-versus-a-copy\n",
      "  df[col] = df[col].apply(\n"
     ]
    },
    {
     "name": "stdout",
     "output_type": "stream",
     "text": [
      "Final Diff Cost: 9.527466201819657e-05\n",
      "Final Cost 1.634841069897272\n",
      "Number of Iterations: 4\n",
      "Conf Matrix: Counter({'0,0': 32, '1,0': 24, '1,1': 3, '0,1': 2})\n",
      "Accuracy: 0.5737704918032787\n",
      "F1-Score: 0.7111111111111111\n",
      "-----Iteration 7  Net [32, 32, 32] Lambda 0.1 -----------------\n"
     ]
    },
    {
     "name": "stderr",
     "output_type": "stream",
     "text": [
      "C:\\Users\\Tanishk\\AppData\\Local\\Temp/ipykernel_18588/869318862.py:8: SettingWithCopyWarning: \n",
      "A value is trying to be set on a copy of a slice from a DataFrame.\n",
      "Try using .loc[row_indexer,col_indexer] = value instead\n",
      "\n",
      "See the caveats in the documentation: https://pandas.pydata.org/pandas-docs/stable/user_guide/indexing.html#returning-a-view-versus-a-copy\n",
      "  df[col] = df[col].apply(\n"
     ]
    },
    {
     "name": "stdout",
     "output_type": "stream",
     "text": [
      "Final Diff Cost: 9.288810669194625e-05\n",
      "Final Cost 1.6329981175930275\n",
      "Number of Iterations: 4\n",
      "Conf Matrix: Counter({'0,0': 31, '1,0': 22, '1,1': 5, '0,1': 3})\n",
      "Accuracy: 0.5901639344262295\n",
      "F1-Score: 0.7126436781609194\n",
      "-----Iteration 8  Net [32, 32, 32] Lambda 0.1 -----------------\n"
     ]
    },
    {
     "name": "stderr",
     "output_type": "stream",
     "text": [
      "C:\\Users\\Tanishk\\AppData\\Local\\Temp/ipykernel_18588/869318862.py:8: SettingWithCopyWarning: \n",
      "A value is trying to be set on a copy of a slice from a DataFrame.\n",
      "Try using .loc[row_indexer,col_indexer] = value instead\n",
      "\n",
      "See the caveats in the documentation: https://pandas.pydata.org/pandas-docs/stable/user_guide/indexing.html#returning-a-view-versus-a-copy\n",
      "  df[col] = df[col].apply(\n"
     ]
    },
    {
     "name": "stdout",
     "output_type": "stream",
     "text": [
      "Final Diff Cost: 9.981862533625652e-05\n",
      "Final Cost 1.6307969445120662\n",
      "Number of Iterations: 12\n",
      "Conf Matrix: Counter({'0,0': 32, '1,0': 23, '1,1': 4, '0,1': 1})\n",
      "Accuracy: 0.6\n",
      "F1-Score: 0.7272727272727272\n",
      "-----Iteration 9  Net [32, 32, 32] Lambda 0.1 -----------------\n"
     ]
    },
    {
     "name": "stderr",
     "output_type": "stream",
     "text": [
      "C:\\Users\\Tanishk\\AppData\\Local\\Temp/ipykernel_18588/869318862.py:8: SettingWithCopyWarning: \n",
      "A value is trying to be set on a copy of a slice from a DataFrame.\n",
      "Try using .loc[row_indexer,col_indexer] = value instead\n",
      "\n",
      "See the caveats in the documentation: https://pandas.pydata.org/pandas-docs/stable/user_guide/indexing.html#returning-a-view-versus-a-copy\n",
      "  df[col] = df[col].apply(\n"
     ]
    },
    {
     "name": "stdout",
     "output_type": "stream",
     "text": [
      "Final Diff Cost: -0.0024656714776432054\n",
      "Final Cost 1.3258177594719955\n",
      "Number of Iterations: 470\n",
      "Conf Matrix: Counter({'0,0': 27, '1,1': 18, '1,0': 9, '0,1': 6})\n",
      "Accuracy: 0.75\n",
      "F1-Score: 0.7826086956521738\n",
      "-----Iteration 10  Net [32, 32, 32] Lambda 0.1 -----------------\n"
     ]
    },
    {
     "name": "stderr",
     "output_type": "stream",
     "text": [
      "C:\\Users\\Tanishk\\AppData\\Local\\Temp/ipykernel_18588/869318862.py:8: SettingWithCopyWarning: \n",
      "A value is trying to be set on a copy of a slice from a DataFrame.\n",
      "Try using .loc[row_indexer,col_indexer] = value instead\n",
      "\n",
      "See the caveats in the documentation: https://pandas.pydata.org/pandas-docs/stable/user_guide/indexing.html#returning-a-view-versus-a-copy\n",
      "  df[col] = df[col].apply(\n"
     ]
    },
    {
     "name": "stdout",
     "output_type": "stream",
     "text": [
      "Final Diff Cost: -0.19726258814928377\n",
      "Final Cost 1.982647008190313\n",
      "Number of Iterations: 2\n",
      "Conf Matrix: Counter({'0,0': 32, '1,0': 26, '0,1': 1, '1,1': 1})\n",
      "Accuracy: 0.55\n",
      "F1-Score: 0.7032967032967034\n",
      "Number of instances in test set: 61.0\n",
      "-----Iteration 1  Net [64, 64, 64] Lambda 0.1 -----------------\n"
     ]
    },
    {
     "name": "stderr",
     "output_type": "stream",
     "text": [
      "C:\\Users\\Tanishk\\AppData\\Local\\Temp/ipykernel_18588/869318862.py:8: SettingWithCopyWarning: \n",
      "A value is trying to be set on a copy of a slice from a DataFrame.\n",
      "Try using .loc[row_indexer,col_indexer] = value instead\n",
      "\n",
      "See the caveats in the documentation: https://pandas.pydata.org/pandas-docs/stable/user_guide/indexing.html#returning-a-view-versus-a-copy\n",
      "  df[col] = df[col].apply(\n"
     ]
    },
    {
     "name": "stdout",
     "output_type": "stream",
     "text": [
      "Final Diff Cost: -7.012951603169171e-05\n",
      "Final Cost 1.86874213954694\n",
      "Number of Iterations: 486\n",
      "Conf Matrix: Counter({'0,0': 22, '1,0': 19, '0,1': 12, '1,1': 9})\n",
      "Accuracy: 0.5\n",
      "F1-Score: 0.5866666666666668\n",
      "-----Iteration 2  Net [64, 64, 64] Lambda 0.1 -----------------\n"
     ]
    },
    {
     "name": "stderr",
     "output_type": "stream",
     "text": [
      "C:\\Users\\Tanishk\\AppData\\Local\\Temp/ipykernel_18588/869318862.py:8: SettingWithCopyWarning: \n",
      "A value is trying to be set on a copy of a slice from a DataFrame.\n",
      "Try using .loc[row_indexer,col_indexer] = value instead\n",
      "\n",
      "See the caveats in the documentation: https://pandas.pydata.org/pandas-docs/stable/user_guide/indexing.html#returning-a-view-versus-a-copy\n",
      "  df[col] = df[col].apply(\n"
     ]
    },
    {
     "name": "stdout",
     "output_type": "stream",
     "text": [
      "Final Diff Cost: -0.0026337677645140722\n",
      "Final Cost 1.909086491028107\n",
      "Number of Iterations: 2\n",
      "Conf Matrix: Counter({'0,0': 29, '1,0': 15, '1,1': 12, '0,1': 5})\n",
      "Accuracy: 0.6721311475409836\n",
      "F1-Score: 0.7435897435897436\n",
      "-----Iteration 3  Net [64, 64, 64] Lambda 0.1 -----------------\n"
     ]
    },
    {
     "name": "stderr",
     "output_type": "stream",
     "text": [
      "C:\\Users\\Tanishk\\AppData\\Local\\Temp/ipykernel_18588/869318862.py:8: SettingWithCopyWarning: \n",
      "A value is trying to be set on a copy of a slice from a DataFrame.\n",
      "Try using .loc[row_indexer,col_indexer] = value instead\n",
      "\n",
      "See the caveats in the documentation: https://pandas.pydata.org/pandas-docs/stable/user_guide/indexing.html#returning-a-view-versus-a-copy\n",
      "  df[col] = df[col].apply(\n"
     ]
    },
    {
     "name": "stdout",
     "output_type": "stream",
     "text": [
      "Final Diff Cost: -0.03394318765311777\n",
      "Final Cost 1.9921107796616915\n",
      "Number of Iterations: 1\n",
      "Conf Matrix: Counter({'1,1': 23, '0,1': 19, '0,0': 15, '1,0': 4})\n",
      "Accuracy: 0.6229508196721312\n",
      "F1-Score: 0.5660377358490566\n",
      "-----Iteration 4  Net [64, 64, 64] Lambda 0.1 -----------------\n"
     ]
    },
    {
     "name": "stderr",
     "output_type": "stream",
     "text": [
      "C:\\Users\\Tanishk\\AppData\\Local\\Temp/ipykernel_18588/869318862.py:8: SettingWithCopyWarning: \n",
      "A value is trying to be set on a copy of a slice from a DataFrame.\n",
      "Try using .loc[row_indexer,col_indexer] = value instead\n",
      "\n",
      "See the caveats in the documentation: https://pandas.pydata.org/pandas-docs/stable/user_guide/indexing.html#returning-a-view-versus-a-copy\n",
      "  df[col] = df[col].apply(\n"
     ]
    },
    {
     "name": "stdout",
     "output_type": "stream",
     "text": [
      "Final Diff Cost: -0.12751330086784574\n",
      "Final Cost 2.2206769273442264\n",
      "Number of Iterations: 1\n",
      "Conf Matrix: Counter({'0,0': 34, '1,0': 25, '1,1': 2})\n",
      "Accuracy: 0.5901639344262295\n",
      "F1-Score: 0.7311827956989247\n",
      "-----Iteration 5  Net [64, 64, 64] Lambda 0.1 -----------------\n"
     ]
    },
    {
     "name": "stderr",
     "output_type": "stream",
     "text": [
      "C:\\Users\\Tanishk\\AppData\\Local\\Temp/ipykernel_18588/869318862.py:8: SettingWithCopyWarning: \n",
      "A value is trying to be set on a copy of a slice from a DataFrame.\n",
      "Try using .loc[row_indexer,col_indexer] = value instead\n",
      "\n",
      "See the caveats in the documentation: https://pandas.pydata.org/pandas-docs/stable/user_guide/indexing.html#returning-a-view-versus-a-copy\n",
      "  df[col] = df[col].apply(\n"
     ]
    },
    {
     "name": "stdout",
     "output_type": "stream",
     "text": [
      "Final Diff Cost: -0.0003516933261644706\n",
      "Final Cost 1.9264391872609175\n",
      "Number of Iterations: 8\n",
      "Conf Matrix: Counter({'0,0': 31, '1,0': 25, '0,1': 3, '1,1': 2})\n",
      "Accuracy: 0.5409836065573771\n",
      "F1-Score: 0.6888888888888888\n",
      "-----Iteration 6  Net [64, 64, 64] Lambda 0.1 -----------------\n"
     ]
    },
    {
     "name": "stderr",
     "output_type": "stream",
     "text": [
      "C:\\Users\\Tanishk\\AppData\\Local\\Temp/ipykernel_18588/869318862.py:8: SettingWithCopyWarning: \n",
      "A value is trying to be set on a copy of a slice from a DataFrame.\n",
      "Try using .loc[row_indexer,col_indexer] = value instead\n",
      "\n",
      "See the caveats in the documentation: https://pandas.pydata.org/pandas-docs/stable/user_guide/indexing.html#returning-a-view-versus-a-copy\n",
      "  df[col] = df[col].apply(\n"
     ]
    },
    {
     "name": "stdout",
     "output_type": "stream",
     "text": [
      "Final Diff Cost: -0.0239931602594341\n",
      "Final Cost 2.0448166022221534\n",
      "Number of Iterations: 1\n",
      "Conf Matrix: Counter({'1,1': 25, '0,1': 21, '0,0': 13, '1,0': 2})\n",
      "Accuracy: 0.6229508196721312\n",
      "F1-Score: 0.5306122448979592\n",
      "-----Iteration 7  Net [64, 64, 64] Lambda 0.1 -----------------\n"
     ]
    },
    {
     "name": "stderr",
     "output_type": "stream",
     "text": [
      "C:\\Users\\Tanishk\\AppData\\Local\\Temp/ipykernel_18588/869318862.py:8: SettingWithCopyWarning: \n",
      "A value is trying to be set on a copy of a slice from a DataFrame.\n",
      "Try using .loc[row_indexer,col_indexer] = value instead\n",
      "\n",
      "See the caveats in the documentation: https://pandas.pydata.org/pandas-docs/stable/user_guide/indexing.html#returning-a-view-versus-a-copy\n",
      "  df[col] = df[col].apply(\n"
     ]
    },
    {
     "name": "stdout",
     "output_type": "stream",
     "text": [
      "Final Diff Cost: -0.04274879991686831\n",
      "Final Cost 2.0660649341361452\n",
      "Number of Iterations: 1\n",
      "Conf Matrix: Counter({'0,0': 32, '1,0': 24, '1,1': 3, '0,1': 2})\n",
      "Accuracy: 0.5737704918032787\n",
      "F1-Score: 0.7111111111111111\n",
      "-----Iteration 8  Net [64, 64, 64] Lambda 0.1 -----------------\n"
     ]
    },
    {
     "name": "stderr",
     "output_type": "stream",
     "text": [
      "C:\\Users\\Tanishk\\AppData\\Local\\Temp/ipykernel_18588/869318862.py:8: SettingWithCopyWarning: \n",
      "A value is trying to be set on a copy of a slice from a DataFrame.\n",
      "Try using .loc[row_indexer,col_indexer] = value instead\n",
      "\n",
      "See the caveats in the documentation: https://pandas.pydata.org/pandas-docs/stable/user_guide/indexing.html#returning-a-view-versus-a-copy\n",
      "  df[col] = df[col].apply(\n"
     ]
    },
    {
     "name": "stdout",
     "output_type": "stream",
     "text": [
      "Final Diff Cost: -0.01935509625770493\n",
      "Final Cost 2.111779524702855\n",
      "Number of Iterations: 2\n",
      "Conf Matrix: Counter({'0,0': 33, '1,0': 23, '1,1': 4})\n",
      "Accuracy: 0.6166666666666667\n",
      "F1-Score: 0.7415730337078651\n",
      "-----Iteration 9  Net [64, 64, 64] Lambda 0.1 -----------------\n"
     ]
    },
    {
     "name": "stderr",
     "output_type": "stream",
     "text": [
      "C:\\Users\\Tanishk\\AppData\\Local\\Temp/ipykernel_18588/869318862.py:8: SettingWithCopyWarning: \n",
      "A value is trying to be set on a copy of a slice from a DataFrame.\n",
      "Try using .loc[row_indexer,col_indexer] = value instead\n",
      "\n",
      "See the caveats in the documentation: https://pandas.pydata.org/pandas-docs/stable/user_guide/indexing.html#returning-a-view-versus-a-copy\n",
      "  df[col] = df[col].apply(\n"
     ]
    },
    {
     "name": "stdout",
     "output_type": "stream",
     "text": [
      "Final Diff Cost: -0.009584577112865977\n",
      "Final Cost 1.8715916156530588\n",
      "Number of Iterations: 2\n",
      "Conf Matrix: Counter({'0,0': 33, '1,0': 16, '1,1': 11})\n",
      "Accuracy: 0.7333333333333333\n",
      "F1-Score: 0.8048780487804877\n",
      "-----Iteration 10  Net [64, 64, 64] Lambda 0.1 -----------------\n"
     ]
    },
    {
     "name": "stderr",
     "output_type": "stream",
     "text": [
      "C:\\Users\\Tanishk\\AppData\\Local\\Temp/ipykernel_18588/869318862.py:8: SettingWithCopyWarning: \n",
      "A value is trying to be set on a copy of a slice from a DataFrame.\n",
      "Try using .loc[row_indexer,col_indexer] = value instead\n",
      "\n",
      "See the caveats in the documentation: https://pandas.pydata.org/pandas-docs/stable/user_guide/indexing.html#returning-a-view-versus-a-copy\n",
      "  df[col] = df[col].apply(\n"
     ]
    },
    {
     "name": "stdout",
     "output_type": "stream",
     "text": [
      "Final Diff Cost: -0.00024959583227124327\n",
      "Final Cost 1.9106829530375045\n",
      "Number of Iterations: 14\n",
      "Conf Matrix: Counter({'0,0': 30, '1,0': 16, '1,1': 11, '0,1': 3})\n",
      "Accuracy: 0.6833333333333333\n",
      "F1-Score: 0.759493670886076\n",
      "[0.5576, 0.6158, 0.6694, 0.6843, 0.6444, 0.6594, 0.5543, 0.5543, 0.5559, 0.5461, 0.5858, 0.6156]\n",
      "[0.7123, 0.7184, 0.7197, 0.7351, 0.6697, 0.6914, 0.7132, 0.7132, 0.714, 0.7064, 0.7151, 0.6864]\n",
      "Number of instances in test set: 61.0\n",
      "-----Iteration 1  Net [4] Lambda 0.01 -----------------\n"
     ]
    },
    {
     "name": "stderr",
     "output_type": "stream",
     "text": [
      "C:\\Users\\Tanishk\\AppData\\Local\\Temp/ipykernel_18588/869318862.py:8: SettingWithCopyWarning: \n",
      "A value is trying to be set on a copy of a slice from a DataFrame.\n",
      "Try using .loc[row_indexer,col_indexer] = value instead\n",
      "\n",
      "See the caveats in the documentation: https://pandas.pydata.org/pandas-docs/stable/user_guide/indexing.html#returning-a-view-versus-a-copy\n",
      "  df[col] = df[col].apply(\n"
     ]
    },
    {
     "name": "stdout",
     "output_type": "stream",
     "text": [
      "Final Diff Cost: 9.913795731764097e-05\n",
      "Final Cost 1.3763542879350206\n",
      "Number of Iterations: 25\n",
      "Conf Matrix: Counter({'0,0': 33, '1,0': 28, '0,1': 1})\n",
      "Accuracy: 0.532258064516129\n",
      "F1-Score: 0.6947368421052632\n",
      "-----Iteration 2  Net [4] Lambda 0.01 -----------------\n"
     ]
    },
    {
     "name": "stderr",
     "output_type": "stream",
     "text": [
      "C:\\Users\\Tanishk\\AppData\\Local\\Temp/ipykernel_18588/869318862.py:8: SettingWithCopyWarning: \n",
      "A value is trying to be set on a copy of a slice from a DataFrame.\n",
      "Try using .loc[row_indexer,col_indexer] = value instead\n",
      "\n",
      "See the caveats in the documentation: https://pandas.pydata.org/pandas-docs/stable/user_guide/indexing.html#returning-a-view-versus-a-copy\n",
      "  df[col] = df[col].apply(\n"
     ]
    },
    {
     "name": "stdout",
     "output_type": "stream",
     "text": [
      "Final Diff Cost: 9.930749269138062e-05\n",
      "Final Cost 1.3747066569916953\n",
      "Number of Iterations: 9\n",
      "Conf Matrix: Counter({'0,0': 34, '1,0': 27})\n",
      "Accuracy: 0.5573770491803278\n",
      "F1-Score: 0.7157894736842105\n",
      "-----Iteration 3  Net [4] Lambda 0.01 -----------------\n"
     ]
    },
    {
     "name": "stderr",
     "output_type": "stream",
     "text": [
      "C:\\Users\\Tanishk\\AppData\\Local\\Temp/ipykernel_18588/869318862.py:8: SettingWithCopyWarning: \n",
      "A value is trying to be set on a copy of a slice from a DataFrame.\n",
      "Try using .loc[row_indexer,col_indexer] = value instead\n",
      "\n",
      "See the caveats in the documentation: https://pandas.pydata.org/pandas-docs/stable/user_guide/indexing.html#returning-a-view-versus-a-copy\n",
      "  df[col] = df[col].apply(\n"
     ]
    },
    {
     "name": "stdout",
     "output_type": "stream",
     "text": [
      "Final Diff Cost: 9.965963385361043e-05\n",
      "Final Cost 1.367797617227685\n",
      "Number of Iterations: 65\n",
      "Conf Matrix: Counter({'0,0': 34, '1,0': 27})\n",
      "Accuracy: 0.5573770491803278\n",
      "F1-Score: 0.7157894736842105\n",
      "-----Iteration 4  Net [4] Lambda 0.01 -----------------\n"
     ]
    },
    {
     "name": "stderr",
     "output_type": "stream",
     "text": [
      "C:\\Users\\Tanishk\\AppData\\Local\\Temp/ipykernel_18588/869318862.py:8: SettingWithCopyWarning: \n",
      "A value is trying to be set on a copy of a slice from a DataFrame.\n",
      "Try using .loc[row_indexer,col_indexer] = value instead\n",
      "\n",
      "See the caveats in the documentation: https://pandas.pydata.org/pandas-docs/stable/user_guide/indexing.html#returning-a-view-versus-a-copy\n",
      "  df[col] = df[col].apply(\n"
     ]
    },
    {
     "name": "stdout",
     "output_type": "stream",
     "text": [
      "Final Diff Cost: 9.393770907561994e-05\n",
      "Final Cost 1.366909697902008\n",
      "Number of Iterations: 4\n",
      "Conf Matrix: Counter({'0,0': 34, '1,0': 27})\n",
      "Accuracy: 0.5573770491803278\n",
      "F1-Score: 0.7157894736842105\n",
      "-----Iteration 5  Net [4] Lambda 0.01 -----------------\n"
     ]
    },
    {
     "name": "stderr",
     "output_type": "stream",
     "text": [
      "C:\\Users\\Tanishk\\AppData\\Local\\Temp/ipykernel_18588/869318862.py:8: SettingWithCopyWarning: \n",
      "A value is trying to be set on a copy of a slice from a DataFrame.\n",
      "Try using .loc[row_indexer,col_indexer] = value instead\n",
      "\n",
      "See the caveats in the documentation: https://pandas.pydata.org/pandas-docs/stable/user_guide/indexing.html#returning-a-view-versus-a-copy\n",
      "  df[col] = df[col].apply(\n"
     ]
    },
    {
     "name": "stdout",
     "output_type": "stream",
     "text": [
      "Final Diff Cost: 9.509218842596034e-05\n",
      "Final Cost 1.3673312492652059\n",
      "Number of Iterations: 8\n",
      "Conf Matrix: Counter({'0,0': 32, '1,0': 26, '0,1': 2, '1,1': 1})\n",
      "Accuracy: 0.5409836065573771\n",
      "F1-Score: 0.6956521739130435\n",
      "-----Iteration 6  Net [4] Lambda 0.01 -----------------\n"
     ]
    },
    {
     "name": "stderr",
     "output_type": "stream",
     "text": [
      "C:\\Users\\Tanishk\\AppData\\Local\\Temp/ipykernel_18588/869318862.py:8: SettingWithCopyWarning: \n",
      "A value is trying to be set on a copy of a slice from a DataFrame.\n",
      "Try using .loc[row_indexer,col_indexer] = value instead\n",
      "\n",
      "See the caveats in the documentation: https://pandas.pydata.org/pandas-docs/stable/user_guide/indexing.html#returning-a-view-versus-a-copy\n",
      "  df[col] = df[col].apply(\n"
     ]
    },
    {
     "name": "stdout",
     "output_type": "stream",
     "text": [
      "Final Diff Cost: 8.778311531076888e-05\n",
      "Final Cost 1.3716902887856253\n",
      "Number of Iterations: 5\n",
      "Conf Matrix: Counter({'0,0': 33, '1,0': 25, '1,1': 2, '0,1': 1})\n",
      "Accuracy: 0.5737704918032787\n",
      "F1-Score: 0.717391304347826\n",
      "-----Iteration 7  Net [4] Lambda 0.01 -----------------\n"
     ]
    },
    {
     "name": "stderr",
     "output_type": "stream",
     "text": [
      "C:\\Users\\Tanishk\\AppData\\Local\\Temp/ipykernel_18588/869318862.py:8: SettingWithCopyWarning: \n",
      "A value is trying to be set on a copy of a slice from a DataFrame.\n",
      "Try using .loc[row_indexer,col_indexer] = value instead\n",
      "\n",
      "See the caveats in the documentation: https://pandas.pydata.org/pandas-docs/stable/user_guide/indexing.html#returning-a-view-versus-a-copy\n",
      "  df[col] = df[col].apply(\n"
     ]
    },
    {
     "name": "stdout",
     "output_type": "stream",
     "text": [
      "Final Diff Cost: 9.645104982736186e-05\n",
      "Final Cost 1.3783794406095726\n",
      "Number of Iterations: 21\n",
      "Conf Matrix: Counter({'0,0': 33, '1,0': 26, '0,1': 1, '1,1': 1})\n",
      "Accuracy: 0.5573770491803278\n",
      "F1-Score: 0.7096774193548386\n",
      "-----Iteration 8  Net [4] Lambda 0.01 -----------------\n"
     ]
    },
    {
     "name": "stderr",
     "output_type": "stream",
     "text": [
      "C:\\Users\\Tanishk\\AppData\\Local\\Temp/ipykernel_18588/869318862.py:8: SettingWithCopyWarning: \n",
      "A value is trying to be set on a copy of a slice from a DataFrame.\n",
      "Try using .loc[row_indexer,col_indexer] = value instead\n",
      "\n",
      "See the caveats in the documentation: https://pandas.pydata.org/pandas-docs/stable/user_guide/indexing.html#returning-a-view-versus-a-copy\n",
      "  df[col] = df[col].apply(\n"
     ]
    },
    {
     "name": "stdout",
     "output_type": "stream",
     "text": [
      "Final Diff Cost: 9.838603686063152e-05\n",
      "Final Cost 1.367794159419866\n",
      "Number of Iterations: 17\n",
      "Conf Matrix: Counter({'0,0': 32, '1,0': 27, '0,1': 1})\n",
      "Accuracy: 0.5333333333333333\n",
      "F1-Score: 0.6956521739130436\n",
      "-----Iteration 9  Net [4] Lambda 0.01 -----------------\n"
     ]
    },
    {
     "name": "stderr",
     "output_type": "stream",
     "text": [
      "C:\\Users\\Tanishk\\AppData\\Local\\Temp/ipykernel_18588/869318862.py:8: SettingWithCopyWarning: \n",
      "A value is trying to be set on a copy of a slice from a DataFrame.\n",
      "Try using .loc[row_indexer,col_indexer] = value instead\n",
      "\n",
      "See the caveats in the documentation: https://pandas.pydata.org/pandas-docs/stable/user_guide/indexing.html#returning-a-view-versus-a-copy\n",
      "  df[col] = df[col].apply(\n"
     ]
    },
    {
     "name": "stdout",
     "output_type": "stream",
     "text": [
      "Final Diff Cost: 8.886879858294172e-05\n",
      "Final Cost 1.3637287687727242\n",
      "Number of Iterations: 8\n",
      "Conf Matrix: Counter({'0,0': 33, '1,0': 27})\n",
      "Accuracy: 0.55\n",
      "F1-Score: 0.7096774193548387\n",
      "-----Iteration 10  Net [4] Lambda 0.01 -----------------\n"
     ]
    },
    {
     "name": "stderr",
     "output_type": "stream",
     "text": [
      "C:\\Users\\Tanishk\\AppData\\Local\\Temp/ipykernel_18588/869318862.py:8: SettingWithCopyWarning: \n",
      "A value is trying to be set on a copy of a slice from a DataFrame.\n",
      "Try using .loc[row_indexer,col_indexer] = value instead\n",
      "\n",
      "See the caveats in the documentation: https://pandas.pydata.org/pandas-docs/stable/user_guide/indexing.html#returning-a-view-versus-a-copy\n",
      "  df[col] = df[col].apply(\n"
     ]
    },
    {
     "name": "stdout",
     "output_type": "stream",
     "text": [
      "Final Diff Cost: 8.270464245963005e-05\n",
      "Final Cost 1.3642997617787416\n",
      "Number of Iterations: 1\n",
      "Conf Matrix: Counter({'0,0': 33, '1,0': 27})\n",
      "Accuracy: 0.55\n",
      "F1-Score: 0.7096774193548387\n",
      "Number of instances in test set: 61.0\n",
      "-----Iteration 1  Net [8] Lambda 0.01 -----------------\n"
     ]
    },
    {
     "name": "stderr",
     "output_type": "stream",
     "text": [
      "C:\\Users\\Tanishk\\AppData\\Local\\Temp/ipykernel_18588/869318862.py:8: SettingWithCopyWarning: \n",
      "A value is trying to be set on a copy of a slice from a DataFrame.\n",
      "Try using .loc[row_indexer,col_indexer] = value instead\n",
      "\n",
      "See the caveats in the documentation: https://pandas.pydata.org/pandas-docs/stable/user_guide/indexing.html#returning-a-view-versus-a-copy\n",
      "  df[col] = df[col].apply(\n"
     ]
    },
    {
     "name": "stdout",
     "output_type": "stream",
     "text": [
      "Final Diff Cost: 9.906413344507037e-05\n",
      "Final Cost 1.3718133056486819\n",
      "Number of Iterations: 33\n",
      "Conf Matrix: Counter({'0,0': 32, '1,0': 23, '1,1': 5, '0,1': 2})\n",
      "Accuracy: 0.5967741935483871\n",
      "F1-Score: 0.7191011235955057\n",
      "-----Iteration 2  Net [8] Lambda 0.01 -----------------\n"
     ]
    },
    {
     "name": "stderr",
     "output_type": "stream",
     "text": [
      "C:\\Users\\Tanishk\\AppData\\Local\\Temp/ipykernel_18588/869318862.py:8: SettingWithCopyWarning: \n",
      "A value is trying to be set on a copy of a slice from a DataFrame.\n",
      "Try using .loc[row_indexer,col_indexer] = value instead\n",
      "\n",
      "See the caveats in the documentation: https://pandas.pydata.org/pandas-docs/stable/user_guide/indexing.html#returning-a-view-versus-a-copy\n",
      "  df[col] = df[col].apply(\n"
     ]
    },
    {
     "name": "stdout",
     "output_type": "stream",
     "text": [
      "Final Diff Cost: 9.978860110804177e-05\n",
      "Final Cost 1.3632303699353059\n",
      "Number of Iterations: 63\n",
      "Conf Matrix: Counter({'0,0': 32, '1,0': 21, '1,1': 6, '0,1': 2})\n",
      "Accuracy: 0.6229508196721312\n",
      "F1-Score: 0.735632183908046\n",
      "-----Iteration 3  Net [8] Lambda 0.01 -----------------\n"
     ]
    },
    {
     "name": "stderr",
     "output_type": "stream",
     "text": [
      "C:\\Users\\Tanishk\\AppData\\Local\\Temp/ipykernel_18588/869318862.py:8: SettingWithCopyWarning: \n",
      "A value is trying to be set on a copy of a slice from a DataFrame.\n",
      "Try using .loc[row_indexer,col_indexer] = value instead\n",
      "\n",
      "See the caveats in the documentation: https://pandas.pydata.org/pandas-docs/stable/user_guide/indexing.html#returning-a-view-versus-a-copy\n",
      "  df[col] = df[col].apply(\n"
     ]
    },
    {
     "name": "stdout",
     "output_type": "stream",
     "text": [
      "Final Diff Cost: 9.658111818078297e-05\n",
      "Final Cost 1.363640607842334\n",
      "Number of Iterations: 11\n",
      "Conf Matrix: Counter({'0,0': 32, '1,0': 25, '0,1': 2, '1,1': 2})\n",
      "Accuracy: 0.5573770491803278\n",
      "F1-Score: 0.7032967032967032\n",
      "-----Iteration 4  Net [8] Lambda 0.01 -----------------\n"
     ]
    },
    {
     "name": "stderr",
     "output_type": "stream",
     "text": [
      "C:\\Users\\Tanishk\\AppData\\Local\\Temp/ipykernel_18588/869318862.py:8: SettingWithCopyWarning: \n",
      "A value is trying to be set on a copy of a slice from a DataFrame.\n",
      "Try using .loc[row_indexer,col_indexer] = value instead\n",
      "\n",
      "See the caveats in the documentation: https://pandas.pydata.org/pandas-docs/stable/user_guide/indexing.html#returning-a-view-versus-a-copy\n",
      "  df[col] = df[col].apply(\n"
     ]
    },
    {
     "name": "stdout",
     "output_type": "stream",
     "text": [
      "Final Diff Cost: 9.652538540594335e-05\n",
      "Final Cost 1.3581669310679858\n",
      "Number of Iterations: 7\n",
      "Conf Matrix: Counter({'0,0': 29, '1,0': 24, '0,1': 5, '1,1': 3})\n",
      "Accuracy: 0.5245901639344263\n",
      "F1-Score: 0.6666666666666666\n",
      "-----Iteration 5  Net [8] Lambda 0.01 -----------------\n"
     ]
    },
    {
     "name": "stderr",
     "output_type": "stream",
     "text": [
      "C:\\Users\\Tanishk\\AppData\\Local\\Temp/ipykernel_18588/869318862.py:8: SettingWithCopyWarning: \n",
      "A value is trying to be set on a copy of a slice from a DataFrame.\n",
      "Try using .loc[row_indexer,col_indexer] = value instead\n",
      "\n",
      "See the caveats in the documentation: https://pandas.pydata.org/pandas-docs/stable/user_guide/indexing.html#returning-a-view-versus-a-copy\n",
      "  df[col] = df[col].apply(\n"
     ]
    },
    {
     "name": "stdout",
     "output_type": "stream",
     "text": [
      "Final Diff Cost: -0.0009580441702384812\n",
      "Final Cost 0.8841769176128632\n",
      "Number of Iterations: 902\n",
      "Conf Matrix: Counter({'0,0': 31, '1,1': 17, '1,0': 10, '0,1': 3})\n",
      "Accuracy: 0.7868852459016393\n",
      "F1-Score: 0.8266666666666665\n",
      "-----Iteration 6  Net [8] Lambda 0.01 -----------------\n"
     ]
    },
    {
     "name": "stderr",
     "output_type": "stream",
     "text": [
      "C:\\Users\\Tanishk\\AppData\\Local\\Temp/ipykernel_18588/869318862.py:8: SettingWithCopyWarning: \n",
      "A value is trying to be set on a copy of a slice from a DataFrame.\n",
      "Try using .loc[row_indexer,col_indexer] = value instead\n",
      "\n",
      "See the caveats in the documentation: https://pandas.pydata.org/pandas-docs/stable/user_guide/indexing.html#returning-a-view-versus-a-copy\n",
      "  df[col] = df[col].apply(\n"
     ]
    },
    {
     "name": "stdout",
     "output_type": "stream",
     "text": [
      "Final Diff Cost: -7.924296934413988e-06\n",
      "Final Cost 1.1868285932979465\n",
      "Number of Iterations: 16\n",
      "Conf Matrix: Counter({'0,0': 29, '1,1': 15, '1,0': 12, '0,1': 5})\n",
      "Accuracy: 0.7213114754098361\n",
      "F1-Score: 0.7733333333333334\n",
      "-----Iteration 7  Net [8] Lambda 0.01 -----------------\n"
     ]
    },
    {
     "name": "stderr",
     "output_type": "stream",
     "text": [
      "C:\\Users\\Tanishk\\AppData\\Local\\Temp/ipykernel_18588/869318862.py:8: SettingWithCopyWarning: \n",
      "A value is trying to be set on a copy of a slice from a DataFrame.\n",
      "Try using .loc[row_indexer,col_indexer] = value instead\n",
      "\n",
      "See the caveats in the documentation: https://pandas.pydata.org/pandas-docs/stable/user_guide/indexing.html#returning-a-view-versus-a-copy\n",
      "  df[col] = df[col].apply(\n"
     ]
    },
    {
     "name": "stdout",
     "output_type": "stream",
     "text": [
      "Final Diff Cost: -0.0004331817478289146\n",
      "Final Cost 1.1879404231090045\n",
      "Number of Iterations: 1\n",
      "Conf Matrix: Counter({'0,0': 26, '1,1': 15, '1,0': 12, '0,1': 8})\n",
      "Accuracy: 0.6721311475409836\n",
      "F1-Score: 0.7222222222222222\n",
      "-----Iteration 8  Net [8] Lambda 0.01 -----------------\n"
     ]
    },
    {
     "name": "stderr",
     "output_type": "stream",
     "text": [
      "C:\\Users\\Tanishk\\AppData\\Local\\Temp/ipykernel_18588/869318862.py:8: SettingWithCopyWarning: \n",
      "A value is trying to be set on a copy of a slice from a DataFrame.\n",
      "Try using .loc[row_indexer,col_indexer] = value instead\n",
      "\n",
      "See the caveats in the documentation: https://pandas.pydata.org/pandas-docs/stable/user_guide/indexing.html#returning-a-view-versus-a-copy\n",
      "  df[col] = df[col].apply(\n"
     ]
    },
    {
     "name": "stdout",
     "output_type": "stream",
     "text": [
      "Final Diff Cost: -0.0016715067018535645\n",
      "Final Cost 1.195139282737887\n",
      "Number of Iterations: 1\n",
      "Conf Matrix: Counter({'0,0': 28, '1,1': 15, '1,0': 12, '0,1': 5})\n",
      "Accuracy: 0.7166666666666667\n",
      "F1-Score: 0.7671232876712328\n",
      "-----Iteration 9  Net [8] Lambda 0.01 -----------------\n"
     ]
    },
    {
     "name": "stderr",
     "output_type": "stream",
     "text": [
      "C:\\Users\\Tanishk\\AppData\\Local\\Temp/ipykernel_18588/869318862.py:8: SettingWithCopyWarning: \n",
      "A value is trying to be set on a copy of a slice from a DataFrame.\n",
      "Try using .loc[row_indexer,col_indexer] = value instead\n",
      "\n",
      "See the caveats in the documentation: https://pandas.pydata.org/pandas-docs/stable/user_guide/indexing.html#returning-a-view-versus-a-copy\n",
      "  df[col] = df[col].apply(\n"
     ]
    },
    {
     "name": "stdout",
     "output_type": "stream",
     "text": [
      "Final Diff Cost: -0.09086325688250763\n",
      "Final Cost 1.321482131599058\n",
      "Number of Iterations: 1\n",
      "Conf Matrix: Counter({'0,0': 32, '1,0': 24, '1,1': 3, '0,1': 1})\n",
      "Accuracy: 0.5833333333333334\n",
      "F1-Score: 0.7191011235955056\n",
      "-----Iteration 10  Net [8] Lambda 0.01 -----------------\n"
     ]
    },
    {
     "name": "stderr",
     "output_type": "stream",
     "text": [
      "C:\\Users\\Tanishk\\AppData\\Local\\Temp/ipykernel_18588/869318862.py:8: SettingWithCopyWarning: \n",
      "A value is trying to be set on a copy of a slice from a DataFrame.\n",
      "Try using .loc[row_indexer,col_indexer] = value instead\n",
      "\n",
      "See the caveats in the documentation: https://pandas.pydata.org/pandas-docs/stable/user_guide/indexing.html#returning-a-view-versus-a-copy\n",
      "  df[col] = df[col].apply(\n"
     ]
    },
    {
     "name": "stdout",
     "output_type": "stream",
     "text": [
      "Final Diff Cost: -0.1443963613533592\n",
      "Final Cost 1.579898848746843\n",
      "Number of Iterations: 1\n",
      "Conf Matrix: Counter({'0,1': 29, '1,1': 27, '0,0': 4})\n",
      "Accuracy: 0.5166666666666667\n",
      "F1-Score: 0.21621621621621626\n",
      "Number of instances in test set: 61.0\n",
      "-----Iteration 1  Net [16] Lambda 0.01 -----------------\n"
     ]
    },
    {
     "name": "stderr",
     "output_type": "stream",
     "text": [
      "C:\\Users\\Tanishk\\AppData\\Local\\Temp/ipykernel_18588/869318862.py:8: SettingWithCopyWarning: \n",
      "A value is trying to be set on a copy of a slice from a DataFrame.\n",
      "Try using .loc[row_indexer,col_indexer] = value instead\n",
      "\n",
      "See the caveats in the documentation: https://pandas.pydata.org/pandas-docs/stable/user_guide/indexing.html#returning-a-view-versus-a-copy\n",
      "  df[col] = df[col].apply(\n"
     ]
    },
    {
     "name": "stdout",
     "output_type": "stream",
     "text": [
      "Final Diff Cost: 9.978677013666726e-05\n",
      "Final Cost 1.353915887813844\n",
      "Number of Iterations: 210\n",
      "Conf Matrix: Counter({'0,0': 31, '1,0': 17, '1,1': 11, '0,1': 3})\n",
      "Accuracy: 0.6774193548387096\n",
      "F1-Score: 0.7560975609756098\n",
      "-----Iteration 2  Net [16] Lambda 0.01 -----------------\n"
     ]
    },
    {
     "name": "stderr",
     "output_type": "stream",
     "text": [
      "C:\\Users\\Tanishk\\AppData\\Local\\Temp/ipykernel_18588/869318862.py:8: SettingWithCopyWarning: \n",
      "A value is trying to be set on a copy of a slice from a DataFrame.\n",
      "Try using .loc[row_indexer,col_indexer] = value instead\n",
      "\n",
      "See the caveats in the documentation: https://pandas.pydata.org/pandas-docs/stable/user_guide/indexing.html#returning-a-view-versus-a-copy\n",
      "  df[col] = df[col].apply(\n"
     ]
    },
    {
     "name": "stdout",
     "output_type": "stream",
     "text": [
      "Final Diff Cost: 9.994530257828593e-05\n",
      "Final Cost 1.3154837414199865\n",
      "Number of Iterations: 279\n",
      "Conf Matrix: Counter({'0,0': 24, '1,0': 15, '1,1': 12, '0,1': 10})\n",
      "Accuracy: 0.5901639344262295\n",
      "F1-Score: 0.6575342465753424\n",
      "-----Iteration 3  Net [16] Lambda 0.01 -----------------\n"
     ]
    },
    {
     "name": "stderr",
     "output_type": "stream",
     "text": [
      "C:\\Users\\Tanishk\\AppData\\Local\\Temp/ipykernel_18588/869318862.py:8: SettingWithCopyWarning: \n",
      "A value is trying to be set on a copy of a slice from a DataFrame.\n",
      "Try using .loc[row_indexer,col_indexer] = value instead\n",
      "\n",
      "See the caveats in the documentation: https://pandas.pydata.org/pandas-docs/stable/user_guide/indexing.html#returning-a-view-versus-a-copy\n",
      "  df[col] = df[col].apply(\n"
     ]
    },
    {
     "name": "stdout",
     "output_type": "stream",
     "text": [
      "Final Diff Cost: 9.998789546705744e-05\n",
      "Final Cost 1.2619924236372022\n",
      "Number of Iterations: 444\n",
      "Conf Matrix: Counter({'0,0': 29, '1,0': 22, '0,1': 5, '1,1': 5})\n",
      "Accuracy: 0.5573770491803278\n",
      "F1-Score: 0.6823529411764706\n",
      "-----Iteration 4  Net [16] Lambda 0.01 -----------------\n"
     ]
    },
    {
     "name": "stderr",
     "output_type": "stream",
     "text": [
      "C:\\Users\\Tanishk\\AppData\\Local\\Temp/ipykernel_18588/869318862.py:8: SettingWithCopyWarning: \n",
      "A value is trying to be set on a copy of a slice from a DataFrame.\n",
      "Try using .loc[row_indexer,col_indexer] = value instead\n",
      "\n",
      "See the caveats in the documentation: https://pandas.pydata.org/pandas-docs/stable/user_guide/indexing.html#returning-a-view-versus-a-copy\n",
      "  df[col] = df[col].apply(\n"
     ]
    },
    {
     "name": "stdout",
     "output_type": "stream",
     "text": [
      "Final Diff Cost: 8.19466629753407e-05\n",
      "Final Cost 1.1000870525908282\n",
      "Number of Iterations: 1324\n",
      "Conf Matrix: Counter({'0,0': 23, '1,1': 16, '0,1': 11, '1,0': 11})\n",
      "Accuracy: 0.639344262295082\n",
      "F1-Score: 0.6764705882352942\n",
      "-----Iteration 5  Net [16] Lambda 0.01 -----------------\n"
     ]
    },
    {
     "name": "stderr",
     "output_type": "stream",
     "text": [
      "C:\\Users\\Tanishk\\AppData\\Local\\Temp/ipykernel_18588/869318862.py:8: SettingWithCopyWarning: \n",
      "A value is trying to be set on a copy of a slice from a DataFrame.\n",
      "Try using .loc[row_indexer,col_indexer] = value instead\n",
      "\n",
      "See the caveats in the documentation: https://pandas.pydata.org/pandas-docs/stable/user_guide/indexing.html#returning-a-view-versus-a-copy\n",
      "  df[col] = df[col].apply(\n"
     ]
    },
    {
     "name": "stdout",
     "output_type": "stream",
     "text": [
      "Final Diff Cost: -0.0008182294820211489\n",
      "Final Cost 0.9841159455989573\n",
      "Number of Iterations: 8\n",
      "Conf Matrix: Counter({'0,0': 26, '1,1': 20, '0,1': 8, '1,0': 7})\n",
      "Accuracy: 0.7540983606557377\n",
      "F1-Score: 0.7761194029850745\n",
      "-----Iteration 6  Net [16] Lambda 0.01 -----------------\n"
     ]
    },
    {
     "name": "stderr",
     "output_type": "stream",
     "text": [
      "C:\\Users\\Tanishk\\AppData\\Local\\Temp/ipykernel_18588/869318862.py:8: SettingWithCopyWarning: \n",
      "A value is trying to be set on a copy of a slice from a DataFrame.\n",
      "Try using .loc[row_indexer,col_indexer] = value instead\n",
      "\n",
      "See the caveats in the documentation: https://pandas.pydata.org/pandas-docs/stable/user_guide/indexing.html#returning-a-view-versus-a-copy\n",
      "  df[col] = df[col].apply(\n"
     ]
    },
    {
     "name": "stdout",
     "output_type": "stream",
     "text": [
      "Final Diff Cost: 5.61314216982467e-05\n",
      "Final Cost 1.1484202953190732\n",
      "Number of Iterations: 17\n",
      "Conf Matrix: Counter({'0,0': 26, '1,1': 19, '0,1': 8, '1,0': 8})\n",
      "Accuracy: 0.7377049180327869\n",
      "F1-Score: 0.7647058823529412\n",
      "-----Iteration 7  Net [16] Lambda 0.01 -----------------\n"
     ]
    },
    {
     "name": "stderr",
     "output_type": "stream",
     "text": [
      "C:\\Users\\Tanishk\\AppData\\Local\\Temp/ipykernel_18588/869318862.py:8: SettingWithCopyWarning: \n",
      "A value is trying to be set on a copy of a slice from a DataFrame.\n",
      "Try using .loc[row_indexer,col_indexer] = value instead\n",
      "\n",
      "See the caveats in the documentation: https://pandas.pydata.org/pandas-docs/stable/user_guide/indexing.html#returning-a-view-versus-a-copy\n",
      "  df[col] = df[col].apply(\n"
     ]
    },
    {
     "name": "stdout",
     "output_type": "stream",
     "text": [
      "Final Diff Cost: -0.0014241885647998664\n",
      "Final Cost 1.14226201445257\n",
      "Number of Iterations: 3\n",
      "Conf Matrix: Counter({'0,0': 24, '1,1': 17, '0,1': 10, '1,0': 10})\n",
      "Accuracy: 0.6721311475409836\n",
      "F1-Score: 0.7058823529411765\n",
      "-----Iteration 8  Net [16] Lambda 0.01 -----------------\n"
     ]
    },
    {
     "name": "stderr",
     "output_type": "stream",
     "text": [
      "C:\\Users\\Tanishk\\AppData\\Local\\Temp/ipykernel_18588/869318862.py:8: SettingWithCopyWarning: \n",
      "A value is trying to be set on a copy of a slice from a DataFrame.\n",
      "Try using .loc[row_indexer,col_indexer] = value instead\n",
      "\n",
      "See the caveats in the documentation: https://pandas.pydata.org/pandas-docs/stable/user_guide/indexing.html#returning-a-view-versus-a-copy\n",
      "  df[col] = df[col].apply(\n"
     ]
    },
    {
     "name": "stdout",
     "output_type": "stream",
     "text": [
      "Final Diff Cost: -0.05733070975905141\n",
      "Final Cost 1.2562103052467481\n",
      "Number of Iterations: 1\n",
      "Conf Matrix: Counter({'0,0': 33, '1,0': 21, '1,1': 6})\n",
      "Accuracy: 0.65\n",
      "F1-Score: 0.7586206896551725\n",
      "-----Iteration 9  Net [16] Lambda 0.01 -----------------\n"
     ]
    },
    {
     "name": "stderr",
     "output_type": "stream",
     "text": [
      "C:\\Users\\Tanishk\\AppData\\Local\\Temp/ipykernel_18588/869318862.py:8: SettingWithCopyWarning: \n",
      "A value is trying to be set on a copy of a slice from a DataFrame.\n",
      "Try using .loc[row_indexer,col_indexer] = value instead\n",
      "\n",
      "See the caveats in the documentation: https://pandas.pydata.org/pandas-docs/stable/user_guide/indexing.html#returning-a-view-versus-a-copy\n",
      "  df[col] = df[col].apply(\n"
     ]
    },
    {
     "name": "stdout",
     "output_type": "stream",
     "text": [
      "Final Diff Cost: -0.012043159282501215\n",
      "Final Cost 1.304749951259083\n",
      "Number of Iterations: 1\n",
      "Conf Matrix: Counter({'1,1': 26, '0,1': 21, '0,0': 12, '1,0': 1})\n",
      "Accuracy: 0.6333333333333333\n",
      "F1-Score: 0.5217391304347827\n",
      "-----Iteration 10  Net [16] Lambda 0.01 -----------------\n"
     ]
    },
    {
     "name": "stderr",
     "output_type": "stream",
     "text": [
      "C:\\Users\\Tanishk\\AppData\\Local\\Temp/ipykernel_18588/869318862.py:8: SettingWithCopyWarning: \n",
      "A value is trying to be set on a copy of a slice from a DataFrame.\n",
      "Try using .loc[row_indexer,col_indexer] = value instead\n",
      "\n",
      "See the caveats in the documentation: https://pandas.pydata.org/pandas-docs/stable/user_guide/indexing.html#returning-a-view-versus-a-copy\n",
      "  df[col] = df[col].apply(\n"
     ]
    },
    {
     "name": "stdout",
     "output_type": "stream",
     "text": [
      "Final Diff Cost: 1.8061883481301777e-05\n",
      "Final Cost 1.1398760178223106\n",
      "Number of Iterations: 13\n",
      "Conf Matrix: Counter({'0,0': 28, '1,0': 15, '1,1': 12, '0,1': 5})\n",
      "Accuracy: 0.6666666666666666\n",
      "F1-Score: 0.736842105263158\n",
      "Number of instances in test set: 61.0\n",
      "-----Iteration 1  Net [25] Lambda 0.01 -----------------\n"
     ]
    },
    {
     "name": "stderr",
     "output_type": "stream",
     "text": [
      "C:\\Users\\Tanishk\\AppData\\Local\\Temp/ipykernel_18588/869318862.py:8: SettingWithCopyWarning: \n",
      "A value is trying to be set on a copy of a slice from a DataFrame.\n",
      "Try using .loc[row_indexer,col_indexer] = value instead\n",
      "\n",
      "See the caveats in the documentation: https://pandas.pydata.org/pandas-docs/stable/user_guide/indexing.html#returning-a-view-versus-a-copy\n",
      "  df[col] = df[col].apply(\n"
     ]
    },
    {
     "name": "stdout",
     "output_type": "stream",
     "text": [
      "Final Diff Cost: 7.07863636815187e-05\n",
      "Final Cost 1.1454128555692502\n",
      "Number of Iterations: 1360\n",
      "Conf Matrix: Counter({'0,0': 29, '1,0': 16, '1,1': 12, '0,1': 5})\n",
      "Accuracy: 0.6612903225806451\n",
      "F1-Score: 0.7341772151898734\n",
      "-----Iteration 2  Net [25] Lambda 0.01 -----------------\n"
     ]
    },
    {
     "name": "stderr",
     "output_type": "stream",
     "text": [
      "C:\\Users\\Tanishk\\AppData\\Local\\Temp/ipykernel_18588/869318862.py:8: SettingWithCopyWarning: \n",
      "A value is trying to be set on a copy of a slice from a DataFrame.\n",
      "Try using .loc[row_indexer,col_indexer] = value instead\n",
      "\n",
      "See the caveats in the documentation: https://pandas.pydata.org/pandas-docs/stable/user_guide/indexing.html#returning-a-view-versus-a-copy\n",
      "  df[col] = df[col].apply(\n"
     ]
    },
    {
     "name": "stdout",
     "output_type": "stream",
     "text": [
      "Final Diff Cost: -0.04793912886325402\n",
      "Final Cost 1.299641065911698\n",
      "Number of Iterations: 1\n",
      "Conf Matrix: Counter({'1,1': 24, '0,0': 18, '0,1': 16, '1,0': 3})\n",
      "Accuracy: 0.6885245901639344\n",
      "F1-Score: 0.6545454545454545\n",
      "-----Iteration 3  Net [25] Lambda 0.01 -----------------\n"
     ]
    },
    {
     "name": "stderr",
     "output_type": "stream",
     "text": [
      "C:\\Users\\Tanishk\\AppData\\Local\\Temp/ipykernel_18588/869318862.py:8: SettingWithCopyWarning: \n",
      "A value is trying to be set on a copy of a slice from a DataFrame.\n",
      "Try using .loc[row_indexer,col_indexer] = value instead\n",
      "\n",
      "See the caveats in the documentation: https://pandas.pydata.org/pandas-docs/stable/user_guide/indexing.html#returning-a-view-versus-a-copy\n",
      "  df[col] = df[col].apply(\n"
     ]
    },
    {
     "name": "stdout",
     "output_type": "stream",
     "text": [
      "Final Diff Cost: -8.70155184005128e-05\n",
      "Final Cost 1.1697784919342373\n",
      "Number of Iterations: 11\n",
      "Conf Matrix: Counter({'0,0': 31, '1,1': 15, '1,0': 12, '0,1': 3})\n",
      "Accuracy: 0.7540983606557377\n",
      "F1-Score: 0.8051948051948051\n",
      "-----Iteration 4  Net [25] Lambda 0.01 -----------------\n"
     ]
    },
    {
     "name": "stderr",
     "output_type": "stream",
     "text": [
      "C:\\Users\\Tanishk\\AppData\\Local\\Temp/ipykernel_18588/869318862.py:8: SettingWithCopyWarning: \n",
      "A value is trying to be set on a copy of a slice from a DataFrame.\n",
      "Try using .loc[row_indexer,col_indexer] = value instead\n",
      "\n",
      "See the caveats in the documentation: https://pandas.pydata.org/pandas-docs/stable/user_guide/indexing.html#returning-a-view-versus-a-copy\n",
      "  df[col] = df[col].apply(\n"
     ]
    },
    {
     "name": "stdout",
     "output_type": "stream",
     "text": [
      "Final Diff Cost: -0.012011354783073136\n",
      "Final Cost 1.206396714556072\n",
      "Number of Iterations: 1\n",
      "Conf Matrix: Counter({'0,0': 31, '1,0': 15, '1,1': 12, '0,1': 3})\n",
      "Accuracy: 0.7049180327868853\n",
      "F1-Score: 0.775\n",
      "-----Iteration 5  Net [25] Lambda 0.01 -----------------\n"
     ]
    },
    {
     "name": "stderr",
     "output_type": "stream",
     "text": [
      "C:\\Users\\Tanishk\\AppData\\Local\\Temp/ipykernel_18588/869318862.py:8: SettingWithCopyWarning: \n",
      "A value is trying to be set on a copy of a slice from a DataFrame.\n",
      "Try using .loc[row_indexer,col_indexer] = value instead\n",
      "\n",
      "See the caveats in the documentation: https://pandas.pydata.org/pandas-docs/stable/user_guide/indexing.html#returning-a-view-versus-a-copy\n",
      "  df[col] = df[col].apply(\n"
     ]
    },
    {
     "name": "stdout",
     "output_type": "stream",
     "text": [
      "Final Diff Cost: -0.0003622418986914955\n",
      "Final Cost 1.1695739768142606\n",
      "Number of Iterations: 10\n",
      "Conf Matrix: Counter({'0,0': 32, '1,1': 14, '1,0': 13, '0,1': 2})\n",
      "Accuracy: 0.7540983606557377\n",
      "F1-Score: 0.8101265822784811\n",
      "-----Iteration 6  Net [25] Lambda 0.01 -----------------\n"
     ]
    },
    {
     "name": "stderr",
     "output_type": "stream",
     "text": [
      "C:\\Users\\Tanishk\\AppData\\Local\\Temp/ipykernel_18588/869318862.py:8: SettingWithCopyWarning: \n",
      "A value is trying to be set on a copy of a slice from a DataFrame.\n",
      "Try using .loc[row_indexer,col_indexer] = value instead\n",
      "\n",
      "See the caveats in the documentation: https://pandas.pydata.org/pandas-docs/stable/user_guide/indexing.html#returning-a-view-versus-a-copy\n",
      "  df[col] = df[col].apply(\n"
     ]
    },
    {
     "name": "stdout",
     "output_type": "stream",
     "text": [
      "Final Diff Cost: -0.0003549599503847034\n",
      "Final Cost 1.0534857000129298\n",
      "Number of Iterations: 1\n",
      "Conf Matrix: Counter({'0,0': 29, '1,0': 14, '1,1': 13, '0,1': 5})\n",
      "Accuracy: 0.6885245901639344\n",
      "F1-Score: 0.7532467532467532\n",
      "-----Iteration 7  Net [25] Lambda 0.01 -----------------\n"
     ]
    },
    {
     "name": "stderr",
     "output_type": "stream",
     "text": [
      "C:\\Users\\Tanishk\\AppData\\Local\\Temp/ipykernel_18588/869318862.py:8: SettingWithCopyWarning: \n",
      "A value is trying to be set on a copy of a slice from a DataFrame.\n",
      "Try using .loc[row_indexer,col_indexer] = value instead\n",
      "\n",
      "See the caveats in the documentation: https://pandas.pydata.org/pandas-docs/stable/user_guide/indexing.html#returning-a-view-versus-a-copy\n",
      "  df[col] = df[col].apply(\n"
     ]
    },
    {
     "name": "stdout",
     "output_type": "stream",
     "text": [
      "Final Diff Cost: 9.531126036277371e-05\n",
      "Final Cost 1.1530458038109201\n",
      "Number of Iterations: 33\n",
      "Conf Matrix: Counter({'0,0': 24, '1,1': 16, '1,0': 11, '0,1': 10})\n",
      "Accuracy: 0.6557377049180327\n",
      "F1-Score: 0.6956521739130436\n",
      "-----Iteration 8  Net [25] Lambda 0.01 -----------------\n"
     ]
    },
    {
     "name": "stderr",
     "output_type": "stream",
     "text": [
      "C:\\Users\\Tanishk\\AppData\\Local\\Temp/ipykernel_18588/869318862.py:8: SettingWithCopyWarning: \n",
      "A value is trying to be set on a copy of a slice from a DataFrame.\n",
      "Try using .loc[row_indexer,col_indexer] = value instead\n",
      "\n",
      "See the caveats in the documentation: https://pandas.pydata.org/pandas-docs/stable/user_guide/indexing.html#returning-a-view-versus-a-copy\n",
      "  df[col] = df[col].apply(\n"
     ]
    },
    {
     "name": "stdout",
     "output_type": "stream",
     "text": [
      "Final Diff Cost: -0.0025895738605172802\n",
      "Final Cost 1.176778119476654\n",
      "Number of Iterations: 1\n",
      "Conf Matrix: Counter({'0,0': 28, '1,1': 14, '1,0': 13, '0,1': 5})\n",
      "Accuracy: 0.7\n",
      "F1-Score: 0.7567567567567567\n",
      "-----Iteration 9  Net [25] Lambda 0.01 -----------------\n"
     ]
    },
    {
     "name": "stderr",
     "output_type": "stream",
     "text": [
      "C:\\Users\\Tanishk\\AppData\\Local\\Temp/ipykernel_18588/869318862.py:8: SettingWithCopyWarning: \n",
      "A value is trying to be set on a copy of a slice from a DataFrame.\n",
      "Try using .loc[row_indexer,col_indexer] = value instead\n",
      "\n",
      "See the caveats in the documentation: https://pandas.pydata.org/pandas-docs/stable/user_guide/indexing.html#returning-a-view-versus-a-copy\n",
      "  df[col] = df[col].apply(\n"
     ]
    },
    {
     "name": "stdout",
     "output_type": "stream",
     "text": [
      "Final Diff Cost: -0.010157578085036034\n",
      "Final Cost 1.2027852167701218\n",
      "Number of Iterations: 1\n",
      "Conf Matrix: Counter({'1,1': 23, '0,0': 21, '0,1': 12, '1,0': 4})\n",
      "Accuracy: 0.7333333333333333\n",
      "F1-Score: 0.7241379310344828\n",
      "-----Iteration 10  Net [25] Lambda 0.01 -----------------\n"
     ]
    },
    {
     "name": "stderr",
     "output_type": "stream",
     "text": [
      "C:\\Users\\Tanishk\\AppData\\Local\\Temp/ipykernel_18588/869318862.py:8: SettingWithCopyWarning: \n",
      "A value is trying to be set on a copy of a slice from a DataFrame.\n",
      "Try using .loc[row_indexer,col_indexer] = value instead\n",
      "\n",
      "See the caveats in the documentation: https://pandas.pydata.org/pandas-docs/stable/user_guide/indexing.html#returning-a-view-versus-a-copy\n",
      "  df[col] = df[col].apply(\n"
     ]
    },
    {
     "name": "stdout",
     "output_type": "stream",
     "text": [
      "Final Diff Cost: -0.0010408095280667329\n",
      "Final Cost 1.269405308816351\n",
      "Number of Iterations: 2\n",
      "Conf Matrix: Counter({'1,1': 24, '0,1': 22, '0,0': 11, '1,0': 3})\n",
      "Accuracy: 0.5833333333333334\n",
      "F1-Score: 0.4680851063829786\n",
      "Number of instances in test set: 61.0\n",
      "-----Iteration 1  Net [32] Lambda 0.01 -----------------\n"
     ]
    },
    {
     "name": "stderr",
     "output_type": "stream",
     "text": [
      "C:\\Users\\Tanishk\\AppData\\Local\\Temp/ipykernel_18588/869318862.py:8: SettingWithCopyWarning: \n",
      "A value is trying to be set on a copy of a slice from a DataFrame.\n",
      "Try using .loc[row_indexer,col_indexer] = value instead\n",
      "\n",
      "See the caveats in the documentation: https://pandas.pydata.org/pandas-docs/stable/user_guide/indexing.html#returning-a-view-versus-a-copy\n",
      "  df[col] = df[col].apply(\n"
     ]
    },
    {
     "name": "stdout",
     "output_type": "stream",
     "text": [
      "Final Diff Cost: 9.368083827698825e-05\n",
      "Final Cost 1.1469070260775838\n",
      "Number of Iterations: 1063\n",
      "Conf Matrix: Counter({'0,0': 25, '1,0': 15, '1,1': 13, '0,1': 9})\n",
      "Accuracy: 0.6129032258064516\n",
      "F1-Score: 0.6756756756756757\n",
      "-----Iteration 2  Net [32] Lambda 0.01 -----------------\n"
     ]
    },
    {
     "name": "stderr",
     "output_type": "stream",
     "text": [
      "C:\\Users\\Tanishk\\AppData\\Local\\Temp/ipykernel_18588/869318862.py:8: SettingWithCopyWarning: \n",
      "A value is trying to be set on a copy of a slice from a DataFrame.\n",
      "Try using .loc[row_indexer,col_indexer] = value instead\n",
      "\n",
      "See the caveats in the documentation: https://pandas.pydata.org/pandas-docs/stable/user_guide/indexing.html#returning-a-view-versus-a-copy\n",
      "  df[col] = df[col].apply(\n"
     ]
    },
    {
     "name": "stdout",
     "output_type": "stream",
     "text": [
      "Final Diff Cost: -0.01884259788864795\n",
      "Final Cost 1.1248875406141239\n",
      "Number of Iterations: 1\n",
      "Conf Matrix: Counter({'0,0': 32, '1,0': 14, '1,1': 13, '0,1': 2})\n",
      "Accuracy: 0.7377049180327869\n",
      "F1-Score: 0.7999999999999999\n",
      "-----Iteration 3  Net [32] Lambda 0.01 -----------------\n"
     ]
    },
    {
     "name": "stderr",
     "output_type": "stream",
     "text": [
      "C:\\Users\\Tanishk\\AppData\\Local\\Temp/ipykernel_18588/869318862.py:8: SettingWithCopyWarning: \n",
      "A value is trying to be set on a copy of a slice from a DataFrame.\n",
      "Try using .loc[row_indexer,col_indexer] = value instead\n",
      "\n",
      "See the caveats in the documentation: https://pandas.pydata.org/pandas-docs/stable/user_guide/indexing.html#returning-a-view-versus-a-copy\n",
      "  df[col] = df[col].apply(\n"
     ]
    },
    {
     "name": "stdout",
     "output_type": "stream",
     "text": [
      "Final Diff Cost: -0.0004323287140572951\n",
      "Final Cost 1.1811620281701325\n",
      "Number of Iterations: 15\n",
      "Conf Matrix: Counter({'0,0': 27, '1,1': 16, '1,0': 11, '0,1': 7})\n",
      "Accuracy: 0.7049180327868853\n",
      "F1-Score: 0.7499999999999999\n",
      "-----Iteration 4  Net [32] Lambda 0.01 -----------------\n"
     ]
    },
    {
     "name": "stderr",
     "output_type": "stream",
     "text": [
      "C:\\Users\\Tanishk\\AppData\\Local\\Temp/ipykernel_18588/869318862.py:8: SettingWithCopyWarning: \n",
      "A value is trying to be set on a copy of a slice from a DataFrame.\n",
      "Try using .loc[row_indexer,col_indexer] = value instead\n",
      "\n",
      "See the caveats in the documentation: https://pandas.pydata.org/pandas-docs/stable/user_guide/indexing.html#returning-a-view-versus-a-copy\n",
      "  df[col] = df[col].apply(\n"
     ]
    },
    {
     "name": "stdout",
     "output_type": "stream",
     "text": [
      "Final Diff Cost: -0.003379291472810797\n",
      "Final Cost 1.1933755761651643\n",
      "Number of Iterations: 1\n",
      "Conf Matrix: Counter({'0,0': 30, '1,0': 16, '1,1': 11, '0,1': 4})\n",
      "Accuracy: 0.6721311475409836\n",
      "F1-Score: 0.75\n",
      "-----Iteration 5  Net [32] Lambda 0.01 -----------------\n"
     ]
    },
    {
     "name": "stderr",
     "output_type": "stream",
     "text": [
      "C:\\Users\\Tanishk\\AppData\\Local\\Temp/ipykernel_18588/869318862.py:8: SettingWithCopyWarning: \n",
      "A value is trying to be set on a copy of a slice from a DataFrame.\n",
      "Try using .loc[row_indexer,col_indexer] = value instead\n",
      "\n",
      "See the caveats in the documentation: https://pandas.pydata.org/pandas-docs/stable/user_guide/indexing.html#returning-a-view-versus-a-copy\n",
      "  df[col] = df[col].apply(\n"
     ]
    },
    {
     "name": "stdout",
     "output_type": "stream",
     "text": [
      "Final Diff Cost: -0.003916205646795845\n",
      "Final Cost 1.1969362592569046\n",
      "Number of Iterations: 1\n",
      "Conf Matrix: Counter({'0,0': 25, '1,1': 20, '0,1': 9, '1,0': 7})\n",
      "Accuracy: 0.7377049180327869\n",
      "F1-Score: 0.7575757575757576\n",
      "-----Iteration 6  Net [32] Lambda 0.01 -----------------\n"
     ]
    },
    {
     "name": "stderr",
     "output_type": "stream",
     "text": [
      "C:\\Users\\Tanishk\\AppData\\Local\\Temp/ipykernel_18588/869318862.py:8: SettingWithCopyWarning: \n",
      "A value is trying to be set on a copy of a slice from a DataFrame.\n",
      "Try using .loc[row_indexer,col_indexer] = value instead\n",
      "\n",
      "See the caveats in the documentation: https://pandas.pydata.org/pandas-docs/stable/user_guide/indexing.html#returning-a-view-versus-a-copy\n",
      "  df[col] = df[col].apply(\n"
     ]
    },
    {
     "name": "stdout",
     "output_type": "stream",
     "text": [
      "Final Diff Cost: -0.0006957528706803551\n",
      "Final Cost 1.1968483369552525\n",
      "Number of Iterations: 16\n",
      "Conf Matrix: Counter({'0,0': 21, '1,1': 20, '0,1': 13, '1,0': 7})\n",
      "Accuracy: 0.6721311475409836\n",
      "F1-Score: 0.6774193548387097\n",
      "-----Iteration 7  Net [32] Lambda 0.01 -----------------\n"
     ]
    },
    {
     "name": "stderr",
     "output_type": "stream",
     "text": [
      "C:\\Users\\Tanishk\\AppData\\Local\\Temp/ipykernel_18588/869318862.py:8: SettingWithCopyWarning: \n",
      "A value is trying to be set on a copy of a slice from a DataFrame.\n",
      "Try using .loc[row_indexer,col_indexer] = value instead\n",
      "\n",
      "See the caveats in the documentation: https://pandas.pydata.org/pandas-docs/stable/user_guide/indexing.html#returning-a-view-versus-a-copy\n",
      "  df[col] = df[col].apply(\n"
     ]
    },
    {
     "name": "stdout",
     "output_type": "stream",
     "text": [
      "Final Diff Cost: -0.00012493333682184193\n",
      "Final Cost 1.1771985892026886\n",
      "Number of Iterations: 12\n",
      "Conf Matrix: Counter({'0,0': 24, '1,1': 15, '1,0': 12, '0,1': 10})\n",
      "Accuracy: 0.639344262295082\n",
      "F1-Score: 0.6857142857142857\n",
      "-----Iteration 8  Net [32] Lambda 0.01 -----------------\n"
     ]
    },
    {
     "name": "stderr",
     "output_type": "stream",
     "text": [
      "C:\\Users\\Tanishk\\AppData\\Local\\Temp/ipykernel_18588/869318862.py:8: SettingWithCopyWarning: \n",
      "A value is trying to be set on a copy of a slice from a DataFrame.\n",
      "Try using .loc[row_indexer,col_indexer] = value instead\n",
      "\n",
      "See the caveats in the documentation: https://pandas.pydata.org/pandas-docs/stable/user_guide/indexing.html#returning-a-view-versus-a-copy\n",
      "  df[col] = df[col].apply(\n"
     ]
    },
    {
     "name": "stdout",
     "output_type": "stream",
     "text": [
      "Final Diff Cost: -0.00038476755637684157\n",
      "Final Cost 1.1819483693990485\n",
      "Number of Iterations: 7\n",
      "Conf Matrix: Counter({'0,0': 28, '1,1': 17, '1,0': 10, '0,1': 5})\n",
      "Accuracy: 0.75\n",
      "F1-Score: 0.7887323943661972\n",
      "-----Iteration 9  Net [32] Lambda 0.01 -----------------\n"
     ]
    },
    {
     "name": "stderr",
     "output_type": "stream",
     "text": [
      "C:\\Users\\Tanishk\\AppData\\Local\\Temp/ipykernel_18588/869318862.py:8: SettingWithCopyWarning: \n",
      "A value is trying to be set on a copy of a slice from a DataFrame.\n",
      "Try using .loc[row_indexer,col_indexer] = value instead\n",
      "\n",
      "See the caveats in the documentation: https://pandas.pydata.org/pandas-docs/stable/user_guide/indexing.html#returning-a-view-versus-a-copy\n",
      "  df[col] = df[col].apply(\n"
     ]
    },
    {
     "name": "stdout",
     "output_type": "stream",
     "text": [
      "Final Diff Cost: -0.03737489700855967\n",
      "Final Cost 1.347928532855165\n",
      "Number of Iterations: 1\n",
      "Conf Matrix: Counter({'1,1': 24, '0,1': 19, '0,0': 14, '1,0': 3})\n",
      "Accuracy: 0.6333333333333333\n",
      "F1-Score: 0.5599999999999999\n",
      "-----Iteration 10  Net [32] Lambda 0.01 -----------------\n"
     ]
    },
    {
     "name": "stderr",
     "output_type": "stream",
     "text": [
      "C:\\Users\\Tanishk\\AppData\\Local\\Temp/ipykernel_18588/869318862.py:8: SettingWithCopyWarning: \n",
      "A value is trying to be set on a copy of a slice from a DataFrame.\n",
      "Try using .loc[row_indexer,col_indexer] = value instead\n",
      "\n",
      "See the caveats in the documentation: https://pandas.pydata.org/pandas-docs/stable/user_guide/indexing.html#returning-a-view-versus-a-copy\n",
      "  df[col] = df[col].apply(\n"
     ]
    },
    {
     "name": "stdout",
     "output_type": "stream",
     "text": [
      "Final Diff Cost: -1.2405450842134513e-05\n",
      "Final Cost 1.1651968675792883\n",
      "Number of Iterations: 12\n",
      "Conf Matrix: Counter({'0,0': 27, '1,1': 17, '1,0': 10, '0,1': 6})\n",
      "Accuracy: 0.7333333333333333\n",
      "F1-Score: 0.7714285714285715\n",
      "Number of instances in test set: 61.0\n",
      "-----Iteration 1  Net [64] Lambda 0.01 -----------------\n"
     ]
    },
    {
     "name": "stderr",
     "output_type": "stream",
     "text": [
      "C:\\Users\\Tanishk\\AppData\\Local\\Temp/ipykernel_18588/869318862.py:8: SettingWithCopyWarning: \n",
      "A value is trying to be set on a copy of a slice from a DataFrame.\n",
      "Try using .loc[row_indexer,col_indexer] = value instead\n",
      "\n",
      "See the caveats in the documentation: https://pandas.pydata.org/pandas-docs/stable/user_guide/indexing.html#returning-a-view-versus-a-copy\n",
      "  df[col] = df[col].apply(\n"
     ]
    },
    {
     "name": "stdout",
     "output_type": "stream",
     "text": [
      "Final Diff Cost: -0.001048224618624305\n",
      "Final Cost 1.0592428231831126\n",
      "Number of Iterations: 315\n",
      "Conf Matrix: Counter({'0,0': 30, '1,1': 20, '1,0': 8, '0,1': 4})\n",
      "Accuracy: 0.8064516129032258\n",
      "F1-Score: 0.8333333333333333\n",
      "-----Iteration 2  Net [64] Lambda 0.01 -----------------\n"
     ]
    },
    {
     "name": "stderr",
     "output_type": "stream",
     "text": [
      "C:\\Users\\Tanishk\\AppData\\Local\\Temp/ipykernel_18588/869318862.py:8: SettingWithCopyWarning: \n",
      "A value is trying to be set on a copy of a slice from a DataFrame.\n",
      "Try using .loc[row_indexer,col_indexer] = value instead\n",
      "\n",
      "See the caveats in the documentation: https://pandas.pydata.org/pandas-docs/stable/user_guide/indexing.html#returning-a-view-versus-a-copy\n",
      "  df[col] = df[col].apply(\n"
     ]
    },
    {
     "name": "stdout",
     "output_type": "stream",
     "text": [
      "Final Diff Cost: -0.04221898179121908\n",
      "Final Cost 1.4711428944364544\n",
      "Number of Iterations: 1\n",
      "Conf Matrix: Counter({'0,1': 26, '1,1': 25, '0,0': 8, '1,0': 2})\n",
      "Accuracy: 0.5409836065573771\n",
      "F1-Score: 0.3636363636363636\n",
      "-----Iteration 3  Net [64] Lambda 0.01 -----------------\n"
     ]
    },
    {
     "name": "stderr",
     "output_type": "stream",
     "text": [
      "C:\\Users\\Tanishk\\AppData\\Local\\Temp/ipykernel_18588/869318862.py:8: SettingWithCopyWarning: \n",
      "A value is trying to be set on a copy of a slice from a DataFrame.\n",
      "Try using .loc[row_indexer,col_indexer] = value instead\n",
      "\n",
      "See the caveats in the documentation: https://pandas.pydata.org/pandas-docs/stable/user_guide/indexing.html#returning-a-view-versus-a-copy\n",
      "  df[col] = df[col].apply(\n"
     ]
    },
    {
     "name": "stdout",
     "output_type": "stream",
     "text": [
      "Final Diff Cost: -0.006248288752058739\n",
      "Final Cost 1.3640375291772637\n",
      "Number of Iterations: 1\n",
      "Conf Matrix: Counter({'0,0': 33, '1,0': 25, '1,1': 2, '0,1': 1})\n",
      "Accuracy: 0.5737704918032787\n",
      "F1-Score: 0.717391304347826\n",
      "-----Iteration 4  Net [64] Lambda 0.01 -----------------\n"
     ]
    },
    {
     "name": "stderr",
     "output_type": "stream",
     "text": [
      "C:\\Users\\Tanishk\\AppData\\Local\\Temp/ipykernel_18588/869318862.py:8: SettingWithCopyWarning: \n",
      "A value is trying to be set on a copy of a slice from a DataFrame.\n",
      "Try using .loc[row_indexer,col_indexer] = value instead\n",
      "\n",
      "See the caveats in the documentation: https://pandas.pydata.org/pandas-docs/stable/user_guide/indexing.html#returning-a-view-versus-a-copy\n",
      "  df[col] = df[col].apply(\n"
     ]
    },
    {
     "name": "stdout",
     "output_type": "stream",
     "text": [
      "Final Diff Cost: -0.00445568857963452\n",
      "Final Cost 1.3417965397071694\n",
      "Number of Iterations: 1\n",
      "Conf Matrix: Counter({'0,1': 20, '1,1': 19, '0,0': 14, '1,0': 8})\n",
      "Accuracy: 0.5409836065573771\n",
      "F1-Score: 0.5\n",
      "-----Iteration 5  Net [64] Lambda 0.01 -----------------\n"
     ]
    },
    {
     "name": "stderr",
     "output_type": "stream",
     "text": [
      "C:\\Users\\Tanishk\\AppData\\Local\\Temp/ipykernel_18588/869318862.py:8: SettingWithCopyWarning: \n",
      "A value is trying to be set on a copy of a slice from a DataFrame.\n",
      "Try using .loc[row_indexer,col_indexer] = value instead\n",
      "\n",
      "See the caveats in the documentation: https://pandas.pydata.org/pandas-docs/stable/user_guide/indexing.html#returning-a-view-versus-a-copy\n",
      "  df[col] = df[col].apply(\n"
     ]
    },
    {
     "name": "stdout",
     "output_type": "stream",
     "text": [
      "Final Diff Cost: 1.2891248162283375e-05\n",
      "Final Cost 1.3130831123372482\n",
      "Number of Iterations: 1\n",
      "Conf Matrix: Counter({'0,0': 25, '1,1': 14, '1,0': 13, '0,1': 9})\n",
      "Accuracy: 0.639344262295082\n",
      "F1-Score: 0.6944444444444445\n",
      "-----Iteration 6  Net [64] Lambda 0.01 -----------------\n"
     ]
    },
    {
     "name": "stderr",
     "output_type": "stream",
     "text": [
      "C:\\Users\\Tanishk\\AppData\\Local\\Temp/ipykernel_18588/869318862.py:8: SettingWithCopyWarning: \n",
      "A value is trying to be set on a copy of a slice from a DataFrame.\n",
      "Try using .loc[row_indexer,col_indexer] = value instead\n",
      "\n",
      "See the caveats in the documentation: https://pandas.pydata.org/pandas-docs/stable/user_guide/indexing.html#returning-a-view-versus-a-copy\n",
      "  df[col] = df[col].apply(\n"
     ]
    },
    {
     "name": "stdout",
     "output_type": "stream",
     "text": [
      "Final Diff Cost: -0.0017930432819883713\n",
      "Final Cost 1.313810526662353\n",
      "Number of Iterations: 1\n",
      "Conf Matrix: Counter({'0,0': 29, '1,0': 21, '1,1': 6, '0,1': 5})\n",
      "Accuracy: 0.5737704918032787\n",
      "F1-Score: 0.6904761904761905\n",
      "-----Iteration 7  Net [64] Lambda 0.01 -----------------\n"
     ]
    },
    {
     "name": "stderr",
     "output_type": "stream",
     "text": [
      "C:\\Users\\Tanishk\\AppData\\Local\\Temp/ipykernel_18588/869318862.py:8: SettingWithCopyWarning: \n",
      "A value is trying to be set on a copy of a slice from a DataFrame.\n",
      "Try using .loc[row_indexer,col_indexer] = value instead\n",
      "\n",
      "See the caveats in the documentation: https://pandas.pydata.org/pandas-docs/stable/user_guide/indexing.html#returning-a-view-versus-a-copy\n",
      "  df[col] = df[col].apply(\n"
     ]
    },
    {
     "name": "stdout",
     "output_type": "stream",
     "text": [
      "Final Diff Cost: -0.006570836060242113\n",
      "Final Cost 1.302252416367192\n",
      "Number of Iterations: 2\n",
      "Conf Matrix: Counter({'0,0': 21, '1,1': 17, '0,1': 13, '1,0': 10})\n",
      "Accuracy: 0.6229508196721312\n",
      "F1-Score: 0.6461538461538462\n",
      "-----Iteration 8  Net [64] Lambda 0.01 -----------------\n"
     ]
    },
    {
     "name": "stderr",
     "output_type": "stream",
     "text": [
      "C:\\Users\\Tanishk\\AppData\\Local\\Temp/ipykernel_18588/869318862.py:8: SettingWithCopyWarning: \n",
      "A value is trying to be set on a copy of a slice from a DataFrame.\n",
      "Try using .loc[row_indexer,col_indexer] = value instead\n",
      "\n",
      "See the caveats in the documentation: https://pandas.pydata.org/pandas-docs/stable/user_guide/indexing.html#returning-a-view-versus-a-copy\n",
      "  df[col] = df[col].apply(\n"
     ]
    },
    {
     "name": "stdout",
     "output_type": "stream",
     "text": [
      "Final Diff Cost: -0.04177248216118512\n",
      "Final Cost 1.4009163045569186\n",
      "Number of Iterations: 1\n",
      "Conf Matrix: Counter({'0,0': 32, '1,0': 23, '1,1': 4, '0,1': 1})\n",
      "Accuracy: 0.6\n",
      "F1-Score: 0.7272727272727272\n",
      "-----Iteration 9  Net [64] Lambda 0.01 -----------------\n"
     ]
    },
    {
     "name": "stderr",
     "output_type": "stream",
     "text": [
      "C:\\Users\\Tanishk\\AppData\\Local\\Temp/ipykernel_18588/869318862.py:8: SettingWithCopyWarning: \n",
      "A value is trying to be set on a copy of a slice from a DataFrame.\n",
      "Try using .loc[row_indexer,col_indexer] = value instead\n",
      "\n",
      "See the caveats in the documentation: https://pandas.pydata.org/pandas-docs/stable/user_guide/indexing.html#returning-a-view-versus-a-copy\n",
      "  df[col] = df[col].apply(\n"
     ]
    },
    {
     "name": "stdout",
     "output_type": "stream",
     "text": [
      "Final Diff Cost: -0.12191700287940987\n",
      "Final Cost 1.6015738465269218\n",
      "Number of Iterations: 1\n",
      "Conf Matrix: Counter({'0,1': 30, '1,1': 27, '0,0': 3})\n",
      "Accuracy: 0.5\n",
      "F1-Score: 0.16666666666666669\n",
      "-----Iteration 10  Net [64] Lambda 0.01 -----------------\n"
     ]
    },
    {
     "name": "stderr",
     "output_type": "stream",
     "text": [
      "C:\\Users\\Tanishk\\AppData\\Local\\Temp/ipykernel_18588/869318862.py:8: SettingWithCopyWarning: \n",
      "A value is trying to be set on a copy of a slice from a DataFrame.\n",
      "Try using .loc[row_indexer,col_indexer] = value instead\n",
      "\n",
      "See the caveats in the documentation: https://pandas.pydata.org/pandas-docs/stable/user_guide/indexing.html#returning-a-view-versus-a-copy\n",
      "  df[col] = df[col].apply(\n"
     ]
    },
    {
     "name": "stdout",
     "output_type": "stream",
     "text": [
      "Final Diff Cost: -0.188868627875602\n",
      "Final Cost 1.8505866347387128\n",
      "Number of Iterations: 1\n",
      "Conf Matrix: Counter({'0,0': 33, '1,0': 26, '1,1': 1})\n",
      "Accuracy: 0.5666666666666667\n",
      "F1-Score: 0.717391304347826\n",
      "Number of instances in test set: 61.0\n",
      "-----Iteration 1  Net [4, 4, 4] Lambda 0.01 -----------------\n"
     ]
    },
    {
     "name": "stderr",
     "output_type": "stream",
     "text": [
      "C:\\Users\\Tanishk\\AppData\\Local\\Temp/ipykernel_18588/869318862.py:8: SettingWithCopyWarning: \n",
      "A value is trying to be set on a copy of a slice from a DataFrame.\n",
      "Try using .loc[row_indexer,col_indexer] = value instead\n",
      "\n",
      "See the caveats in the documentation: https://pandas.pydata.org/pandas-docs/stable/user_guide/indexing.html#returning-a-view-versus-a-copy\n",
      "  df[col] = df[col].apply(\n"
     ]
    },
    {
     "name": "stdout",
     "output_type": "stream",
     "text": [
      "Final Diff Cost: 9.236805388934677e-05\n",
      "Final Cost 1.377975437362832\n",
      "Number of Iterations: 33\n",
      "Conf Matrix: Counter({'0,0': 34, '1,0': 28})\n",
      "Accuracy: 0.5483870967741935\n",
      "F1-Score: 0.7083333333333333\n",
      "-----Iteration 2  Net [4, 4, 4] Lambda 0.01 -----------------\n"
     ]
    },
    {
     "name": "stderr",
     "output_type": "stream",
     "text": [
      "C:\\Users\\Tanishk\\AppData\\Local\\Temp/ipykernel_18588/869318862.py:8: SettingWithCopyWarning: \n",
      "A value is trying to be set on a copy of a slice from a DataFrame.\n",
      "Try using .loc[row_indexer,col_indexer] = value instead\n",
      "\n",
      "See the caveats in the documentation: https://pandas.pydata.org/pandas-docs/stable/user_guide/indexing.html#returning-a-view-versus-a-copy\n",
      "  df[col] = df[col].apply(\n"
     ]
    },
    {
     "name": "stdout",
     "output_type": "stream",
     "text": [
      "Final Diff Cost: 7.868326356685884e-05\n",
      "Final Cost 1.37826221801393\n",
      "Number of Iterations: 1\n",
      "Conf Matrix: Counter({'0,0': 34, '1,0': 27})\n",
      "Accuracy: 0.5573770491803278\n",
      "F1-Score: 0.7157894736842105\n",
      "-----Iteration 3  Net [4, 4, 4] Lambda 0.01 -----------------\n"
     ]
    },
    {
     "name": "stderr",
     "output_type": "stream",
     "text": [
      "C:\\Users\\Tanishk\\AppData\\Local\\Temp/ipykernel_18588/869318862.py:8: SettingWithCopyWarning: \n",
      "A value is trying to be set on a copy of a slice from a DataFrame.\n",
      "Try using .loc[row_indexer,col_indexer] = value instead\n",
      "\n",
      "See the caveats in the documentation: https://pandas.pydata.org/pandas-docs/stable/user_guide/indexing.html#returning-a-view-versus-a-copy\n",
      "  df[col] = df[col].apply(\n"
     ]
    },
    {
     "name": "stdout",
     "output_type": "stream",
     "text": [
      "Final Diff Cost: 7.236995417159164e-05\n",
      "Final Cost 1.3781816700002953\n",
      "Number of Iterations: 1\n",
      "Conf Matrix: Counter({'0,0': 34, '1,0': 27})\n",
      "Accuracy: 0.5573770491803278\n",
      "F1-Score: 0.7157894736842105\n",
      "-----Iteration 4  Net [4, 4, 4] Lambda 0.01 -----------------\n"
     ]
    },
    {
     "name": "stderr",
     "output_type": "stream",
     "text": [
      "C:\\Users\\Tanishk\\AppData\\Local\\Temp/ipykernel_18588/869318862.py:8: SettingWithCopyWarning: \n",
      "A value is trying to be set on a copy of a slice from a DataFrame.\n",
      "Try using .loc[row_indexer,col_indexer] = value instead\n",
      "\n",
      "See the caveats in the documentation: https://pandas.pydata.org/pandas-docs/stable/user_guide/indexing.html#returning-a-view-versus-a-copy\n",
      "  df[col] = df[col].apply(\n"
     ]
    },
    {
     "name": "stdout",
     "output_type": "stream",
     "text": [
      "Final Diff Cost: 6.632258747929498e-05\n",
      "Final Cost 1.3781271477225625\n",
      "Number of Iterations: 1\n",
      "Conf Matrix: Counter({'0,0': 34, '1,0': 27})\n",
      "Accuracy: 0.5573770491803278\n",
      "F1-Score: 0.7157894736842105\n",
      "-----Iteration 5  Net [4, 4, 4] Lambda 0.01 -----------------\n"
     ]
    },
    {
     "name": "stderr",
     "output_type": "stream",
     "text": [
      "C:\\Users\\Tanishk\\AppData\\Local\\Temp/ipykernel_18588/869318862.py:8: SettingWithCopyWarning: \n",
      "A value is trying to be set on a copy of a slice from a DataFrame.\n",
      "Try using .loc[row_indexer,col_indexer] = value instead\n",
      "\n",
      "See the caveats in the documentation: https://pandas.pydata.org/pandas-docs/stable/user_guide/indexing.html#returning-a-view-versus-a-copy\n",
      "  df[col] = df[col].apply(\n"
     ]
    },
    {
     "name": "stdout",
     "output_type": "stream",
     "text": [
      "Final Diff Cost: 6.063645795983952e-05\n",
      "Final Cost 1.3780584166289835\n",
      "Number of Iterations: 1\n",
      "Conf Matrix: Counter({'0,0': 34, '1,0': 27})\n",
      "Accuracy: 0.5573770491803278\n",
      "F1-Score: 0.7157894736842105\n",
      "-----Iteration 6  Net [4, 4, 4] Lambda 0.01 -----------------\n"
     ]
    },
    {
     "name": "stderr",
     "output_type": "stream",
     "text": [
      "C:\\Users\\Tanishk\\AppData\\Local\\Temp/ipykernel_18588/869318862.py:8: SettingWithCopyWarning: \n",
      "A value is trying to be set on a copy of a slice from a DataFrame.\n",
      "Try using .loc[row_indexer,col_indexer] = value instead\n",
      "\n",
      "See the caveats in the documentation: https://pandas.pydata.org/pandas-docs/stable/user_guide/indexing.html#returning-a-view-versus-a-copy\n",
      "  df[col] = df[col].apply(\n"
     ]
    },
    {
     "name": "stdout",
     "output_type": "stream",
     "text": [
      "Final Diff Cost: 5.559067173921406e-05\n",
      "Final Cost 1.3780029660884874\n",
      "Number of Iterations: 1\n",
      "Conf Matrix: Counter({'0,0': 34, '1,0': 27})\n",
      "Accuracy: 0.5573770491803278\n",
      "F1-Score: 0.7157894736842105\n",
      "-----Iteration 7  Net [4, 4, 4] Lambda 0.01 -----------------\n"
     ]
    },
    {
     "name": "stderr",
     "output_type": "stream",
     "text": [
      "C:\\Users\\Tanishk\\AppData\\Local\\Temp/ipykernel_18588/869318862.py:8: SettingWithCopyWarning: \n",
      "A value is trying to be set on a copy of a slice from a DataFrame.\n",
      "Try using .loc[row_indexer,col_indexer] = value instead\n",
      "\n",
      "See the caveats in the documentation: https://pandas.pydata.org/pandas-docs/stable/user_guide/indexing.html#returning-a-view-versus-a-copy\n",
      "  df[col] = df[col].apply(\n"
     ]
    },
    {
     "name": "stdout",
     "output_type": "stream",
     "text": [
      "Final Diff Cost: 5.1186100904709875e-05\n",
      "Final Cost 1.3779628793078844\n",
      "Number of Iterations: 1\n",
      "Conf Matrix: Counter({'0,0': 34, '1,0': 27})\n",
      "Accuracy: 0.5573770491803278\n",
      "F1-Score: 0.7157894736842105\n",
      "-----Iteration 8  Net [4, 4, 4] Lambda 0.01 -----------------\n"
     ]
    },
    {
     "name": "stderr",
     "output_type": "stream",
     "text": [
      "C:\\Users\\Tanishk\\AppData\\Local\\Temp/ipykernel_18588/869318862.py:8: SettingWithCopyWarning: \n",
      "A value is trying to be set on a copy of a slice from a DataFrame.\n",
      "Try using .loc[row_indexer,col_indexer] = value instead\n",
      "\n",
      "See the caveats in the documentation: https://pandas.pydata.org/pandas-docs/stable/user_guide/indexing.html#returning-a-view-versus-a-copy\n",
      "  df[col] = df[col].apply(\n"
     ]
    },
    {
     "name": "stdout",
     "output_type": "stream",
     "text": [
      "Final Diff Cost: 5.036963507842884e-05\n",
      "Final Cost 1.3775859959146561\n",
      "Number of Iterations: 1\n",
      "Conf Matrix: Counter({'0,0': 33, '1,0': 27})\n",
      "Accuracy: 0.55\n",
      "F1-Score: 0.7096774193548387\n",
      "-----Iteration 9  Net [4, 4, 4] Lambda 0.01 -----------------\n"
     ]
    },
    {
     "name": "stderr",
     "output_type": "stream",
     "text": [
      "C:\\Users\\Tanishk\\AppData\\Local\\Temp/ipykernel_18588/869318862.py:8: SettingWithCopyWarning: \n",
      "A value is trying to be set on a copy of a slice from a DataFrame.\n",
      "Try using .loc[row_indexer,col_indexer] = value instead\n",
      "\n",
      "See the caveats in the documentation: https://pandas.pydata.org/pandas-docs/stable/user_guide/indexing.html#returning-a-view-versus-a-copy\n",
      "  df[col] = df[col].apply(\n"
     ]
    },
    {
     "name": "stdout",
     "output_type": "stream",
     "text": [
      "Final Diff Cost: 4.629317229509766e-05\n",
      "Final Cost 1.3775452939169688\n",
      "Number of Iterations: 1\n",
      "Conf Matrix: Counter({'0,0': 33, '1,0': 27})\n",
      "Accuracy: 0.55\n",
      "F1-Score: 0.7096774193548387\n",
      "-----Iteration 10  Net [4, 4, 4] Lambda 0.01 -----------------\n"
     ]
    },
    {
     "name": "stderr",
     "output_type": "stream",
     "text": [
      "C:\\Users\\Tanishk\\AppData\\Local\\Temp/ipykernel_18588/869318862.py:8: SettingWithCopyWarning: \n",
      "A value is trying to be set on a copy of a slice from a DataFrame.\n",
      "Try using .loc[row_indexer,col_indexer] = value instead\n",
      "\n",
      "See the caveats in the documentation: https://pandas.pydata.org/pandas-docs/stable/user_guide/indexing.html#returning-a-view-versus-a-copy\n",
      "  df[col] = df[col].apply(\n"
     ]
    },
    {
     "name": "stdout",
     "output_type": "stream",
     "text": [
      "Final Diff Cost: 4.208258554427857e-05\n",
      "Final Cost 1.37749001018948\n",
      "Number of Iterations: 1\n",
      "Conf Matrix: Counter({'0,0': 33, '1,0': 27})\n",
      "Accuracy: 0.55\n",
      "F1-Score: 0.7096774193548387\n",
      "Number of instances in test set: 61.0\n",
      "-----Iteration 1  Net [8, 8, 8] Lambda 0.01 -----------------\n"
     ]
    },
    {
     "name": "stderr",
     "output_type": "stream",
     "text": [
      "C:\\Users\\Tanishk\\AppData\\Local\\Temp/ipykernel_18588/869318862.py:8: SettingWithCopyWarning: \n",
      "A value is trying to be set on a copy of a slice from a DataFrame.\n",
      "Try using .loc[row_indexer,col_indexer] = value instead\n",
      "\n",
      "See the caveats in the documentation: https://pandas.pydata.org/pandas-docs/stable/user_guide/indexing.html#returning-a-view-versus-a-copy\n",
      "  df[col] = df[col].apply(\n"
     ]
    },
    {
     "name": "stdout",
     "output_type": "stream",
     "text": [
      "Final Diff Cost: 8.325291924826672e-05\n",
      "Final Cost 1.3803886222090511\n",
      "Number of Iterations: 17\n",
      "Conf Matrix: Counter({'0,0': 34, '1,0': 28})\n",
      "Accuracy: 0.5483870967741935\n",
      "F1-Score: 0.7083333333333333\n",
      "-----Iteration 2  Net [8, 8, 8] Lambda 0.01 -----------------\n"
     ]
    },
    {
     "name": "stderr",
     "output_type": "stream",
     "text": [
      "C:\\Users\\Tanishk\\AppData\\Local\\Temp/ipykernel_18588/869318862.py:8: SettingWithCopyWarning: \n",
      "A value is trying to be set on a copy of a slice from a DataFrame.\n",
      "Try using .loc[row_indexer,col_indexer] = value instead\n",
      "\n",
      "See the caveats in the documentation: https://pandas.pydata.org/pandas-docs/stable/user_guide/indexing.html#returning-a-view-versus-a-copy\n",
      "  df[col] = df[col].apply(\n"
     ]
    },
    {
     "name": "stdout",
     "output_type": "stream",
     "text": [
      "Final Diff Cost: 7.093780602240862e-05\n",
      "Final Cost 1.3808637047859225\n",
      "Number of Iterations: 1\n",
      "Conf Matrix: Counter({'0,0': 34, '1,0': 27})\n",
      "Accuracy: 0.5573770491803278\n",
      "F1-Score: 0.7157894736842105\n",
      "-----Iteration 3  Net [8, 8, 8] Lambda 0.01 -----------------\n"
     ]
    },
    {
     "name": "stderr",
     "output_type": "stream",
     "text": [
      "C:\\Users\\Tanishk\\AppData\\Local\\Temp/ipykernel_18588/869318862.py:8: SettingWithCopyWarning: \n",
      "A value is trying to be set on a copy of a slice from a DataFrame.\n",
      "Try using .loc[row_indexer,col_indexer] = value instead\n",
      "\n",
      "See the caveats in the documentation: https://pandas.pydata.org/pandas-docs/stable/user_guide/indexing.html#returning-a-view-versus-a-copy\n",
      "  df[col] = df[col].apply(\n"
     ]
    },
    {
     "name": "stdout",
     "output_type": "stream",
     "text": [
      "Final Diff Cost: 5.063567961371973e-05\n",
      "Final Cost 1.3810722759124114\n",
      "Number of Iterations: 1\n",
      "Conf Matrix: Counter({'0,0': 34, '1,0': 27})\n",
      "Accuracy: 0.5573770491803278\n",
      "F1-Score: 0.7157894736842105\n",
      "-----Iteration 4  Net [8, 8, 8] Lambda 0.01 -----------------\n"
     ]
    },
    {
     "name": "stderr",
     "output_type": "stream",
     "text": [
      "C:\\Users\\Tanishk\\AppData\\Local\\Temp/ipykernel_18588/869318862.py:8: SettingWithCopyWarning: \n",
      "A value is trying to be set on a copy of a slice from a DataFrame.\n",
      "Try using .loc[row_indexer,col_indexer] = value instead\n",
      "\n",
      "See the caveats in the documentation: https://pandas.pydata.org/pandas-docs/stable/user_guide/indexing.html#returning-a-view-versus-a-copy\n",
      "  df[col] = df[col].apply(\n"
     ]
    },
    {
     "name": "stdout",
     "output_type": "stream",
     "text": [
      "Final Diff Cost: 4.823324024183506e-05\n",
      "Final Cost 1.3805636366331726\n",
      "Number of Iterations: 1\n",
      "Conf Matrix: Counter({'0,0': 34, '1,0': 27})\n",
      "Accuracy: 0.5573770491803278\n",
      "F1-Score: 0.7157894736842105\n",
      "-----Iteration 5  Net [8, 8, 8] Lambda 0.01 -----------------\n"
     ]
    },
    {
     "name": "stderr",
     "output_type": "stream",
     "text": [
      "C:\\Users\\Tanishk\\AppData\\Local\\Temp/ipykernel_18588/869318862.py:8: SettingWithCopyWarning: \n",
      "A value is trying to be set on a copy of a slice from a DataFrame.\n",
      "Try using .loc[row_indexer,col_indexer] = value instead\n",
      "\n",
      "See the caveats in the documentation: https://pandas.pydata.org/pandas-docs/stable/user_guide/indexing.html#returning-a-view-versus-a-copy\n",
      "  df[col] = df[col].apply(\n"
     ]
    },
    {
     "name": "stdout",
     "output_type": "stream",
     "text": [
      "Final Diff Cost: 3.678699218445658e-05\n",
      "Final Cost 1.3806482424327609\n",
      "Number of Iterations: 1\n",
      "Conf Matrix: Counter({'0,0': 34, '1,0': 27})\n",
      "Accuracy: 0.5573770491803278\n",
      "F1-Score: 0.7157894736842105\n",
      "-----Iteration 6  Net [8, 8, 8] Lambda 0.01 -----------------\n"
     ]
    },
    {
     "name": "stderr",
     "output_type": "stream",
     "text": [
      "C:\\Users\\Tanishk\\AppData\\Local\\Temp/ipykernel_18588/869318862.py:8: SettingWithCopyWarning: \n",
      "A value is trying to be set on a copy of a slice from a DataFrame.\n",
      "Try using .loc[row_indexer,col_indexer] = value instead\n",
      "\n",
      "See the caveats in the documentation: https://pandas.pydata.org/pandas-docs/stable/user_guide/indexing.html#returning-a-view-versus-a-copy\n",
      "  df[col] = df[col].apply(\n"
     ]
    },
    {
     "name": "stdout",
     "output_type": "stream",
     "text": [
      "Final Diff Cost: 3.1797745008166345e-05\n",
      "Final Cost 1.380827005432424\n",
      "Number of Iterations: 1\n",
      "Conf Matrix: Counter({'0,0': 34, '1,0': 27})\n",
      "Accuracy: 0.5573770491803278\n",
      "F1-Score: 0.7157894736842105\n",
      "-----Iteration 7  Net [8, 8, 8] Lambda 0.01 -----------------\n"
     ]
    },
    {
     "name": "stderr",
     "output_type": "stream",
     "text": [
      "C:\\Users\\Tanishk\\AppData\\Local\\Temp/ipykernel_18588/869318862.py:8: SettingWithCopyWarning: \n",
      "A value is trying to be set on a copy of a slice from a DataFrame.\n",
      "Try using .loc[row_indexer,col_indexer] = value instead\n",
      "\n",
      "See the caveats in the documentation: https://pandas.pydata.org/pandas-docs/stable/user_guide/indexing.html#returning-a-view-versus-a-copy\n",
      "  df[col] = df[col].apply(\n"
     ]
    },
    {
     "name": "stdout",
     "output_type": "stream",
     "text": [
      "Final Diff Cost: 2.2862194308359562e-05\n",
      "Final Cost 1.3809162476089323\n",
      "Number of Iterations: 1\n",
      "Conf Matrix: Counter({'0,0': 34, '1,0': 27})\n",
      "Accuracy: 0.5573770491803278\n",
      "F1-Score: 0.7157894736842105\n",
      "-----Iteration 8  Net [8, 8, 8] Lambda 0.01 -----------------\n"
     ]
    },
    {
     "name": "stderr",
     "output_type": "stream",
     "text": [
      "C:\\Users\\Tanishk\\AppData\\Local\\Temp/ipykernel_18588/869318862.py:8: SettingWithCopyWarning: \n",
      "A value is trying to be set on a copy of a slice from a DataFrame.\n",
      "Try using .loc[row_indexer,col_indexer] = value instead\n",
      "\n",
      "See the caveats in the documentation: https://pandas.pydata.org/pandas-docs/stable/user_guide/indexing.html#returning-a-view-versus-a-copy\n",
      "  df[col] = df[col].apply(\n"
     ]
    },
    {
     "name": "stdout",
     "output_type": "stream",
     "text": [
      "Final Diff Cost: 2.2797173505395563e-05\n",
      "Final Cost 1.3800752114993515\n",
      "Number of Iterations: 1\n",
      "Conf Matrix: Counter({'0,0': 33, '1,0': 27})\n",
      "Accuracy: 0.55\n",
      "F1-Score: 0.7096774193548387\n",
      "-----Iteration 9  Net [8, 8, 8] Lambda 0.01 -----------------\n"
     ]
    },
    {
     "name": "stderr",
     "output_type": "stream",
     "text": [
      "C:\\Users\\Tanishk\\AppData\\Local\\Temp/ipykernel_18588/869318862.py:8: SettingWithCopyWarning: \n",
      "A value is trying to be set on a copy of a slice from a DataFrame.\n",
      "Try using .loc[row_indexer,col_indexer] = value instead\n",
      "\n",
      "See the caveats in the documentation: https://pandas.pydata.org/pandas-docs/stable/user_guide/indexing.html#returning-a-view-versus-a-copy\n",
      "  df[col] = df[col].apply(\n"
     ]
    },
    {
     "name": "stdout",
     "output_type": "stream",
     "text": [
      "Final Diff Cost: 1.5119528071760868e-05\n",
      "Final Cost 1.3801504166831469\n",
      "Number of Iterations: 1\n",
      "Conf Matrix: Counter({'0,0': 33, '1,0': 27})\n",
      "Accuracy: 0.55\n",
      "F1-Score: 0.7096774193548387\n",
      "-----Iteration 10  Net [8, 8, 8] Lambda 0.01 -----------------\n"
     ]
    },
    {
     "name": "stderr",
     "output_type": "stream",
     "text": [
      "C:\\Users\\Tanishk\\AppData\\Local\\Temp/ipykernel_18588/869318862.py:8: SettingWithCopyWarning: \n",
      "A value is trying to be set on a copy of a slice from a DataFrame.\n",
      "Try using .loc[row_indexer,col_indexer] = value instead\n",
      "\n",
      "See the caveats in the documentation: https://pandas.pydata.org/pandas-docs/stable/user_guide/indexing.html#returning-a-view-versus-a-copy\n",
      "  df[col] = df[col].apply(\n"
     ]
    },
    {
     "name": "stdout",
     "output_type": "stream",
     "text": [
      "Final Diff Cost: 1.3328127148604096e-05\n",
      "Final Cost 1.380227049149147\n",
      "Number of Iterations: 1\n",
      "Conf Matrix: Counter({'0,0': 33, '1,0': 27})\n",
      "Accuracy: 0.55\n",
      "F1-Score: 0.7096774193548387\n",
      "Number of instances in test set: 61.0\n",
      "-----Iteration 1  Net [16, 16, 16] Lambda 0.01 -----------------\n"
     ]
    },
    {
     "name": "stderr",
     "output_type": "stream",
     "text": [
      "C:\\Users\\Tanishk\\AppData\\Local\\Temp/ipykernel_18588/869318862.py:8: SettingWithCopyWarning: \n",
      "A value is trying to be set on a copy of a slice from a DataFrame.\n",
      "Try using .loc[row_indexer,col_indexer] = value instead\n",
      "\n",
      "See the caveats in the documentation: https://pandas.pydata.org/pandas-docs/stable/user_guide/indexing.html#returning-a-view-versus-a-copy\n",
      "  df[col] = df[col].apply(\n"
     ]
    },
    {
     "name": "stdout",
     "output_type": "stream",
     "text": [
      "Final Diff Cost: 8.797793605719306e-05\n",
      "Final Cost 1.3837317024820672\n",
      "Number of Iterations: 17\n",
      "Conf Matrix: Counter({'0,0': 34, '1,0': 28})\n",
      "Accuracy: 0.5483870967741935\n",
      "F1-Score: 0.7083333333333333\n",
      "-----Iteration 2  Net [16, 16, 16] Lambda 0.01 -----------------\n"
     ]
    },
    {
     "name": "stderr",
     "output_type": "stream",
     "text": [
      "C:\\Users\\Tanishk\\AppData\\Local\\Temp/ipykernel_18588/869318862.py:8: SettingWithCopyWarning: \n",
      "A value is trying to be set on a copy of a slice from a DataFrame.\n",
      "Try using .loc[row_indexer,col_indexer] = value instead\n",
      "\n",
      "See the caveats in the documentation: https://pandas.pydata.org/pandas-docs/stable/user_guide/indexing.html#returning-a-view-versus-a-copy\n",
      "  df[col] = df[col].apply(\n"
     ]
    },
    {
     "name": "stdout",
     "output_type": "stream",
     "text": [
      "Final Diff Cost: 5.3120723981781026e-05\n",
      "Final Cost 1.385322946140299\n",
      "Number of Iterations: 1\n",
      "Conf Matrix: Counter({'0,0': 34, '1,0': 27})\n",
      "Accuracy: 0.5573770491803278\n",
      "F1-Score: 0.7157894736842105\n",
      "-----Iteration 3  Net [16, 16, 16] Lambda 0.01 -----------------\n"
     ]
    },
    {
     "name": "stderr",
     "output_type": "stream",
     "text": [
      "C:\\Users\\Tanishk\\AppData\\Local\\Temp/ipykernel_18588/869318862.py:8: SettingWithCopyWarning: \n",
      "A value is trying to be set on a copy of a slice from a DataFrame.\n",
      "Try using .loc[row_indexer,col_indexer] = value instead\n",
      "\n",
      "See the caveats in the documentation: https://pandas.pydata.org/pandas-docs/stable/user_guide/indexing.html#returning-a-view-versus-a-copy\n",
      "  df[col] = df[col].apply(\n"
     ]
    },
    {
     "name": "stdout",
     "output_type": "stream",
     "text": [
      "Final Diff Cost: 9.334436721086803e-05\n",
      "Final Cost 1.3852173798813106\n",
      "Number of Iterations: 2\n",
      "Conf Matrix: Counter({'0,0': 34, '1,0': 27})\n",
      "Accuracy: 0.5573770491803278\n",
      "F1-Score: 0.7157894736842105\n",
      "-----Iteration 4  Net [16, 16, 16] Lambda 0.01 -----------------\n"
     ]
    },
    {
     "name": "stderr",
     "output_type": "stream",
     "text": [
      "C:\\Users\\Tanishk\\AppData\\Local\\Temp/ipykernel_18588/869318862.py:8: SettingWithCopyWarning: \n",
      "A value is trying to be set on a copy of a slice from a DataFrame.\n",
      "Try using .loc[row_indexer,col_indexer] = value instead\n",
      "\n",
      "See the caveats in the documentation: https://pandas.pydata.org/pandas-docs/stable/user_guide/indexing.html#returning-a-view-versus-a-copy\n",
      "  df[col] = df[col].apply(\n"
     ]
    },
    {
     "name": "stdout",
     "output_type": "stream",
     "text": [
      "Final Diff Cost: 6.946014532305256e-05\n",
      "Final Cost 1.3840132870787896\n",
      "Number of Iterations: 1\n",
      "Conf Matrix: Counter({'0,0': 33, '1,0': 27, '0,1': 1})\n",
      "Accuracy: 0.5409836065573771\n",
      "F1-Score: 0.7021276595744681\n",
      "-----Iteration 5  Net [16, 16, 16] Lambda 0.01 -----------------\n"
     ]
    },
    {
     "name": "stderr",
     "output_type": "stream",
     "text": [
      "C:\\Users\\Tanishk\\AppData\\Local\\Temp/ipykernel_18588/869318862.py:8: SettingWithCopyWarning: \n",
      "A value is trying to be set on a copy of a slice from a DataFrame.\n",
      "Try using .loc[row_indexer,col_indexer] = value instead\n",
      "\n",
      "See the caveats in the documentation: https://pandas.pydata.org/pandas-docs/stable/user_guide/indexing.html#returning-a-view-versus-a-copy\n",
      "  df[col] = df[col].apply(\n"
     ]
    },
    {
     "name": "stdout",
     "output_type": "stream",
     "text": [
      "Final Diff Cost: 9.657029387244442e-05\n",
      "Final Cost 1.3849234492000568\n",
      "Number of Iterations: 2\n",
      "Conf Matrix: Counter({'0,0': 34, '1,0': 27})\n",
      "Accuracy: 0.5573770491803278\n",
      "F1-Score: 0.7157894736842105\n",
      "-----Iteration 6  Net [16, 16, 16] Lambda 0.01 -----------------\n"
     ]
    },
    {
     "name": "stderr",
     "output_type": "stream",
     "text": [
      "C:\\Users\\Tanishk\\AppData\\Local\\Temp/ipykernel_18588/869318862.py:8: SettingWithCopyWarning: \n",
      "A value is trying to be set on a copy of a slice from a DataFrame.\n",
      "Try using .loc[row_indexer,col_indexer] = value instead\n",
      "\n",
      "See the caveats in the documentation: https://pandas.pydata.org/pandas-docs/stable/user_guide/indexing.html#returning-a-view-versus-a-copy\n",
      "  df[col] = df[col].apply(\n"
     ]
    },
    {
     "name": "stdout",
     "output_type": "stream",
     "text": [
      "Final Diff Cost: 5.4320308567001874e-05\n",
      "Final Cost 1.3850392794995399\n",
      "Number of Iterations: 1\n",
      "Conf Matrix: Counter({'0,0': 34, '1,0': 27})\n",
      "Accuracy: 0.5573770491803278\n",
      "F1-Score: 0.7157894736842105\n",
      "-----Iteration 7  Net [16, 16, 16] Lambda 0.01 -----------------\n"
     ]
    },
    {
     "name": "stderr",
     "output_type": "stream",
     "text": [
      "C:\\Users\\Tanishk\\AppData\\Local\\Temp/ipykernel_18588/869318862.py:8: SettingWithCopyWarning: \n",
      "A value is trying to be set on a copy of a slice from a DataFrame.\n",
      "Try using .loc[row_indexer,col_indexer] = value instead\n",
      "\n",
      "See the caveats in the documentation: https://pandas.pydata.org/pandas-docs/stable/user_guide/indexing.html#returning-a-view-versus-a-copy\n",
      "  df[col] = df[col].apply(\n"
     ]
    },
    {
     "name": "stdout",
     "output_type": "stream",
     "text": [
      "Final Diff Cost: 4.2825954483349804e-05\n",
      "Final Cost 1.3836430283032677\n",
      "Number of Iterations: 1\n",
      "Conf Matrix: Counter({'0,0': 34, '1,0': 26, '1,1': 1})\n",
      "Accuracy: 0.5737704918032787\n",
      "F1-Score: 0.7234042553191489\n",
      "-----Iteration 8  Net [16, 16, 16] Lambda 0.01 -----------------\n"
     ]
    },
    {
     "name": "stderr",
     "output_type": "stream",
     "text": [
      "C:\\Users\\Tanishk\\AppData\\Local\\Temp/ipykernel_18588/869318862.py:8: SettingWithCopyWarning: \n",
      "A value is trying to be set on a copy of a slice from a DataFrame.\n",
      "Try using .loc[row_indexer,col_indexer] = value instead\n",
      "\n",
      "See the caveats in the documentation: https://pandas.pydata.org/pandas-docs/stable/user_guide/indexing.html#returning-a-view-versus-a-copy\n",
      "  df[col] = df[col].apply(\n"
     ]
    },
    {
     "name": "stdout",
     "output_type": "stream",
     "text": [
      "Final Diff Cost: 5.232709976543681e-05\n",
      "Final Cost 1.3834447069095008\n",
      "Number of Iterations: 1\n",
      "Conf Matrix: Counter({'0,0': 33, '1,0': 27})\n",
      "Accuracy: 0.55\n",
      "F1-Score: 0.7096774193548387\n",
      "-----Iteration 9  Net [16, 16, 16] Lambda 0.01 -----------------\n"
     ]
    },
    {
     "name": "stderr",
     "output_type": "stream",
     "text": [
      "C:\\Users\\Tanishk\\AppData\\Local\\Temp/ipykernel_18588/869318862.py:8: SettingWithCopyWarning: \n",
      "A value is trying to be set on a copy of a slice from a DataFrame.\n",
      "Try using .loc[row_indexer,col_indexer] = value instead\n",
      "\n",
      "See the caveats in the documentation: https://pandas.pydata.org/pandas-docs/stable/user_guide/indexing.html#returning-a-view-versus-a-copy\n",
      "  df[col] = df[col].apply(\n"
     ]
    },
    {
     "name": "stdout",
     "output_type": "stream",
     "text": [
      "Final Diff Cost: 8.248545442746114e-05\n",
      "Final Cost 1.3847069505759362\n",
      "Number of Iterations: 3\n",
      "Conf Matrix: Counter({'0,0': 33, '1,0': 27})\n",
      "Accuracy: 0.55\n",
      "F1-Score: 0.7096774193548387\n",
      "-----Iteration 10  Net [16, 16, 16] Lambda 0.01 -----------------\n"
     ]
    },
    {
     "name": "stderr",
     "output_type": "stream",
     "text": [
      "C:\\Users\\Tanishk\\AppData\\Local\\Temp/ipykernel_18588/869318862.py:8: SettingWithCopyWarning: \n",
      "A value is trying to be set on a copy of a slice from a DataFrame.\n",
      "Try using .loc[row_indexer,col_indexer] = value instead\n",
      "\n",
      "See the caveats in the documentation: https://pandas.pydata.org/pandas-docs/stable/user_guide/indexing.html#returning-a-view-versus-a-copy\n",
      "  df[col] = df[col].apply(\n"
     ]
    },
    {
     "name": "stdout",
     "output_type": "stream",
     "text": [
      "Final Diff Cost: 9.506360236444245e-05\n",
      "Final Cost 1.3822274381805784\n",
      "Number of Iterations: 5\n",
      "Conf Matrix: Counter({'0,0': 32, '1,0': 27, '0,1': 1})\n",
      "Accuracy: 0.5333333333333333\n",
      "F1-Score: 0.6956521739130436\n",
      "Number of instances in test set: 61.0\n",
      "-----Iteration 1  Net [25, 25, 25] Lambda 0.01 -----------------\n"
     ]
    },
    {
     "name": "stderr",
     "output_type": "stream",
     "text": [
      "C:\\Users\\Tanishk\\AppData\\Local\\Temp/ipykernel_18588/869318862.py:8: SettingWithCopyWarning: \n",
      "A value is trying to be set on a copy of a slice from a DataFrame.\n",
      "Try using .loc[row_indexer,col_indexer] = value instead\n",
      "\n",
      "See the caveats in the documentation: https://pandas.pydata.org/pandas-docs/stable/user_guide/indexing.html#returning-a-view-versus-a-copy\n",
      "  df[col] = df[col].apply(\n"
     ]
    },
    {
     "name": "stdout",
     "output_type": "stream",
     "text": [
      "Final Diff Cost: 6.044091376189442e-05\n",
      "Final Cost 1.3922537863452662\n",
      "Number of Iterations: 11\n",
      "Conf Matrix: Counter({'0,0': 32, '1,0': 28, '0,1': 2})\n",
      "Accuracy: 0.5161290322580645\n",
      "F1-Score: 0.6808510638297872\n",
      "-----Iteration 2  Net [25, 25, 25] Lambda 0.01 -----------------\n"
     ]
    },
    {
     "name": "stderr",
     "output_type": "stream",
     "text": [
      "C:\\Users\\Tanishk\\AppData\\Local\\Temp/ipykernel_18588/869318862.py:8: SettingWithCopyWarning: \n",
      "A value is trying to be set on a copy of a slice from a DataFrame.\n",
      "Try using .loc[row_indexer,col_indexer] = value instead\n",
      "\n",
      "See the caveats in the documentation: https://pandas.pydata.org/pandas-docs/stable/user_guide/indexing.html#returning-a-view-versus-a-copy\n",
      "  df[col] = df[col].apply(\n"
     ]
    },
    {
     "name": "stdout",
     "output_type": "stream",
     "text": [
      "Final Diff Cost: 2.475582722016867e-05\n",
      "Final Cost 1.3938963785534408\n",
      "Number of Iterations: 1\n",
      "Conf Matrix: Counter({'0,0': 34, '1,0': 27})\n",
      "Accuracy: 0.5573770491803278\n",
      "F1-Score: 0.7157894736842105\n",
      "-----Iteration 3  Net [25, 25, 25] Lambda 0.01 -----------------\n"
     ]
    },
    {
     "name": "stderr",
     "output_type": "stream",
     "text": [
      "C:\\Users\\Tanishk\\AppData\\Local\\Temp/ipykernel_18588/869318862.py:8: SettingWithCopyWarning: \n",
      "A value is trying to be set on a copy of a slice from a DataFrame.\n",
      "Try using .loc[row_indexer,col_indexer] = value instead\n",
      "\n",
      "See the caveats in the documentation: https://pandas.pydata.org/pandas-docs/stable/user_guide/indexing.html#returning-a-view-versus-a-copy\n",
      "  df[col] = df[col].apply(\n"
     ]
    },
    {
     "name": "stdout",
     "output_type": "stream",
     "text": [
      "Final Diff Cost: 6.851816821873413e-05\n",
      "Final Cost 1.3952465105627514\n",
      "Number of Iterations: 2\n",
      "Conf Matrix: Counter({'0,0': 34, '1,0': 27})\n",
      "Accuracy: 0.5573770491803278\n",
      "F1-Score: 0.7157894736842105\n",
      "-----Iteration 4  Net [25, 25, 25] Lambda 0.01 -----------------\n"
     ]
    },
    {
     "name": "stderr",
     "output_type": "stream",
     "text": [
      "C:\\Users\\Tanishk\\AppData\\Local\\Temp/ipykernel_18588/869318862.py:8: SettingWithCopyWarning: \n",
      "A value is trying to be set on a copy of a slice from a DataFrame.\n",
      "Try using .loc[row_indexer,col_indexer] = value instead\n",
      "\n",
      "See the caveats in the documentation: https://pandas.pydata.org/pandas-docs/stable/user_guide/indexing.html#returning-a-view-versus-a-copy\n",
      "  df[col] = df[col].apply(\n"
     ]
    },
    {
     "name": "stdout",
     "output_type": "stream",
     "text": [
      "Final Diff Cost: 5.158938846738792e-05\n",
      "Final Cost 1.3947339574488482\n",
      "Number of Iterations: 1\n",
      "Conf Matrix: Counter({'0,0': 34, '1,0': 27})\n",
      "Accuracy: 0.5573770491803278\n",
      "F1-Score: 0.7157894736842105\n",
      "-----Iteration 5  Net [25, 25, 25] Lambda 0.01 -----------------\n"
     ]
    },
    {
     "name": "stderr",
     "output_type": "stream",
     "text": [
      "C:\\Users\\Tanishk\\AppData\\Local\\Temp/ipykernel_18588/869318862.py:8: SettingWithCopyWarning: \n",
      "A value is trying to be set on a copy of a slice from a DataFrame.\n",
      "Try using .loc[row_indexer,col_indexer] = value instead\n",
      "\n",
      "See the caveats in the documentation: https://pandas.pydata.org/pandas-docs/stable/user_guide/indexing.html#returning-a-view-versus-a-copy\n",
      "  df[col] = df[col].apply(\n"
     ]
    },
    {
     "name": "stdout",
     "output_type": "stream",
     "text": [
      "Final Diff Cost: 2.2864810773182143e-05\n",
      "Final Cost 1.393892581936443\n",
      "Number of Iterations: 1\n",
      "Conf Matrix: Counter({'0,0': 34, '1,0': 27})\n",
      "Accuracy: 0.5573770491803278\n",
      "F1-Score: 0.7157894736842105\n",
      "-----Iteration 6  Net [25, 25, 25] Lambda 0.01 -----------------\n"
     ]
    },
    {
     "name": "stderr",
     "output_type": "stream",
     "text": [
      "C:\\Users\\Tanishk\\AppData\\Local\\Temp/ipykernel_18588/869318862.py:8: SettingWithCopyWarning: \n",
      "A value is trying to be set on a copy of a slice from a DataFrame.\n",
      "Try using .loc[row_indexer,col_indexer] = value instead\n",
      "\n",
      "See the caveats in the documentation: https://pandas.pydata.org/pandas-docs/stable/user_guide/indexing.html#returning-a-view-versus-a-copy\n",
      "  df[col] = df[col].apply(\n"
     ]
    },
    {
     "name": "stdout",
     "output_type": "stream",
     "text": [
      "Final Diff Cost: 2.9790447213295934e-05\n",
      "Final Cost 1.3935085708233057\n",
      "Number of Iterations: 1\n",
      "Conf Matrix: Counter({'0,0': 34, '1,0': 27})\n",
      "Accuracy: 0.5573770491803278\n",
      "F1-Score: 0.7157894736842105\n",
      "-----Iteration 7  Net [25, 25, 25] Lambda 0.01 -----------------\n"
     ]
    },
    {
     "name": "stderr",
     "output_type": "stream",
     "text": [
      "C:\\Users\\Tanishk\\AppData\\Local\\Temp/ipykernel_18588/869318862.py:8: SettingWithCopyWarning: \n",
      "A value is trying to be set on a copy of a slice from a DataFrame.\n",
      "Try using .loc[row_indexer,col_indexer] = value instead\n",
      "\n",
      "See the caveats in the documentation: https://pandas.pydata.org/pandas-docs/stable/user_guide/indexing.html#returning-a-view-versus-a-copy\n",
      "  df[col] = df[col].apply(\n"
     ]
    },
    {
     "name": "stdout",
     "output_type": "stream",
     "text": [
      "Final Diff Cost: 4.274967536610497e-05\n",
      "Final Cost 1.3943433663619589\n",
      "Number of Iterations: 1\n",
      "Conf Matrix: Counter({'0,0': 34, '1,0': 27})\n",
      "Accuracy: 0.5573770491803278\n",
      "F1-Score: 0.7157894736842105\n",
      "-----Iteration 8  Net [25, 25, 25] Lambda 0.01 -----------------\n"
     ]
    },
    {
     "name": "stderr",
     "output_type": "stream",
     "text": [
      "C:\\Users\\Tanishk\\AppData\\Local\\Temp/ipykernel_18588/869318862.py:8: SettingWithCopyWarning: \n",
      "A value is trying to be set on a copy of a slice from a DataFrame.\n",
      "Try using .loc[row_indexer,col_indexer] = value instead\n",
      "\n",
      "See the caveats in the documentation: https://pandas.pydata.org/pandas-docs/stable/user_guide/indexing.html#returning-a-view-versus-a-copy\n",
      "  df[col] = df[col].apply(\n"
     ]
    },
    {
     "name": "stdout",
     "output_type": "stream",
     "text": [
      "Final Diff Cost: 3.052529369163004e-05\n",
      "Final Cost 1.393358635891504\n",
      "Number of Iterations: 1\n",
      "Conf Matrix: Counter({'0,0': 33, '1,0': 27})\n",
      "Accuracy: 0.55\n",
      "F1-Score: 0.7096774193548387\n",
      "-----Iteration 9  Net [25, 25, 25] Lambda 0.01 -----------------\n"
     ]
    },
    {
     "name": "stderr",
     "output_type": "stream",
     "text": [
      "C:\\Users\\Tanishk\\AppData\\Local\\Temp/ipykernel_18588/869318862.py:8: SettingWithCopyWarning: \n",
      "A value is trying to be set on a copy of a slice from a DataFrame.\n",
      "Try using .loc[row_indexer,col_indexer] = value instead\n",
      "\n",
      "See the caveats in the documentation: https://pandas.pydata.org/pandas-docs/stable/user_guide/indexing.html#returning-a-view-versus-a-copy\n",
      "  df[col] = df[col].apply(\n"
     ]
    },
    {
     "name": "stdout",
     "output_type": "stream",
     "text": [
      "Final Diff Cost: 3.964094429975695e-05\n",
      "Final Cost 1.3939821119170008\n",
      "Number of Iterations: 1\n",
      "Conf Matrix: Counter({'0,0': 33, '1,0': 27})\n",
      "Accuracy: 0.55\n",
      "F1-Score: 0.7096774193548387\n",
      "-----Iteration 10  Net [25, 25, 25] Lambda 0.01 -----------------\n"
     ]
    },
    {
     "name": "stderr",
     "output_type": "stream",
     "text": [
      "C:\\Users\\Tanishk\\AppData\\Local\\Temp/ipykernel_18588/869318862.py:8: SettingWithCopyWarning: \n",
      "A value is trying to be set on a copy of a slice from a DataFrame.\n",
      "Try using .loc[row_indexer,col_indexer] = value instead\n",
      "\n",
      "See the caveats in the documentation: https://pandas.pydata.org/pandas-docs/stable/user_guide/indexing.html#returning-a-view-versus-a-copy\n",
      "  df[col] = df[col].apply(\n"
     ]
    },
    {
     "name": "stdout",
     "output_type": "stream",
     "text": [
      "Final Diff Cost: 8.425549963098078e-05\n",
      "Final Cost 1.3912266410287342\n",
      "Number of Iterations: 3\n",
      "Conf Matrix: Counter({'0,0': 33, '1,0': 26, '1,1': 1})\n",
      "Accuracy: 0.5666666666666667\n",
      "F1-Score: 0.717391304347826\n",
      "Number of instances in test set: 61.0\n",
      "-----Iteration 1  Net [32, 32, 32] Lambda 0.01 -----------------\n"
     ]
    },
    {
     "name": "stderr",
     "output_type": "stream",
     "text": [
      "C:\\Users\\Tanishk\\AppData\\Local\\Temp/ipykernel_18588/869318862.py:8: SettingWithCopyWarning: \n",
      "A value is trying to be set on a copy of a slice from a DataFrame.\n",
      "Try using .loc[row_indexer,col_indexer] = value instead\n",
      "\n",
      "See the caveats in the documentation: https://pandas.pydata.org/pandas-docs/stable/user_guide/indexing.html#returning-a-view-versus-a-copy\n",
      "  df[col] = df[col].apply(\n"
     ]
    },
    {
     "name": "stdout",
     "output_type": "stream",
     "text": [
      "Final Diff Cost: 9.445190755563715e-05\n",
      "Final Cost 1.396070534827027\n",
      "Number of Iterations: 13\n",
      "Conf Matrix: Counter({'0,0': 34, '1,0': 28})\n",
      "Accuracy: 0.5483870967741935\n",
      "F1-Score: 0.7083333333333333\n",
      "-----Iteration 2  Net [32, 32, 32] Lambda 0.01 -----------------\n"
     ]
    },
    {
     "name": "stderr",
     "output_type": "stream",
     "text": [
      "C:\\Users\\Tanishk\\AppData\\Local\\Temp/ipykernel_18588/869318862.py:8: SettingWithCopyWarning: \n",
      "A value is trying to be set on a copy of a slice from a DataFrame.\n",
      "Try using .loc[row_indexer,col_indexer] = value instead\n",
      "\n",
      "See the caveats in the documentation: https://pandas.pydata.org/pandas-docs/stable/user_guide/indexing.html#returning-a-view-versus-a-copy\n",
      "  df[col] = df[col].apply(\n"
     ]
    },
    {
     "name": "stdout",
     "output_type": "stream",
     "text": [
      "Final Diff Cost: 9.264251826768266e-05\n",
      "Final Cost 1.4004687395882625\n",
      "Number of Iterations: 6\n",
      "Conf Matrix: Counter({'0,0': 34, '1,0': 27})\n",
      "Accuracy: 0.5573770491803278\n",
      "F1-Score: 0.7157894736842105\n",
      "-----Iteration 3  Net [32, 32, 32] Lambda 0.01 -----------------\n"
     ]
    },
    {
     "name": "stderr",
     "output_type": "stream",
     "text": [
      "C:\\Users\\Tanishk\\AppData\\Local\\Temp/ipykernel_18588/869318862.py:8: SettingWithCopyWarning: \n",
      "A value is trying to be set on a copy of a slice from a DataFrame.\n",
      "Try using .loc[row_indexer,col_indexer] = value instead\n",
      "\n",
      "See the caveats in the documentation: https://pandas.pydata.org/pandas-docs/stable/user_guide/indexing.html#returning-a-view-versus-a-copy\n",
      "  df[col] = df[col].apply(\n"
     ]
    },
    {
     "name": "stdout",
     "output_type": "stream",
     "text": [
      "Final Diff Cost: 9.401484032545149e-05\n",
      "Final Cost 1.3997820689443619\n",
      "Number of Iterations: 4\n",
      "Conf Matrix: Counter({'0,0': 34, '1,0': 27})\n",
      "Accuracy: 0.5573770491803278\n",
      "F1-Score: 0.7157894736842105\n",
      "-----Iteration 4  Net [32, 32, 32] Lambda 0.01 -----------------\n"
     ]
    },
    {
     "name": "stderr",
     "output_type": "stream",
     "text": [
      "C:\\Users\\Tanishk\\AppData\\Local\\Temp/ipykernel_18588/869318862.py:8: SettingWithCopyWarning: \n",
      "A value is trying to be set on a copy of a slice from a DataFrame.\n",
      "Try using .loc[row_indexer,col_indexer] = value instead\n",
      "\n",
      "See the caveats in the documentation: https://pandas.pydata.org/pandas-docs/stable/user_guide/indexing.html#returning-a-view-versus-a-copy\n",
      "  df[col] = df[col].apply(\n"
     ]
    },
    {
     "name": "stdout",
     "output_type": "stream",
     "text": [
      "Final Diff Cost: 9.149676968656095e-05\n",
      "Final Cost 1.3987381690410408\n",
      "Number of Iterations: 5\n",
      "Conf Matrix: Counter({'0,0': 34, '1,0': 27})\n",
      "Accuracy: 0.5573770491803278\n",
      "F1-Score: 0.7157894736842105\n",
      "-----Iteration 5  Net [32, 32, 32] Lambda 0.01 -----------------\n"
     ]
    },
    {
     "name": "stderr",
     "output_type": "stream",
     "text": [
      "C:\\Users\\Tanishk\\AppData\\Local\\Temp/ipykernel_18588/869318862.py:8: SettingWithCopyWarning: \n",
      "A value is trying to be set on a copy of a slice from a DataFrame.\n",
      "Try using .loc[row_indexer,col_indexer] = value instead\n",
      "\n",
      "See the caveats in the documentation: https://pandas.pydata.org/pandas-docs/stable/user_guide/indexing.html#returning-a-view-versus-a-copy\n",
      "  df[col] = df[col].apply(\n"
     ]
    },
    {
     "name": "stdout",
     "output_type": "stream",
     "text": [
      "Final Diff Cost: 8.956957529893117e-05\n",
      "Final Cost 1.396297065661032\n",
      "Number of Iterations: 3\n",
      "Conf Matrix: Counter({'0,0': 33, '1,0': 27, '0,1': 1})\n",
      "Accuracy: 0.5409836065573771\n",
      "F1-Score: 0.7021276595744681\n",
      "-----Iteration 6  Net [32, 32, 32] Lambda 0.01 -----------------\n"
     ]
    },
    {
     "name": "stderr",
     "output_type": "stream",
     "text": [
      "C:\\Users\\Tanishk\\AppData\\Local\\Temp/ipykernel_18588/869318862.py:8: SettingWithCopyWarning: \n",
      "A value is trying to be set on a copy of a slice from a DataFrame.\n",
      "Try using .loc[row_indexer,col_indexer] = value instead\n",
      "\n",
      "See the caveats in the documentation: https://pandas.pydata.org/pandas-docs/stable/user_guide/indexing.html#returning-a-view-versus-a-copy\n",
      "  df[col] = df[col].apply(\n"
     ]
    },
    {
     "name": "stdout",
     "output_type": "stream",
     "text": [
      "Final Diff Cost: 9.876071684566945e-05\n",
      "Final Cost 1.3962895999681888\n",
      "Number of Iterations: 6\n",
      "Conf Matrix: Counter({'0,0': 34, '1,0': 26, '1,1': 1})\n",
      "Accuracy: 0.5737704918032787\n",
      "F1-Score: 0.7234042553191489\n",
      "-----Iteration 7  Net [32, 32, 32] Lambda 0.01 -----------------\n"
     ]
    },
    {
     "name": "stderr",
     "output_type": "stream",
     "text": [
      "C:\\Users\\Tanishk\\AppData\\Local\\Temp/ipykernel_18588/869318862.py:8: SettingWithCopyWarning: \n",
      "A value is trying to be set on a copy of a slice from a DataFrame.\n",
      "Try using .loc[row_indexer,col_indexer] = value instead\n",
      "\n",
      "See the caveats in the documentation: https://pandas.pydata.org/pandas-docs/stable/user_guide/indexing.html#returning-a-view-versus-a-copy\n",
      "  df[col] = df[col].apply(\n"
     ]
    },
    {
     "name": "stdout",
     "output_type": "stream",
     "text": [
      "Final Diff Cost: 8.936694617700525e-05\n",
      "Final Cost 1.396147263659321\n",
      "Number of Iterations: 2\n",
      "Conf Matrix: Counter({'0,0': 34, '1,0': 27})\n",
      "Accuracy: 0.5573770491803278\n",
      "F1-Score: 0.7157894736842105\n",
      "-----Iteration 8  Net [32, 32, 32] Lambda 0.01 -----------------\n"
     ]
    },
    {
     "name": "stderr",
     "output_type": "stream",
     "text": [
      "C:\\Users\\Tanishk\\AppData\\Local\\Temp/ipykernel_18588/869318862.py:8: SettingWithCopyWarning: \n",
      "A value is trying to be set on a copy of a slice from a DataFrame.\n",
      "Try using .loc[row_indexer,col_indexer] = value instead\n",
      "\n",
      "See the caveats in the documentation: https://pandas.pydata.org/pandas-docs/stable/user_guide/indexing.html#returning-a-view-versus-a-copy\n",
      "  df[col] = df[col].apply(\n"
     ]
    },
    {
     "name": "stdout",
     "output_type": "stream",
     "text": [
      "Final Diff Cost: 9.989148596445396e-05\n",
      "Final Cost 1.3952664437127245\n",
      "Number of Iterations: 2\n",
      "Conf Matrix: Counter({'0,0': 33, '1,0': 27})\n",
      "Accuracy: 0.55\n",
      "F1-Score: 0.7096774193548387\n",
      "-----Iteration 9  Net [32, 32, 32] Lambda 0.01 -----------------\n"
     ]
    },
    {
     "name": "stderr",
     "output_type": "stream",
     "text": [
      "C:\\Users\\Tanishk\\AppData\\Local\\Temp/ipykernel_18588/869318862.py:8: SettingWithCopyWarning: \n",
      "A value is trying to be set on a copy of a slice from a DataFrame.\n",
      "Try using .loc[row_indexer,col_indexer] = value instead\n",
      "\n",
      "See the caveats in the documentation: https://pandas.pydata.org/pandas-docs/stable/user_guide/indexing.html#returning-a-view-versus-a-copy\n",
      "  df[col] = df[col].apply(\n"
     ]
    },
    {
     "name": "stdout",
     "output_type": "stream",
     "text": [
      "Final Diff Cost: 9.889435522336676e-05\n",
      "Final Cost 1.3950358001275216\n",
      "Number of Iterations: 5\n",
      "Conf Matrix: Counter({'0,0': 33, '1,0': 25, '1,1': 2})\n",
      "Accuracy: 0.5833333333333334\n",
      "F1-Score: 0.7252747252747253\n",
      "-----Iteration 10  Net [32, 32, 32] Lambda 0.01 -----------------\n"
     ]
    },
    {
     "name": "stderr",
     "output_type": "stream",
     "text": [
      "C:\\Users\\Tanishk\\AppData\\Local\\Temp/ipykernel_18588/869318862.py:8: SettingWithCopyWarning: \n",
      "A value is trying to be set on a copy of a slice from a DataFrame.\n",
      "Try using .loc[row_indexer,col_indexer] = value instead\n",
      "\n",
      "See the caveats in the documentation: https://pandas.pydata.org/pandas-docs/stable/user_guide/indexing.html#returning-a-view-versus-a-copy\n",
      "  df[col] = df[col].apply(\n"
     ]
    },
    {
     "name": "stdout",
     "output_type": "stream",
     "text": [
      "Final Diff Cost: -0.00041352081605583457\n",
      "Final Cost 1.0512423933046877\n",
      "Number of Iterations: 666\n",
      "Conf Matrix: Counter({'0,0': 31, '1,1': 17, '1,0': 10, '0,1': 2})\n",
      "Accuracy: 0.8\n",
      "F1-Score: 0.8378378378378378\n",
      "Number of instances in test set: 61.0\n",
      "-----Iteration 1  Net [64, 64, 64] Lambda 0.01 -----------------\n"
     ]
    },
    {
     "name": "stderr",
     "output_type": "stream",
     "text": [
      "C:\\Users\\Tanishk\\AppData\\Local\\Temp/ipykernel_18588/869318862.py:8: SettingWithCopyWarning: \n",
      "A value is trying to be set on a copy of a slice from a DataFrame.\n",
      "Try using .loc[row_indexer,col_indexer] = value instead\n",
      "\n",
      "See the caveats in the documentation: https://pandas.pydata.org/pandas-docs/stable/user_guide/indexing.html#returning-a-view-versus-a-copy\n",
      "  df[col] = df[col].apply(\n"
     ]
    },
    {
     "name": "stdout",
     "output_type": "stream",
     "text": [
      "Final Diff Cost: 1.6110243388212098e-06\n",
      "Final Cost 1.2642753620727936\n",
      "Number of Iterations: 578\n",
      "Conf Matrix: Counter({'0,0': 23, '1,0': 15, '1,1': 13, '0,1': 11})\n",
      "Accuracy: 0.5806451612903226\n",
      "F1-Score: 0.6388888888888888\n",
      "-----Iteration 2  Net [64, 64, 64] Lambda 0.01 -----------------\n"
     ]
    },
    {
     "name": "stderr",
     "output_type": "stream",
     "text": [
      "C:\\Users\\Tanishk\\AppData\\Local\\Temp/ipykernel_18588/869318862.py:8: SettingWithCopyWarning: \n",
      "A value is trying to be set on a copy of a slice from a DataFrame.\n",
      "Try using .loc[row_indexer,col_indexer] = value instead\n",
      "\n",
      "See the caveats in the documentation: https://pandas.pydata.org/pandas-docs/stable/user_guide/indexing.html#returning-a-view-versus-a-copy\n",
      "  df[col] = df[col].apply(\n"
     ]
    },
    {
     "name": "stdout",
     "output_type": "stream",
     "text": [
      "Final Diff Cost: -0.0028263830326118455\n",
      "Final Cost 1.297886822880672\n",
      "Number of Iterations: 1\n",
      "Conf Matrix: Counter({'0,0': 24, '1,0': 14, '1,1': 13, '0,1': 10})\n",
      "Accuracy: 0.6065573770491803\n",
      "F1-Score: 0.6666666666666667\n",
      "-----Iteration 3  Net [64, 64, 64] Lambda 0.01 -----------------\n"
     ]
    },
    {
     "name": "stderr",
     "output_type": "stream",
     "text": [
      "C:\\Users\\Tanishk\\AppData\\Local\\Temp/ipykernel_18588/869318862.py:8: SettingWithCopyWarning: \n",
      "A value is trying to be set on a copy of a slice from a DataFrame.\n",
      "Try using .loc[row_indexer,col_indexer] = value instead\n",
      "\n",
      "See the caveats in the documentation: https://pandas.pydata.org/pandas-docs/stable/user_guide/indexing.html#returning-a-view-versus-a-copy\n",
      "  df[col] = df[col].apply(\n"
     ]
    },
    {
     "name": "stdout",
     "output_type": "stream",
     "text": [
      "Final Diff Cost: -0.004281093994657592\n",
      "Final Cost 1.3174883786163383\n",
      "Number of Iterations: 1\n",
      "Conf Matrix: Counter({'0,0': 28, '1,1': 16, '1,0': 11, '0,1': 6})\n",
      "Accuracy: 0.7213114754098361\n",
      "F1-Score: 0.767123287671233\n",
      "-----Iteration 4  Net [64, 64, 64] Lambda 0.01 -----------------\n"
     ]
    },
    {
     "name": "stderr",
     "output_type": "stream",
     "text": [
      "C:\\Users\\Tanishk\\AppData\\Local\\Temp/ipykernel_18588/869318862.py:8: SettingWithCopyWarning: \n",
      "A value is trying to be set on a copy of a slice from a DataFrame.\n",
      "Try using .loc[row_indexer,col_indexer] = value instead\n",
      "\n",
      "See the caveats in the documentation: https://pandas.pydata.org/pandas-docs/stable/user_guide/indexing.html#returning-a-view-versus-a-copy\n",
      "  df[col] = df[col].apply(\n"
     ]
    },
    {
     "name": "stdout",
     "output_type": "stream",
     "text": [
      "Final Diff Cost: -0.040696314393081856\n",
      "Final Cost 1.2519238397016206\n",
      "Number of Iterations: 1\n",
      "Conf Matrix: Counter({'0,0': 29, '1,0': 18, '1,1': 9, '0,1': 5})\n",
      "Accuracy: 0.6229508196721312\n",
      "F1-Score: 0.7160493827160493\n",
      "-----Iteration 5  Net [64, 64, 64] Lambda 0.01 -----------------\n"
     ]
    },
    {
     "name": "stderr",
     "output_type": "stream",
     "text": [
      "C:\\Users\\Tanishk\\AppData\\Local\\Temp/ipykernel_18588/869318862.py:8: SettingWithCopyWarning: \n",
      "A value is trying to be set on a copy of a slice from a DataFrame.\n",
      "Try using .loc[row_indexer,col_indexer] = value instead\n",
      "\n",
      "See the caveats in the documentation: https://pandas.pydata.org/pandas-docs/stable/user_guide/indexing.html#returning-a-view-versus-a-copy\n",
      "  df[col] = df[col].apply(\n"
     ]
    },
    {
     "name": "stdout",
     "output_type": "stream",
     "text": [
      "Final Diff Cost: -0.15391310253390622\n",
      "Final Cost 1.7754788159238521\n",
      "Number of Iterations: 2\n",
      "Conf Matrix: Counter({'0,0': 34, '1,0': 27})\n",
      "Accuracy: 0.5573770491803278\n",
      "F1-Score: 0.7157894736842105\n",
      "-----Iteration 6  Net [64, 64, 64] Lambda 0.01 -----------------\n"
     ]
    },
    {
     "name": "stderr",
     "output_type": "stream",
     "text": [
      "C:\\Users\\Tanishk\\AppData\\Local\\Temp/ipykernel_18588/869318862.py:8: SettingWithCopyWarning: \n",
      "A value is trying to be set on a copy of a slice from a DataFrame.\n",
      "Try using .loc[row_indexer,col_indexer] = value instead\n",
      "\n",
      "See the caveats in the documentation: https://pandas.pydata.org/pandas-docs/stable/user_guide/indexing.html#returning-a-view-versus-a-copy\n",
      "  df[col] = df[col].apply(\n"
     ]
    },
    {
     "name": "stdout",
     "output_type": "stream",
     "text": [
      "Final Diff Cost: -0.1640101984972142\n",
      "Final Cost 1.7870988675858055\n",
      "Number of Iterations: 2\n",
      "Conf Matrix: Counter({'0,0': 34, '1,0': 27})\n",
      "Accuracy: 0.5573770491803278\n",
      "F1-Score: 0.7157894736842105\n",
      "-----Iteration 7  Net [64, 64, 64] Lambda 0.01 -----------------\n"
     ]
    },
    {
     "name": "stderr",
     "output_type": "stream",
     "text": [
      "C:\\Users\\Tanishk\\AppData\\Local\\Temp/ipykernel_18588/869318862.py:8: SettingWithCopyWarning: \n",
      "A value is trying to be set on a copy of a slice from a DataFrame.\n",
      "Try using .loc[row_indexer,col_indexer] = value instead\n",
      "\n",
      "See the caveats in the documentation: https://pandas.pydata.org/pandas-docs/stable/user_guide/indexing.html#returning-a-view-versus-a-copy\n",
      "  df[col] = df[col].apply(\n"
     ]
    },
    {
     "name": "stdout",
     "output_type": "stream",
     "text": [
      "Final Diff Cost: -0.10330094681629753\n",
      "Final Cost 1.6384415341904928\n",
      "Number of Iterations: 2\n",
      "Conf Matrix: Counter({'0,0': 34, '1,0': 27})\n",
      "Accuracy: 0.5573770491803278\n",
      "F1-Score: 0.7157894736842105\n",
      "-----Iteration 8  Net [64, 64, 64] Lambda 0.01 -----------------\n"
     ]
    },
    {
     "name": "stderr",
     "output_type": "stream",
     "text": [
      "C:\\Users\\Tanishk\\AppData\\Local\\Temp/ipykernel_18588/869318862.py:8: SettingWithCopyWarning: \n",
      "A value is trying to be set on a copy of a slice from a DataFrame.\n",
      "Try using .loc[row_indexer,col_indexer] = value instead\n",
      "\n",
      "See the caveats in the documentation: https://pandas.pydata.org/pandas-docs/stable/user_guide/indexing.html#returning-a-view-versus-a-copy\n",
      "  df[col] = df[col].apply(\n"
     ]
    },
    {
     "name": "stdout",
     "output_type": "stream",
     "text": [
      "Final Diff Cost: -0.0483619820980814\n",
      "Final Cost 1.5075599072675436\n",
      "Number of Iterations: 2\n",
      "Conf Matrix: Counter({'0,0': 31, '1,0': 24, '1,1': 3, '0,1': 2})\n",
      "Accuracy: 0.5666666666666667\n",
      "F1-Score: 0.7045454545454546\n",
      "-----Iteration 9  Net [64, 64, 64] Lambda 0.01 -----------------\n"
     ]
    },
    {
     "name": "stderr",
     "output_type": "stream",
     "text": [
      "C:\\Users\\Tanishk\\AppData\\Local\\Temp/ipykernel_18588/869318862.py:8: SettingWithCopyWarning: \n",
      "A value is trying to be set on a copy of a slice from a DataFrame.\n",
      "Try using .loc[row_indexer,col_indexer] = value instead\n",
      "\n",
      "See the caveats in the documentation: https://pandas.pydata.org/pandas-docs/stable/user_guide/indexing.html#returning-a-view-versus-a-copy\n",
      "  df[col] = df[col].apply(\n"
     ]
    },
    {
     "name": "stdout",
     "output_type": "stream",
     "text": [
      "Final Diff Cost: -0.012836363962118513\n",
      "Final Cost 1.4380050202545327\n",
      "Number of Iterations: 2\n",
      "Conf Matrix: Counter({'0,0': 31, '1,0': 25, '0,1': 2, '1,1': 2})\n",
      "Accuracy: 0.55\n",
      "F1-Score: 0.6966292134831461\n",
      "-----Iteration 10  Net [64, 64, 64] Lambda 0.01 -----------------\n"
     ]
    },
    {
     "name": "stderr",
     "output_type": "stream",
     "text": [
      "C:\\Users\\Tanishk\\AppData\\Local\\Temp/ipykernel_18588/869318862.py:8: SettingWithCopyWarning: \n",
      "A value is trying to be set on a copy of a slice from a DataFrame.\n",
      "Try using .loc[row_indexer,col_indexer] = value instead\n",
      "\n",
      "See the caveats in the documentation: https://pandas.pydata.org/pandas-docs/stable/user_guide/indexing.html#returning-a-view-versus-a-copy\n",
      "  df[col] = df[col].apply(\n"
     ]
    },
    {
     "name": "stdout",
     "output_type": "stream",
     "text": [
      "Final Diff Cost: -0.010600122415387325\n",
      "Final Cost 1.4371300014090387\n",
      "Number of Iterations: 2\n",
      "Conf Matrix: Counter({'0,0': 33, '1,0': 22, '1,1': 5})\n",
      "Accuracy: 0.6333333333333333\n",
      "F1-Score: 0.7499999999999999\n",
      "[0.551, 0.6299, 0.6578, 0.6924, 0.6894, 0.5965, 0.5543, 0.5543, 0.5526, 0.5527, 0.5826, 0.5954]\n",
      "[0.708, 0.6849, 0.7036, 0.7177, 0.7217, 0.6057, 0.7132, 0.7132, 0.7112, 0.7112, 0.727, 0.7087]\n"
     ]
    }
   ],
   "source": [
    "\n",
    "SC = 1e-4\n",
    "with ThreadPoolExecutor(8) as executor:\n",
    "    \n",
    "\n",
    "    for l in [.1, .01]:\n",
    "        fin_accuracy = []\n",
    "        fin_fscore = []\n",
    "\n",
    "        for num_hid in [1, 3]:\n",
    "            for num_neur in [4, 8, 16, 25, 32, 64]:\n",
    "                accs, fscores = run_cross_valid(\n",
    "                    df, num_vals, alpha=.1, net=[num_neur] * num_hid, conts=conts, lamb=l)\n",
    "                # print(f\"Accuracies: {accs},\\nMean: {np.mean(accs)}\")\n",
    "                fin_accuracy.append(np.round(np.mean(accs), decimals=4))\n",
    "                # print(f\"F1-Scores: {fscores},\\nMean: {np.mean(fscores)}\")\n",
    "                fin_fscore.append(np.round(np.mean(fscores), decimals=4))\n",
    "                # break\n",
    "            # break\n",
    "        # print()\n",
    "        # results_table(fin_accuracy)\n",
    "        # print()\n",
    "        # results_table(fin_fscore)\n",
    "        # print()\n",
    "        print(fin_accuracy)\n",
    "        print(fin_fscore)\n",
    "    \n"
   ]
  },
  {
   "cell_type": "code",
   "execution_count": null,
   "metadata": {},
   "outputs": [],
   "source": []
  }
 ],
 "metadata": {
  "kernelspec": {
   "display_name": "Python 3.9.7 64-bit",
   "language": "python",
   "name": "python3"
  },
  "language_info": {
   "codemirror_mode": {
    "name": "ipython",
    "version": 3
   },
   "file_extension": ".py",
   "mimetype": "text/x-python",
   "name": "python",
   "nbconvert_exporter": "python",
   "pygments_lexer": "ipython3",
   "version": "3.9.7"
  },
  "orig_nbformat": 4,
  "vscode": {
   "interpreter": {
    "hash": "fdff13a68e517d0fd16c82d3cf7617575db8049ef7e9d36e1fa035227d8b9827"
   }
  }
 },
 "nbformat": 4,
 "nbformat_minor": 2
}
