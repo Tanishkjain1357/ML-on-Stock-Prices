{
 "cells": [
  {
   "cell_type": "markdown",
   "metadata": {},
   "source": [
    "***Importing all packages/libraries and datasets***"
   ]
  },
  {
   "cell_type": "code",
   "execution_count": 41,
   "metadata": {},
   "outputs": [],
   "source": [
    "import pandas as pd\n",
    "import numpy as np\n",
    "import matplotlib.pyplot as plt\n",
    "import seaborn as sns\n",
    "fd_14 = pd.read_csv(\"./Stocks/2014_Financial_Data.csv\")\n",
    "fd_15 = pd.read_csv(\"./Stocks/2015_Financial_Data.csv\")\n",
    "fd_16 = pd.read_csv(\"./Stocks/2016_Financial_Data.csv\")\n",
    "fd_17 = pd.read_csv(\"./Stocks/2017_Financial_Data.csv\")\n",
    "fd_18 = pd.read_csv(\"./Stocks/2018_Financial_Data.csv\")"
   ]
  },
  {
   "cell_type": "code",
   "execution_count": 42,
   "metadata": {},
   "outputs": [
    {
     "name": "stdout",
     "output_type": "stream",
     "text": [
      "<class 'pandas.core.frame.DataFrame'>\n",
      "RangeIndex: 3808 entries, 0 to 3807\n",
      "Columns: 225 entries, Unnamed: 0 to Class\n",
      "dtypes: float64(222), int64(1), object(2)\n",
      "memory usage: 6.5+ MB\n"
     ]
    },
    {
     "data": {
      "text/html": [
       "<div>\n",
       "<style scoped>\n",
       "    .dataframe tbody tr th:only-of-type {\n",
       "        vertical-align: middle;\n",
       "    }\n",
       "\n",
       "    .dataframe tbody tr th {\n",
       "        vertical-align: top;\n",
       "    }\n",
       "\n",
       "    .dataframe thead th {\n",
       "        text-align: right;\n",
       "    }\n",
       "</style>\n",
       "<table border=\"1\" class=\"dataframe\">\n",
       "  <thead>\n",
       "    <tr style=\"text-align: right;\">\n",
       "      <th></th>\n",
       "      <th>Revenue</th>\n",
       "      <th>Revenue Growth</th>\n",
       "      <th>Cost of Revenue</th>\n",
       "      <th>Gross Profit</th>\n",
       "      <th>R&amp;D Expenses</th>\n",
       "      <th>SG&amp;A Expense</th>\n",
       "      <th>Operating Expenses</th>\n",
       "      <th>Operating Income</th>\n",
       "      <th>Interest Expense</th>\n",
       "      <th>Earnings before Tax</th>\n",
       "      <th>...</th>\n",
       "      <th>3Y Dividend per Share Growth (per Share)</th>\n",
       "      <th>Receivables growth</th>\n",
       "      <th>Inventory Growth</th>\n",
       "      <th>Asset Growth</th>\n",
       "      <th>Book Value per Share Growth</th>\n",
       "      <th>Debt Growth</th>\n",
       "      <th>R&amp;D Expense Growth</th>\n",
       "      <th>SG&amp;A Expenses Growth</th>\n",
       "      <th>2015 PRICE VAR [%]</th>\n",
       "      <th>Class</th>\n",
       "    </tr>\n",
       "  </thead>\n",
       "  <tbody>\n",
       "    <tr>\n",
       "      <th>count</th>\n",
       "      <td>3.764000e+03</td>\n",
       "      <td>3572.000000</td>\n",
       "      <td>3.734000e+03</td>\n",
       "      <td>3.756000e+03</td>\n",
       "      <td>3.672000e+03</td>\n",
       "      <td>3.749000e+03</td>\n",
       "      <td>3.745000e+03</td>\n",
       "      <td>3.753000e+03</td>\n",
       "      <td>3.745000e+03</td>\n",
       "      <td>3.728000e+03</td>\n",
       "      <td>...</td>\n",
       "      <td>3208.000000</td>\n",
       "      <td>3518.000000</td>\n",
       "      <td>3518.000000</td>\n",
       "      <td>3518.000000</td>\n",
       "      <td>3439.000000</td>\n",
       "      <td>3506.000000</td>\n",
       "      <td>3561.000000</td>\n",
       "      <td>3565.000000</td>\n",
       "      <td>3.808000e+03</td>\n",
       "      <td>3808.000000</td>\n",
       "    </tr>\n",
       "    <tr>\n",
       "      <th>mean</th>\n",
       "      <td>5.879050e+09</td>\n",
       "      <td>12.954244</td>\n",
       "      <td>3.700973e+09</td>\n",
       "      <td>2.188214e+09</td>\n",
       "      <td>9.401830e+07</td>\n",
       "      <td>9.307406e+08</td>\n",
       "      <td>1.438144e+09</td>\n",
       "      <td>6.748248e+08</td>\n",
       "      <td>1.002018e+08</td>\n",
       "      <td>5.725866e+08</td>\n",
       "      <td>...</td>\n",
       "      <td>0.036206</td>\n",
       "      <td>4.445793</td>\n",
       "      <td>0.164692</td>\n",
       "      <td>2.279999</td>\n",
       "      <td>0.813931</td>\n",
       "      <td>1.361780</td>\n",
       "      <td>0.596529</td>\n",
       "      <td>0.382284</td>\n",
       "      <td>9.751560e+02</td>\n",
       "      <td>0.429097</td>\n",
       "    </tr>\n",
       "    <tr>\n",
       "      <th>std</th>\n",
       "      <td>3.901741e+10</td>\n",
       "      <td>705.605473</td>\n",
       "      <td>3.040688e+10</td>\n",
       "      <td>1.159028e+10</td>\n",
       "      <td>6.408912e+08</td>\n",
       "      <td>4.820928e+09</td>\n",
       "      <td>7.305171e+09</td>\n",
       "      <td>3.786291e+09</td>\n",
       "      <td>6.991091e+08</td>\n",
       "      <td>2.793740e+09</td>\n",
       "      <td>...</td>\n",
       "      <td>0.259765</td>\n",
       "      <td>161.135098</td>\n",
       "      <td>2.195115</td>\n",
       "      <td>92.428920</td>\n",
       "      <td>25.630214</td>\n",
       "      <td>18.734301</td>\n",
       "      <td>25.894049</td>\n",
       "      <td>4.696975</td>\n",
       "      <td>4.098461e+04</td>\n",
       "      <td>0.495012</td>\n",
       "    </tr>\n",
       "    <tr>\n",
       "      <th>min</th>\n",
       "      <td>-6.276160e+08</td>\n",
       "      <td>-1.773200</td>\n",
       "      <td>-5.455740e+08</td>\n",
       "      <td>-1.105000e+09</td>\n",
       "      <td>-1.500000e+05</td>\n",
       "      <td>0.000000e+00</td>\n",
       "      <td>-1.088448e+09</td>\n",
       "      <td>-6.786000e+09</td>\n",
       "      <td>-2.250000e+08</td>\n",
       "      <td>-8.878000e+09</td>\n",
       "      <td>...</td>\n",
       "      <td>-1.000000</td>\n",
       "      <td>-1.000000</td>\n",
       "      <td>-1.000000</td>\n",
       "      <td>-0.979600</td>\n",
       "      <td>-230.000000</td>\n",
       "      <td>-1.051000</td>\n",
       "      <td>-1.043700</td>\n",
       "      <td>-1.000000</td>\n",
       "      <td>-1.003972e+02</td>\n",
       "      <td>0.000000</td>\n",
       "    </tr>\n",
       "    <tr>\n",
       "      <th>25%</th>\n",
       "      <td>5.788880e+07</td>\n",
       "      <td>-0.002350</td>\n",
       "      <td>3.135714e+06</td>\n",
       "      <td>3.092900e+07</td>\n",
       "      <td>0.000000e+00</td>\n",
       "      <td>1.548900e+07</td>\n",
       "      <td>3.106600e+07</td>\n",
       "      <td>-1.308000e+06</td>\n",
       "      <td>0.000000e+00</td>\n",
       "      <td>-3.732902e+06</td>\n",
       "      <td>...</td>\n",
       "      <td>0.000000</td>\n",
       "      <td>-0.045800</td>\n",
       "      <td>0.000000</td>\n",
       "      <td>-0.015400</td>\n",
       "      <td>-0.084550</td>\n",
       "      <td>-0.048200</td>\n",
       "      <td>0.000000</td>\n",
       "      <td>-0.003900</td>\n",
       "      <td>-2.857143e+01</td>\n",
       "      <td>0.000000</td>\n",
       "    </tr>\n",
       "    <tr>\n",
       "      <th>50%</th>\n",
       "      <td>4.349010e+08</td>\n",
       "      <td>0.061850</td>\n",
       "      <td>1.414420e+08</td>\n",
       "      <td>1.908760e+08</td>\n",
       "      <td>0.000000e+00</td>\n",
       "      <td>7.381800e+07</td>\n",
       "      <td>1.386610e+08</td>\n",
       "      <td>4.104400e+07</td>\n",
       "      <td>2.563000e+06</td>\n",
       "      <td>2.842700e+07</td>\n",
       "      <td>...</td>\n",
       "      <td>0.000000</td>\n",
       "      <td>0.014250</td>\n",
       "      <td>0.000000</td>\n",
       "      <td>0.062200</td>\n",
       "      <td>0.037100</td>\n",
       "      <td>0.000000</td>\n",
       "      <td>0.000000</td>\n",
       "      <td>0.068800</td>\n",
       "      <td>-5.281842e+00</td>\n",
       "      <td>0.000000</td>\n",
       "    </tr>\n",
       "    <tr>\n",
       "      <th>75%</th>\n",
       "      <td>2.393625e+09</td>\n",
       "      <td>0.188875</td>\n",
       "      <td>1.199844e+09</td>\n",
       "      <td>8.922534e+08</td>\n",
       "      <td>9.911000e+06</td>\n",
       "      <td>3.510000e+08</td>\n",
       "      <td>5.885100e+08</td>\n",
       "      <td>2.712980e+08</td>\n",
       "      <td>4.300000e+07</td>\n",
       "      <td>2.193835e+08</td>\n",
       "      <td>...</td>\n",
       "      <td>0.044000</td>\n",
       "      <td>0.205475</td>\n",
       "      <td>0.063850</td>\n",
       "      <td>0.217100</td>\n",
       "      <td>0.141900</td>\n",
       "      <td>0.210300</td>\n",
       "      <td>0.004700</td>\n",
       "      <td>0.220500</td>\n",
       "      <td>1.331484e+01</td>\n",
       "      <td>1.000000</td>\n",
       "    </tr>\n",
       "    <tr>\n",
       "      <th>max</th>\n",
       "      <td>1.824698e+12</td>\n",
       "      <td>42138.663900</td>\n",
       "      <td>1.537249e+12</td>\n",
       "      <td>4.621600e+11</td>\n",
       "      <td>1.153700e+10</td>\n",
       "      <td>1.856830e+11</td>\n",
       "      <td>3.056050e+11</td>\n",
       "      <td>1.565540e+11</td>\n",
       "      <td>3.152300e+10</td>\n",
       "      <td>8.720500e+10</td>\n",
       "      <td>...</td>\n",
       "      <td>3.605800</td>\n",
       "      <td>9328.200000</td>\n",
       "      <td>76.625000</td>\n",
       "      <td>5468.426400</td>\n",
       "      <td>1360.125000</td>\n",
       "      <td>729.576600</td>\n",
       "      <td>1542.611000</td>\n",
       "      <td>225.690000</td>\n",
       "      <td>2.418601e+06</td>\n",
       "      <td>1.000000</td>\n",
       "    </tr>\n",
       "  </tbody>\n",
       "</table>\n",
       "<p>8 rows × 223 columns</p>\n",
       "</div>"
      ],
      "text/plain": [
       "            Revenue  Revenue Growth  Cost of Revenue  Gross Profit  \\\n",
       "count  3.764000e+03     3572.000000     3.734000e+03  3.756000e+03   \n",
       "mean   5.879050e+09       12.954244     3.700973e+09  2.188214e+09   \n",
       "std    3.901741e+10      705.605473     3.040688e+10  1.159028e+10   \n",
       "min   -6.276160e+08       -1.773200    -5.455740e+08 -1.105000e+09   \n",
       "25%    5.788880e+07       -0.002350     3.135714e+06  3.092900e+07   \n",
       "50%    4.349010e+08        0.061850     1.414420e+08  1.908760e+08   \n",
       "75%    2.393625e+09        0.188875     1.199844e+09  8.922534e+08   \n",
       "max    1.824698e+12    42138.663900     1.537249e+12  4.621600e+11   \n",
       "\n",
       "       R&D Expenses  SG&A Expense  Operating Expenses  Operating Income  \\\n",
       "count  3.672000e+03  3.749000e+03        3.745000e+03      3.753000e+03   \n",
       "mean   9.401830e+07  9.307406e+08        1.438144e+09      6.748248e+08   \n",
       "std    6.408912e+08  4.820928e+09        7.305171e+09      3.786291e+09   \n",
       "min   -1.500000e+05  0.000000e+00       -1.088448e+09     -6.786000e+09   \n",
       "25%    0.000000e+00  1.548900e+07        3.106600e+07     -1.308000e+06   \n",
       "50%    0.000000e+00  7.381800e+07        1.386610e+08      4.104400e+07   \n",
       "75%    9.911000e+06  3.510000e+08        5.885100e+08      2.712980e+08   \n",
       "max    1.153700e+10  1.856830e+11        3.056050e+11      1.565540e+11   \n",
       "\n",
       "       Interest Expense  Earnings before Tax  ...  \\\n",
       "count      3.745000e+03         3.728000e+03  ...   \n",
       "mean       1.002018e+08         5.725866e+08  ...   \n",
       "std        6.991091e+08         2.793740e+09  ...   \n",
       "min       -2.250000e+08        -8.878000e+09  ...   \n",
       "25%        0.000000e+00        -3.732902e+06  ...   \n",
       "50%        2.563000e+06         2.842700e+07  ...   \n",
       "75%        4.300000e+07         2.193835e+08  ...   \n",
       "max        3.152300e+10         8.720500e+10  ...   \n",
       "\n",
       "       3Y Dividend per Share Growth (per Share)  Receivables growth  \\\n",
       "count                               3208.000000         3518.000000   \n",
       "mean                                   0.036206            4.445793   \n",
       "std                                    0.259765          161.135098   \n",
       "min                                   -1.000000           -1.000000   \n",
       "25%                                    0.000000           -0.045800   \n",
       "50%                                    0.000000            0.014250   \n",
       "75%                                    0.044000            0.205475   \n",
       "max                                    3.605800         9328.200000   \n",
       "\n",
       "       Inventory Growth  Asset Growth  Book Value per Share Growth  \\\n",
       "count       3518.000000   3518.000000                  3439.000000   \n",
       "mean           0.164692      2.279999                     0.813931   \n",
       "std            2.195115     92.428920                    25.630214   \n",
       "min           -1.000000     -0.979600                  -230.000000   \n",
       "25%            0.000000     -0.015400                    -0.084550   \n",
       "50%            0.000000      0.062200                     0.037100   \n",
       "75%            0.063850      0.217100                     0.141900   \n",
       "max           76.625000   5468.426400                  1360.125000   \n",
       "\n",
       "       Debt Growth  R&D Expense Growth  SG&A Expenses Growth  \\\n",
       "count  3506.000000         3561.000000           3565.000000   \n",
       "mean      1.361780            0.596529              0.382284   \n",
       "std      18.734301           25.894049              4.696975   \n",
       "min      -1.051000           -1.043700             -1.000000   \n",
       "25%      -0.048200            0.000000             -0.003900   \n",
       "50%       0.000000            0.000000              0.068800   \n",
       "75%       0.210300            0.004700              0.220500   \n",
       "max     729.576600         1542.611000            225.690000   \n",
       "\n",
       "       2015 PRICE VAR [%]        Class  \n",
       "count        3.808000e+03  3808.000000  \n",
       "mean         9.751560e+02     0.429097  \n",
       "std          4.098461e+04     0.495012  \n",
       "min         -1.003972e+02     0.000000  \n",
       "25%         -2.857143e+01     0.000000  \n",
       "50%         -5.281842e+00     0.000000  \n",
       "75%          1.331484e+01     1.000000  \n",
       "max          2.418601e+06     1.000000  \n",
       "\n",
       "[8 rows x 223 columns]"
      ]
     },
     "execution_count": 42,
     "metadata": {},
     "output_type": "execute_result"
    }
   ],
   "source": [
    "# print(fd_14.head())\n",
    "# print(fd_15.head())\n",
    "# print(fd_16.head())\n",
    "# print(fd_17.head())\n",
    "# print(fd_18.head())\n",
    "fd_14.info()\n",
    "fd_14.describe()\n",
    "# print(fd_14[[\"Unnamed: 0\", \"Asset Growth\", \"2015 PRICE VAR [%]\", \"Class\"]])"
   ]
  },
  {
   "cell_type": "code",
   "execution_count": 43,
   "metadata": {},
   "outputs": [
    {
     "data": {
      "text/plain": [
       "['Unnamed: 0', 'Sector']"
      ]
     },
     "execution_count": 43,
     "metadata": {},
     "output_type": "execute_result"
    }
   ],
   "source": [
    "object_cols = list(filter(lambda x: isinstance(fd_14[x][0], str), fd_14.columns))\n",
    "object_cols"
   ]
  },
  {
   "cell_type": "code",
   "execution_count": 54,
   "metadata": {},
   "outputs": [
    {
     "name": "stdout",
     "output_type": "stream",
     "text": [
      "['Consumer Defensive' 'Basic Materials' 'Healthcare' 'Consumer Cyclical'\n",
      " 'Industrials' 'Real Estate' 'Communication Services' 'Energy'\n",
      " 'Financial Services' 'Utilities' 'Technology']\n",
      "0    2174\n",
      "1    1634\n",
      "Name: Class, dtype: int64\n"
     ]
    },
    {
     "name": "stderr",
     "output_type": "stream",
     "text": [
      "C:\\Users\\Tanishk\\AppData\\Local\\Programs\\Python\\Python39\\lib\\site-packages\\seaborn\\_decorators.py:36: FutureWarning: Pass the following variables as keyword args: x, y. From version 0.12, the only valid positional argument will be `data`, and passing other arguments without an explicit keyword will result in an error or misinterpretation.\n",
      "  warnings.warn(\n"
     ]
    },
    {
     "data": {
      "image/png": "[encoded data removed]",
      "text/plain": [
       "<Figure size 432x288 with 1 Axes>"
      ]
     },
     "metadata": {
      "needs_background": "light"
     },
     "output_type": "display_data"
    },
    {
     "name": "stdout",
     "output_type": "stream",
     "text": [
      "Financial Services        660\n",
      "Healthcare                582\n",
      "Technology                576\n",
      "Industrials               501\n",
      "Consumer Cyclical         457\n",
      "Basic Materials           242\n",
      "Real Estate               224\n",
      "Energy                    221\n",
      "Consumer Defensive        165\n",
      "Utilities                  97\n",
      "Communication Services     83\n",
      "Name: Sector, dtype: int64\n"
     ]
    },
    {
     "name": "stderr",
     "output_type": "stream",
     "text": [
      "C:\\Users\\Tanishk\\AppData\\Local\\Programs\\Python\\Python39\\lib\\site-packages\\seaborn\\_decorators.py:36: FutureWarning: Pass the following variables as keyword args: x, y. From version 0.12, the only valid positional argument will be `data`, and passing other arguments without an explicit keyword will result in an error or misinterpretation.\n",
      "  warnings.warn(\n"
     ]
    },
    {
     "data": {
      "image/png": "[encoded data removed]",
      "text/plain": [
       "<Figure size 432x288 with 1 Axes>"
      ]
     },
     "metadata": {
      "needs_background": "light"
     },
     "output_type": "display_data"
    }
   ],
   "source": [
    "print(fd_14['Sector'].unique())\n",
    "\n",
    "df_class = fd_14['Class'].value_counts()\n",
    "print(df_class)\n",
    "sns.barplot(np.arange(len(df_class)), df_class)\n",
    "plt.show()\n",
    "\n",
    "\n",
    "df_sector = fd_14['Sector'].value_counts()\n",
    "print(df_sector)\n",
    "sns.barplot(np.arange(len(df_sector)), df_sector)\n",
    "plt.xticks(np.arange(len(df_sector)), df_sector.index.values.tolist(), rotation=90)\n",
    "plt.show()"
   ]
  },
  {
   "cell_type": "markdown",
   "metadata": {},
   "source": [
    "***Attempting to clean data***"
   ]
  },
  {
   "cell_type": "code",
   "execution_count": 3,
   "metadata": {},
   "outputs": [
    {
     "name": "stdout",
     "output_type": "stream",
     "text": [
      "  Unnamed: 0       Revenue  Revenue Growth  Cost of Revenue  Gross Profit  \\\n",
      "0         PG  7.440100e+10         -0.0713     3.903000e+10  3.537100e+10   \n",
      "1       VIPS  3.734148e+09          1.1737     2.805625e+09  9.285226e+08   \n",
      "2         KR  9.837500e+10          0.0182     7.813800e+10  2.023700e+10   \n",
      "3        RAD  2.552641e+10          0.0053     1.820268e+10  7.323734e+09   \n",
      "4        GIS  1.790960e+10          0.0076     1.153980e+10  6.369800e+09   \n",
      "\n",
      "   R&D Expenses  SG&A Expense  Operating Expenses  Operating Income  \\\n",
      "0  0.000000e+00  2.146100e+10        2.146100e+10      1.391000e+10   \n",
      "1  1.083303e+08  3.441414e+08        7.939267e+08      1.345959e+08   \n",
      "2  0.000000e+00  1.519600e+10        1.751200e+10      2.725000e+09   \n",
      "3  0.000000e+00  6.561162e+09        6.586482e+09      7.372520e+08   \n",
      "4  0.000000e+00  3.474300e+09        3.412400e+09      2.957400e+09   \n",
      "\n",
      "   Interest Expense  ...  Receivables growth  Inventory Growth  Asset Growth  \\\n",
      "0      7.090000e+08  ...             -0.0187           -0.0217        0.0359   \n",
      "1      1.214869e+07  ...                 NaN               NaN           NaN   \n",
      "2      4.430000e+08  ...              0.0618            0.0981        0.1886   \n",
      "3      4.245910e+08  ...              0.0211           -0.0510       -0.0189   \n",
      "4      3.024000e+08  ...              0.0257            0.0090        0.0215   \n",
      "\n",
      "   Book Value per Share Growth  Debt Growth  R&D Expense Growth  \\\n",
      "0                       0.0316       0.1228              0.0000   \n",
      "1                          NaN          NaN              1.6484   \n",
      "2                       0.3268       0.2738              0.0000   \n",
      "3                       0.1963      -0.0458              0.0000   \n",
      "4                       0.0274       0.1025              0.0000   \n",
      "\n",
      "   SG&A Expenses Growth              Sector  2015 PRICE VAR [%]  Class  \n",
      "0               -0.1746  Consumer Defensive           -9.323276      0  \n",
      "1                1.7313  Consumer Defensive          -25.512193      0  \n",
      "2                0.0234  Consumer Defensive           33.118297      1  \n",
      "3               -0.0060  Consumer Defensive            2.752291      1  \n",
      "4               -0.0220  Consumer Defensive           12.897715      1  \n",
      "\n",
      "[5 rows x 222 columns]\n",
      "(3808, 222)\n"
     ]
    }
   ],
   "source": [
    "# Dropped those columns with more than 50% of their elements as NULL\n",
    "fd_14 = fd_14.dropna(thresh=len(fd_14)/2, axis=1)\n",
    "print(fd_14.head())\n",
    "print(fd_14.shape)"
   ]
  },
  {
   "cell_type": "code",
   "execution_count": 4,
   "metadata": {},
   "outputs": [
    {
     "data": {
      "text/plain": [
       "Unnamed: 0                0\n",
       "Revenue                  44\n",
       "Revenue Growth          236\n",
       "Cost of Revenue          74\n",
       "Gross Profit             52\n",
       "                       ... \n",
       "R&D Expense Growth      247\n",
       "SG&A Expenses Growth    243\n",
       "Sector                    0\n",
       "2015 PRICE VAR [%]        0\n",
       "Class                     0\n",
       "Length: 222, dtype: int64"
      ]
     },
     "execution_count": 4,
     "metadata": {},
     "output_type": "execute_result"
    }
   ],
   "source": [
    "\n",
    "fd_14.isnull().sum()"
   ]
  },
  {
   "cell_type": "code",
   "execution_count": 5,
   "metadata": {},
   "outputs": [],
   "source": [
    "# Test to see how many rows will be left if all NULL valued rows were removed\n",
    "# print(fd_14.dropna().shape)"
   ]
  },
  {
   "cell_type": "markdown",
   "metadata": {},
   "source": [
    "**THIS IS NOT GOOD AS WE LOST A LOT OF DATA**"
   ]
  },
  {
   "cell_type": "code",
   "execution_count": 6,
   "metadata": {},
   "outputs": [],
   "source": [
    "testGrowth = list(map(lambda x: 1 if not np.isnan(x) else 0, fd_14[\"Revenue Growth\"]))\n",
    "fd_14[\"testGrowth\"] = testGrowth\n"
   ]
  },
  {
   "cell_type": "code",
   "execution_count": 17,
   "metadata": {},
   "outputs": [
    {
     "name": "stdout",
     "output_type": "stream",
     "text": [
      "Class\n",
      "0    114\n",
      "1    122\n",
      "Name: Class, dtype: int64\n",
      "Class\n",
      "0    2060\n",
      "1    1512\n",
      "Name: Class, dtype: int64\n"
     ]
    }
   ],
   "source": [
    "test14 = fd_14[(fd_14.testGrowth == 0)] ## Null values\n",
    "test14[['Class', 'testGrowth']]\n",
    "print(test14.groupby('Class')['Class'].count())\n",
    "\n",
    "test14 = fd_14[(fd_14.testGrowth == 1)] ## Non Null values\n",
    "test14[['Class', 'testGrowth']]\n",
    "print(test14.groupby('Class')['Class'].count())"
   ]
  },
  {
   "cell_type": "code",
   "execution_count": null,
   "metadata": {},
   "outputs": [],
   "source": []
  },
  {
   "cell_type": "markdown",
   "metadata": {},
   "source": [
    "**Looking at relationships between some variables**"
   ]
  },
  {
   "cell_type": "code",
   "execution_count": 6,
   "metadata": {},
   "outputs": [],
   "source": [
    "# print(fd_14[\"Revenue\"])\n",
    "fd_14[\"Revenue\"] = fd_14[\"Revenue\"].fillna(0.0) \n",
    "# fd_14[\"Revenue Growth\"] = fd_14[\"Revenue Growth\"].fillna(fd_14[\"Revenue Growth\"].mean())"
   ]
  },
  {
   "cell_type": "code",
   "execution_count": 13,
   "metadata": {},
   "outputs": [
    {
     "data": {
      "text/plain": [
       "1    122\n",
       "0    114\n",
       "Name: Class, dtype: int64"
      ]
     },
     "execution_count": 13,
     "metadata": {},
     "output_type": "execute_result"
    }
   ],
   "source": [
    "# fig = plt.figure()\n",
    "\n",
    "\n",
    "# plt.bar(x=fd_14['Class'], y = fd_14[\"testGrowth\"])\n",
    "# plt.xlabel(\"Revenue Growth\")\n",
    "# plt.ylabel(\"Should I buy it or not\")\n",
    "# plt.hist()\n",
    "# plt.show()\n",
    "test14['Class'].value_counts()"
   ]
  },
  {
   "cell_type": "code",
   "execution_count": 11,
   "metadata": {},
   "outputs": [
    {
     "name": "stdout",
     "output_type": "stream",
     "text": [
      "12.95424370100784\n",
      "0      -0.0713\n",
      "1       1.1737\n",
      "2       0.0182\n",
      "3       0.0053\n",
      "4       0.0076\n",
      "         ...  \n",
      "3803    0.1028\n",
      "3804   -0.1019\n",
      "3805       NaN\n",
      "3806    0.1344\n",
      "3807    0.1925\n",
      "Name: Revenue Growth, Length: 3808, dtype: float64\n"
     ]
    }
   ],
   "source": [
    "# col = list(fd_14.columns)\n",
    "# rev = list(filter(lambda a: \"revenue\" in a or \"Revenue\" in a, col))\n",
    "# print(rev)\n",
    "# expenses = list(filter(lambda a: \"expense\" in a or \"Expense\" in a, col))\n",
    "# print(expenses)\n",
    "print(fd_14[\"Revenue Growth\"].mean())\n",
    "print(fd_14[\"Revenue Growth\"])"
   ]
  }
 ],
 "metadata": {
  "interpreter": {
   "hash": "1d115a98ca87b6a6f8565340c4ce5ac9848f44cd71fe7f5f9f86e31e764ae876"
  },
  "kernelspec": {
   "display_name": "Python 3.9.7 64-bit",
   "language": "python",
   "name": "python3"
  },
  "language_info": {
   "codemirror_mode": {
    "name": "ipython",
    "version": 3
   },
   "file_extension": ".py",
   "mimetype": "text/x-python",
   "name": "python",
   "nbconvert_exporter": "python",
   "pygments_lexer": "ipython3",
   "version": "3.9.7"
  },
  "orig_nbformat": 4
 },
 "nbformat": 4,
 "nbformat_minor": 2
}
