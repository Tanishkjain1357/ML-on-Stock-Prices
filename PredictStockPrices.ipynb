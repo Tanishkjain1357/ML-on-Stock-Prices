{
 "cells": [
  {
   "cell_type": "markdown",
   "metadata": {},
   "source": [
    "***Importing all packages/libraries and datasets***"
   ]
  },
  {
   "cell_type": "code",
   "execution_count": 5,
   "metadata": {},
   "outputs": [],
   "source": [
    "import pandas as pd\n",
    "import numpy as np\n",
    "import matplotlib.pyplot as plt\n",
    "fd_14 = pd.read_csv(\"./Stocks/2014_Financial_Data.csv\")\n",
    "fd_15 = pd.read_csv(\"./Stocks/2015_Financial_Data.csv\")\n",
    "fd_16 = pd.read_csv(\"./Stocks/2016_Financial_Data.csv\")\n",
    "fd_17 = pd.read_csv(\"./Stocks/2017_Financial_Data.csv\")\n",
    "fd_18 = pd.read_csv(\"./Stocks/2018_Financial_Data.csv\")"
   ]
  },
  {
   "cell_type": "code",
   "execution_count": 11,
   "metadata": {},
   "outputs": [
    {
     "name": "stdout",
     "output_type": "stream",
     "text": [
      "Index(['Unnamed: 0', 'Revenue', 'Revenue Growth', 'Cost of Revenue',\n",
      "       'Gross Profit', 'R&D Expenses', 'SG&A Expense', 'Operating Expenses',\n",
      "       'Operating Income', 'Interest Expense',\n",
      "       ...\n",
      "       'Receivables growth', 'Inventory Growth', 'Asset Growth',\n",
      "       'Book Value per Share Growth', 'Debt Growth', 'R&D Expense Growth',\n",
      "       'SG&A Expenses Growth', 'Sector', '2015 PRICE VAR [%]', 'Class'],\n",
      "      dtype='object', length=225)\n",
      "     Unnamed: 0  Asset Growth  2015 PRICE VAR [%]  Class\n",
      "0            PG        0.0359           -9.323276      0\n",
      "1          VIPS           NaN          -25.512193      0\n",
      "2            KR        0.1886           33.118297      1\n",
      "3           RAD       -0.0189            2.752291      1\n",
      "4           GIS        0.0215           12.897715      1\n",
      "...         ...           ...                 ...    ...\n",
      "3803       TSRI       -0.0041           29.362884      1\n",
      "3804       TZOO       -0.1872          -31.167763      0\n",
      "3805      USATP           NaN          -23.558900      0\n",
      "3806       WSTG        0.0023            7.779579      1\n",
      "3807        WTT       -0.1646          -34.099613      0\n",
      "\n",
      "[3808 rows x 4 columns]\n"
     ]
    }
   ],
   "source": [
    "# print(fd_14.head())\n",
    "# print(fd_15.head())\n",
    "# print(fd_16.head())\n",
    "# print(fd_17.head())\n",
    "# print(fd_18.head())\n",
    "\n",
    "print(fd_14.columns)\n",
    "print(fd_14[[\"Unnamed: 0\", \"Asset Growth\", \"2015 PRICE VAR [%]\", \"Class\"]])"
   ]
  }
 ],
 "metadata": {
  "interpreter": {
   "hash": "1d115a98ca87b6a6f8565340c4ce5ac9848f44cd71fe7f5f9f86e31e764ae876"
  },
  "kernelspec": {
   "display_name": "Python 3.9.7 64-bit",
   "language": "python",
   "name": "python3"
  },
  "language_info": {
   "codemirror_mode": {
    "name": "ipython",
    "version": 3
   },
   "file_extension": ".py",
   "mimetype": "text/x-python",
   "name": "python",
   "nbconvert_exporter": "python",
   "pygments_lexer": "ipython3",
   "version": "3.9.7"
  },
  "orig_nbformat": 4
 },
 "nbformat": 4,
 "nbformat_minor": 2
}
