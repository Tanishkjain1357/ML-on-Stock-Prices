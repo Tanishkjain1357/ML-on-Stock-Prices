{
 "cells": [
  {
   "cell_type": "code",
   "execution_count": 1,
   "metadata": {},
   "outputs": [
    {
     "name": "stdout",
     "output_type": "stream",
     "text": [
      "  Unnamed: 0       Revenue  Revenue Growth  Cost of Revenue  Gross Profit  \\\n",
      "0         PG  7.440100e+10         -0.0713     3.903000e+10  3.537100e+10   \n",
      "1       VIPS  3.734148e+09          1.1737     2.805625e+09  9.285226e+08   \n",
      "2         KR  9.837500e+10          0.0182     7.813800e+10  2.023700e+10   \n",
      "3        RAD  2.552641e+10          0.0053     1.820268e+10  7.323734e+09   \n",
      "4        GIS  1.790960e+10          0.0076     1.153980e+10  6.369800e+09   \n",
      "\n",
      "   R&D Expenses  SG&A Expense  Operating Expenses  Operating Income  \\\n",
      "0  0.000000e+00  2.146100e+10        2.146100e+10      1.391000e+10   \n",
      "1  1.083303e+08  3.441414e+08        7.939267e+08      1.345959e+08   \n",
      "2  0.000000e+00  1.519600e+10        1.751200e+10      2.725000e+09   \n",
      "3  0.000000e+00  6.561162e+09        6.586482e+09      7.372520e+08   \n",
      "4  0.000000e+00  3.474300e+09        3.412400e+09      2.957400e+09   \n",
      "\n",
      "   Interest Expense  ...  Receivables growth  Inventory Growth  Asset Growth  \\\n",
      "0      7.090000e+08  ...             -0.0187           -0.0217        0.0359   \n",
      "1      1.214869e+07  ...                 NaN               NaN           NaN   \n",
      "2      4.430000e+08  ...              0.0618            0.0981        0.1886   \n",
      "3      4.245910e+08  ...              0.0211           -0.0510       -0.0189   \n",
      "4      3.024000e+08  ...              0.0257            0.0090        0.0215   \n",
      "\n",
      "   Book Value per Share Growth  Debt Growth  R&D Expense Growth  \\\n",
      "0                       0.0316       0.1228              0.0000   \n",
      "1                          NaN          NaN              1.6484   \n",
      "2                       0.3268       0.2738              0.0000   \n",
      "3                       0.1963      -0.0458              0.0000   \n",
      "4                       0.0274       0.1025              0.0000   \n",
      "\n",
      "   SG&A Expenses Growth              Sector  2015 PRICE VAR [%]  Class  \n",
      "0               -0.1746  Consumer Defensive           -9.323276      0  \n",
      "1                1.7313  Consumer Defensive          -25.512193      0  \n",
      "2                0.0234  Consumer Defensive           33.118297      1  \n",
      "3               -0.0060  Consumer Defensive            2.752291      1  \n",
      "4               -0.0220  Consumer Defensive           12.897715      1  \n",
      "\n",
      "[5 rows x 225 columns]\n"
     ]
    }
   ],
   "source": [
    "import pandas as pd\n",
    "\n",
    "fd_14 = pd.read_csv(\"./Stocks/2014_Financial_Data.csv\")\n",
    "\n",
    "print(fd_14.head())\n"
   ]
  }
 ],
 "metadata": {
  "interpreter": {
   "hash": "1d115a98ca87b6a6f8565340c4ce5ac9848f44cd71fe7f5f9f86e31e764ae876"
  },
  "kernelspec": {
   "display_name": "Python 3.9.7 64-bit",
   "language": "python",
   "name": "python3"
  },
  "language_info": {
   "codemirror_mode": {
    "name": "ipython",
    "version": 3
   },
   "file_extension": ".py",
   "mimetype": "text/x-python",
   "name": "python",
   "nbconvert_exporter": "python",
   "pygments_lexer": "ipython3",
   "version": "3.9.7"
  },
  "orig_nbformat": 4
 },
 "nbformat": 4,
 "nbformat_minor": 2
}
