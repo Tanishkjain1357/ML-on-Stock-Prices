{
 "cells": [
  {
   "cell_type": "markdown",
   "metadata": {},
   "source": [
    "***Importing all packages/libraries and datasets***"
   ]
  },
  {
   "cell_type": "code",
   "execution_count": 1,
   "metadata": {},
   "outputs": [],
   "source": [
    "import pandas as pd\n",
    "import numpy as np\n",
    "import matplotlib.pyplot as plt\n",
    "fd_14 = pd.read_csv(\"./Stocks/2014_Financial_Data.csv\")\n",
    "fd_15 = pd.read_csv(\"./Stocks/2015_Financial_Data.csv\")\n",
    "fd_16 = pd.read_csv(\"./Stocks/2016_Financial_Data.csv\")\n",
    "fd_17 = pd.read_csv(\"./Stocks/2017_Financial_Data.csv\")\n",
    "fd_18 = pd.read_csv(\"./Stocks/2018_Financial_Data.csv\")"
   ]
  },
  {
   "cell_type": "code",
   "execution_count": 2,
   "metadata": {},
   "outputs": [
    {
     "name": "stdout",
     "output_type": "stream",
     "text": [
      "(3808, 225)\n",
      "Index(['Unnamed: 0', 'Revenue', 'Revenue Growth', 'Cost of Revenue',\n",
      "       'Gross Profit', 'R&D Expenses', 'SG&A Expense', 'Operating Expenses',\n",
      "       'Operating Income', 'Interest Expense',\n",
      "       ...\n",
      "       'Receivables growth', 'Inventory Growth', 'Asset Growth',\n",
      "       'Book Value per Share Growth', 'Debt Growth', 'R&D Expense Growth',\n",
      "       'SG&A Expenses Growth', 'Sector', '2015 PRICE VAR [%]', 'Class'],\n",
      "      dtype='object', length=225)\n",
      "     Unnamed: 0  Asset Growth  2015 PRICE VAR [%]  Class\n",
      "0            PG        0.0359           -9.323276      0\n",
      "1          VIPS           NaN          -25.512193      0\n",
      "2            KR        0.1886           33.118297      1\n",
      "3           RAD       -0.0189            2.752291      1\n",
      "4           GIS        0.0215           12.897715      1\n",
      "...         ...           ...                 ...    ...\n",
      "3803       TSRI       -0.0041           29.362884      1\n",
      "3804       TZOO       -0.1872          -31.167763      0\n",
      "3805      USATP           NaN          -23.558900      0\n",
      "3806       WSTG        0.0023            7.779579      1\n",
      "3807        WTT       -0.1646          -34.099613      0\n",
      "\n",
      "[3808 rows x 4 columns]\n"
     ]
    }
   ],
   "source": [
    "# print(fd_14.head())\n",
    "# print(fd_15.head())\n",
    "# print(fd_16.head())\n",
    "# print(fd_17.head())\n",
    "# print(fd_18.head())\n",
    "print(fd_14.shape)\n",
    "print(fd_14.columns)\n",
    "print(fd_14[[\"Unnamed: 0\", \"Asset Growth\", \"2015 PRICE VAR [%]\", \"Class\"]])"
   ]
  },
  {
   "cell_type": "markdown",
   "metadata": {},
   "source": [
    "***Attempting to clean data***"
   ]
  },
  {
   "cell_type": "code",
   "execution_count": 3,
   "metadata": {},
   "outputs": [
    {
     "name": "stdout",
     "output_type": "stream",
     "text": [
      "  Unnamed: 0       Revenue  Revenue Growth  Cost of Revenue  Gross Profit  \\\n",
      "0         PG  7.440100e+10         -0.0713     3.903000e+10  3.537100e+10   \n",
      "1       VIPS  3.734148e+09          1.1737     2.805625e+09  9.285226e+08   \n",
      "2         KR  9.837500e+10          0.0182     7.813800e+10  2.023700e+10   \n",
      "3        RAD  2.552641e+10          0.0053     1.820268e+10  7.323734e+09   \n",
      "4        GIS  1.790960e+10          0.0076     1.153980e+10  6.369800e+09   \n",
      "\n",
      "   R&D Expenses  SG&A Expense  Operating Expenses  Operating Income  \\\n",
      "0  0.000000e+00  2.146100e+10        2.146100e+10      1.391000e+10   \n",
      "1  1.083303e+08  3.441414e+08        7.939267e+08      1.345959e+08   \n",
      "2  0.000000e+00  1.519600e+10        1.751200e+10      2.725000e+09   \n",
      "3  0.000000e+00  6.561162e+09        6.586482e+09      7.372520e+08   \n",
      "4  0.000000e+00  3.474300e+09        3.412400e+09      2.957400e+09   \n",
      "\n",
      "   Interest Expense  ...  Receivables growth  Inventory Growth  Asset Growth  \\\n",
      "0      7.090000e+08  ...             -0.0187           -0.0217        0.0359   \n",
      "1      1.214869e+07  ...                 NaN               NaN           NaN   \n",
      "2      4.430000e+08  ...              0.0618            0.0981        0.1886   \n",
      "3      4.245910e+08  ...              0.0211           -0.0510       -0.0189   \n",
      "4      3.024000e+08  ...              0.0257            0.0090        0.0215   \n",
      "\n",
      "   Book Value per Share Growth  Debt Growth  R&D Expense Growth  \\\n",
      "0                       0.0316       0.1228              0.0000   \n",
      "1                          NaN          NaN              1.6484   \n",
      "2                       0.3268       0.2738              0.0000   \n",
      "3                       0.1963      -0.0458              0.0000   \n",
      "4                       0.0274       0.1025              0.0000   \n",
      "\n",
      "   SG&A Expenses Growth              Sector  2015 PRICE VAR [%]  Class  \n",
      "0               -0.1746  Consumer Defensive           -9.323276      0  \n",
      "1                1.7313  Consumer Defensive          -25.512193      0  \n",
      "2                0.0234  Consumer Defensive           33.118297      1  \n",
      "3               -0.0060  Consumer Defensive            2.752291      1  \n",
      "4               -0.0220  Consumer Defensive           12.897715      1  \n",
      "\n",
      "[5 rows x 222 columns]\n",
      "(3808, 222)\n"
     ]
    }
   ],
   "source": [
    "# Dropped those columns with more than 50% of their elements as NULL\n",
    "fd_14 = fd_14.dropna(thresh=len(fd_14)/2, axis=1)\n",
    "print(fd_14.head())\n",
    "print(fd_14.shape)"
   ]
  },
  {
   "cell_type": "code",
   "execution_count": 4,
   "metadata": {},
   "outputs": [
    {
     "data": {
      "text/plain": [
       "Unnamed: 0                0\n",
       "Revenue                  44\n",
       "Revenue Growth          236\n",
       "Cost of Revenue          74\n",
       "Gross Profit             52\n",
       "                       ... \n",
       "R&D Expense Growth      247\n",
       "SG&A Expenses Growth    243\n",
       "Sector                    0\n",
       "2015 PRICE VAR [%]        0\n",
       "Class                     0\n",
       "Length: 222, dtype: int64"
      ]
     },
     "execution_count": 4,
     "metadata": {},
     "output_type": "execute_result"
    }
   ],
   "source": [
    "\n",
    "fd_14.isnull().sum()"
   ]
  },
  {
   "cell_type": "code",
   "execution_count": 5,
   "metadata": {},
   "outputs": [],
   "source": [
    "# Test to see how many rows will be left if all NULL valued rows were removed\n",
    "# print(fd_14.dropna().shape)"
   ]
  },
  {
   "cell_type": "markdown",
   "metadata": {},
   "source": [
    "**THIS IS NOT GOOD AS WE LOST A LOT OF DATA**"
   ]
  },
  {
   "cell_type": "code",
   "execution_count": 6,
   "metadata": {},
   "outputs": [],
   "source": [
    "testGrowth = list(map(lambda x: 1 if not np.isnan(x) else 0, fd_14[\"Revenue Growth\"]))\n",
    "fd_14[\"testGrowth\"] = testGrowth\n"
   ]
  },
  {
   "cell_type": "code",
   "execution_count": 17,
   "metadata": {},
   "outputs": [
    {
     "name": "stdout",
     "output_type": "stream",
     "text": [
      "Class\n",
      "0    114\n",
      "1    122\n",
      "Name: Class, dtype: int64\n",
      "Class\n",
      "0    2060\n",
      "1    1512\n",
      "Name: Class, dtype: int64\n"
     ]
    }
   ],
   "source": [
    "test14 = fd_14[(fd_14.testGrowth == 0)] ## Null values\n",
    "test14[['Class', 'testGrowth']]\n",
    "print(test14.groupby('Class')['Class'].count())\n",
    "\n",
    "test14 = fd_14[(fd_14.testGrowth == 1)] ## Non Null values\n",
    "test14[['Class', 'testGrowth']]\n",
    "print(test14.groupby('Class')['Class'].count())"
   ]
  },
  {
   "cell_type": "code",
   "execution_count": null,
   "metadata": {},
   "outputs": [],
   "source": []
  },
  {
   "cell_type": "markdown",
   "metadata": {},
   "source": [
    "**Looking at relationships between some variables**"
   ]
  },
  {
   "cell_type": "code",
   "execution_count": 6,
   "metadata": {},
   "outputs": [],
   "source": [
    "# print(fd_14[\"Revenue\"])\n",
    "fd_14[\"Revenue\"] = fd_14[\"Revenue\"].fillna(0.0) \n",
    "# fd_14[\"Revenue Growth\"] = fd_14[\"Revenue Growth\"].fillna(fd_14[\"Revenue Growth\"].mean())"
   ]
  },
  {
   "cell_type": "code",
   "execution_count": 13,
   "metadata": {},
   "outputs": [
    {
     "data": {
      "text/plain": [
       "1    122\n",
       "0    114\n",
       "Name: Class, dtype: int64"
      ]
     },
     "execution_count": 13,
     "metadata": {},
     "output_type": "execute_result"
    }
   ],
   "source": [
    "# fig = plt.figure()\n",
    "\n",
    "\n",
    "# plt.bar(x=fd_14['Class'], y = fd_14[\"testGrowth\"])\n",
    "# plt.xlabel(\"Revenue Growth\")\n",
    "# plt.ylabel(\"Should I buy it or not\")\n",
    "# plt.hist()\n",
    "# plt.show()\n",
    "test14['Class'].value_counts()"
   ]
  },
  {
   "cell_type": "code",
   "execution_count": 11,
   "metadata": {},
   "outputs": [
    {
     "name": "stdout",
     "output_type": "stream",
     "text": [
      "12.95424370100784\n",
      "0      -0.0713\n",
      "1       1.1737\n",
      "2       0.0182\n",
      "3       0.0053\n",
      "4       0.0076\n",
      "         ...  \n",
      "3803    0.1028\n",
      "3804   -0.1019\n",
      "3805       NaN\n",
      "3806    0.1344\n",
      "3807    0.1925\n",
      "Name: Revenue Growth, Length: 3808, dtype: float64\n"
     ]
    }
   ],
   "source": [
    "# col = list(fd_14.columns)\n",
    "# rev = list(filter(lambda a: \"revenue\" in a or \"Revenue\" in a, col))\n",
    "# print(rev)\n",
    "# expenses = list(filter(lambda a: \"expense\" in a or \"Expense\" in a, col))\n",
    "# print(expenses)\n",
    "print(fd_14[\"Revenue Growth\"].mean())\n",
    "print(fd_14[\"Revenue Growth\"])"
   ]
  }
 ],
 "metadata": {
  "interpreter": {
   "hash": "1d115a98ca87b6a6f8565340c4ce5ac9848f44cd71fe7f5f9f86e31e764ae876"
  },
  "kernelspec": {
   "display_name": "Python 3.9.7 64-bit",
   "language": "python",
   "name": "python3"
  },
  "language_info": {
   "codemirror_mode": {
    "name": "ipython",
    "version": 3
   },
   "file_extension": ".py",
   "mimetype": "text/x-python",
   "name": "python",
   "nbconvert_exporter": "python",
   "pygments_lexer": "ipython3",
   "version": "3.9.7"
  },
  "orig_nbformat": 4
 },
 "nbformat": 4,
 "nbformat_minor": 2
}
